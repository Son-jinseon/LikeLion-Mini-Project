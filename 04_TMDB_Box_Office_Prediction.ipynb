{
 "cells": [
  {
   "cell_type": "markdown",
   "id": "ea30963e",
   "metadata": {},
   "source": [
    "# 라이브러리 로드"
   ]
  },
  {
   "cell_type": "code",
   "execution_count": 95,
   "id": "0c94fb6c",
   "metadata": {},
   "outputs": [],
   "source": [
    "import pandas as pd\n",
    "import numpy as np\n",
    "import matplotlib.pyplot as plt\n",
    "import seaborn as sns"
   ]
  },
  {
   "cell_type": "markdown",
   "id": "9b1f3ab7",
   "metadata": {},
   "source": [
    "# 데이터 로드"
   ]
  },
  {
   "cell_type": "code",
   "execution_count": 96,
   "id": "704786e1",
   "metadata": {},
   "outputs": [
    {
     "name": "stdout",
     "output_type": "stream",
     "text": [
      "(3000, 22)\n"
     ]
    },
    {
     "data": {
      "text/html": [
       "<div>\n",
       "<style scoped>\n",
       "    .dataframe tbody tr th:only-of-type {\n",
       "        vertical-align: middle;\n",
       "    }\n",
       "\n",
       "    .dataframe tbody tr th {\n",
       "        vertical-align: top;\n",
       "    }\n",
       "\n",
       "    .dataframe thead th {\n",
       "        text-align: right;\n",
       "    }\n",
       "</style>\n",
       "<table border=\"1\" class=\"dataframe\">\n",
       "  <thead>\n",
       "    <tr style=\"text-align: right;\">\n",
       "      <th></th>\n",
       "      <th>belongs_to_collection</th>\n",
       "      <th>budget</th>\n",
       "      <th>genres</th>\n",
       "      <th>homepage</th>\n",
       "      <th>imdb_id</th>\n",
       "      <th>original_language</th>\n",
       "      <th>original_title</th>\n",
       "      <th>overview</th>\n",
       "      <th>popularity</th>\n",
       "      <th>poster_path</th>\n",
       "      <th>...</th>\n",
       "      <th>release_date</th>\n",
       "      <th>runtime</th>\n",
       "      <th>spoken_languages</th>\n",
       "      <th>status</th>\n",
       "      <th>tagline</th>\n",
       "      <th>title</th>\n",
       "      <th>Keywords</th>\n",
       "      <th>cast</th>\n",
       "      <th>crew</th>\n",
       "      <th>revenue</th>\n",
       "    </tr>\n",
       "    <tr>\n",
       "      <th>id</th>\n",
       "      <th></th>\n",
       "      <th></th>\n",
       "      <th></th>\n",
       "      <th></th>\n",
       "      <th></th>\n",
       "      <th></th>\n",
       "      <th></th>\n",
       "      <th></th>\n",
       "      <th></th>\n",
       "      <th></th>\n",
       "      <th></th>\n",
       "      <th></th>\n",
       "      <th></th>\n",
       "      <th></th>\n",
       "      <th></th>\n",
       "      <th></th>\n",
       "      <th></th>\n",
       "      <th></th>\n",
       "      <th></th>\n",
       "      <th></th>\n",
       "      <th></th>\n",
       "    </tr>\n",
       "  </thead>\n",
       "  <tbody>\n",
       "    <tr>\n",
       "      <th>1</th>\n",
       "      <td>[{'id': 313576, 'name': 'Hot Tub Time Machine ...</td>\n",
       "      <td>14000000</td>\n",
       "      <td>[{'id': 35, 'name': 'Comedy'}]</td>\n",
       "      <td>NaN</td>\n",
       "      <td>tt2637294</td>\n",
       "      <td>en</td>\n",
       "      <td>Hot Tub Time Machine 2</td>\n",
       "      <td>When Lou, who has become the \"father of the In...</td>\n",
       "      <td>6.575393</td>\n",
       "      <td>/tQtWuwvMf0hCc2QR2tkolwl7c3c.jpg</td>\n",
       "      <td>...</td>\n",
       "      <td>2/20/15</td>\n",
       "      <td>93.0</td>\n",
       "      <td>[{'iso_639_1': 'en', 'name': 'English'}]</td>\n",
       "      <td>Released</td>\n",
       "      <td>The Laws of Space and Time are About to be Vio...</td>\n",
       "      <td>Hot Tub Time Machine 2</td>\n",
       "      <td>[{'id': 4379, 'name': 'time travel'}, {'id': 9...</td>\n",
       "      <td>[{'cast_id': 4, 'character': 'Lou', 'credit_id...</td>\n",
       "      <td>[{'credit_id': '59ac067c92514107af02c8c8', 'de...</td>\n",
       "      <td>12314651</td>\n",
       "    </tr>\n",
       "    <tr>\n",
       "      <th>2</th>\n",
       "      <td>[{'id': 107674, 'name': 'The Princess Diaries ...</td>\n",
       "      <td>40000000</td>\n",
       "      <td>[{'id': 35, 'name': 'Comedy'}, {'id': 18, 'nam...</td>\n",
       "      <td>NaN</td>\n",
       "      <td>tt0368933</td>\n",
       "      <td>en</td>\n",
       "      <td>The Princess Diaries 2: Royal Engagement</td>\n",
       "      <td>Mia Thermopolis is now a college graduate and ...</td>\n",
       "      <td>8.248895</td>\n",
       "      <td>/w9Z7A0GHEhIp7etpj0vyKOeU1Wx.jpg</td>\n",
       "      <td>...</td>\n",
       "      <td>8/6/04</td>\n",
       "      <td>113.0</td>\n",
       "      <td>[{'iso_639_1': 'en', 'name': 'English'}]</td>\n",
       "      <td>Released</td>\n",
       "      <td>It can take a lifetime to find true love; she'...</td>\n",
       "      <td>The Princess Diaries 2: Royal Engagement</td>\n",
       "      <td>[{'id': 2505, 'name': 'coronation'}, {'id': 42...</td>\n",
       "      <td>[{'cast_id': 1, 'character': 'Mia Thermopolis'...</td>\n",
       "      <td>[{'credit_id': '52fe43fe9251416c7502563d', 'de...</td>\n",
       "      <td>95149435</td>\n",
       "    </tr>\n",
       "  </tbody>\n",
       "</table>\n",
       "<p>2 rows × 22 columns</p>\n",
       "</div>"
      ],
      "text/plain": [
       "                                belongs_to_collection    budget  \\\n",
       "id                                                                \n",
       "1   [{'id': 313576, 'name': 'Hot Tub Time Machine ...  14000000   \n",
       "2   [{'id': 107674, 'name': 'The Princess Diaries ...  40000000   \n",
       "\n",
       "                                               genres homepage    imdb_id  \\\n",
       "id                                                                          \n",
       "1                      [{'id': 35, 'name': 'Comedy'}]      NaN  tt2637294   \n",
       "2   [{'id': 35, 'name': 'Comedy'}, {'id': 18, 'nam...      NaN  tt0368933   \n",
       "\n",
       "   original_language                            original_title  \\\n",
       "id                                                               \n",
       "1                 en                    Hot Tub Time Machine 2   \n",
       "2                 en  The Princess Diaries 2: Royal Engagement   \n",
       "\n",
       "                                             overview  popularity  \\\n",
       "id                                                                  \n",
       "1   When Lou, who has become the \"father of the In...    6.575393   \n",
       "2   Mia Thermopolis is now a college graduate and ...    8.248895   \n",
       "\n",
       "                         poster_path  ... release_date runtime  \\\n",
       "id                                    ...                        \n",
       "1   /tQtWuwvMf0hCc2QR2tkolwl7c3c.jpg  ...      2/20/15    93.0   \n",
       "2   /w9Z7A0GHEhIp7etpj0vyKOeU1Wx.jpg  ...       8/6/04   113.0   \n",
       "\n",
       "                            spoken_languages    status  \\\n",
       "id                                                       \n",
       "1   [{'iso_639_1': 'en', 'name': 'English'}]  Released   \n",
       "2   [{'iso_639_1': 'en', 'name': 'English'}]  Released   \n",
       "\n",
       "                                              tagline  \\\n",
       "id                                                      \n",
       "1   The Laws of Space and Time are About to be Vio...   \n",
       "2   It can take a lifetime to find true love; she'...   \n",
       "\n",
       "                                       title  \\\n",
       "id                                             \n",
       "1                     Hot Tub Time Machine 2   \n",
       "2   The Princess Diaries 2: Royal Engagement   \n",
       "\n",
       "                                             Keywords  \\\n",
       "id                                                      \n",
       "1   [{'id': 4379, 'name': 'time travel'}, {'id': 9...   \n",
       "2   [{'id': 2505, 'name': 'coronation'}, {'id': 42...   \n",
       "\n",
       "                                                 cast  \\\n",
       "id                                                      \n",
       "1   [{'cast_id': 4, 'character': 'Lou', 'credit_id...   \n",
       "2   [{'cast_id': 1, 'character': 'Mia Thermopolis'...   \n",
       "\n",
       "                                                 crew   revenue  \n",
       "id                                                               \n",
       "1   [{'credit_id': '59ac067c92514107af02c8c8', 'de...  12314651  \n",
       "2   [{'credit_id': '52fe43fe9251416c7502563d', 'de...  95149435  \n",
       "\n",
       "[2 rows x 22 columns]"
      ]
     },
     "execution_count": 96,
     "metadata": {},
     "output_type": "execute_result"
    }
   ],
   "source": [
    "train = pd.read_csv(\"data/train.csv\", index_col=\"id\")\n",
    "print(train.shape)\n",
    "train.head(2)"
   ]
  },
  {
   "cell_type": "code",
   "execution_count": 97,
   "id": "b02e5db9",
   "metadata": {},
   "outputs": [
    {
     "name": "stdout",
     "output_type": "stream",
     "text": [
      "(4398, 21)\n"
     ]
    },
    {
     "data": {
      "text/html": [
       "<div>\n",
       "<style scoped>\n",
       "    .dataframe tbody tr th:only-of-type {\n",
       "        vertical-align: middle;\n",
       "    }\n",
       "\n",
       "    .dataframe tbody tr th {\n",
       "        vertical-align: top;\n",
       "    }\n",
       "\n",
       "    .dataframe thead th {\n",
       "        text-align: right;\n",
       "    }\n",
       "</style>\n",
       "<table border=\"1\" class=\"dataframe\">\n",
       "  <thead>\n",
       "    <tr style=\"text-align: right;\">\n",
       "      <th></th>\n",
       "      <th>belongs_to_collection</th>\n",
       "      <th>budget</th>\n",
       "      <th>genres</th>\n",
       "      <th>homepage</th>\n",
       "      <th>imdb_id</th>\n",
       "      <th>original_language</th>\n",
       "      <th>original_title</th>\n",
       "      <th>overview</th>\n",
       "      <th>popularity</th>\n",
       "      <th>poster_path</th>\n",
       "      <th>...</th>\n",
       "      <th>production_countries</th>\n",
       "      <th>release_date</th>\n",
       "      <th>runtime</th>\n",
       "      <th>spoken_languages</th>\n",
       "      <th>status</th>\n",
       "      <th>tagline</th>\n",
       "      <th>title</th>\n",
       "      <th>Keywords</th>\n",
       "      <th>cast</th>\n",
       "      <th>crew</th>\n",
       "    </tr>\n",
       "    <tr>\n",
       "      <th>id</th>\n",
       "      <th></th>\n",
       "      <th></th>\n",
       "      <th></th>\n",
       "      <th></th>\n",
       "      <th></th>\n",
       "      <th></th>\n",
       "      <th></th>\n",
       "      <th></th>\n",
       "      <th></th>\n",
       "      <th></th>\n",
       "      <th></th>\n",
       "      <th></th>\n",
       "      <th></th>\n",
       "      <th></th>\n",
       "      <th></th>\n",
       "      <th></th>\n",
       "      <th></th>\n",
       "      <th></th>\n",
       "      <th></th>\n",
       "      <th></th>\n",
       "      <th></th>\n",
       "    </tr>\n",
       "  </thead>\n",
       "  <tbody>\n",
       "    <tr>\n",
       "      <th>3001</th>\n",
       "      <td>[{'id': 34055, 'name': 'Pokémon Collection', '...</td>\n",
       "      <td>0</td>\n",
       "      <td>[{'id': 12, 'name': 'Adventure'}, {'id': 16, '...</td>\n",
       "      <td>http://www.pokemon.com/us/movies/movie-pokemon...</td>\n",
       "      <td>tt1226251</td>\n",
       "      <td>ja</td>\n",
       "      <td>ディアルガVSパルキアVSダークライ</td>\n",
       "      <td>Ash and friends (this time accompanied by newc...</td>\n",
       "      <td>3.851534</td>\n",
       "      <td>/tnftmLMemPLduW6MRyZE0ZUD19z.jpg</td>\n",
       "      <td>...</td>\n",
       "      <td>[{'iso_3166_1': 'JP', 'name': 'Japan'}, {'iso_...</td>\n",
       "      <td>7/14/07</td>\n",
       "      <td>90.0</td>\n",
       "      <td>[{'iso_639_1': 'en', 'name': 'English'}, {'iso...</td>\n",
       "      <td>Released</td>\n",
       "      <td>Somewhere Between Time &amp; Space... A Legend Is ...</td>\n",
       "      <td>Pokémon: The Rise of Darkrai</td>\n",
       "      <td>[{'id': 11451, 'name': 'pok√©mon'}, {'id': 115...</td>\n",
       "      <td>[{'cast_id': 3, 'character': 'Tonio', 'credit_...</td>\n",
       "      <td>[{'credit_id': '52fe44e7c3a368484e03d683', 'de...</td>\n",
       "    </tr>\n",
       "    <tr>\n",
       "      <th>3002</th>\n",
       "      <td>NaN</td>\n",
       "      <td>88000</td>\n",
       "      <td>[{'id': 27, 'name': 'Horror'}, {'id': 878, 'na...</td>\n",
       "      <td>NaN</td>\n",
       "      <td>tt0051380</td>\n",
       "      <td>en</td>\n",
       "      <td>Attack of the 50 Foot Woman</td>\n",
       "      <td>When an abused wife grows to giant size becaus...</td>\n",
       "      <td>3.559789</td>\n",
       "      <td>/9MgBNBqlH1sG4yG2u4XkwI5CoJa.jpg</td>\n",
       "      <td>...</td>\n",
       "      <td>[{'iso_3166_1': 'US', 'name': 'United States o...</td>\n",
       "      <td>5/19/58</td>\n",
       "      <td>65.0</td>\n",
       "      <td>[{'iso_639_1': 'en', 'name': 'English'}]</td>\n",
       "      <td>Released</td>\n",
       "      <td>A titanic beauty spreads a macabre wave of hor...</td>\n",
       "      <td>Attack of the 50 Foot Woman</td>\n",
       "      <td>[{'id': 9748, 'name': 'revenge'}, {'id': 9951,...</td>\n",
       "      <td>[{'cast_id': 2, 'character': 'Nancy Fowler Arc...</td>\n",
       "      <td>[{'credit_id': '55807805c3a3685b1300060b', 'de...</td>\n",
       "    </tr>\n",
       "  </tbody>\n",
       "</table>\n",
       "<p>2 rows × 21 columns</p>\n",
       "</div>"
      ],
      "text/plain": [
       "                                  belongs_to_collection  budget  \\\n",
       "id                                                                \n",
       "3001  [{'id': 34055, 'name': 'Pokémon Collection', '...       0   \n",
       "3002                                                NaN   88000   \n",
       "\n",
       "                                                 genres  \\\n",
       "id                                                        \n",
       "3001  [{'id': 12, 'name': 'Adventure'}, {'id': 16, '...   \n",
       "3002  [{'id': 27, 'name': 'Horror'}, {'id': 878, 'na...   \n",
       "\n",
       "                                               homepage    imdb_id  \\\n",
       "id                                                                   \n",
       "3001  http://www.pokemon.com/us/movies/movie-pokemon...  tt1226251   \n",
       "3002                                                NaN  tt0051380   \n",
       "\n",
       "     original_language               original_title  \\\n",
       "id                                                    \n",
       "3001                ja           ディアルガVSパルキアVSダークライ   \n",
       "3002                en  Attack of the 50 Foot Woman   \n",
       "\n",
       "                                               overview  popularity  \\\n",
       "id                                                                    \n",
       "3001  Ash and friends (this time accompanied by newc...    3.851534   \n",
       "3002  When an abused wife grows to giant size becaus...    3.559789   \n",
       "\n",
       "                           poster_path  ...  \\\n",
       "id                                      ...   \n",
       "3001  /tnftmLMemPLduW6MRyZE0ZUD19z.jpg  ...   \n",
       "3002  /9MgBNBqlH1sG4yG2u4XkwI5CoJa.jpg  ...   \n",
       "\n",
       "                                   production_countries release_date runtime  \\\n",
       "id                                                                             \n",
       "3001  [{'iso_3166_1': 'JP', 'name': 'Japan'}, {'iso_...      7/14/07    90.0   \n",
       "3002  [{'iso_3166_1': 'US', 'name': 'United States o...      5/19/58    65.0   \n",
       "\n",
       "                                       spoken_languages    status  \\\n",
       "id                                                                  \n",
       "3001  [{'iso_639_1': 'en', 'name': 'English'}, {'iso...  Released   \n",
       "3002           [{'iso_639_1': 'en', 'name': 'English'}]  Released   \n",
       "\n",
       "                                                tagline  \\\n",
       "id                                                        \n",
       "3001  Somewhere Between Time & Space... A Legend Is ...   \n",
       "3002  A titanic beauty spreads a macabre wave of hor...   \n",
       "\n",
       "                             title  \\\n",
       "id                                   \n",
       "3001  Pokémon: The Rise of Darkrai   \n",
       "3002   Attack of the 50 Foot Woman   \n",
       "\n",
       "                                               Keywords  \\\n",
       "id                                                        \n",
       "3001  [{'id': 11451, 'name': 'pok√©mon'}, {'id': 115...   \n",
       "3002  [{'id': 9748, 'name': 'revenge'}, {'id': 9951,...   \n",
       "\n",
       "                                                   cast  \\\n",
       "id                                                        \n",
       "3001  [{'cast_id': 3, 'character': 'Tonio', 'credit_...   \n",
       "3002  [{'cast_id': 2, 'character': 'Nancy Fowler Arc...   \n",
       "\n",
       "                                                   crew  \n",
       "id                                                       \n",
       "3001  [{'credit_id': '52fe44e7c3a368484e03d683', 'de...  \n",
       "3002  [{'credit_id': '55807805c3a3685b1300060b', 'de...  \n",
       "\n",
       "[2 rows x 21 columns]"
      ]
     },
     "execution_count": 97,
     "metadata": {},
     "output_type": "execute_result"
    }
   ],
   "source": [
    "test = pd.read_csv(\"data/test.csv\", index_col=\"id\")\n",
    "print(test.shape)\n",
    "test.head(2)"
   ]
  },
  {
   "cell_type": "code",
   "execution_count": 98,
   "id": "10becf97",
   "metadata": {},
   "outputs": [
    {
     "data": {
      "text/plain": [
       "{'revenue'}"
      ]
     },
     "execution_count": 98,
     "metadata": {},
     "output_type": "execute_result"
    }
   ],
   "source": [
    "# 예측해야할 컬럼\n",
    "set(train.columns) - set(test.columns)"
   ]
  },
  {
   "cell_type": "code",
   "execution_count": 99,
   "id": "f8fe0f85",
   "metadata": {},
   "outputs": [
    {
     "data": {
      "text/html": [
       "<div>\n",
       "<style scoped>\n",
       "    .dataframe tbody tr th:only-of-type {\n",
       "        vertical-align: middle;\n",
       "    }\n",
       "\n",
       "    .dataframe tbody tr th {\n",
       "        vertical-align: top;\n",
       "    }\n",
       "\n",
       "    .dataframe thead th {\n",
       "        text-align: right;\n",
       "    }\n",
       "</style>\n",
       "<table border=\"1\" class=\"dataframe\">\n",
       "  <thead>\n",
       "    <tr style=\"text-align: right;\">\n",
       "      <th></th>\n",
       "      <th>id</th>\n",
       "      <th>revenue</th>\n",
       "    </tr>\n",
       "  </thead>\n",
       "  <tbody>\n",
       "    <tr>\n",
       "      <th>0</th>\n",
       "      <td>3001</td>\n",
       "      <td>1000000</td>\n",
       "    </tr>\n",
       "    <tr>\n",
       "      <th>1</th>\n",
       "      <td>3002</td>\n",
       "      <td>1000000</td>\n",
       "    </tr>\n",
       "    <tr>\n",
       "      <th>2</th>\n",
       "      <td>3003</td>\n",
       "      <td>1000000</td>\n",
       "    </tr>\n",
       "    <tr>\n",
       "      <th>3</th>\n",
       "      <td>3004</td>\n",
       "      <td>1000000</td>\n",
       "    </tr>\n",
       "    <tr>\n",
       "      <th>4</th>\n",
       "      <td>3005</td>\n",
       "      <td>1000000</td>\n",
       "    </tr>\n",
       "  </tbody>\n",
       "</table>\n",
       "</div>"
      ],
      "text/plain": [
       "     id  revenue\n",
       "0  3001  1000000\n",
       "1  3002  1000000\n",
       "2  3003  1000000\n",
       "3  3004  1000000\n",
       "4  3005  1000000"
      ]
     },
     "execution_count": 99,
     "metadata": {},
     "output_type": "execute_result"
    }
   ],
   "source": [
    "sub = pd.read_csv(\"data/sample_submission.csv\")\n",
    "sub.head()"
   ]
  },
  {
   "cell_type": "markdown",
   "id": "70749208",
   "metadata": {},
   "source": [
    "---"
   ]
  },
  {
   "cell_type": "markdown",
   "id": "08c60d7b",
   "metadata": {},
   "source": [
    "# 전처리"
   ]
  },
  {
   "cell_type": "markdown",
   "id": "4902fed6",
   "metadata": {},
   "source": [
    "### 결측치 확인"
   ]
  },
  {
   "cell_type": "code",
   "execution_count": 100,
   "id": "552138a3",
   "metadata": {},
   "outputs": [
    {
     "data": {
      "text/plain": [
       "belongs_to_collection    2396\n",
       "budget                      0\n",
       "genres                      7\n",
       "homepage                 2054\n",
       "imdb_id                     0\n",
       "original_language           0\n",
       "original_title              0\n",
       "overview                    8\n",
       "popularity                  0\n",
       "poster_path                 1\n",
       "production_companies      156\n",
       "production_countries       55\n",
       "release_date                0\n",
       "runtime                     2\n",
       "spoken_languages           20\n",
       "status                      0\n",
       "tagline                   597\n",
       "title                       0\n",
       "Keywords                  276\n",
       "cast                       13\n",
       "crew                       16\n",
       "revenue                     0\n",
       "dtype: int64"
      ]
     },
     "execution_count": 100,
     "metadata": {},
     "output_type": "execute_result"
    }
   ],
   "source": [
    "# train\n",
    "train.isnull().sum()"
   ]
  },
  {
   "cell_type": "code",
   "execution_count": 101,
   "id": "ced89355",
   "metadata": {},
   "outputs": [
    {
     "data": {
      "text/plain": [
       "belongs_to_collection    3521\n",
       "budget                      0\n",
       "genres                     16\n",
       "homepage                 2978\n",
       "imdb_id                     0\n",
       "original_language           0\n",
       "original_title              0\n",
       "overview                   14\n",
       "popularity                  0\n",
       "poster_path                 1\n",
       "production_companies      258\n",
       "production_countries      102\n",
       "release_date                1\n",
       "runtime                     4\n",
       "spoken_languages           42\n",
       "status                      2\n",
       "tagline                   863\n",
       "title                       3\n",
       "Keywords                  393\n",
       "cast                       13\n",
       "crew                       22\n",
       "dtype: int64"
      ]
     },
     "execution_count": 101,
     "metadata": {},
     "output_type": "execute_result"
    }
   ],
   "source": [
    "# test\n",
    "test.isnull().sum()"
   ]
  },
  {
   "cell_type": "markdown",
   "id": "51586914",
   "metadata": {},
   "source": [
    "#### belongs_to_collection, homepage의 경우는 데이터셋의 대부분이 결측치이기 때문에 삭제"
   ]
  },
  {
   "cell_type": "code",
   "execution_count": 102,
   "id": "3e5f3add",
   "metadata": {},
   "outputs": [],
   "source": [
    "train = train.drop(columns=[\"belongs_to_collection\", \"homepage\"])\n",
    "test = test.drop(columns=[\"belongs_to_collection\", \"homepage\"])"
   ]
  },
  {
   "cell_type": "code",
   "execution_count": 103,
   "id": "5d77fbc9",
   "metadata": {},
   "outputs": [
    {
     "data": {
      "text/html": [
       "<div>\n",
       "<style scoped>\n",
       "    .dataframe tbody tr th:only-of-type {\n",
       "        vertical-align: middle;\n",
       "    }\n",
       "\n",
       "    .dataframe tbody tr th {\n",
       "        vertical-align: top;\n",
       "    }\n",
       "\n",
       "    .dataframe thead th {\n",
       "        text-align: right;\n",
       "    }\n",
       "</style>\n",
       "<table border=\"1\" class=\"dataframe\">\n",
       "  <thead>\n",
       "    <tr style=\"text-align: right;\">\n",
       "      <th></th>\n",
       "      <th>budget</th>\n",
       "      <th>genres</th>\n",
       "      <th>imdb_id</th>\n",
       "      <th>original_language</th>\n",
       "      <th>original_title</th>\n",
       "      <th>overview</th>\n",
       "      <th>popularity</th>\n",
       "      <th>poster_path</th>\n",
       "      <th>production_companies</th>\n",
       "      <th>production_countries</th>\n",
       "      <th>release_date</th>\n",
       "      <th>runtime</th>\n",
       "      <th>spoken_languages</th>\n",
       "      <th>status</th>\n",
       "      <th>tagline</th>\n",
       "      <th>title</th>\n",
       "      <th>Keywords</th>\n",
       "      <th>cast</th>\n",
       "      <th>crew</th>\n",
       "      <th>revenue</th>\n",
       "    </tr>\n",
       "    <tr>\n",
       "      <th>id</th>\n",
       "      <th></th>\n",
       "      <th></th>\n",
       "      <th></th>\n",
       "      <th></th>\n",
       "      <th></th>\n",
       "      <th></th>\n",
       "      <th></th>\n",
       "      <th></th>\n",
       "      <th></th>\n",
       "      <th></th>\n",
       "      <th></th>\n",
       "      <th></th>\n",
       "      <th></th>\n",
       "      <th></th>\n",
       "      <th></th>\n",
       "      <th></th>\n",
       "      <th></th>\n",
       "      <th></th>\n",
       "      <th></th>\n",
       "      <th></th>\n",
       "    </tr>\n",
       "  </thead>\n",
       "  <tbody>\n",
       "    <tr>\n",
       "      <th>1</th>\n",
       "      <td>14000000</td>\n",
       "      <td>[{'id': 35, 'name': 'Comedy'}]</td>\n",
       "      <td>tt2637294</td>\n",
       "      <td>en</td>\n",
       "      <td>Hot Tub Time Machine 2</td>\n",
       "      <td>When Lou, who has become the \"father of the In...</td>\n",
       "      <td>6.575393</td>\n",
       "      <td>/tQtWuwvMf0hCc2QR2tkolwl7c3c.jpg</td>\n",
       "      <td>[{'name': 'Paramount Pictures', 'id': 4}, {'na...</td>\n",
       "      <td>[{'iso_3166_1': 'US', 'name': 'United States o...</td>\n",
       "      <td>2/20/15</td>\n",
       "      <td>93.0</td>\n",
       "      <td>[{'iso_639_1': 'en', 'name': 'English'}]</td>\n",
       "      <td>Released</td>\n",
       "      <td>The Laws of Space and Time are About to be Vio...</td>\n",
       "      <td>Hot Tub Time Machine 2</td>\n",
       "      <td>[{'id': 4379, 'name': 'time travel'}, {'id': 9...</td>\n",
       "      <td>[{'cast_id': 4, 'character': 'Lou', 'credit_id...</td>\n",
       "      <td>[{'credit_id': '59ac067c92514107af02c8c8', 'de...</td>\n",
       "      <td>12314651</td>\n",
       "    </tr>\n",
       "    <tr>\n",
       "      <th>2</th>\n",
       "      <td>40000000</td>\n",
       "      <td>[{'id': 35, 'name': 'Comedy'}, {'id': 18, 'nam...</td>\n",
       "      <td>tt0368933</td>\n",
       "      <td>en</td>\n",
       "      <td>The Princess Diaries 2: Royal Engagement</td>\n",
       "      <td>Mia Thermopolis is now a college graduate and ...</td>\n",
       "      <td>8.248895</td>\n",
       "      <td>/w9Z7A0GHEhIp7etpj0vyKOeU1Wx.jpg</td>\n",
       "      <td>[{'name': 'Walt Disney Pictures', 'id': 2}]</td>\n",
       "      <td>[{'iso_3166_1': 'US', 'name': 'United States o...</td>\n",
       "      <td>8/6/04</td>\n",
       "      <td>113.0</td>\n",
       "      <td>[{'iso_639_1': 'en', 'name': 'English'}]</td>\n",
       "      <td>Released</td>\n",
       "      <td>It can take a lifetime to find true love; she'...</td>\n",
       "      <td>The Princess Diaries 2: Royal Engagement</td>\n",
       "      <td>[{'id': 2505, 'name': 'coronation'}, {'id': 42...</td>\n",
       "      <td>[{'cast_id': 1, 'character': 'Mia Thermopolis'...</td>\n",
       "      <td>[{'credit_id': '52fe43fe9251416c7502563d', 'de...</td>\n",
       "      <td>95149435</td>\n",
       "    </tr>\n",
       "  </tbody>\n",
       "</table>\n",
       "</div>"
      ],
      "text/plain": [
       "      budget                                             genres    imdb_id  \\\n",
       "id                                                                           \n",
       "1   14000000                     [{'id': 35, 'name': 'Comedy'}]  tt2637294   \n",
       "2   40000000  [{'id': 35, 'name': 'Comedy'}, {'id': 18, 'nam...  tt0368933   \n",
       "\n",
       "   original_language                            original_title  \\\n",
       "id                                                               \n",
       "1                 en                    Hot Tub Time Machine 2   \n",
       "2                 en  The Princess Diaries 2: Royal Engagement   \n",
       "\n",
       "                                             overview  popularity  \\\n",
       "id                                                                  \n",
       "1   When Lou, who has become the \"father of the In...    6.575393   \n",
       "2   Mia Thermopolis is now a college graduate and ...    8.248895   \n",
       "\n",
       "                         poster_path  \\\n",
       "id                                     \n",
       "1   /tQtWuwvMf0hCc2QR2tkolwl7c3c.jpg   \n",
       "2   /w9Z7A0GHEhIp7etpj0vyKOeU1Wx.jpg   \n",
       "\n",
       "                                 production_companies  \\\n",
       "id                                                      \n",
       "1   [{'name': 'Paramount Pictures', 'id': 4}, {'na...   \n",
       "2         [{'name': 'Walt Disney Pictures', 'id': 2}]   \n",
       "\n",
       "                                 production_countries release_date  runtime  \\\n",
       "id                                                                            \n",
       "1   [{'iso_3166_1': 'US', 'name': 'United States o...      2/20/15     93.0   \n",
       "2   [{'iso_3166_1': 'US', 'name': 'United States o...       8/6/04    113.0   \n",
       "\n",
       "                            spoken_languages    status  \\\n",
       "id                                                       \n",
       "1   [{'iso_639_1': 'en', 'name': 'English'}]  Released   \n",
       "2   [{'iso_639_1': 'en', 'name': 'English'}]  Released   \n",
       "\n",
       "                                              tagline  \\\n",
       "id                                                      \n",
       "1   The Laws of Space and Time are About to be Vio...   \n",
       "2   It can take a lifetime to find true love; she'...   \n",
       "\n",
       "                                       title  \\\n",
       "id                                             \n",
       "1                     Hot Tub Time Machine 2   \n",
       "2   The Princess Diaries 2: Royal Engagement   \n",
       "\n",
       "                                             Keywords  \\\n",
       "id                                                      \n",
       "1   [{'id': 4379, 'name': 'time travel'}, {'id': 9...   \n",
       "2   [{'id': 2505, 'name': 'coronation'}, {'id': 42...   \n",
       "\n",
       "                                                 cast  \\\n",
       "id                                                      \n",
       "1   [{'cast_id': 4, 'character': 'Lou', 'credit_id...   \n",
       "2   [{'cast_id': 1, 'character': 'Mia Thermopolis'...   \n",
       "\n",
       "                                                 crew   revenue  \n",
       "id                                                               \n",
       "1   [{'credit_id': '59ac067c92514107af02c8c8', 'de...  12314651  \n",
       "2   [{'credit_id': '52fe43fe9251416c7502563d', 'de...  95149435  "
      ]
     },
     "metadata": {},
     "output_type": "display_data"
    },
    {
     "data": {
      "text/html": [
       "<div>\n",
       "<style scoped>\n",
       "    .dataframe tbody tr th:only-of-type {\n",
       "        vertical-align: middle;\n",
       "    }\n",
       "\n",
       "    .dataframe tbody tr th {\n",
       "        vertical-align: top;\n",
       "    }\n",
       "\n",
       "    .dataframe thead th {\n",
       "        text-align: right;\n",
       "    }\n",
       "</style>\n",
       "<table border=\"1\" class=\"dataframe\">\n",
       "  <thead>\n",
       "    <tr style=\"text-align: right;\">\n",
       "      <th></th>\n",
       "      <th>budget</th>\n",
       "      <th>genres</th>\n",
       "      <th>imdb_id</th>\n",
       "      <th>original_language</th>\n",
       "      <th>original_title</th>\n",
       "      <th>overview</th>\n",
       "      <th>popularity</th>\n",
       "      <th>poster_path</th>\n",
       "      <th>production_companies</th>\n",
       "      <th>production_countries</th>\n",
       "      <th>release_date</th>\n",
       "      <th>runtime</th>\n",
       "      <th>spoken_languages</th>\n",
       "      <th>status</th>\n",
       "      <th>tagline</th>\n",
       "      <th>title</th>\n",
       "      <th>Keywords</th>\n",
       "      <th>cast</th>\n",
       "      <th>crew</th>\n",
       "    </tr>\n",
       "    <tr>\n",
       "      <th>id</th>\n",
       "      <th></th>\n",
       "      <th></th>\n",
       "      <th></th>\n",
       "      <th></th>\n",
       "      <th></th>\n",
       "      <th></th>\n",
       "      <th></th>\n",
       "      <th></th>\n",
       "      <th></th>\n",
       "      <th></th>\n",
       "      <th></th>\n",
       "      <th></th>\n",
       "      <th></th>\n",
       "      <th></th>\n",
       "      <th></th>\n",
       "      <th></th>\n",
       "      <th></th>\n",
       "      <th></th>\n",
       "      <th></th>\n",
       "    </tr>\n",
       "  </thead>\n",
       "  <tbody>\n",
       "    <tr>\n",
       "      <th>3001</th>\n",
       "      <td>0</td>\n",
       "      <td>[{'id': 12, 'name': 'Adventure'}, {'id': 16, '...</td>\n",
       "      <td>tt1226251</td>\n",
       "      <td>ja</td>\n",
       "      <td>ディアルガVSパルキアVSダークライ</td>\n",
       "      <td>Ash and friends (this time accompanied by newc...</td>\n",
       "      <td>3.851534</td>\n",
       "      <td>/tnftmLMemPLduW6MRyZE0ZUD19z.jpg</td>\n",
       "      <td>NaN</td>\n",
       "      <td>[{'iso_3166_1': 'JP', 'name': 'Japan'}, {'iso_...</td>\n",
       "      <td>7/14/07</td>\n",
       "      <td>90.0</td>\n",
       "      <td>[{'iso_639_1': 'en', 'name': 'English'}, {'iso...</td>\n",
       "      <td>Released</td>\n",
       "      <td>Somewhere Between Time &amp; Space... A Legend Is ...</td>\n",
       "      <td>Pokémon: The Rise of Darkrai</td>\n",
       "      <td>[{'id': 11451, 'name': 'pok√©mon'}, {'id': 115...</td>\n",
       "      <td>[{'cast_id': 3, 'character': 'Tonio', 'credit_...</td>\n",
       "      <td>[{'credit_id': '52fe44e7c3a368484e03d683', 'de...</td>\n",
       "    </tr>\n",
       "    <tr>\n",
       "      <th>3002</th>\n",
       "      <td>88000</td>\n",
       "      <td>[{'id': 27, 'name': 'Horror'}, {'id': 878, 'na...</td>\n",
       "      <td>tt0051380</td>\n",
       "      <td>en</td>\n",
       "      <td>Attack of the 50 Foot Woman</td>\n",
       "      <td>When an abused wife grows to giant size becaus...</td>\n",
       "      <td>3.559789</td>\n",
       "      <td>/9MgBNBqlH1sG4yG2u4XkwI5CoJa.jpg</td>\n",
       "      <td>[{'name': 'Woolner Brothers Pictures Inc.', 'i...</td>\n",
       "      <td>[{'iso_3166_1': 'US', 'name': 'United States o...</td>\n",
       "      <td>5/19/58</td>\n",
       "      <td>65.0</td>\n",
       "      <td>[{'iso_639_1': 'en', 'name': 'English'}]</td>\n",
       "      <td>Released</td>\n",
       "      <td>A titanic beauty spreads a macabre wave of hor...</td>\n",
       "      <td>Attack of the 50 Foot Woman</td>\n",
       "      <td>[{'id': 9748, 'name': 'revenge'}, {'id': 9951,...</td>\n",
       "      <td>[{'cast_id': 2, 'character': 'Nancy Fowler Arc...</td>\n",
       "      <td>[{'credit_id': '55807805c3a3685b1300060b', 'de...</td>\n",
       "    </tr>\n",
       "  </tbody>\n",
       "</table>\n",
       "</div>"
      ],
      "text/plain": [
       "      budget                                             genres    imdb_id  \\\n",
       "id                                                                           \n",
       "3001       0  [{'id': 12, 'name': 'Adventure'}, {'id': 16, '...  tt1226251   \n",
       "3002   88000  [{'id': 27, 'name': 'Horror'}, {'id': 878, 'na...  tt0051380   \n",
       "\n",
       "     original_language               original_title  \\\n",
       "id                                                    \n",
       "3001                ja           ディアルガVSパルキアVSダークライ   \n",
       "3002                en  Attack of the 50 Foot Woman   \n",
       "\n",
       "                                               overview  popularity  \\\n",
       "id                                                                    \n",
       "3001  Ash and friends (this time accompanied by newc...    3.851534   \n",
       "3002  When an abused wife grows to giant size becaus...    3.559789   \n",
       "\n",
       "                           poster_path  \\\n",
       "id                                       \n",
       "3001  /tnftmLMemPLduW6MRyZE0ZUD19z.jpg   \n",
       "3002  /9MgBNBqlH1sG4yG2u4XkwI5CoJa.jpg   \n",
       "\n",
       "                                   production_companies  \\\n",
       "id                                                        \n",
       "3001                                                NaN   \n",
       "3002  [{'name': 'Woolner Brothers Pictures Inc.', 'i...   \n",
       "\n",
       "                                   production_countries release_date  runtime  \\\n",
       "id                                                                              \n",
       "3001  [{'iso_3166_1': 'JP', 'name': 'Japan'}, {'iso_...      7/14/07     90.0   \n",
       "3002  [{'iso_3166_1': 'US', 'name': 'United States o...      5/19/58     65.0   \n",
       "\n",
       "                                       spoken_languages    status  \\\n",
       "id                                                                  \n",
       "3001  [{'iso_639_1': 'en', 'name': 'English'}, {'iso...  Released   \n",
       "3002           [{'iso_639_1': 'en', 'name': 'English'}]  Released   \n",
       "\n",
       "                                                tagline  \\\n",
       "id                                                        \n",
       "3001  Somewhere Between Time & Space... A Legend Is ...   \n",
       "3002  A titanic beauty spreads a macabre wave of hor...   \n",
       "\n",
       "                             title  \\\n",
       "id                                   \n",
       "3001  Pokémon: The Rise of Darkrai   \n",
       "3002   Attack of the 50 Foot Woman   \n",
       "\n",
       "                                               Keywords  \\\n",
       "id                                                        \n",
       "3001  [{'id': 11451, 'name': 'pok√©mon'}, {'id': 115...   \n",
       "3002  [{'id': 9748, 'name': 'revenge'}, {'id': 9951,...   \n",
       "\n",
       "                                                   cast  \\\n",
       "id                                                        \n",
       "3001  [{'cast_id': 3, 'character': 'Tonio', 'credit_...   \n",
       "3002  [{'cast_id': 2, 'character': 'Nancy Fowler Arc...   \n",
       "\n",
       "                                                   crew  \n",
       "id                                                       \n",
       "3001  [{'credit_id': '52fe44e7c3a368484e03d683', 'de...  \n",
       "3002  [{'credit_id': '55807805c3a3685b1300060b', 'de...  "
      ]
     },
     "metadata": {},
     "output_type": "display_data"
    }
   ],
   "source": [
    "display(train.head(2))\n",
    "display(test.head(2))"
   ]
  },
  {
   "cell_type": "markdown",
   "id": "3ade608a",
   "metadata": {},
   "source": [
    "### json 형태 데이터\n",
    "```\n",
    "- 삭제할 컬럼의 경우 마지막에 한번에 진행\n",
    "1) genres => 개수\n",
    "2) production_companies => 개수\n",
    "3) production_countries => 개수\n",
    "4) spoken_lanuages => 개수\n",
    "5) Keywords => 삭제\n",
    "6) cast => 삭제\n",
    "7) crew => 삭제\n",
    "```"
   ]
  },
  {
   "cell_type": "code",
   "execution_count": 104,
   "id": "b01a5776",
   "metadata": {},
   "outputs": [
    {
     "name": "stdout",
     "output_type": "stream",
     "text": [
      "[{'id': 35, 'name': 'Comedy'}, {'id': 18, 'name': 'Drama'}, {'id': 10751, 'name': 'Family'}, {'id': 10749, 'name': 'Romance'}]\n"
     ]
    },
    {
     "data": {
      "text/plain": [
       "4"
      ]
     },
     "execution_count": 104,
     "metadata": {},
     "output_type": "execute_result"
    }
   ],
   "source": [
    "# genres, production_companies, pspoken_languages => 개수로 표현\n",
    "\n",
    "# ast.literal_eval : 문자열 속 표현식을 인식\n",
    "\n",
    "\n",
    "# 예시\n",
    "import ast\n",
    "\n",
    "print(train[\"genres\"][2])\n",
    "len(ast.literal_eval(train[\"genres\"][2]))"
   ]
  },
  {
   "cell_type": "code",
   "execution_count": 105,
   "id": "748d75d0",
   "metadata": {},
   "outputs": [],
   "source": [
    "# 결측치를 모두 0으로 채움\n",
    "train[\"genres\"] = train[\"genres\"].fillna(0)\n",
    "test[\"genres\"] = test[\"genres\"].fillna(0)\n",
    "\n",
    "train[\"production_companies\"] = train[\"production_companies\"].fillna(0)\n",
    "test[\"production_companies\"] = test[\"production_companies\"].fillna(0)\n",
    "\n",
    "train[\"production_countries\"] = train[\"production_countries\"].fillna(0)\n",
    "test[\"production_countries\"] = test[\"production_countries\"].fillna(0)\n",
    "\n",
    "train[\"spoken_languages\"] = train[\"spoken_languages\"].fillna(0)\n",
    "test[\"spoken_languages\"] = test[\"spoken_languages\"].fillna(0)"
   ]
  },
  {
   "cell_type": "code",
   "execution_count": 106,
   "id": "00f43b8b",
   "metadata": {},
   "outputs": [],
   "source": [
    "# 개수 변환\n",
    "# 결측치를 0으로 채웠기 때문에 조건문을 통해 0이 아닌 데이터만 지정\n",
    "\n",
    "train[\"genres\"] = train[\"genres\"].map(lambda x: len(ast.literal_eval(x)) if x != 0 else 0)\n",
    "test[\"genres\"] = test[\"genres\"].map(lambda x: len(ast.literal_eval(x)) if x != 0 else 0)\n",
    "\n",
    "train[\"production_companies\"] = train[\"production_companies\"].map(lambda x: len(ast.literal_eval(x)) if x != 0 else 0)\n",
    "test[\"production_companies\"] = test[\"production_companies\"].map(lambda x: len(ast.literal_eval(x)) if x != 0 else 0)\n",
    "\n",
    "train[\"production_countries\"] = train[\"production_countries\"].map(lambda x: len(ast.literal_eval(x)) if x != 0 else 0)\n",
    "test[\"production_countries\"] = test[\"production_countries\"].map(lambda x: len(ast.literal_eval(x)) if x != 0 else 0)\n",
    "\n",
    "train[\"spoken_languages\"] = train[\"spoken_languages\"].map(lambda x: len(ast.literal_eval(x)) if x != 0 else 0)\n",
    "test[\"spoken_languages\"] = test[\"spoken_languages\"].map(lambda x: len(ast.literal_eval(x)) if x != 0 else 0)"
   ]
  },
  {
   "cell_type": "code",
   "execution_count": 107,
   "id": "a35e2dc0",
   "metadata": {},
   "outputs": [
    {
     "data": {
      "text/html": [
       "<div>\n",
       "<style scoped>\n",
       "    .dataframe tbody tr th:only-of-type {\n",
       "        vertical-align: middle;\n",
       "    }\n",
       "\n",
       "    .dataframe tbody tr th {\n",
       "        vertical-align: top;\n",
       "    }\n",
       "\n",
       "    .dataframe thead th {\n",
       "        text-align: right;\n",
       "    }\n",
       "</style>\n",
       "<table border=\"1\" class=\"dataframe\">\n",
       "  <thead>\n",
       "    <tr style=\"text-align: right;\">\n",
       "      <th></th>\n",
       "      <th>genres</th>\n",
       "      <th>production_companies</th>\n",
       "      <th>production_countries</th>\n",
       "      <th>spoken_languages</th>\n",
       "    </tr>\n",
       "    <tr>\n",
       "      <th>id</th>\n",
       "      <th></th>\n",
       "      <th></th>\n",
       "      <th></th>\n",
       "      <th></th>\n",
       "    </tr>\n",
       "  </thead>\n",
       "  <tbody>\n",
       "    <tr>\n",
       "      <th>1</th>\n",
       "      <td>1</td>\n",
       "      <td>3</td>\n",
       "      <td>1</td>\n",
       "      <td>1</td>\n",
       "    </tr>\n",
       "    <tr>\n",
       "      <th>2</th>\n",
       "      <td>4</td>\n",
       "      <td>1</td>\n",
       "      <td>1</td>\n",
       "      <td>1</td>\n",
       "    </tr>\n",
       "    <tr>\n",
       "      <th>3</th>\n",
       "      <td>1</td>\n",
       "      <td>3</td>\n",
       "      <td>1</td>\n",
       "      <td>1</td>\n",
       "    </tr>\n",
       "    <tr>\n",
       "      <th>4</th>\n",
       "      <td>2</td>\n",
       "      <td>0</td>\n",
       "      <td>1</td>\n",
       "      <td>2</td>\n",
       "    </tr>\n",
       "    <tr>\n",
       "      <th>5</th>\n",
       "      <td>2</td>\n",
       "      <td>0</td>\n",
       "      <td>1</td>\n",
       "      <td>1</td>\n",
       "    </tr>\n",
       "  </tbody>\n",
       "</table>\n",
       "</div>"
      ],
      "text/plain": [
       "    genres  production_companies  production_countries  spoken_languages\n",
       "id                                                                      \n",
       "1        1                     3                     1                 1\n",
       "2        4                     1                     1                 1\n",
       "3        1                     3                     1                 1\n",
       "4        2                     0                     1                 2\n",
       "5        2                     0                     1                 1"
      ]
     },
     "execution_count": 107,
     "metadata": {},
     "output_type": "execute_result"
    }
   ],
   "source": [
    "# 결과 확인\n",
    "train[[\"genres\", \"production_companies\", \"production_countries\", \"spoken_languages\"]].head()"
   ]
  },
  {
   "cell_type": "markdown",
   "id": "357b13d5",
   "metadata": {},
   "source": [
    "### 날짜 구분\n",
    "- release_date (월/일/연도) => 결측치 (test)"
   ]
  },
  {
   "cell_type": "code",
   "execution_count": 108,
   "id": "01176643",
   "metadata": {},
   "outputs": [
    {
     "data": {
      "text/plain": [
       "(0, 1)"
      ]
     },
     "execution_count": 108,
     "metadata": {},
     "output_type": "execute_result"
    }
   ],
   "source": [
    "# 결측치 확인\n",
    "train[\"release_date\"].isnull().sum(), test[\"release_date\"].isnull().sum()"
   ]
  },
  {
   "cell_type": "code",
   "execution_count": 109,
   "id": "fe36dc91",
   "metadata": {},
   "outputs": [],
   "source": [
    "# datetime 형식으로 변환\n",
    "train[\"release_date\"] = pd.to_datetime(train[\"release_date\"])\n",
    "test[\"release_date\"] = pd.to_datetime(test[\"release_date\"])"
   ]
  },
  {
   "cell_type": "code",
   "execution_count": 110,
   "id": "13747dd7",
   "metadata": {},
   "outputs": [],
   "source": [
    "# dt accessors 활용\n",
    "train[\"release_year\"] = train[\"release_date\"].dt.year\n",
    "train[\"release_month\"] = train[\"release_date\"].dt.month\n",
    "train[\"release_day\"] = train[\"release_date\"].dt.day\n",
    "\n",
    "test[\"release_year\"] = test[\"release_date\"].dt.year\n",
    "test[\"release_month\"] = test[\"release_date\"].dt.month\n",
    "test[\"release_day\"] = test[\"release_date\"].dt.day"
   ]
  },
  {
   "cell_type": "code",
   "execution_count": 111,
   "id": "f1a1e112",
   "metadata": {},
   "outputs": [
    {
     "data": {
      "text/html": [
       "<div>\n",
       "<style scoped>\n",
       "    .dataframe tbody tr th:only-of-type {\n",
       "        vertical-align: middle;\n",
       "    }\n",
       "\n",
       "    .dataframe tbody tr th {\n",
       "        vertical-align: top;\n",
       "    }\n",
       "\n",
       "    .dataframe thead th {\n",
       "        text-align: right;\n",
       "    }\n",
       "</style>\n",
       "<table border=\"1\" class=\"dataframe\">\n",
       "  <thead>\n",
       "    <tr style=\"text-align: right;\">\n",
       "      <th></th>\n",
       "      <th>release_date</th>\n",
       "      <th>release_year</th>\n",
       "      <th>release_month</th>\n",
       "      <th>release_day</th>\n",
       "    </tr>\n",
       "    <tr>\n",
       "      <th>id</th>\n",
       "      <th></th>\n",
       "      <th></th>\n",
       "      <th></th>\n",
       "      <th></th>\n",
       "    </tr>\n",
       "  </thead>\n",
       "  <tbody>\n",
       "    <tr>\n",
       "      <th>1</th>\n",
       "      <td>2015-02-20</td>\n",
       "      <td>2015</td>\n",
       "      <td>2</td>\n",
       "      <td>20</td>\n",
       "    </tr>\n",
       "    <tr>\n",
       "      <th>2</th>\n",
       "      <td>2004-08-06</td>\n",
       "      <td>2004</td>\n",
       "      <td>8</td>\n",
       "      <td>6</td>\n",
       "    </tr>\n",
       "    <tr>\n",
       "      <th>3</th>\n",
       "      <td>2014-10-10</td>\n",
       "      <td>2014</td>\n",
       "      <td>10</td>\n",
       "      <td>10</td>\n",
       "    </tr>\n",
       "    <tr>\n",
       "      <th>4</th>\n",
       "      <td>2012-03-09</td>\n",
       "      <td>2012</td>\n",
       "      <td>3</td>\n",
       "      <td>9</td>\n",
       "    </tr>\n",
       "    <tr>\n",
       "      <th>5</th>\n",
       "      <td>2009-02-05</td>\n",
       "      <td>2009</td>\n",
       "      <td>2</td>\n",
       "      <td>5</td>\n",
       "    </tr>\n",
       "    <tr>\n",
       "      <th>...</th>\n",
       "      <td>...</td>\n",
       "      <td>...</td>\n",
       "      <td>...</td>\n",
       "      <td>...</td>\n",
       "    </tr>\n",
       "    <tr>\n",
       "      <th>2996</th>\n",
       "      <td>1994-04-22</td>\n",
       "      <td>1994</td>\n",
       "      <td>4</td>\n",
       "      <td>22</td>\n",
       "    </tr>\n",
       "    <tr>\n",
       "      <th>2997</th>\n",
       "      <td>2013-03-28</td>\n",
       "      <td>2013</td>\n",
       "      <td>3</td>\n",
       "      <td>28</td>\n",
       "    </tr>\n",
       "    <tr>\n",
       "      <th>2998</th>\n",
       "      <td>1996-10-11</td>\n",
       "      <td>1996</td>\n",
       "      <td>10</td>\n",
       "      <td>11</td>\n",
       "    </tr>\n",
       "    <tr>\n",
       "      <th>2999</th>\n",
       "      <td>2004-01-16</td>\n",
       "      <td>2004</td>\n",
       "      <td>1</td>\n",
       "      <td>16</td>\n",
       "    </tr>\n",
       "    <tr>\n",
       "      <th>3000</th>\n",
       "      <td>2011-09-22</td>\n",
       "      <td>2011</td>\n",
       "      <td>9</td>\n",
       "      <td>22</td>\n",
       "    </tr>\n",
       "  </tbody>\n",
       "</table>\n",
       "<p>3000 rows × 4 columns</p>\n",
       "</div>"
      ],
      "text/plain": [
       "     release_date  release_year  release_month  release_day\n",
       "id                                                         \n",
       "1      2015-02-20          2015              2           20\n",
       "2      2004-08-06          2004              8            6\n",
       "3      2014-10-10          2014             10           10\n",
       "4      2012-03-09          2012              3            9\n",
       "5      2009-02-05          2009              2            5\n",
       "...           ...           ...            ...          ...\n",
       "2996   1994-04-22          1994              4           22\n",
       "2997   2013-03-28          2013              3           28\n",
       "2998   1996-10-11          1996             10           11\n",
       "2999   2004-01-16          2004              1           16\n",
       "3000   2011-09-22          2011              9           22\n",
       "\n",
       "[3000 rows x 4 columns]"
      ]
     },
     "execution_count": 111,
     "metadata": {},
     "output_type": "execute_result"
    }
   ],
   "source": [
    "# 결과 확인\n",
    "train[[\"release_date\", \"release_year\", \"release_month\", \"release_day\"]]"
   ]
  },
  {
   "cell_type": "code",
   "execution_count": 112,
   "id": "9beddebc",
   "metadata": {},
   "outputs": [],
   "source": [
    "# 결측치 0으로 채우기\n",
    "test.release_year = test.release_year.fillna(0)\n",
    "test.release_month = test.release_month.fillna(0)\n",
    "test.release_day = test.release_day.fillna(0)"
   ]
  },
  {
   "cell_type": "code",
   "execution_count": 215,
   "id": "6c5b3eb2",
   "metadata": {},
   "outputs": [
    {
     "data": {
      "text/plain": [
       "(0, 0, 0)"
      ]
     },
     "execution_count": 215,
     "metadata": {},
     "output_type": "execute_result"
    }
   ],
   "source": [
    "# 확인\n",
    "test.release_year.isnull().sum(), test.release_month.isnull().sum(), test.release_day.isnull().sum()"
   ]
  },
  {
   "cell_type": "code",
   "execution_count": 114,
   "id": "9f60e9b3",
   "metadata": {},
   "outputs": [],
   "source": [
    "# 기존 컬럼 삭제\n",
    "train = train.drop(columns=\"release_date\")\n",
    "test = test.drop(columns=\"release_date\")"
   ]
  },
  {
   "cell_type": "markdown",
   "id": "c5e3e88b",
   "metadata": {},
   "source": [
    "### Encoding\n",
    "\n",
    "```\n",
    "<Binary Encoding>\n",
    "- status => 결측치 (test)\n",
    "\n",
    "<Ordinal Encoding>\n",
    "- original_lanuage\n",
    "```"
   ]
  },
  {
   "cell_type": "markdown",
   "id": "49c333f1",
   "metadata": {},
   "source": [
    "#### Binary Encoding"
   ]
  },
  {
   "cell_type": "code",
   "execution_count": 115,
   "id": "60ed9095",
   "metadata": {},
   "outputs": [
    {
     "data": {
      "text/plain": [
       "'<train>'"
      ]
     },
     "metadata": {},
     "output_type": "display_data"
    },
    {
     "data": {
      "text/plain": [
       "Released    2996\n",
       "Rumored        4\n",
       "Name: status, dtype: int64"
      ]
     },
     "metadata": {},
     "output_type": "display_data"
    },
    {
     "data": {
      "text/plain": [
       "'<test>'"
      ]
     },
     "metadata": {},
     "output_type": "display_data"
    },
    {
     "data": {
      "text/plain": [
       "Released           4389\n",
       "Post Production       5\n",
       "Rumored               2\n",
       "Name: status, dtype: int64"
      ]
     },
     "metadata": {},
     "output_type": "display_data"
    }
   ],
   "source": [
    "display(\"<train>\", train.status.value_counts())\n",
    "display(\"<test>\", test.status.value_counts())"
   ]
  },
  {
   "cell_type": "code",
   "execution_count": 116,
   "id": "69460929",
   "metadata": {},
   "outputs": [],
   "source": [
    "# Post Production : 1, Released : 2, Rumored : 3로 변경\n",
    "train[\"status\"] = train[\"status\"].replace([\"Released\", \"Rumored\"], [2, 3])\n",
    "test[\"status\"] = test[\"status\"].replace([\"Post Production\", \"Released\", \"Rumored\"], [1, 2, 3])"
   ]
  },
  {
   "cell_type": "code",
   "execution_count": 117,
   "id": "1d00904b",
   "metadata": {},
   "outputs": [],
   "source": [
    "# 결측치 0으로 채우기\n",
    "test[\"status\"] = test[\"status\"].fillna(0)"
   ]
  },
  {
   "cell_type": "code",
   "execution_count": 118,
   "id": "1084701f",
   "metadata": {},
   "outputs": [
    {
     "data": {
      "text/plain": [
       "'<train>'"
      ]
     },
     "metadata": {},
     "output_type": "display_data"
    },
    {
     "data": {
      "text/plain": [
       "2    2996\n",
       "3       4\n",
       "Name: status, dtype: int64"
      ]
     },
     "metadata": {},
     "output_type": "display_data"
    },
    {
     "data": {
      "text/plain": [
       "'<test>'"
      ]
     },
     "metadata": {},
     "output_type": "display_data"
    },
    {
     "data": {
      "text/plain": [
       "2.0    4389\n",
       "1.0       5\n",
       "3.0       2\n",
       "0.0       2\n",
       "Name: status, dtype: int64"
      ]
     },
     "metadata": {},
     "output_type": "display_data"
    }
   ],
   "source": [
    "# 결과 빈도수 확인\n",
    "display(\"<train>\", train.status.value_counts())\n",
    "display(\"<test>\", test.status.value_counts())"
   ]
  },
  {
   "cell_type": "markdown",
   "id": "fdf07f83",
   "metadata": {},
   "source": [
    "#### Ordinal Encoding"
   ]
  },
  {
   "cell_type": "code",
   "execution_count": 119,
   "id": "3433fbee",
   "metadata": {},
   "outputs": [
    {
     "data": {
      "text/plain": [
       "'<train>'"
      ]
     },
     "metadata": {},
     "output_type": "display_data"
    },
    {
     "data": {
      "text/plain": [
       "en    2575\n",
       "fr      78\n",
       "ru      47\n",
       "es      43\n",
       "hi      42\n",
       "ja      37\n",
       "Name: original_language, dtype: int64"
      ]
     },
     "metadata": {},
     "output_type": "display_data"
    },
    {
     "data": {
      "text/plain": [
       "'<test>'"
      ]
     },
     "metadata": {},
     "output_type": "display_data"
    },
    {
     "data": {
      "text/plain": [
       "en    3776\n",
       "fr     121\n",
       "hi      76\n",
       "ru      62\n",
       "ja      53\n",
       "es      52\n",
       "Name: original_language, dtype: int64"
      ]
     },
     "metadata": {},
     "output_type": "display_data"
    }
   ],
   "source": [
    "# 상위 6개까지는 train과 test 데이터 동일\n",
    "train_ol = train.original_language.value_counts()\n",
    "display(\"<train>\", train_ol.nlargest(6))\n",
    "\n",
    "test_ol = test.original_language.value_counts()\n",
    "display(\"<test>\", test_ol.nlargest(6))"
   ]
  },
  {
   "cell_type": "code",
   "execution_count": 120,
   "id": "2183375d",
   "metadata": {},
   "outputs": [],
   "source": [
    "# 상위 6개를 제외한 데이터는 기타 처리\n",
    "train[\"original_language\"] = train[\"original_language\"].map(lambda x: x if x in train_ol.nlargest(6) else \"etc\")\n",
    "test[\"original_language\"] = test[\"original_language\"].map(lambda x: x if x in train_ol.nlargest(6) else \"etc\")"
   ]
  },
  {
   "cell_type": "code",
   "execution_count": 121,
   "id": "47ce08cb",
   "metadata": {},
   "outputs": [
    {
     "data": {
      "text/plain": [
       "'<train>'"
      ]
     },
     "metadata": {},
     "output_type": "display_data"
    },
    {
     "data": {
      "text/plain": [
       "en     2575\n",
       "etc     178\n",
       "fr       78\n",
       "ru       47\n",
       "es       43\n",
       "hi       42\n",
       "ja       37\n",
       "Name: original_language, dtype: int64"
      ]
     },
     "metadata": {},
     "output_type": "display_data"
    },
    {
     "data": {
      "text/plain": [
       "'<test>'"
      ]
     },
     "metadata": {},
     "output_type": "display_data"
    },
    {
     "data": {
      "text/plain": [
       "en     3776\n",
       "etc     258\n",
       "fr      121\n",
       "hi       76\n",
       "ru       62\n",
       "ja       53\n",
       "es       52\n",
       "Name: original_language, dtype: int64"
      ]
     },
     "metadata": {},
     "output_type": "display_data"
    }
   ],
   "source": [
    "# 기타 처리 결과 확인\n",
    "display(\"<train>\", train.original_language.value_counts())\n",
    "display(\"<test>\", test.original_language.value_counts())"
   ]
  },
  {
   "cell_type": "code",
   "execution_count": 122,
   "id": "57da428a",
   "metadata": {},
   "outputs": [],
   "source": [
    "from category_encoders import OrdinalEncoder\n",
    "\n",
    "encoder = OrdinalEncoder()\n",
    "\n",
    "encoder.fit(train[\"original_language\"])\n",
    "train[\"original_language\"] = encoder.transform(train[\"original_language\"])\n",
    "test[\"original_language\"] = encoder.transform(test[\"original_language\"])"
   ]
  },
  {
   "cell_type": "code",
   "execution_count": 123,
   "id": "208ce247",
   "metadata": {},
   "outputs": [
    {
     "data": {
      "text/plain": [
       "'<train>'"
      ]
     },
     "metadata": {},
     "output_type": "display_data"
    },
    {
     "data": {
      "text/plain": [
       "1    2575\n",
       "3     178\n",
       "4      78\n",
       "6      47\n",
       "5      43\n",
       "2      42\n",
       "7      37\n",
       "Name: original_language, dtype: int64"
      ]
     },
     "metadata": {},
     "output_type": "display_data"
    },
    {
     "data": {
      "text/plain": [
       "'<test>'"
      ]
     },
     "metadata": {},
     "output_type": "display_data"
    },
    {
     "data": {
      "text/plain": [
       "1    3776\n",
       "3     258\n",
       "4     121\n",
       "2      76\n",
       "6      62\n",
       "7      53\n",
       "5      52\n",
       "Name: original_language, dtype: int64"
      ]
     },
     "metadata": {},
     "output_type": "display_data"
    }
   ],
   "source": [
    "# encoding 결과 확인\n",
    "display(\"<train>\", train.original_language.value_counts())\n",
    "display(\"<test>\", test.original_language.value_counts())"
   ]
  },
  {
   "cell_type": "markdown",
   "id": "7433a67f",
   "metadata": {},
   "source": [
    "### Scaling\n",
    "```\n",
    "1) budget\n",
    "2) popularity\n",
    "3) runtime => 결측치 (train, test)\n",
    "```"
   ]
  },
  {
   "cell_type": "code",
   "execution_count": 124,
   "id": "e2065467",
   "metadata": {},
   "outputs": [],
   "source": [
    "# 결측치 0으로 채우기\n",
    "train.runtime = train.runtime.fillna(0)\n",
    "test.runtime = test.runtime.fillna(0)"
   ]
  },
  {
   "cell_type": "code",
   "execution_count": 125,
   "id": "c23ab635",
   "metadata": {},
   "outputs": [
    {
     "data": {
      "text/plain": [
       "(0, 0)"
      ]
     },
     "execution_count": 125,
     "metadata": {},
     "output_type": "execute_result"
    }
   ],
   "source": [
    "# 확인\n",
    "train.runtime.isnull().sum(), test.runtime.isnull().sum()"
   ]
  },
  {
   "cell_type": "code",
   "execution_count": 126,
   "id": "26f96a18",
   "metadata": {},
   "outputs": [
    {
     "data": {
      "image/png": "[encoded data removed]",
      "text/plain": [
       "<Figure size 864x360 with 4 Axes>"
      ]
     },
     "metadata": {
      "needs_background": "light"
     },
     "output_type": "display_data"
    }
   ],
   "source": [
    "train[[\"budget\", \"popularity\", \"runtime\"]].hist(figsize=(12, 5), bins=50);"
   ]
  },
  {
   "cell_type": "code",
   "execution_count": 127,
   "id": "2f6f3bea",
   "metadata": {},
   "outputs": [
    {
     "data": {
      "image/png": "[encoded data removed]",
      "text/plain": [
       "<Figure size 864x360 with 4 Axes>"
      ]
     },
     "metadata": {
      "needs_background": "light"
     },
     "output_type": "display_data"
    }
   ],
   "source": [
    "test[[\"budget\", \"popularity\", \"runtime\"]].hist(figsize=(12, 5), bins=50);"
   ]
  },
  {
   "cell_type": "code",
   "execution_count": 128,
   "id": "664a48ea",
   "metadata": {},
   "outputs": [],
   "source": [
    "from sklearn.preprocessing import MinMaxScaler\n",
    "\n",
    "scaler = MinMaxScaler()\n",
    "\n",
    "scaler.fit(train[[\"budget\", \"popularity\", \"runtime\"]])\n",
    "train[[\"budget\", \"popularity\", \"runtime\"]] = scaler.transform(train[[\"budget\", \"popularity\", \"runtime\"]])\n",
    "test[[\"budget\", \"popularity\", \"runtime\"]] = scaler.transform(test[[\"budget\", \"popularity\", \"runtime\"]])"
   ]
  },
  {
   "cell_type": "code",
   "execution_count": 129,
   "id": "67ab83a7",
   "metadata": {
    "scrolled": true
   },
   "outputs": [
    {
     "data": {
      "image/png": "[encoded data removed]",
      "text/plain": [
       "<Figure size 864x360 with 4 Axes>"
      ]
     },
     "metadata": {
      "needs_background": "light"
     },
     "output_type": "display_data"
    }
   ],
   "source": [
    "train[[\"budget\", \"popularity\", \"runtime\"]].hist(figsize=(12, 5), bins=50);"
   ]
  },
  {
   "cell_type": "code",
   "execution_count": 130,
   "id": "d59d2f1a",
   "metadata": {
    "scrolled": true
   },
   "outputs": [
    {
     "data": {
      "image/png": "[encoded data removed]",
      "text/plain": [
       "<Figure size 864x360 with 4 Axes>"
      ]
     },
     "metadata": {
      "needs_background": "light"
     },
     "output_type": "display_data"
    }
   ],
   "source": [
    "test[[\"budget\", \"popularity\", \"runtime\"]].hist(figsize=(12, 5), bins=50);"
   ]
  },
  {
   "cell_type": "markdown",
   "id": "c653757c",
   "metadata": {},
   "source": [
    "### 사용하지 않을 피처 삭제\n",
    "```\n",
    "- 페이지 주소 | 수치형으로 인코딩하기엔 고유값이 많음 | 필요없을 것 같은 컬럼\n",
    "1) Keywords\n",
    "2) cast\n",
    "3) crew\n",
    "4) imdb_id\n",
    "5) original_title\n",
    "6) overview\n",
    "7) poster_path\n",
    "8) tagline\n",
    "9) title\n",
    "```"
   ]
  },
  {
   "cell_type": "code",
   "execution_count": 131,
   "id": "c8f98316",
   "metadata": {},
   "outputs": [],
   "source": [
    "col = [\"Keywords\", \"cast\", \"crew\", \"imdb_id\", \"original_title\", \"overview\", \"poster_path\", \"tagline\", \"title\"]"
   ]
  },
  {
   "cell_type": "code",
   "execution_count": 132,
   "id": "a77621c7",
   "metadata": {},
   "outputs": [],
   "source": [
    "train = train.drop(columns=col)\n",
    "test = test.drop(columns=col)"
   ]
  },
  {
   "cell_type": "code",
   "execution_count": 133,
   "id": "301740db",
   "metadata": {},
   "outputs": [
    {
     "name": "stdout",
     "output_type": "stream",
     "text": [
      "<class 'pandas.core.frame.DataFrame'>\n",
      "Int64Index: 3000 entries, 1 to 3000\n",
      "Data columns (total 13 columns):\n",
      " #   Column                Non-Null Count  Dtype  \n",
      "---  ------                --------------  -----  \n",
      " 0   budget                3000 non-null   float64\n",
      " 1   genres                3000 non-null   int64  \n",
      " 2   original_language     3000 non-null   int32  \n",
      " 3   popularity            3000 non-null   float64\n",
      " 4   production_companies  3000 non-null   int64  \n",
      " 5   production_countries  3000 non-null   int64  \n",
      " 6   runtime               3000 non-null   float64\n",
      " 7   spoken_languages      3000 non-null   int64  \n",
      " 8   status                3000 non-null   int64  \n",
      " 9   revenue               3000 non-null   int64  \n",
      " 10  release_year          3000 non-null   int64  \n",
      " 11  release_month         3000 non-null   int64  \n",
      " 12  release_day           3000 non-null   int64  \n",
      "dtypes: float64(3), int32(1), int64(9)\n",
      "memory usage: 380.9 KB\n"
     ]
    }
   ],
   "source": [
    "train.info()"
   ]
  },
  {
   "cell_type": "code",
   "execution_count": 216,
   "id": "b0444e85",
   "metadata": {},
   "outputs": [
    {
     "name": "stdout",
     "output_type": "stream",
     "text": [
      "<class 'pandas.core.frame.DataFrame'>\n",
      "Int64Index: 4398 entries, 3001 to 7398\n",
      "Data columns (total 12 columns):\n",
      " #   Column                Non-Null Count  Dtype  \n",
      "---  ------                --------------  -----  \n",
      " 0   budget                4398 non-null   float64\n",
      " 1   genres                4398 non-null   int64  \n",
      " 2   original_language     4398 non-null   int32  \n",
      " 3   popularity            4398 non-null   float64\n",
      " 4   production_companies  4398 non-null   int64  \n",
      " 5   production_countries  4398 non-null   int64  \n",
      " 6   runtime               4398 non-null   float64\n",
      " 7   spoken_languages      4398 non-null   int64  \n",
      " 8   status                4398 non-null   float64\n",
      " 9   release_year          4398 non-null   float64\n",
      " 10  release_month         4398 non-null   float64\n",
      " 11  release_day           4398 non-null   float64\n",
      "dtypes: float64(7), int32(1), int64(4)\n",
      "memory usage: 429.5 KB\n"
     ]
    }
   ],
   "source": [
    "test.info()"
   ]
  },
  {
   "cell_type": "markdown",
   "id": "93fd47c4",
   "metadata": {},
   "source": [
    "### log\n",
    "- revenue"
   ]
  },
  {
   "cell_type": "code",
   "execution_count": 134,
   "id": "0378fb71",
   "metadata": {},
   "outputs": [
    {
     "data": {
      "image/png": "[encoded data removed]",
      "text/plain": [
       "<Figure size 360x216 with 1 Axes>"
      ]
     },
     "metadata": {
      "needs_background": "light"
     },
     "output_type": "display_data"
    }
   ],
   "source": [
    "train.revenue.hist(bins=50, figsize=(5, 3));"
   ]
  },
  {
   "cell_type": "code",
   "execution_count": 135,
   "id": "1ca0b6c1",
   "metadata": {},
   "outputs": [
    {
     "data": {
      "image/png": "[encoded data removed]",
      "text/plain": [
       "<Figure size 360x216 with 1 Axes>"
      ]
     },
     "metadata": {
      "needs_background": "light"
     },
     "output_type": "display_data"
    }
   ],
   "source": [
    "np.log1p(train[\"revenue\"]).hist(bins=50, figsize=(5, 3));"
   ]
  },
  {
   "cell_type": "code",
   "execution_count": 136,
   "id": "3685f03b",
   "metadata": {},
   "outputs": [
    {
     "data": {
      "text/plain": [
       "id\n",
       "1       16.326300\n",
       "2       18.370959\n",
       "3       16.387512\n",
       "4       16.588099\n",
       "5       15.182615\n",
       "          ...    \n",
       "2996    14.283442\n",
       "2997    12.103990\n",
       "2998    18.309266\n",
       "2999    18.962792\n",
       "3000    18.223292\n",
       "Name: revenue, Length: 3000, dtype: float64"
      ]
     },
     "execution_count": 136,
     "metadata": {},
     "output_type": "execute_result"
    }
   ],
   "source": [
    "train[\"revenue\"] = np.log1p(train[\"revenue\"])\n",
    "train[\"revenue\"]"
   ]
  },
  {
   "cell_type": "markdown",
   "id": "16920cb0",
   "metadata": {},
   "source": [
    "# ML"
   ]
  },
  {
   "cell_type": "markdown",
   "id": "39ae4942",
   "metadata": {},
   "source": [
    "### 데이터셋 만들기"
   ]
  },
  {
   "cell_type": "code",
   "execution_count": 137,
   "id": "13d1b965",
   "metadata": {},
   "outputs": [],
   "source": [
    "# 사용할 컬럼\n",
    "label_name = \"revenue\"\n",
    "feature_names = train.columns.to_list()\n",
    "feature_names.remove(label_name)"
   ]
  },
  {
   "cell_type": "code",
   "execution_count": 138,
   "id": "15d72d51",
   "metadata": {},
   "outputs": [
    {
     "name": "stdout",
     "output_type": "stream",
     "text": [
      "(3000, 12)\n"
     ]
    },
    {
     "data": {
      "text/html": [
       "<div>\n",
       "<style scoped>\n",
       "    .dataframe tbody tr th:only-of-type {\n",
       "        vertical-align: middle;\n",
       "    }\n",
       "\n",
       "    .dataframe tbody tr th {\n",
       "        vertical-align: top;\n",
       "    }\n",
       "\n",
       "    .dataframe thead th {\n",
       "        text-align: right;\n",
       "    }\n",
       "</style>\n",
       "<table border=\"1\" class=\"dataframe\">\n",
       "  <thead>\n",
       "    <tr style=\"text-align: right;\">\n",
       "      <th></th>\n",
       "      <th>budget</th>\n",
       "      <th>genres</th>\n",
       "      <th>original_language</th>\n",
       "      <th>popularity</th>\n",
       "      <th>production_companies</th>\n",
       "      <th>production_countries</th>\n",
       "      <th>runtime</th>\n",
       "      <th>spoken_languages</th>\n",
       "      <th>status</th>\n",
       "      <th>release_year</th>\n",
       "      <th>release_month</th>\n",
       "      <th>release_day</th>\n",
       "    </tr>\n",
       "    <tr>\n",
       "      <th>id</th>\n",
       "      <th></th>\n",
       "      <th></th>\n",
       "      <th></th>\n",
       "      <th></th>\n",
       "      <th></th>\n",
       "      <th></th>\n",
       "      <th></th>\n",
       "      <th></th>\n",
       "      <th></th>\n",
       "      <th></th>\n",
       "      <th></th>\n",
       "      <th></th>\n",
       "    </tr>\n",
       "  </thead>\n",
       "  <tbody>\n",
       "    <tr>\n",
       "      <th>1</th>\n",
       "      <td>0.036842</td>\n",
       "      <td>1</td>\n",
       "      <td>1</td>\n",
       "      <td>0.022340</td>\n",
       "      <td>3</td>\n",
       "      <td>1</td>\n",
       "      <td>0.275148</td>\n",
       "      <td>1</td>\n",
       "      <td>2</td>\n",
       "      <td>2015</td>\n",
       "      <td>2</td>\n",
       "      <td>20</td>\n",
       "    </tr>\n",
       "    <tr>\n",
       "      <th>2</th>\n",
       "      <td>0.105263</td>\n",
       "      <td>4</td>\n",
       "      <td>1</td>\n",
       "      <td>0.028025</td>\n",
       "      <td>1</td>\n",
       "      <td>1</td>\n",
       "      <td>0.334320</td>\n",
       "      <td>1</td>\n",
       "      <td>2</td>\n",
       "      <td>2004</td>\n",
       "      <td>8</td>\n",
       "      <td>6</td>\n",
       "    </tr>\n",
       "  </tbody>\n",
       "</table>\n",
       "</div>"
      ],
      "text/plain": [
       "      budget  genres  original_language  popularity  production_companies  \\\n",
       "id                                                                          \n",
       "1   0.036842       1                  1    0.022340                     3   \n",
       "2   0.105263       4                  1    0.028025                     1   \n",
       "\n",
       "    production_countries   runtime  spoken_languages  status  release_year  \\\n",
       "id                                                                           \n",
       "1                      1  0.275148                 1       2          2015   \n",
       "2                      1  0.334320                 1       2          2004   \n",
       "\n",
       "    release_month  release_day  \n",
       "id                              \n",
       "1               2           20  \n",
       "2               8            6  "
      ]
     },
     "execution_count": 138,
     "metadata": {},
     "output_type": "execute_result"
    }
   ],
   "source": [
    "# 학습 데이터\n",
    "X_train = train[feature_names]\n",
    "print(X_train.shape)\n",
    "X_train.head(2)"
   ]
  },
  {
   "cell_type": "code",
   "execution_count": 139,
   "id": "ece55c2e",
   "metadata": {},
   "outputs": [
    {
     "name": "stdout",
     "output_type": "stream",
     "text": [
      "(3000,)\n"
     ]
    },
    {
     "data": {
      "text/plain": [
       "id\n",
       "1    16.326300\n",
       "2    18.370959\n",
       "Name: revenue, dtype: float64"
      ]
     },
     "execution_count": 139,
     "metadata": {},
     "output_type": "execute_result"
    }
   ],
   "source": [
    "# 학습 데이터 정답\n",
    "y_train = train[label_name]\n",
    "print(y_train.shape)\n",
    "y_train.head(2)"
   ]
  },
  {
   "cell_type": "code",
   "execution_count": 140,
   "id": "506f86cf",
   "metadata": {
    "scrolled": false
   },
   "outputs": [
    {
     "name": "stdout",
     "output_type": "stream",
     "text": [
      "(4398, 12)\n"
     ]
    },
    {
     "data": {
      "text/html": [
       "<div>\n",
       "<style scoped>\n",
       "    .dataframe tbody tr th:only-of-type {\n",
       "        vertical-align: middle;\n",
       "    }\n",
       "\n",
       "    .dataframe tbody tr th {\n",
       "        vertical-align: top;\n",
       "    }\n",
       "\n",
       "    .dataframe thead th {\n",
       "        text-align: right;\n",
       "    }\n",
       "</style>\n",
       "<table border=\"1\" class=\"dataframe\">\n",
       "  <thead>\n",
       "    <tr style=\"text-align: right;\">\n",
       "      <th></th>\n",
       "      <th>budget</th>\n",
       "      <th>genres</th>\n",
       "      <th>original_language</th>\n",
       "      <th>popularity</th>\n",
       "      <th>production_companies</th>\n",
       "      <th>production_countries</th>\n",
       "      <th>runtime</th>\n",
       "      <th>spoken_languages</th>\n",
       "      <th>status</th>\n",
       "      <th>release_year</th>\n",
       "      <th>release_month</th>\n",
       "      <th>release_day</th>\n",
       "    </tr>\n",
       "    <tr>\n",
       "      <th>id</th>\n",
       "      <th></th>\n",
       "      <th></th>\n",
       "      <th></th>\n",
       "      <th></th>\n",
       "      <th></th>\n",
       "      <th></th>\n",
       "      <th></th>\n",
       "      <th></th>\n",
       "      <th></th>\n",
       "      <th></th>\n",
       "      <th></th>\n",
       "      <th></th>\n",
       "    </tr>\n",
       "  </thead>\n",
       "  <tbody>\n",
       "    <tr>\n",
       "      <th>3001</th>\n",
       "      <td>0.000000</td>\n",
       "      <td>4</td>\n",
       "      <td>7</td>\n",
       "      <td>0.013085</td>\n",
       "      <td>0</td>\n",
       "      <td>2</td>\n",
       "      <td>0.266272</td>\n",
       "      <td>2</td>\n",
       "      <td>2.0</td>\n",
       "      <td>2007.0</td>\n",
       "      <td>7.0</td>\n",
       "      <td>14.0</td>\n",
       "    </tr>\n",
       "    <tr>\n",
       "      <th>3002</th>\n",
       "      <td>0.000232</td>\n",
       "      <td>2</td>\n",
       "      <td>1</td>\n",
       "      <td>0.012094</td>\n",
       "      <td>1</td>\n",
       "      <td>1</td>\n",
       "      <td>0.192308</td>\n",
       "      <td>1</td>\n",
       "      <td>2.0</td>\n",
       "      <td>2058.0</td>\n",
       "      <td>5.0</td>\n",
       "      <td>19.0</td>\n",
       "    </tr>\n",
       "  </tbody>\n",
       "</table>\n",
       "</div>"
      ],
      "text/plain": [
       "        budget  genres  original_language  popularity  production_companies  \\\n",
       "id                                                                            \n",
       "3001  0.000000       4                  7    0.013085                     0   \n",
       "3002  0.000232       2                  1    0.012094                     1   \n",
       "\n",
       "      production_countries   runtime  spoken_languages  status  release_year  \\\n",
       "id                                                                             \n",
       "3001                     2  0.266272                 2     2.0        2007.0   \n",
       "3002                     1  0.192308                 1     2.0        2058.0   \n",
       "\n",
       "      release_month  release_day  \n",
       "id                                \n",
       "3001            7.0         14.0  \n",
       "3002            5.0         19.0  "
      ]
     },
     "execution_count": 140,
     "metadata": {},
     "output_type": "execute_result"
    }
   ],
   "source": [
    "# 예측 데이터\n",
    "X_test = test[feature_names]\n",
    "print(X_test.shape)\n",
    "X_test.head(2)"
   ]
  },
  {
   "cell_type": "markdown",
   "id": "1c846f29",
   "metadata": {},
   "source": [
    "---"
   ]
  },
  {
   "cell_type": "code",
   "execution_count": 141,
   "id": "23187fec",
   "metadata": {
    "scrolled": true
   },
   "outputs": [
    {
     "name": "stdout",
     "output_type": "stream",
     "text": [
      "<class 'pandas.core.frame.DataFrame'>\n",
      "Int64Index: 3000 entries, 1 to 3000\n",
      "Data columns (total 13 columns):\n",
      " #   Column                Non-Null Count  Dtype  \n",
      "---  ------                --------------  -----  \n",
      " 0   budget                3000 non-null   float64\n",
      " 1   genres                3000 non-null   int64  \n",
      " 2   original_language     3000 non-null   int32  \n",
      " 3   popularity            3000 non-null   float64\n",
      " 4   production_companies  3000 non-null   int64  \n",
      " 5   production_countries  3000 non-null   int64  \n",
      " 6   runtime               3000 non-null   float64\n",
      " 7   spoken_languages      3000 non-null   int64  \n",
      " 8   status                3000 non-null   int64  \n",
      " 9   revenue               3000 non-null   float64\n",
      " 10  release_year          3000 non-null   int64  \n",
      " 11  release_month         3000 non-null   int64  \n",
      " 12  release_day           3000 non-null   int64  \n",
      "dtypes: float64(4), int32(1), int64(8)\n",
      "memory usage: 380.9 KB\n"
     ]
    }
   ],
   "source": [
    "train.info()"
   ]
  },
  {
   "cell_type": "code",
   "execution_count": 142,
   "id": "dbe7fe4f",
   "metadata": {},
   "outputs": [
    {
     "name": "stdout",
     "output_type": "stream",
     "text": [
      "<class 'pandas.core.frame.DataFrame'>\n",
      "Int64Index: 4398 entries, 3001 to 7398\n",
      "Data columns (total 12 columns):\n",
      " #   Column                Non-Null Count  Dtype  \n",
      "---  ------                --------------  -----  \n",
      " 0   budget                4398 non-null   float64\n",
      " 1   genres                4398 non-null   int64  \n",
      " 2   original_language     4398 non-null   int32  \n",
      " 3   popularity            4398 non-null   float64\n",
      " 4   production_companies  4398 non-null   int64  \n",
      " 5   production_countries  4398 non-null   int64  \n",
      " 6   runtime               4398 non-null   float64\n",
      " 7   spoken_languages      4398 non-null   int64  \n",
      " 8   status                4398 non-null   float64\n",
      " 9   release_year          4398 non-null   float64\n",
      " 10  release_month         4398 non-null   float64\n",
      " 11  release_day           4398 non-null   float64\n",
      "dtypes: float64(7), int32(1), int64(4)\n",
      "memory usage: 429.5 KB\n"
     ]
    }
   ],
   "source": [
    "test.info()"
   ]
  },
  {
   "cell_type": "markdown",
   "id": "6dd5847b",
   "metadata": {},
   "source": [
    "---"
   ]
  },
  {
   "cell_type": "markdown",
   "id": "eab3a1a9",
   "metadata": {},
   "source": [
    "### 모델"
   ]
  },
  {
   "cell_type": "markdown",
   "id": "735c5ecf",
   "metadata": {},
   "source": [
    "#### Linear regression"
   ]
  },
  {
   "cell_type": "code",
   "execution_count": 143,
   "id": "c6112262",
   "metadata": {
    "scrolled": false
   },
   "outputs": [
    {
     "data": {
      "text/plain": [
       "array([13.42515985, 13.3284782 , 15.48756047, 15.18640182, 14.46041534])"
      ]
     },
     "execution_count": 143,
     "metadata": {},
     "output_type": "execute_result"
    }
   ],
   "source": [
    "# 모델 불러오기\n",
    "from sklearn.linear_model import LinearRegression\n",
    "\n",
    "lr = LinearRegression()\n",
    "\n",
    "# 학습\n",
    "lr.fit(X_train, y_train)\n",
    "\n",
    "# 예측\n",
    "y_predict = lr.predict(X_test)\n",
    "y_predict[:5]"
   ]
  },
  {
   "cell_type": "code",
   "execution_count": 144,
   "id": "d7a91f56",
   "metadata": {
    "scrolled": true
   },
   "outputs": [
    {
     "data": {
      "text/html": [
       "<div>\n",
       "<style scoped>\n",
       "    .dataframe tbody tr th:only-of-type {\n",
       "        vertical-align: middle;\n",
       "    }\n",
       "\n",
       "    .dataframe tbody tr th {\n",
       "        vertical-align: top;\n",
       "    }\n",
       "\n",
       "    .dataframe thead th {\n",
       "        text-align: right;\n",
       "    }\n",
       "</style>\n",
       "<table border=\"1\" class=\"dataframe\">\n",
       "  <thead>\n",
       "    <tr style=\"text-align: right;\">\n",
       "      <th></th>\n",
       "      <th>id</th>\n",
       "      <th>revenue</th>\n",
       "    </tr>\n",
       "  </thead>\n",
       "  <tbody>\n",
       "    <tr>\n",
       "      <th>0</th>\n",
       "      <td>3001</td>\n",
       "      <td>676818.465136</td>\n",
       "    </tr>\n",
       "    <tr>\n",
       "      <th>1</th>\n",
       "      <td>3002</td>\n",
       "      <td>614446.151947</td>\n",
       "    </tr>\n",
       "  </tbody>\n",
       "</table>\n",
       "</div>"
      ],
      "text/plain": [
       "     id        revenue\n",
       "0  3001  676818.465136\n",
       "1  3002  614446.151947"
      ]
     },
     "execution_count": 144,
     "metadata": {},
     "output_type": "execute_result"
    }
   ],
   "source": [
    "sub[\"revenue\"] = np.expm1(y_predict)\n",
    "sub.head(2)"
   ]
  },
  {
   "cell_type": "code",
   "execution_count": 145,
   "id": "502eb601",
   "metadata": {},
   "outputs": [],
   "source": [
    "file_name = \"data/LinearRegression.csv\""
   ]
  },
  {
   "cell_type": "code",
   "execution_count": 146,
   "id": "9854777b",
   "metadata": {},
   "outputs": [
    {
     "data": {
      "text/html": [
       "<div>\n",
       "<style scoped>\n",
       "    .dataframe tbody tr th:only-of-type {\n",
       "        vertical-align: middle;\n",
       "    }\n",
       "\n",
       "    .dataframe tbody tr th {\n",
       "        vertical-align: top;\n",
       "    }\n",
       "\n",
       "    .dataframe thead th {\n",
       "        text-align: right;\n",
       "    }\n",
       "</style>\n",
       "<table border=\"1\" class=\"dataframe\">\n",
       "  <thead>\n",
       "    <tr style=\"text-align: right;\">\n",
       "      <th></th>\n",
       "      <th>id</th>\n",
       "      <th>revenue</th>\n",
       "    </tr>\n",
       "  </thead>\n",
       "  <tbody>\n",
       "    <tr>\n",
       "      <th>0</th>\n",
       "      <td>3001</td>\n",
       "      <td>6.768185e+05</td>\n",
       "    </tr>\n",
       "    <tr>\n",
       "      <th>1</th>\n",
       "      <td>3002</td>\n",
       "      <td>6.144462e+05</td>\n",
       "    </tr>\n",
       "    <tr>\n",
       "      <th>2</th>\n",
       "      <td>3003</td>\n",
       "      <td>5.323067e+06</td>\n",
       "    </tr>\n",
       "    <tr>\n",
       "      <th>3</th>\n",
       "      <td>3004</td>\n",
       "      <td>3.938859e+06</td>\n",
       "    </tr>\n",
       "    <tr>\n",
       "      <th>4</th>\n",
       "      <td>3005</td>\n",
       "      <td>1.905805e+06</td>\n",
       "    </tr>\n",
       "    <tr>\n",
       "      <th>...</th>\n",
       "      <td>...</td>\n",
       "      <td>...</td>\n",
       "    </tr>\n",
       "    <tr>\n",
       "      <th>4393</th>\n",
       "      <td>7394</td>\n",
       "      <td>3.727586e+07</td>\n",
       "    </tr>\n",
       "    <tr>\n",
       "      <th>4394</th>\n",
       "      <td>7395</td>\n",
       "      <td>8.974273e+06</td>\n",
       "    </tr>\n",
       "    <tr>\n",
       "      <th>4395</th>\n",
       "      <td>7396</td>\n",
       "      <td>8.887782e+06</td>\n",
       "    </tr>\n",
       "    <tr>\n",
       "      <th>4396</th>\n",
       "      <td>7397</td>\n",
       "      <td>4.093614e+06</td>\n",
       "    </tr>\n",
       "    <tr>\n",
       "      <th>4397</th>\n",
       "      <td>7398</td>\n",
       "      <td>5.453795e+05</td>\n",
       "    </tr>\n",
       "  </tbody>\n",
       "</table>\n",
       "<p>4398 rows × 2 columns</p>\n",
       "</div>"
      ],
      "text/plain": [
       "        id       revenue\n",
       "0     3001  6.768185e+05\n",
       "1     3002  6.144462e+05\n",
       "2     3003  5.323067e+06\n",
       "3     3004  3.938859e+06\n",
       "4     3005  1.905805e+06\n",
       "...    ...           ...\n",
       "4393  7394  3.727586e+07\n",
       "4394  7395  8.974273e+06\n",
       "4395  7396  8.887782e+06\n",
       "4396  7397  4.093614e+06\n",
       "4397  7398  5.453795e+05\n",
       "\n",
       "[4398 rows x 2 columns]"
      ]
     },
     "execution_count": 146,
     "metadata": {},
     "output_type": "execute_result"
    }
   ],
   "source": [
    "sub.to_csv(file_name, index=False)\n",
    "pd.read_csv(file_name)"
   ]
  },
  {
   "cell_type": "markdown",
   "id": "d8a7011a",
   "metadata": {},
   "source": [
    "#### RandomForestRegressor"
   ]
  },
  {
   "cell_type": "code",
   "execution_count": 147,
   "id": "9a7aa68a",
   "metadata": {},
   "outputs": [
    {
     "data": {
      "text/plain": [
       "array([13.79611581, 13.36466841, 15.57603482, 15.12591015, 12.90059505])"
      ]
     },
     "execution_count": 147,
     "metadata": {},
     "output_type": "execute_result"
    }
   ],
   "source": [
    "# 모델 불러오기\n",
    "from sklearn.ensemble import RandomForestRegressor\n",
    "\n",
    "rfr = RandomForestRegressor(random_state=42)\n",
    "\n",
    "# 학습 & 예측\n",
    "y_predict = rfr.fit(X_train, y_train).predict(X_test)\n",
    "y_predict[:5]"
   ]
  },
  {
   "cell_type": "code",
   "execution_count": 148,
   "id": "660e2f0b",
   "metadata": {},
   "outputs": [
    {
     "data": {
      "image/png": "[encoded data removed]",
      "text/plain": [
       "<Figure size 432x288 with 1 Axes>"
      ]
     },
     "metadata": {
      "needs_background": "light"
     },
     "output_type": "display_data"
    }
   ],
   "source": [
    "sns.barplot(x=rfr.feature_importances_, y=rfr.feature_names_in_);"
   ]
  },
  {
   "cell_type": "code",
   "execution_count": 149,
   "id": "29dacf98",
   "metadata": {},
   "outputs": [
    {
     "data": {
      "text/html": [
       "<div>\n",
       "<style scoped>\n",
       "    .dataframe tbody tr th:only-of-type {\n",
       "        vertical-align: middle;\n",
       "    }\n",
       "\n",
       "    .dataframe tbody tr th {\n",
       "        vertical-align: top;\n",
       "    }\n",
       "\n",
       "    .dataframe thead th {\n",
       "        text-align: right;\n",
       "    }\n",
       "</style>\n",
       "<table border=\"1\" class=\"dataframe\">\n",
       "  <thead>\n",
       "    <tr style=\"text-align: right;\">\n",
       "      <th></th>\n",
       "      <th>id</th>\n",
       "      <th>revenue</th>\n",
       "    </tr>\n",
       "  </thead>\n",
       "  <tbody>\n",
       "    <tr>\n",
       "      <th>0</th>\n",
       "      <td>3001</td>\n",
       "      <td>980791.122653</td>\n",
       "    </tr>\n",
       "    <tr>\n",
       "      <th>1</th>\n",
       "      <td>3002</td>\n",
       "      <td>637090.397709</td>\n",
       "    </tr>\n",
       "  </tbody>\n",
       "</table>\n",
       "</div>"
      ],
      "text/plain": [
       "     id        revenue\n",
       "0  3001  980791.122653\n",
       "1  3002  637090.397709"
      ]
     },
     "execution_count": 149,
     "metadata": {},
     "output_type": "execute_result"
    }
   ],
   "source": [
    "sub[\"revenue\"] = np.expm1(y_predict)\n",
    "sub.head(2)"
   ]
  },
  {
   "cell_type": "code",
   "execution_count": 150,
   "id": "b00459e4",
   "metadata": {
    "scrolled": false
   },
   "outputs": [
    {
     "data": {
      "text/html": [
       "<div>\n",
       "<style scoped>\n",
       "    .dataframe tbody tr th:only-of-type {\n",
       "        vertical-align: middle;\n",
       "    }\n",
       "\n",
       "    .dataframe tbody tr th {\n",
       "        vertical-align: top;\n",
       "    }\n",
       "\n",
       "    .dataframe thead th {\n",
       "        text-align: right;\n",
       "    }\n",
       "</style>\n",
       "<table border=\"1\" class=\"dataframe\">\n",
       "  <thead>\n",
       "    <tr style=\"text-align: right;\">\n",
       "      <th></th>\n",
       "      <th>id</th>\n",
       "      <th>revenue</th>\n",
       "    </tr>\n",
       "  </thead>\n",
       "  <tbody>\n",
       "    <tr>\n",
       "      <th>0</th>\n",
       "      <td>3001</td>\n",
       "      <td>9.807911e+05</td>\n",
       "    </tr>\n",
       "    <tr>\n",
       "      <th>1</th>\n",
       "      <td>3002</td>\n",
       "      <td>6.370904e+05</td>\n",
       "    </tr>\n",
       "    <tr>\n",
       "      <th>2</th>\n",
       "      <td>3003</td>\n",
       "      <td>5.815484e+06</td>\n",
       "    </tr>\n",
       "    <tr>\n",
       "      <th>3</th>\n",
       "      <td>3004</td>\n",
       "      <td>3.707654e+06</td>\n",
       "    </tr>\n",
       "    <tr>\n",
       "      <th>4</th>\n",
       "      <td>3005</td>\n",
       "      <td>4.005495e+05</td>\n",
       "    </tr>\n",
       "    <tr>\n",
       "      <th>...</th>\n",
       "      <td>...</td>\n",
       "      <td>...</td>\n",
       "    </tr>\n",
       "    <tr>\n",
       "      <th>4393</th>\n",
       "      <td>7394</td>\n",
       "      <td>1.047111e+08</td>\n",
       "    </tr>\n",
       "    <tr>\n",
       "      <th>4394</th>\n",
       "      <td>7395</td>\n",
       "      <td>2.622728e+07</td>\n",
       "    </tr>\n",
       "    <tr>\n",
       "      <th>4395</th>\n",
       "      <td>7396</td>\n",
       "      <td>4.197314e+07</td>\n",
       "    </tr>\n",
       "    <tr>\n",
       "      <th>4396</th>\n",
       "      <td>7397</td>\n",
       "      <td>5.249290e+06</td>\n",
       "    </tr>\n",
       "    <tr>\n",
       "      <th>4397</th>\n",
       "      <td>7398</td>\n",
       "      <td>1.389945e+06</td>\n",
       "    </tr>\n",
       "  </tbody>\n",
       "</table>\n",
       "<p>4398 rows × 2 columns</p>\n",
       "</div>"
      ],
      "text/plain": [
       "        id       revenue\n",
       "0     3001  9.807911e+05\n",
       "1     3002  6.370904e+05\n",
       "2     3003  5.815484e+06\n",
       "3     3004  3.707654e+06\n",
       "4     3005  4.005495e+05\n",
       "...    ...           ...\n",
       "4393  7394  1.047111e+08\n",
       "4394  7395  2.622728e+07\n",
       "4395  7396  4.197314e+07\n",
       "4396  7397  5.249290e+06\n",
       "4397  7398  1.389945e+06\n",
       "\n",
       "[4398 rows x 2 columns]"
      ]
     },
     "execution_count": 150,
     "metadata": {},
     "output_type": "execute_result"
    }
   ],
   "source": [
    "file_name = \"data/RandomForestRegressor.csv\"\n",
    "sub.to_csv(file_name, index=False)\n",
    "pd.read_csv(file_name)"
   ]
  },
  {
   "cell_type": "markdown",
   "id": "b89e2e7d",
   "metadata": {},
   "source": [
    "#### RandomForestRegressor - RandomizedSearchCV"
   ]
  },
  {
   "cell_type": "code",
   "execution_count": 180,
   "id": "5f8fc575",
   "metadata": {},
   "outputs": [],
   "source": [
    "from sklearn.ensemble import RandomForestRegressor\n",
    "\n",
    "model = RandomForestRegressor(random_state=42)"
   ]
  },
  {
   "cell_type": "code",
   "execution_count": 187,
   "id": "de0b2014",
   "metadata": {
    "scrolled": true
   },
   "outputs": [
    {
     "name": "stdout",
     "output_type": "stream",
     "text": [
      "Fitting 5 folds for each of 10 candidates, totalling 50 fits\n",
      "[CV] END ......max_depth=11, max_features=0.6454863655229995; total time=   0.3s\n",
      "[CV] END ......max_depth=11, max_features=0.6454863655229995; total time=   0.3s\n",
      "[CV] END ......max_depth=11, max_features=0.6454863655229995; total time=   0.3s\n",
      "[CV] END ......max_depth=11, max_features=0.6454863655229995; total time=   0.3s\n",
      "[CV] END ......max_depth=11, max_features=0.6454863655229995; total time=   0.3s\n",
      "[CV] END ........max_depth=12, max_features=0.36224684023208; total time=   0.2s\n",
      "[CV] END ........max_depth=12, max_features=0.36224684023208; total time=   0.2s\n",
      "[CV] END ........max_depth=12, max_features=0.36224684023208; total time=   0.2s\n",
      "[CV] END ........max_depth=12, max_features=0.36224684023208; total time=   0.2s\n",
      "[CV] END ........max_depth=12, max_features=0.36224684023208; total time=   0.2s\n",
      "[CV] END .....max_depth=11, max_features=0.46229887464604524; total time=   0.2s\n",
      "[CV] END .....max_depth=11, max_features=0.46229887464604524; total time=   0.2s\n",
      "[CV] END .....max_depth=11, max_features=0.46229887464604524; total time=   0.2s\n",
      "[CV] END .....max_depth=11, max_features=0.46229887464604524; total time=   0.2s\n",
      "[CV] END .....max_depth=11, max_features=0.46229887464604524; total time=   0.2s\n",
      "[CV] END .....max_depth=18, max_features=0.09050316479471932; total time=   0.1s\n",
      "[CV] END .....max_depth=18, max_features=0.09050316479471932; total time=   0.1s\n",
      "[CV] END .....max_depth=18, max_features=0.09050316479471932; total time=   0.2s\n",
      "[CV] END .....max_depth=18, max_features=0.09050316479471932; total time=   0.2s\n",
      "[CV] END .....max_depth=18, max_features=0.09050316479471932; total time=   0.2s\n",
      "[CV] END ......max_depth=11, max_features=0.7800473075634835; total time=   0.5s\n",
      "[CV] END ......max_depth=11, max_features=0.7800473075634835; total time=   0.4s\n",
      "[CV] END ......max_depth=11, max_features=0.7800473075634835; total time=   0.4s\n",
      "[CV] END ......max_depth=11, max_features=0.7800473075634835; total time=   0.4s\n",
      "[CV] END ......max_depth=11, max_features=0.7800473075634835; total time=   0.5s\n",
      "[CV] END .......max_depth=11, max_features=0.778019672000553; total time=   0.5s\n",
      "[CV] END .......max_depth=11, max_features=0.778019672000553; total time=   0.4s\n",
      "[CV] END .......max_depth=11, max_features=0.778019672000553; total time=   0.4s\n",
      "[CV] END .......max_depth=11, max_features=0.778019672000553; total time=   0.4s\n",
      "[CV] END .......max_depth=11, max_features=0.778019672000553; total time=   0.4s\n",
      "[CV] END .....max_depth=11, max_features=0.03034274893210054; total time=   0.1s\n",
      "[CV] END .....max_depth=11, max_features=0.03034274893210054; total time=   0.1s\n",
      "[CV] END .....max_depth=11, max_features=0.03034274893210054; total time=   0.1s\n",
      "[CV] END .....max_depth=11, max_features=0.03034274893210054; total time=   0.1s\n",
      "[CV] END .....max_depth=11, max_features=0.03034274893210054; total time=   0.1s\n",
      "[CV] END .....max_depth=11, max_features=0.46229887464604524; total time=   0.3s\n",
      "[CV] END .....max_depth=11, max_features=0.46229887464604524; total time=   0.2s\n",
      "[CV] END .....max_depth=11, max_features=0.46229887464604524; total time=   0.2s\n",
      "[CV] END .....max_depth=11, max_features=0.46229887464604524; total time=   0.2s\n",
      "[CV] END .....max_depth=11, max_features=0.46229887464604524; total time=   0.2s\n",
      "[CV] END ......max_depth=12, max_features=0.8372989550881702; total time=   0.5s\n",
      "[CV] END ......max_depth=12, max_features=0.8372989550881702; total time=   0.4s\n",
      "[CV] END ......max_depth=12, max_features=0.8372989550881702; total time=   0.5s\n",
      "[CV] END ......max_depth=12, max_features=0.8372989550881702; total time=   0.5s\n",
      "[CV] END ......max_depth=12, max_features=0.8372989550881702; total time=   0.5s\n",
      "[CV] END ......max_depth=14, max_features=0.3092631644047924; total time=   0.2s\n",
      "[CV] END ......max_depth=14, max_features=0.3092631644047924; total time=   0.2s\n",
      "[CV] END ......max_depth=14, max_features=0.3092631644047924; total time=   0.2s\n",
      "[CV] END ......max_depth=14, max_features=0.3092631644047924; total time=   0.2s\n",
      "[CV] END ......max_depth=14, max_features=0.3092631644047924; total time=   0.2s\n"
     ]
    },
    {
     "data": {
      "text/html": [
       "<style>#sk-container-id-8 {color: black;background-color: white;}#sk-container-id-8 pre{padding: 0;}#sk-container-id-8 div.sk-toggleable {background-color: white;}#sk-container-id-8 label.sk-toggleable__label {cursor: pointer;display: block;width: 100%;margin-bottom: 0;padding: 0.3em;box-sizing: border-box;text-align: center;}#sk-container-id-8 label.sk-toggleable__label-arrow:before {content: \"▸\";float: left;margin-right: 0.25em;color: #696969;}#sk-container-id-8 label.sk-toggleable__label-arrow:hover:before {color: black;}#sk-container-id-8 div.sk-estimator:hover label.sk-toggleable__label-arrow:before {color: black;}#sk-container-id-8 div.sk-toggleable__content {max-height: 0;max-width: 0;overflow: hidden;text-align: left;background-color: #f0f8ff;}#sk-container-id-8 div.sk-toggleable__content pre {margin: 0.2em;color: black;border-radius: 0.25em;background-color: #f0f8ff;}#sk-container-id-8 input.sk-toggleable__control:checked~div.sk-toggleable__content {max-height: 200px;max-width: 100%;overflow: auto;}#sk-container-id-8 input.sk-toggleable__control:checked~label.sk-toggleable__label-arrow:before {content: \"▾\";}#sk-container-id-8 div.sk-estimator input.sk-toggleable__control:checked~label.sk-toggleable__label {background-color: #d4ebff;}#sk-container-id-8 div.sk-label input.sk-toggleable__control:checked~label.sk-toggleable__label {background-color: #d4ebff;}#sk-container-id-8 input.sk-hidden--visually {border: 0;clip: rect(1px 1px 1px 1px);clip: rect(1px, 1px, 1px, 1px);height: 1px;margin: -1px;overflow: hidden;padding: 0;position: absolute;width: 1px;}#sk-container-id-8 div.sk-estimator {font-family: monospace;background-color: #f0f8ff;border: 1px dotted black;border-radius: 0.25em;box-sizing: border-box;margin-bottom: 0.5em;}#sk-container-id-8 div.sk-estimator:hover {background-color: #d4ebff;}#sk-container-id-8 div.sk-parallel-item::after {content: \"\";width: 100%;border-bottom: 1px solid gray;flex-grow: 1;}#sk-container-id-8 div.sk-label:hover label.sk-toggleable__label {background-color: #d4ebff;}#sk-container-id-8 div.sk-serial::before {content: \"\";position: absolute;border-left: 1px solid gray;box-sizing: border-box;top: 0;bottom: 0;left: 50%;z-index: 0;}#sk-container-id-8 div.sk-serial {display: flex;flex-direction: column;align-items: center;background-color: white;padding-right: 0.2em;padding-left: 0.2em;position: relative;}#sk-container-id-8 div.sk-item {position: relative;z-index: 1;}#sk-container-id-8 div.sk-parallel {display: flex;align-items: stretch;justify-content: center;background-color: white;position: relative;}#sk-container-id-8 div.sk-item::before, #sk-container-id-8 div.sk-parallel-item::before {content: \"\";position: absolute;border-left: 1px solid gray;box-sizing: border-box;top: 0;bottom: 0;left: 50%;z-index: -1;}#sk-container-id-8 div.sk-parallel-item {display: flex;flex-direction: column;z-index: 1;position: relative;background-color: white;}#sk-container-id-8 div.sk-parallel-item:first-child::after {align-self: flex-end;width: 50%;}#sk-container-id-8 div.sk-parallel-item:last-child::after {align-self: flex-start;width: 50%;}#sk-container-id-8 div.sk-parallel-item:only-child::after {width: 0;}#sk-container-id-8 div.sk-dashed-wrapped {border: 1px dashed gray;margin: 0 0.4em 0.5em 0.4em;box-sizing: border-box;padding-bottom: 0.4em;background-color: white;}#sk-container-id-8 div.sk-label label {font-family: monospace;font-weight: bold;display: inline-block;line-height: 1.2em;}#sk-container-id-8 div.sk-label-container {text-align: center;}#sk-container-id-8 div.sk-container {/* jupyter's `normalize.less` sets `[hidden] { display: none; }` but bootstrap.min.css set `[hidden] { display: none !important; }` so we also need the `!important` here to be able to override the default hidden behavior on the sphinx rendered scikit-learn.org. See: https://github.com/scikit-learn/scikit-learn/issues/21755 */display: inline-block !important;position: relative;}#sk-container-id-8 div.sk-text-repr-fallback {display: none;}</style><div id=\"sk-container-id-8\" class=\"sk-top-container\"><div class=\"sk-text-repr-fallback\"><pre>RandomizedSearchCV(cv=5, estimator=RandomForestRegressor(),\n",
       "                   param_distributions={&#x27;max_depth&#x27;: array([18, 12, 11, 18, 18, 10, 13, 11,  3, 14]),\n",
       "                                        &#x27;max_features&#x27;: array([0.30926316, 0.85652934, 0.33276067, 0.09591557, 0.78004731,\n",
       "       0.09050316, 0.9956672 , 0.11913451, 0.51632829, 0.71343963,\n",
       "       0.86855148, 0.64548637, 0.0327072 , 0.11893461, 0.44696798,\n",
       "       0.33034928, 0.56683778, 0.47048841, 0.8...\n",
       "       0.07440805, 0.87992434, 0.92227809, 0.36224684, 0.46229887,\n",
       "       0.44247104, 0.52882208, 0.03034275, 0.86803848, 0.9937213 ,\n",
       "       0.17564721, 0.43751624, 0.81839535, 0.31257366, 0.78701765,\n",
       "       0.30676916, 0.19918532, 0.86914223, 0.2794025 , 0.45883269,\n",
       "       0.96237335, 0.38400512, 0.3635401 , 0.74620089, 0.77801967,\n",
       "       0.29963301, 0.35198175, 0.79864338, 0.82075372, 0.35739053])},\n",
       "                   random_state=42, scoring=&#x27;neg_root_mean_squared_error&#x27;,\n",
       "                   verbose=2)</pre><b>In a Jupyter environment, please rerun this cell to show the HTML representation or trust the notebook. <br />On GitHub, the HTML representation is unable to render, please try loading this page with nbviewer.org.</b></div><div class=\"sk-container\" hidden><div class=\"sk-item sk-dashed-wrapped\"><div class=\"sk-label-container\"><div class=\"sk-label sk-toggleable\"><input class=\"sk-toggleable__control sk-hidden--visually\" id=\"sk-estimator-id-20\" type=\"checkbox\" ><label for=\"sk-estimator-id-20\" class=\"sk-toggleable__label sk-toggleable__label-arrow\">RandomizedSearchCV</label><div class=\"sk-toggleable__content\"><pre>RandomizedSearchCV(cv=5, estimator=RandomForestRegressor(),\n",
       "                   param_distributions={&#x27;max_depth&#x27;: array([18, 12, 11, 18, 18, 10, 13, 11,  3, 14]),\n",
       "                                        &#x27;max_features&#x27;: array([0.30926316, 0.85652934, 0.33276067, 0.09591557, 0.78004731,\n",
       "       0.09050316, 0.9956672 , 0.11913451, 0.51632829, 0.71343963,\n",
       "       0.86855148, 0.64548637, 0.0327072 , 0.11893461, 0.44696798,\n",
       "       0.33034928, 0.56683778, 0.47048841, 0.8...\n",
       "       0.07440805, 0.87992434, 0.92227809, 0.36224684, 0.46229887,\n",
       "       0.44247104, 0.52882208, 0.03034275, 0.86803848, 0.9937213 ,\n",
       "       0.17564721, 0.43751624, 0.81839535, 0.31257366, 0.78701765,\n",
       "       0.30676916, 0.19918532, 0.86914223, 0.2794025 , 0.45883269,\n",
       "       0.96237335, 0.38400512, 0.3635401 , 0.74620089, 0.77801967,\n",
       "       0.29963301, 0.35198175, 0.79864338, 0.82075372, 0.35739053])},\n",
       "                   random_state=42, scoring=&#x27;neg_root_mean_squared_error&#x27;,\n",
       "                   verbose=2)</pre></div></div></div><div class=\"sk-parallel\"><div class=\"sk-parallel-item\"><div class=\"sk-item\"><div class=\"sk-label-container\"><div class=\"sk-label sk-toggleable\"><input class=\"sk-toggleable__control sk-hidden--visually\" id=\"sk-estimator-id-21\" type=\"checkbox\" ><label for=\"sk-estimator-id-21\" class=\"sk-toggleable__label sk-toggleable__label-arrow\">estimator: RandomForestRegressor</label><div class=\"sk-toggleable__content\"><pre>RandomForestRegressor()</pre></div></div></div><div class=\"sk-serial\"><div class=\"sk-item\"><div class=\"sk-estimator sk-toggleable\"><input class=\"sk-toggleable__control sk-hidden--visually\" id=\"sk-estimator-id-22\" type=\"checkbox\" ><label for=\"sk-estimator-id-22\" class=\"sk-toggleable__label sk-toggleable__label-arrow\">RandomForestRegressor</label><div class=\"sk-toggleable__content\"><pre>RandomForestRegressor()</pre></div></div></div></div></div></div></div></div></div></div>"
      ],
      "text/plain": [
       "RandomizedSearchCV(cv=5, estimator=RandomForestRegressor(),\n",
       "                   param_distributions={'max_depth': array([18, 12, 11, 18, 18, 10, 13, 11,  3, 14]),\n",
       "                                        'max_features': array([0.30926316, 0.85652934, 0.33276067, 0.09591557, 0.78004731,\n",
       "       0.09050316, 0.9956672 , 0.11913451, 0.51632829, 0.71343963,\n",
       "       0.86855148, 0.64548637, 0.0327072 , 0.11893461, 0.44696798,\n",
       "       0.33034928, 0.56683778, 0.47048841, 0.8...\n",
       "       0.07440805, 0.87992434, 0.92227809, 0.36224684, 0.46229887,\n",
       "       0.44247104, 0.52882208, 0.03034275, 0.86803848, 0.9937213 ,\n",
       "       0.17564721, 0.43751624, 0.81839535, 0.31257366, 0.78701765,\n",
       "       0.30676916, 0.19918532, 0.86914223, 0.2794025 , 0.45883269,\n",
       "       0.96237335, 0.38400512, 0.3635401 , 0.74620089, 0.77801967,\n",
       "       0.29963301, 0.35198175, 0.79864338, 0.82075372, 0.35739053])},\n",
       "                   random_state=42, scoring='neg_root_mean_squared_error',\n",
       "                   verbose=2)"
      ]
     },
     "execution_count": 187,
     "metadata": {},
     "output_type": "execute_result"
    }
   ],
   "source": [
    "from sklearn.model_selection import RandomizedSearchCV\n",
    "\n",
    "param_distributions = {\"max_depth\":np.random.randint(3, 20, 10),\n",
    "                       \"max_features\": np.random.uniform(0, 1, 50)}\n",
    "\n",
    "reg = RandomizedSearchCV(model, \n",
    "                         param_distributions=param_distributions, \n",
    "                         scoring=\"neg_root_mean_squared_error\",\n",
    "                         n_iter=10, cv=5,\n",
    "                         verbose=2, random_state=42)\n",
    "\n",
    "reg.fit(X_train, y_train)"
   ]
  },
  {
   "cell_type": "code",
   "execution_count": 188,
   "id": "4919e726",
   "metadata": {},
   "outputs": [
    {
     "data": {
      "text/plain": [
       "2.1797491848367327"
      ]
     },
     "execution_count": 188,
     "metadata": {},
     "output_type": "execute_result"
    }
   ],
   "source": [
    "rmsle = abs(reg.best_score_)\n",
    "rmsle"
   ]
  },
  {
   "cell_type": "code",
   "execution_count": 189,
   "id": "508de88c",
   "metadata": {},
   "outputs": [
    {
     "data": {
      "text/plain": [
       "array([13.82077541, 13.09478951, 15.42988223, ..., 17.51658792,\n",
       "       15.57323882, 13.78261317])"
      ]
     },
     "execution_count": 189,
     "metadata": {},
     "output_type": "execute_result"
    }
   ],
   "source": [
    "best_model = reg.best_estimator_\n",
    "\n",
    "y_predict = best_model.fit(X_train, y_train).predict(X_test)\n",
    "y_predict"
   ]
  },
  {
   "cell_type": "code",
   "execution_count": 190,
   "id": "991962f6",
   "metadata": {},
   "outputs": [
    {
     "data": {
      "text/html": [
       "<div>\n",
       "<style scoped>\n",
       "    .dataframe tbody tr th:only-of-type {\n",
       "        vertical-align: middle;\n",
       "    }\n",
       "\n",
       "    .dataframe tbody tr th {\n",
       "        vertical-align: top;\n",
       "    }\n",
       "\n",
       "    .dataframe thead th {\n",
       "        text-align: right;\n",
       "    }\n",
       "</style>\n",
       "<table border=\"1\" class=\"dataframe\">\n",
       "  <thead>\n",
       "    <tr style=\"text-align: right;\">\n",
       "      <th></th>\n",
       "      <th>id</th>\n",
       "      <th>revenue</th>\n",
       "    </tr>\n",
       "  </thead>\n",
       "  <tbody>\n",
       "    <tr>\n",
       "      <th>0</th>\n",
       "      <td>3001</td>\n",
       "      <td>1.005278e+06</td>\n",
       "    </tr>\n",
       "    <tr>\n",
       "      <th>1</th>\n",
       "      <td>3002</td>\n",
       "      <td>4.864004e+05</td>\n",
       "    </tr>\n",
       "  </tbody>\n",
       "</table>\n",
       "</div>"
      ],
      "text/plain": [
       "     id       revenue\n",
       "0  3001  1.005278e+06\n",
       "1  3002  4.864004e+05"
      ]
     },
     "execution_count": 190,
     "metadata": {},
     "output_type": "execute_result"
    }
   ],
   "source": [
    "sub[\"revenue\"] = np.expm1(y_predict)\n",
    "sub.head(2)"
   ]
  },
  {
   "cell_type": "code",
   "execution_count": 191,
   "id": "08f3fcfd",
   "metadata": {},
   "outputs": [
    {
     "data": {
      "text/html": [
       "<div>\n",
       "<style scoped>\n",
       "    .dataframe tbody tr th:only-of-type {\n",
       "        vertical-align: middle;\n",
       "    }\n",
       "\n",
       "    .dataframe tbody tr th {\n",
       "        vertical-align: top;\n",
       "    }\n",
       "\n",
       "    .dataframe thead th {\n",
       "        text-align: right;\n",
       "    }\n",
       "</style>\n",
       "<table border=\"1\" class=\"dataframe\">\n",
       "  <thead>\n",
       "    <tr style=\"text-align: right;\">\n",
       "      <th></th>\n",
       "      <th>id</th>\n",
       "      <th>revenue</th>\n",
       "    </tr>\n",
       "  </thead>\n",
       "  <tbody>\n",
       "    <tr>\n",
       "      <th>0</th>\n",
       "      <td>3001</td>\n",
       "      <td>1.005278e+06</td>\n",
       "    </tr>\n",
       "    <tr>\n",
       "      <th>1</th>\n",
       "      <td>3002</td>\n",
       "      <td>4.864004e+05</td>\n",
       "    </tr>\n",
       "    <tr>\n",
       "      <th>2</th>\n",
       "      <td>3003</td>\n",
       "      <td>5.024729e+06</td>\n",
       "    </tr>\n",
       "    <tr>\n",
       "      <th>3</th>\n",
       "      <td>3004</td>\n",
       "      <td>8.480273e+06</td>\n",
       "    </tr>\n",
       "    <tr>\n",
       "      <th>4</th>\n",
       "      <td>3005</td>\n",
       "      <td>2.831350e+05</td>\n",
       "    </tr>\n",
       "    <tr>\n",
       "      <th>...</th>\n",
       "      <td>...</td>\n",
       "      <td>...</td>\n",
       "    </tr>\n",
       "    <tr>\n",
       "      <th>4393</th>\n",
       "      <td>7394</td>\n",
       "      <td>6.435034e+07</td>\n",
       "    </tr>\n",
       "    <tr>\n",
       "      <th>4394</th>\n",
       "      <td>7395</td>\n",
       "      <td>2.674454e+07</td>\n",
       "    </tr>\n",
       "    <tr>\n",
       "      <th>4395</th>\n",
       "      <td>7396</td>\n",
       "      <td>4.049090e+07</td>\n",
       "    </tr>\n",
       "    <tr>\n",
       "      <th>4396</th>\n",
       "      <td>7397</td>\n",
       "      <td>5.799247e+06</td>\n",
       "    </tr>\n",
       "    <tr>\n",
       "      <th>4397</th>\n",
       "      <td>7398</td>\n",
       "      <td>9.676368e+05</td>\n",
       "    </tr>\n",
       "  </tbody>\n",
       "</table>\n",
       "<p>4398 rows × 2 columns</p>\n",
       "</div>"
      ],
      "text/plain": [
       "        id       revenue\n",
       "0     3001  1.005278e+06\n",
       "1     3002  4.864004e+05\n",
       "2     3003  5.024729e+06\n",
       "3     3004  8.480273e+06\n",
       "4     3005  2.831350e+05\n",
       "...    ...           ...\n",
       "4393  7394  6.435034e+07\n",
       "4394  7395  2.674454e+07\n",
       "4395  7396  4.049090e+07\n",
       "4396  7397  5.799247e+06\n",
       "4397  7398  9.676368e+05\n",
       "\n",
       "[4398 rows x 2 columns]"
      ]
     },
     "execution_count": 191,
     "metadata": {},
     "output_type": "execute_result"
    }
   ],
   "source": [
    "file_name = \"data/RandomForestRegressor_randomsearch.csv\"\n",
    "sub.to_csv(file_name, index=False)\n",
    "pd.read_csv(file_name)"
   ]
  },
  {
   "cell_type": "markdown",
   "id": "df9c713c",
   "metadata": {},
   "source": [
    "#### Ridge"
   ]
  },
  {
   "cell_type": "code",
   "execution_count": 152,
   "id": "f7286ffa",
   "metadata": {},
   "outputs": [
    {
     "data": {
      "text/plain": [
       "array([13.41904383, 13.38866493, 15.50593209, 15.17194341, 14.47662099])"
      ]
     },
     "execution_count": 152,
     "metadata": {},
     "output_type": "execute_result"
    }
   ],
   "source": [
    "from sklearn.linear_model import Ridge\n",
    "\n",
    "ridge = Ridge(random_state=42)\n",
    "\n",
    "# 학습\n",
    "ridge.fit(X_train, y_train)\n",
    "\n",
    "# 예측\n",
    "y_predict = ridge.predict(X_test)\n",
    "y_predict[:5]"
   ]
  },
  {
   "cell_type": "code",
   "execution_count": 153,
   "id": "3e2c8434",
   "metadata": {},
   "outputs": [
    {
     "data": {
      "text/html": [
       "<div>\n",
       "<style scoped>\n",
       "    .dataframe tbody tr th:only-of-type {\n",
       "        vertical-align: middle;\n",
       "    }\n",
       "\n",
       "    .dataframe tbody tr th {\n",
       "        vertical-align: top;\n",
       "    }\n",
       "\n",
       "    .dataframe thead th {\n",
       "        text-align: right;\n",
       "    }\n",
       "</style>\n",
       "<table border=\"1\" class=\"dataframe\">\n",
       "  <thead>\n",
       "    <tr style=\"text-align: right;\">\n",
       "      <th></th>\n",
       "      <th>id</th>\n",
       "      <th>revenue</th>\n",
       "    </tr>\n",
       "  </thead>\n",
       "  <tbody>\n",
       "    <tr>\n",
       "      <th>0</th>\n",
       "      <td>3001</td>\n",
       "      <td>672691.656016</td>\n",
       "    </tr>\n",
       "    <tr>\n",
       "      <th>1</th>\n",
       "      <td>3002</td>\n",
       "      <td>652563.284971</td>\n",
       "    </tr>\n",
       "  </tbody>\n",
       "</table>\n",
       "</div>"
      ],
      "text/plain": [
       "     id        revenue\n",
       "0  3001  672691.656016\n",
       "1  3002  652563.284971"
      ]
     },
     "execution_count": 153,
     "metadata": {},
     "output_type": "execute_result"
    }
   ],
   "source": [
    "sub[\"revenue\"] = np.expm1(y_predict)\n",
    "sub.head(2)"
   ]
  },
  {
   "cell_type": "code",
   "execution_count": 156,
   "id": "8adfaf0c",
   "metadata": {},
   "outputs": [
    {
     "data": {
      "text/html": [
       "<div>\n",
       "<style scoped>\n",
       "    .dataframe tbody tr th:only-of-type {\n",
       "        vertical-align: middle;\n",
       "    }\n",
       "\n",
       "    .dataframe tbody tr th {\n",
       "        vertical-align: top;\n",
       "    }\n",
       "\n",
       "    .dataframe thead th {\n",
       "        text-align: right;\n",
       "    }\n",
       "</style>\n",
       "<table border=\"1\" class=\"dataframe\">\n",
       "  <thead>\n",
       "    <tr style=\"text-align: right;\">\n",
       "      <th></th>\n",
       "      <th>id</th>\n",
       "      <th>revenue</th>\n",
       "    </tr>\n",
       "  </thead>\n",
       "  <tbody>\n",
       "    <tr>\n",
       "      <th>0</th>\n",
       "      <td>3001</td>\n",
       "      <td>6.726917e+05</td>\n",
       "    </tr>\n",
       "    <tr>\n",
       "      <th>1</th>\n",
       "      <td>3002</td>\n",
       "      <td>6.525633e+05</td>\n",
       "    </tr>\n",
       "    <tr>\n",
       "      <th>2</th>\n",
       "      <td>3003</td>\n",
       "      <td>5.421765e+06</td>\n",
       "    </tr>\n",
       "    <tr>\n",
       "      <th>3</th>\n",
       "      <td>3004</td>\n",
       "      <td>3.882319e+06</td>\n",
       "    </tr>\n",
       "    <tr>\n",
       "      <th>4</th>\n",
       "      <td>3005</td>\n",
       "      <td>1.936941e+06</td>\n",
       "    </tr>\n",
       "    <tr>\n",
       "      <th>...</th>\n",
       "      <td>...</td>\n",
       "      <td>...</td>\n",
       "    </tr>\n",
       "    <tr>\n",
       "      <th>4393</th>\n",
       "      <td>7394</td>\n",
       "      <td>3.731667e+07</td>\n",
       "    </tr>\n",
       "    <tr>\n",
       "      <th>4394</th>\n",
       "      <td>7395</td>\n",
       "      <td>9.271512e+06</td>\n",
       "    </tr>\n",
       "    <tr>\n",
       "      <th>4395</th>\n",
       "      <td>7396</td>\n",
       "      <td>8.505199e+06</td>\n",
       "    </tr>\n",
       "    <tr>\n",
       "      <th>4396</th>\n",
       "      <td>7397</td>\n",
       "      <td>3.905508e+06</td>\n",
       "    </tr>\n",
       "    <tr>\n",
       "      <th>4397</th>\n",
       "      <td>7398</td>\n",
       "      <td>5.445802e+05</td>\n",
       "    </tr>\n",
       "  </tbody>\n",
       "</table>\n",
       "<p>4398 rows × 2 columns</p>\n",
       "</div>"
      ],
      "text/plain": [
       "        id       revenue\n",
       "0     3001  6.726917e+05\n",
       "1     3002  6.525633e+05\n",
       "2     3003  5.421765e+06\n",
       "3     3004  3.882319e+06\n",
       "4     3005  1.936941e+06\n",
       "...    ...           ...\n",
       "4393  7394  3.731667e+07\n",
       "4394  7395  9.271512e+06\n",
       "4395  7396  8.505199e+06\n",
       "4396  7397  3.905508e+06\n",
       "4397  7398  5.445802e+05\n",
       "\n",
       "[4398 rows x 2 columns]"
      ]
     },
     "execution_count": 156,
     "metadata": {},
     "output_type": "execute_result"
    }
   ],
   "source": [
    "file_name = \"data/Ridge.csv\"\n",
    "sub.to_csv(file_name, index=False)\n",
    "pd.read_csv(file_name)"
   ]
  },
  {
   "cell_type": "markdown",
   "id": "e2fbf165",
   "metadata": {},
   "source": [
    "#### CatBoost"
   ]
  },
  {
   "cell_type": "code",
   "execution_count": 211,
   "id": "be144b1c",
   "metadata": {},
   "outputs": [
    {
     "name": "stdout",
     "output_type": "stream",
     "text": [
      "Learning rate set to 0.048704\n",
      "0:\tlearn: 2.9996960\ttotal: 1.31ms\tremaining: 1.31s\n",
      "100:\tlearn: 2.0107250\ttotal: 115ms\tremaining: 1.02s\n",
      "200:\tlearn: 1.8477985\ttotal: 228ms\tremaining: 906ms\n",
      "300:\tlearn: 1.7235175\ttotal: 346ms\tremaining: 803ms\n",
      "400:\tlearn: 1.6316832\ttotal: 473ms\tremaining: 706ms\n",
      "500:\tlearn: 1.5418958\ttotal: 593ms\tremaining: 591ms\n",
      "600:\tlearn: 1.4595756\ttotal: 717ms\tremaining: 476ms\n",
      "700:\tlearn: 1.3892637\ttotal: 836ms\tremaining: 357ms\n",
      "800:\tlearn: 1.3243817\ttotal: 966ms\tremaining: 240ms\n",
      "900:\tlearn: 1.2661352\ttotal: 1.1s\tremaining: 121ms\n",
      "999:\tlearn: 1.2160123\ttotal: 1.25s\tremaining: 0us\n"
     ]
    },
    {
     "data": {
      "text/plain": [
       "<catboost.core.CatBoostRegressor at 0x13fec6086d0>"
      ]
     },
     "execution_count": 211,
     "metadata": {},
     "output_type": "execute_result"
    }
   ],
   "source": [
    "from catboost import CatBoostRegressor\n",
    "\n",
    "clf = CatBoostRegressor(iterations=1000)\n",
    "\n",
    "# 학습\n",
    "clf.fit(X_train, y_train, verbose=100)"
   ]
  },
  {
   "cell_type": "code",
   "execution_count": 212,
   "id": "51f9c5a8",
   "metadata": {},
   "outputs": [
    {
     "data": {
      "text/plain": [
       "array([15.29130827, 15.03625561, 15.65089967, ..., 17.72885218,\n",
       "       16.0540288 , 13.17906551])"
      ]
     },
     "execution_count": 212,
     "metadata": {},
     "output_type": "execute_result"
    }
   ],
   "source": [
    "cat_pred = clf.predict(X_test)\n",
    "cat_pred"
   ]
  },
  {
   "cell_type": "code",
   "execution_count": 213,
   "id": "3568cc8b",
   "metadata": {},
   "outputs": [
    {
     "data": {
      "text/html": [
       "<div>\n",
       "<style scoped>\n",
       "    .dataframe tbody tr th:only-of-type {\n",
       "        vertical-align: middle;\n",
       "    }\n",
       "\n",
       "    .dataframe tbody tr th {\n",
       "        vertical-align: top;\n",
       "    }\n",
       "\n",
       "    .dataframe thead th {\n",
       "        text-align: right;\n",
       "    }\n",
       "</style>\n",
       "<table border=\"1\" class=\"dataframe\">\n",
       "  <thead>\n",
       "    <tr style=\"text-align: right;\">\n",
       "      <th></th>\n",
       "      <th>id</th>\n",
       "      <th>revenue</th>\n",
       "    </tr>\n",
       "  </thead>\n",
       "  <tbody>\n",
       "    <tr>\n",
       "      <th>0</th>\n",
       "      <td>3001</td>\n",
       "      <td>4.374523e+06</td>\n",
       "    </tr>\n",
       "    <tr>\n",
       "      <th>1</th>\n",
       "      <td>3002</td>\n",
       "      <td>3.389711e+06</td>\n",
       "    </tr>\n",
       "  </tbody>\n",
       "</table>\n",
       "</div>"
      ],
      "text/plain": [
       "     id       revenue\n",
       "0  3001  4.374523e+06\n",
       "1  3002  3.389711e+06"
      ]
     },
     "execution_count": 213,
     "metadata": {},
     "output_type": "execute_result"
    }
   ],
   "source": [
    "sub[\"revenue\"] = np.expm1(cat_pred)\n",
    "sub.head(2)"
   ]
  },
  {
   "cell_type": "code",
   "execution_count": 214,
   "id": "018efc80",
   "metadata": {},
   "outputs": [
    {
     "data": {
      "text/html": [
       "<div>\n",
       "<style scoped>\n",
       "    .dataframe tbody tr th:only-of-type {\n",
       "        vertical-align: middle;\n",
       "    }\n",
       "\n",
       "    .dataframe tbody tr th {\n",
       "        vertical-align: top;\n",
       "    }\n",
       "\n",
       "    .dataframe thead th {\n",
       "        text-align: right;\n",
       "    }\n",
       "</style>\n",
       "<table border=\"1\" class=\"dataframe\">\n",
       "  <thead>\n",
       "    <tr style=\"text-align: right;\">\n",
       "      <th></th>\n",
       "      <th>id</th>\n",
       "      <th>revenue</th>\n",
       "    </tr>\n",
       "  </thead>\n",
       "  <tbody>\n",
       "    <tr>\n",
       "      <th>0</th>\n",
       "      <td>3001</td>\n",
       "      <td>4.374523e+06</td>\n",
       "    </tr>\n",
       "    <tr>\n",
       "      <th>1</th>\n",
       "      <td>3002</td>\n",
       "      <td>3.389711e+06</td>\n",
       "    </tr>\n",
       "    <tr>\n",
       "      <th>2</th>\n",
       "      <td>3003</td>\n",
       "      <td>6.267571e+06</td>\n",
       "    </tr>\n",
       "    <tr>\n",
       "      <th>3</th>\n",
       "      <td>3004</td>\n",
       "      <td>5.151243e+06</td>\n",
       "    </tr>\n",
       "    <tr>\n",
       "      <th>4</th>\n",
       "      <td>3005</td>\n",
       "      <td>2.751463e+05</td>\n",
       "    </tr>\n",
       "    <tr>\n",
       "      <th>...</th>\n",
       "      <td>...</td>\n",
       "      <td>...</td>\n",
       "    </tr>\n",
       "    <tr>\n",
       "      <th>4393</th>\n",
       "      <td>7394</td>\n",
       "      <td>8.959009e+07</td>\n",
       "    </tr>\n",
       "    <tr>\n",
       "      <th>4394</th>\n",
       "      <td>7395</td>\n",
       "      <td>2.201667e+07</td>\n",
       "    </tr>\n",
       "    <tr>\n",
       "      <th>4395</th>\n",
       "      <td>7396</td>\n",
       "      <td>5.006597e+07</td>\n",
       "    </tr>\n",
       "    <tr>\n",
       "      <th>4396</th>\n",
       "      <td>7397</td>\n",
       "      <td>9.379422e+06</td>\n",
       "    </tr>\n",
       "    <tr>\n",
       "      <th>4397</th>\n",
       "      <td>7398</td>\n",
       "      <td>5.291693e+05</td>\n",
       "    </tr>\n",
       "  </tbody>\n",
       "</table>\n",
       "<p>4398 rows × 2 columns</p>\n",
       "</div>"
      ],
      "text/plain": [
       "        id       revenue\n",
       "0     3001  4.374523e+06\n",
       "1     3002  3.389711e+06\n",
       "2     3003  6.267571e+06\n",
       "3     3004  5.151243e+06\n",
       "4     3005  2.751463e+05\n",
       "...    ...           ...\n",
       "4393  7394  8.959009e+07\n",
       "4394  7395  2.201667e+07\n",
       "4395  7396  5.006597e+07\n",
       "4396  7397  9.379422e+06\n",
       "4397  7398  5.291693e+05\n",
       "\n",
       "[4398 rows x 2 columns]"
      ]
     },
     "execution_count": 214,
     "metadata": {},
     "output_type": "execute_result"
    }
   ],
   "source": [
    "file_name = \"data/catboost.csv\"\n",
    "sub.to_csv(file_name, index=False)\n",
    "pd.read_csv(file_name)"
   ]
  },
  {
   "cell_type": "code",
   "execution_count": null,
   "id": "c4674d73",
   "metadata": {},
   "outputs": [],
   "source": []
  }
 ],
 "metadata": {
  "kernelspec": {
   "display_name": "Python 3 (ipykernel)",
   "language": "python",
   "name": "python3"
  },
  "language_info": {
   "codemirror_mode": {
    "name": "ipython",
    "version": 3
   },
   "file_extension": ".py",
   "mimetype": "text/x-python",
   "name": "python",
   "nbconvert_exporter": "python",
   "pygments_lexer": "ipython3",
   "version": "3.9.12"
  }
 },
 "nbformat": 4,
 "nbformat_minor": 5
}
