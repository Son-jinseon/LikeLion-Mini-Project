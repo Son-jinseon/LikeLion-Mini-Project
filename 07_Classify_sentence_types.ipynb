{
  "nbformat": 4,
  "nbformat_minor": 0,
  "metadata": {
    "colab": {
      "provenance": []
    },
    "kernelspec": {
      "name": "python3",
      "display_name": "Python 3"
    },
    "language_info": {
      "name": "python"
    }
  },
  "cells": [
    {
      "cell_type": "code",
      "execution_count": null,
      "metadata": {
        "id": "_0bbLcr7XI1h"
      },
      "outputs": [],
      "source": [
        "import pandas as pd\n",
        "import numpy as np\n",
        "import matplotlib.pyplot as plt\n",
        "import seaborn as sns"
      ]
    },
    {
      "cell_type": "code",
      "source": [
        "base_path = \"drive/MyDrive/mini_project7_RNN/data\""
      ],
      "metadata": {
        "id": "Uteeh2p0cWX9"
      },
      "execution_count": null,
      "outputs": []
    },
    {
      "cell_type": "code",
      "source": [
        "train = pd.read_csv(f\"{base_path}/train.csv\")\n",
        "train = train.drop(columns=\"ID\")\n",
        "print(train.shape)\n",
        "train.head(2)"
      ],
      "metadata": {
        "colab": {
          "base_uri": "https://localhost:8080/",
          "height": 228
        },
        "id": "83_lRsuqc_I9",
        "outputId": "5750e07c-639f-4436-aa39-fcf4576984a8"
      },
      "execution_count": null,
      "outputs": [
        {
          "output_type": "stream",
          "name": "stdout",
          "text": [
            "(16541, 6)\n"
          ]
        },
        {
          "output_type": "execute_result",
          "data": {
            "text/plain": [
              "                                                  문장   유형  극성  시제 확실성  \\\n",
              "0              0.75%포인트 금리 인상은 1994년 이후 28년 만에 처음이다.  사실형  긍정  현재  확실   \n",
              "1  이어 ＂앞으로 전문가들과 함께 4주 단위로 상황을 재평가할 예정＂이라며 ＂그 이전이...  사실형  긍정  과거  확실   \n",
              "\n",
              "          label  \n",
              "0  사실형-긍정-현재-확실  \n",
              "1  사실형-긍정-과거-확실  "
            ],
            "text/html": [
              "\n",
              "  <div id=\"df-71cb4e1e-9f04-4d37-9f12-752575bf4a67\">\n",
              "    <div class=\"colab-df-container\">\n",
              "      <div>\n",
              "<style scoped>\n",
              "    .dataframe tbody tr th:only-of-type {\n",
              "        vertical-align: middle;\n",
              "    }\n",
              "\n",
              "    .dataframe tbody tr th {\n",
              "        vertical-align: top;\n",
              "    }\n",
              "\n",
              "    .dataframe thead th {\n",
              "        text-align: right;\n",
              "    }\n",
              "</style>\n",
              "<table border=\"1\" class=\"dataframe\">\n",
              "  <thead>\n",
              "    <tr style=\"text-align: right;\">\n",
              "      <th></th>\n",
              "      <th>문장</th>\n",
              "      <th>유형</th>\n",
              "      <th>극성</th>\n",
              "      <th>시제</th>\n",
              "      <th>확실성</th>\n",
              "      <th>label</th>\n",
              "    </tr>\n",
              "  </thead>\n",
              "  <tbody>\n",
              "    <tr>\n",
              "      <th>0</th>\n",
              "      <td>0.75%포인트 금리 인상은 1994년 이후 28년 만에 처음이다.</td>\n",
              "      <td>사실형</td>\n",
              "      <td>긍정</td>\n",
              "      <td>현재</td>\n",
              "      <td>확실</td>\n",
              "      <td>사실형-긍정-현재-확실</td>\n",
              "    </tr>\n",
              "    <tr>\n",
              "      <th>1</th>\n",
              "      <td>이어 ＂앞으로 전문가들과 함께 4주 단위로 상황을 재평가할 예정＂이라며 ＂그 이전이...</td>\n",
              "      <td>사실형</td>\n",
              "      <td>긍정</td>\n",
              "      <td>과거</td>\n",
              "      <td>확실</td>\n",
              "      <td>사실형-긍정-과거-확실</td>\n",
              "    </tr>\n",
              "  </tbody>\n",
              "</table>\n",
              "</div>\n",
              "      <button class=\"colab-df-convert\" onclick=\"convertToInteractive('df-71cb4e1e-9f04-4d37-9f12-752575bf4a67')\"\n",
              "              title=\"Convert this dataframe to an interactive table.\"\n",
              "              style=\"display:none;\">\n",
              "        \n",
              "  <svg xmlns=\"http://www.w3.org/2000/svg\" height=\"24px\"viewBox=\"0 0 24 24\"\n",
              "       width=\"24px\">\n",
              "    <path d=\"M0 0h24v24H0V0z\" fill=\"none\"/>\n",
              "    <path d=\"M18.56 5.44l.94 2.06.94-2.06 2.06-.94-2.06-.94-.94-2.06-.94 2.06-2.06.94zm-11 1L8.5 8.5l.94-2.06 2.06-.94-2.06-.94L8.5 2.5l-.94 2.06-2.06.94zm10 10l.94 2.06.94-2.06 2.06-.94-2.06-.94-.94-2.06-.94 2.06-2.06.94z\"/><path d=\"M17.41 7.96l-1.37-1.37c-.4-.4-.92-.59-1.43-.59-.52 0-1.04.2-1.43.59L10.3 9.45l-7.72 7.72c-.78.78-.78 2.05 0 2.83L4 21.41c.39.39.9.59 1.41.59.51 0 1.02-.2 1.41-.59l7.78-7.78 2.81-2.81c.8-.78.8-2.07 0-2.86zM5.41 20L4 18.59l7.72-7.72 1.47 1.35L5.41 20z\"/>\n",
              "  </svg>\n",
              "      </button>\n",
              "      \n",
              "  <style>\n",
              "    .colab-df-container {\n",
              "      display:flex;\n",
              "      flex-wrap:wrap;\n",
              "      gap: 12px;\n",
              "    }\n",
              "\n",
              "    .colab-df-convert {\n",
              "      background-color: #E8F0FE;\n",
              "      border: none;\n",
              "      border-radius: 50%;\n",
              "      cursor: pointer;\n",
              "      display: none;\n",
              "      fill: #1967D2;\n",
              "      height: 32px;\n",
              "      padding: 0 0 0 0;\n",
              "      width: 32px;\n",
              "    }\n",
              "\n",
              "    .colab-df-convert:hover {\n",
              "      background-color: #E2EBFA;\n",
              "      box-shadow: 0px 1px 2px rgba(60, 64, 67, 0.3), 0px 1px 3px 1px rgba(60, 64, 67, 0.15);\n",
              "      fill: #174EA6;\n",
              "    }\n",
              "\n",
              "    [theme=dark] .colab-df-convert {\n",
              "      background-color: #3B4455;\n",
              "      fill: #D2E3FC;\n",
              "    }\n",
              "\n",
              "    [theme=dark] .colab-df-convert:hover {\n",
              "      background-color: #434B5C;\n",
              "      box-shadow: 0px 1px 3px 1px rgba(0, 0, 0, 0.15);\n",
              "      filter: drop-shadow(0px 1px 2px rgba(0, 0, 0, 0.3));\n",
              "      fill: #FFFFFF;\n",
              "    }\n",
              "  </style>\n",
              "\n",
              "      <script>\n",
              "        const buttonEl =\n",
              "          document.querySelector('#df-71cb4e1e-9f04-4d37-9f12-752575bf4a67 button.colab-df-convert');\n",
              "        buttonEl.style.display =\n",
              "          google.colab.kernel.accessAllowed ? 'block' : 'none';\n",
              "\n",
              "        async function convertToInteractive(key) {\n",
              "          const element = document.querySelector('#df-71cb4e1e-9f04-4d37-9f12-752575bf4a67');\n",
              "          const dataTable =\n",
              "            await google.colab.kernel.invokeFunction('convertToInteractive',\n",
              "                                                     [key], {});\n",
              "          if (!dataTable) return;\n",
              "\n",
              "          const docLinkHtml = 'Like what you see? Visit the ' +\n",
              "            '<a target=\"_blank\" href=https://colab.research.google.com/notebooks/data_table.ipynb>data table notebook</a>'\n",
              "            + ' to learn more about interactive tables.';\n",
              "          element.innerHTML = '';\n",
              "          dataTable['output_type'] = 'display_data';\n",
              "          await google.colab.output.renderOutput(dataTable, element);\n",
              "          const docLink = document.createElement('div');\n",
              "          docLink.innerHTML = docLinkHtml;\n",
              "          element.appendChild(docLink);\n",
              "        }\n",
              "      </script>\n",
              "    </div>\n",
              "  </div>\n",
              "  "
            ]
          },
          "metadata": {},
          "execution_count": 3
        }
      ]
    },
    {
      "cell_type": "code",
      "source": [
        "test = pd.read_csv(f\"{base_path}/test.csv\")\n",
        "test = test.drop(columns=\"ID\")\n",
        "print(test.shape)\n",
        "test.head(2)"
      ],
      "metadata": {
        "colab": {
          "base_uri": "https://localhost:8080/",
          "height": 132
        },
        "id": "dfYRvAv9dBCc",
        "outputId": "a996a401-b64e-4ae4-bdc0-02e22c195cb0"
      },
      "execution_count": null,
      "outputs": [
        {
          "output_type": "stream",
          "name": "stdout",
          "text": [
            "(7090, 1)\n"
          ]
        },
        {
          "output_type": "execute_result",
          "data": {
            "text/plain": [
              "                                                  문장\n",
              "0  장욱진의 ＇가족＇은 허물 없는 가족애를, 처음 공개되는 정약용의 ＇정효자전＇과 ＇정...\n",
              "1           조지 W 부시, 버락 오바마 전 대통령도 전쟁 위험 때문에 버린 카드다."
            ],
            "text/html": [
              "\n",
              "  <div id=\"df-a367fc7d-1657-4a4d-a7a8-e7bd8f612ce7\">\n",
              "    <div class=\"colab-df-container\">\n",
              "      <div>\n",
              "<style scoped>\n",
              "    .dataframe tbody tr th:only-of-type {\n",
              "        vertical-align: middle;\n",
              "    }\n",
              "\n",
              "    .dataframe tbody tr th {\n",
              "        vertical-align: top;\n",
              "    }\n",
              "\n",
              "    .dataframe thead th {\n",
              "        text-align: right;\n",
              "    }\n",
              "</style>\n",
              "<table border=\"1\" class=\"dataframe\">\n",
              "  <thead>\n",
              "    <tr style=\"text-align: right;\">\n",
              "      <th></th>\n",
              "      <th>문장</th>\n",
              "    </tr>\n",
              "  </thead>\n",
              "  <tbody>\n",
              "    <tr>\n",
              "      <th>0</th>\n",
              "      <td>장욱진의 ＇가족＇은 허물 없는 가족애를, 처음 공개되는 정약용의 ＇정효자전＇과 ＇정...</td>\n",
              "    </tr>\n",
              "    <tr>\n",
              "      <th>1</th>\n",
              "      <td>조지 W 부시, 버락 오바마 전 대통령도 전쟁 위험 때문에 버린 카드다.</td>\n",
              "    </tr>\n",
              "  </tbody>\n",
              "</table>\n",
              "</div>\n",
              "      <button class=\"colab-df-convert\" onclick=\"convertToInteractive('df-a367fc7d-1657-4a4d-a7a8-e7bd8f612ce7')\"\n",
              "              title=\"Convert this dataframe to an interactive table.\"\n",
              "              style=\"display:none;\">\n",
              "        \n",
              "  <svg xmlns=\"http://www.w3.org/2000/svg\" height=\"24px\"viewBox=\"0 0 24 24\"\n",
              "       width=\"24px\">\n",
              "    <path d=\"M0 0h24v24H0V0z\" fill=\"none\"/>\n",
              "    <path d=\"M18.56 5.44l.94 2.06.94-2.06 2.06-.94-2.06-.94-.94-2.06-.94 2.06-2.06.94zm-11 1L8.5 8.5l.94-2.06 2.06-.94-2.06-.94L8.5 2.5l-.94 2.06-2.06.94zm10 10l.94 2.06.94-2.06 2.06-.94-2.06-.94-.94-2.06-.94 2.06-2.06.94z\"/><path d=\"M17.41 7.96l-1.37-1.37c-.4-.4-.92-.59-1.43-.59-.52 0-1.04.2-1.43.59L10.3 9.45l-7.72 7.72c-.78.78-.78 2.05 0 2.83L4 21.41c.39.39.9.59 1.41.59.51 0 1.02-.2 1.41-.59l7.78-7.78 2.81-2.81c.8-.78.8-2.07 0-2.86zM5.41 20L4 18.59l7.72-7.72 1.47 1.35L5.41 20z\"/>\n",
              "  </svg>\n",
              "      </button>\n",
              "      \n",
              "  <style>\n",
              "    .colab-df-container {\n",
              "      display:flex;\n",
              "      flex-wrap:wrap;\n",
              "      gap: 12px;\n",
              "    }\n",
              "\n",
              "    .colab-df-convert {\n",
              "      background-color: #E8F0FE;\n",
              "      border: none;\n",
              "      border-radius: 50%;\n",
              "      cursor: pointer;\n",
              "      display: none;\n",
              "      fill: #1967D2;\n",
              "      height: 32px;\n",
              "      padding: 0 0 0 0;\n",
              "      width: 32px;\n",
              "    }\n",
              "\n",
              "    .colab-df-convert:hover {\n",
              "      background-color: #E2EBFA;\n",
              "      box-shadow: 0px 1px 2px rgba(60, 64, 67, 0.3), 0px 1px 3px 1px rgba(60, 64, 67, 0.15);\n",
              "      fill: #174EA6;\n",
              "    }\n",
              "\n",
              "    [theme=dark] .colab-df-convert {\n",
              "      background-color: #3B4455;\n",
              "      fill: #D2E3FC;\n",
              "    }\n",
              "\n",
              "    [theme=dark] .colab-df-convert:hover {\n",
              "      background-color: #434B5C;\n",
              "      box-shadow: 0px 1px 3px 1px rgba(0, 0, 0, 0.15);\n",
              "      filter: drop-shadow(0px 1px 2px rgba(0, 0, 0, 0.3));\n",
              "      fill: #FFFFFF;\n",
              "    }\n",
              "  </style>\n",
              "\n",
              "      <script>\n",
              "        const buttonEl =\n",
              "          document.querySelector('#df-a367fc7d-1657-4a4d-a7a8-e7bd8f612ce7 button.colab-df-convert');\n",
              "        buttonEl.style.display =\n",
              "          google.colab.kernel.accessAllowed ? 'block' : 'none';\n",
              "\n",
              "        async function convertToInteractive(key) {\n",
              "          const element = document.querySelector('#df-a367fc7d-1657-4a4d-a7a8-e7bd8f612ce7');\n",
              "          const dataTable =\n",
              "            await google.colab.kernel.invokeFunction('convertToInteractive',\n",
              "                                                     [key], {});\n",
              "          if (!dataTable) return;\n",
              "\n",
              "          const docLinkHtml = 'Like what you see? Visit the ' +\n",
              "            '<a target=\"_blank\" href=https://colab.research.google.com/notebooks/data_table.ipynb>data table notebook</a>'\n",
              "            + ' to learn more about interactive tables.';\n",
              "          element.innerHTML = '';\n",
              "          dataTable['output_type'] = 'display_data';\n",
              "          await google.colab.output.renderOutput(dataTable, element);\n",
              "          const docLink = document.createElement('div');\n",
              "          docLink.innerHTML = docLinkHtml;\n",
              "          element.appendChild(docLink);\n",
              "        }\n",
              "      </script>\n",
              "    </div>\n",
              "  </div>\n",
              "  "
            ]
          },
          "metadata": {},
          "execution_count": 4
        }
      ]
    },
    {
      "cell_type": "code",
      "source": [
        "train[\"유형\"].value_counts()"
      ],
      "metadata": {
        "colab": {
          "base_uri": "https://localhost:8080/"
        },
        "id": "d90dK71jfAHd",
        "outputId": "f9a25a22-97c6-48c0-8a4d-6806a6e768a6"
      },
      "execution_count": null,
      "outputs": [
        {
          "output_type": "execute_result",
          "data": {
            "text/plain": [
              "사실형    13558\n",
              "추론형     2151\n",
              "대화형      575\n",
              "예측형      257\n",
              "Name: 유형, dtype: int64"
            ]
          },
          "metadata": {},
          "execution_count": 5
        }
      ]
    },
    {
      "cell_type": "code",
      "source": [
        "train[\"극성\"].value_counts()"
      ],
      "metadata": {
        "colab": {
          "base_uri": "https://localhost:8080/"
        },
        "id": "wjRAI5MSmjwx",
        "outputId": "99448ebd-1b49-48a0-e60c-91054081c806"
      },
      "execution_count": null,
      "outputs": [
        {
          "output_type": "execute_result",
          "data": {
            "text/plain": [
              "긍정    15793\n",
              "부정      565\n",
              "미정      183\n",
              "Name: 극성, dtype: int64"
            ]
          },
          "metadata": {},
          "execution_count": 6
        }
      ]
    },
    {
      "cell_type": "code",
      "source": [
        "train[\"시제\"].value_counts()"
      ],
      "metadata": {
        "colab": {
          "base_uri": "https://localhost:8080/"
        },
        "id": "iycrJHkimpZv",
        "outputId": "bd2b51f6-721d-4879-fd7b-558b5581a340"
      },
      "execution_count": null,
      "outputs": [
        {
          "output_type": "execute_result",
          "data": {
            "text/plain": [
              "과거    8032\n",
              "현재    6866\n",
              "미래    1643\n",
              "Name: 시제, dtype: int64"
            ]
          },
          "metadata": {},
          "execution_count": 7
        }
      ]
    },
    {
      "cell_type": "code",
      "source": [
        "train[\"확실성\"].value_counts()"
      ],
      "metadata": {
        "colab": {
          "base_uri": "https://localhost:8080/"
        },
        "id": "DQb97Ti0mtSX",
        "outputId": "91b23d8f-01ba-4fff-bc8d-9b22f6cf0beb"
      },
      "execution_count": null,
      "outputs": [
        {
          "output_type": "execute_result",
          "data": {
            "text/plain": [
              "확실     15192\n",
              "불확실     1349\n",
              "Name: 확실성, dtype: int64"
            ]
          },
          "metadata": {},
          "execution_count": 8
        }
      ]
    },
    {
      "cell_type": "code",
      "source": [
        "pd.set_option(\"display.max_rows\", 100)"
      ],
      "metadata": {
        "id": "J-pob18rUuNb"
      },
      "execution_count": null,
      "outputs": []
    },
    {
      "cell_type": "code",
      "source": [
        "# 중복된 데이터 찾기\n",
        "\n",
        "# 문장과 label이 같은 데이터\n",
        "train[train.duplicated([\"문장\", \"label\"], keep=False)]"
      ],
      "metadata": {
        "colab": {
          "base_uri": "https://localhost:8080/",
          "height": 1000
        },
        "id": "fRc72e2fSDKy",
        "outputId": "1472e89b-39e3-4ab8-c725-abd9766477e5"
      },
      "execution_count": null,
      "outputs": [
        {
          "output_type": "execute_result",
          "data": {
            "text/plain": [
              "                                                      문장   유형  극성  시제  확실성  \\\n",
              "300          신용카드 빚을 뜻하는 판매신용은 2조4000억원 늘어난 91조1000억원이다.  사실형  긍정  현재   확실   \n",
              "335           급한대로 예매가 가능한 날짜의 표를 구매한 뒤 다른 사람과 바꾸려는 수요다.  추론형  긍정  현재   확실   \n",
              "438    자신의 남동생인 이재현 CJ 회장에게는 ＂불가능한 꿈일지라도 언제나 우리가 꿈을 꿀...  사실형  긍정  과거   확실   \n",
              "635    5일 한국은행에 따르면 작년 9월말 가계대출, 개인사업자대출, 판매신용 잔액은 석 ...  사실형  긍정  과거   확실   \n",
              "831                         회당 300t가량의 물이 사용되는 것으로 알려졌다.  사실형  긍정  과거  불확실   \n",
              "1152        3년 만에 돌아온 ＇싸이 흠뻑쇼＇가 물 낭비와 위생 논란에도 건재함을 과시했다.  사실형  긍정  과거   확실   \n",
              "1344   그는 ＂일종의 피해망상인데 검찰이 압수수색을 해서 증거를 왜곡할 수 있다는 이런 말...  사실형  긍정  과거   확실   \n",
              "1561                                       《목민심서》의 내용이다.  사실형  긍정  현재   확실   \n",
              "1563   미국은 음주운전으로 면허취소된 운전자가 운전면허를 재취득할 경우, 일정 혈중알코올농...  사실형  긍정  현재   확실   \n",
              "1638         신용카드 빚을 뜻하는 판매신용은 2조4000억원 늘어난 91조1000억원이다.  사실형  긍정  현재   확실   \n",
              "1707   헌재는 지난해 11월에도 ＇2회 이상 음주운전＇의 가중처벌을 규정한 조항을 위헌이라...  사실형  긍정  과거   확실   \n",
              "1716       여기에는 개인사업자 대출 차주가 빌린 가계대출 231조9000억원이 포함돼 있다.  사실형  긍정  과거   확실   \n",
              "1823                        회당 300t가량의 물이 사용되는 것으로 알려졌다.  사실형  긍정  과거  불확실   \n",
              "1888   예매가 시작되기도 전부터 사람이 몰려 예매 사이트 접속이 지연되는 등 뜨거운 관심을...  사실형  긍정  과거   확실   \n",
              "2153   반대로 애초에 정가보다 높은 가격을 제안하며 티켓을 구한다는 글도 다수 올라오고 있...  사실형  긍정  현재   확실   \n",
              "2587   우즈를 비롯해 새롭게 세계랭킹 1위에 오른 로리 매킬로이(북아일랜드)와 1위 자리를...  사실형  긍정  미래   확실   \n",
              "2642   최근 6개월간 전국 누적 강수량이 평년의 절반 수준에 머물게 되면서 공연을 위해 어...  추론형  긍정  과거  불확실   \n",
              "2767              한편 학교폭력 피해를 경험하는 연령은 낮아지고 있는 것으로 나타났다.  사실형  긍정  과거   확실   \n",
              "3011   우승 상금도 133만2000달러에서 167만4000달러(약 19억9000만원)로 올랐다.  사실형  긍정  과거   확실   \n",
              "3420       지난해 10월 기준 생보사들은 계약을 중도 해지한 고객들에게 22조원을 돌려줬다.  사실형  긍정  과거   확실   \n",
              "3666          급한대로 예매가 가능한 날짜의 표를 구매한 뒤 다른 사람과 바꾸려는 수요다.  추론형  긍정  현재   확실   \n",
              "4327   미국은 음주운전으로 면허취소된 운전자가 운전면허를 재취득할 경우, 일정 혈중알코올농...  사실형  긍정  현재   확실   \n",
              "4393   이와 함께 마스크가 물에 젖으면 세균 번식 위험이 높다는 방역당국의 우려가 나와 또...  추론형  긍정  과거   확실   \n",
              "4587   예매가 시작되기도 전부터 사람이 몰려 예매 사이트 접속이 지연되는 등 뜨거운 관심을...  사실형  긍정  과거   확실   \n",
              "4881                                      웹젠은 4일까지 연장했다.  사실형  긍정  과거   확실   \n",
              "5360   그는 ＂일종의 피해망상인데 검찰이 압수수색을 해서 증거를 왜곡할 수 있다는 이런 말...  사실형  긍정  과거   확실   \n",
              "6061                                이는 2021년 1월 이후 최저치다.  사실형  긍정  현재   확실   \n",
              "6143                              이중 문책경고 이상이 중징계로 분류된다.  사실형  긍정  현재   확실   \n",
              "6242                         문제는 올해 전국적으로 가뭄이 극심하다는 점이다.  추론형  긍정  현재   확실   \n",
              "6460   최근 6개월간 전국 누적 강수량이 평년의 절반 수준에 머물게 되면서 공연을 위해 어...  추론형  긍정  과거  불확실   \n",
              "7045       지난해 10월 기준 생보사들은 계약을 중도 해지한 고객들에게 22조원을 돌려줬다.  사실형  긍정  과거   확실   \n",
              "7144        3년 만에 돌아온 ＇싸이 흠뻑쇼＇가 물 낭비와 위생 논란에도 건재함을 과시했다.  사실형  긍정  과거   확실   \n",
              "8478   이와 함께 마스크가 물에 젖으면 세균 번식 위험이 높다는 방역당국의 우려가 나와 또...  추론형  긍정  과거   확실   \n",
              "8499              한편 학교폭력 피해를 경험하는 연령은 낮아지고 있는 것으로 나타났다.  사실형  긍정  과거   확실   \n",
              "8676   우즈를 비롯해 새롭게 세계랭킹 1위에 오른 로리 매킬로이(북아일랜드)와 1위 자리를...  사실형  긍정  미래   확실   \n",
              "9138   코픽스는 국내 8개 은행(농협·신한·우리·SC제일·KEB하나·기업·국민·씨티은행)의...  사실형  긍정  현재   확실   \n",
              "9252       같은 조사에서 중학생은 0.8%, 고등학생은 0.3%가 피해를 경험했다고 밝혔다.  사실형  긍정  과거   확실   \n",
              "9320             싸이 흠뻑쇼는 관객이 물을 흠뻑 맞으며 즐기는 대표적인 여름 공연이다.  사실형  긍정  현재   확실   \n",
              "9322   반대로 애초에 정가보다 높은 가격을 제안하며 티켓을 구한다는 글도 다수 올라오고 있...  사실형  긍정  현재   확실   \n",
              "9647                                이는 2021년 1월 이후 최저치다.  사실형  긍정  현재   확실   \n",
              "9968   암호화폐 투자에 있어 궁금하신 내용은 매주 수요일 오후 7시 디스트리트 유튜브 채널...  대화형  긍정  현재   확실   \n",
              "10107  헌재는 지난해 11월에도 ＇2회 이상 음주운전＇의 가중처벌을 규정한 조항을 위헌이라...  사실형  긍정  과거   확실   \n",
              "10327  우승 상금도 133만2000달러에서 167만4000달러(약 19억9000만원)로 올랐다.  사실형  긍정  과거   확실   \n",
              "10570                   앞서 ＇전설＇들은 모두 리비에라에서 우승 트로피를 들었다.  사실형  긍정  과거   확실   \n",
              "11124                        문제는 올해 전국적으로 가뭄이 극심하다는 점이다.  추론형  긍정  현재   확실   \n",
              "11387  자신의 남동생인 이재현 CJ 회장에게는 ＂불가능한 꿈일지라도 언제나 우리가 꿈을 꿀...  사실형  긍정  과거   확실   \n",
              "11591      여기에는 개인사업자 대출 차주가 빌린 가계대출 231조9000억원이 포함돼 있다.  사실형  긍정  과거   확실   \n",
              "12023  현재 각종 SNS와 중고거래 플랫폼에는 ＂싸이 흠뻑쇼 티켓 양도한다＂는 글이 쏟아지...  사실형  긍정  현재   확실   \n",
              "12228                             이중 문책경고 이상이 중징계로 분류된다.  사실형  긍정  현재   확실   \n",
              "12252  암호화폐 투자에 있어 궁금하신 내용은 매주 수요일 오후 7시 디스트리트 유튜브 채널...  대화형  긍정  현재   확실   \n",
              "12629                                     웹젠은 4일까지 연장했다.  사실형  긍정  과거   확실   \n",
              "12911            싸이 흠뻑쇼는 관객이 물을 흠뻑 맞으며 즐기는 대표적인 여름 공연이다.  사실형  긍정  현재   확실   \n",
              "13600      같은 조사에서 중학생은 0.8%, 고등학생은 0.3%가 피해를 경험했다고 밝혔다.  사실형  긍정  과거   확실   \n",
              "13742  코픽스는 국내 8개 은행(농협·신한·우리·SC제일·KEB하나·기업·국민·씨티은행)의...  사실형  긍정  현재   확실   \n",
              "14234  CJ그룹의 CJ엔터테인먼트는 ＇기생충(parasite)＇의 배급을 맡았으며 이 부회...  사실형  긍정  과거   확실   \n",
              "14790  현재 각종 SNS와 중고거래 플랫폼에는 ＂싸이 흠뻑쇼 티켓 양도한다＂는 글이 쏟아지...  사실형  긍정  현재   확실   \n",
              "14814  디브리핑은 매일경제, 블록크래프터스, 데일리금융그룹과 함께하는 디스트리트에서 제공하...  대화형  긍정  현재   확실   \n",
              "15415  CJ그룹의 CJ엔터테인먼트는 ＇기생충(parasite)＇의 배급을 맡았으며 이 부회...  사실형  긍정  과거   확실   \n",
              "15838                   앞서 ＇전설＇들은 모두 리비에라에서 우승 트로피를 들었다.  사실형  긍정  과거   확실   \n",
              "16098  5일 한국은행에 따르면 작년 9월말 가계대출, 개인사업자대출, 판매신용 잔액은 석 ...  사실형  긍정  과거   확실   \n",
              "16190  디브리핑은 매일경제, 블록크래프터스, 데일리금융그룹과 함께하는 디스트리트에서 제공하...  대화형  긍정  현재   확실   \n",
              "16540                                      《목민심서》의 내용이다.  사실형  긍정  현재   확실   \n",
              "\n",
              "               label  \n",
              "300     사실형-긍정-현재-확실  \n",
              "335     추론형-긍정-현재-확실  \n",
              "438     사실형-긍정-과거-확실  \n",
              "635     사실형-긍정-과거-확실  \n",
              "831    사실형-긍정-과거-불확실  \n",
              "1152    사실형-긍정-과거-확실  \n",
              "1344    사실형-긍정-과거-확실  \n",
              "1561    사실형-긍정-현재-확실  \n",
              "1563    사실형-긍정-현재-확실  \n",
              "1638    사실형-긍정-현재-확실  \n",
              "1707    사실형-긍정-과거-확실  \n",
              "1716    사실형-긍정-과거-확실  \n",
              "1823   사실형-긍정-과거-불확실  \n",
              "1888    사실형-긍정-과거-확실  \n",
              "2153    사실형-긍정-현재-확실  \n",
              "2587    사실형-긍정-미래-확실  \n",
              "2642   추론형-긍정-과거-불확실  \n",
              "2767    사실형-긍정-과거-확실  \n",
              "3011    사실형-긍정-과거-확실  \n",
              "3420    사실형-긍정-과거-확실  \n",
              "3666    추론형-긍정-현재-확실  \n",
              "4327    사실형-긍정-현재-확실  \n",
              "4393    추론형-긍정-과거-확실  \n",
              "4587    사실형-긍정-과거-확실  \n",
              "4881    사실형-긍정-과거-확실  \n",
              "5360    사실형-긍정-과거-확실  \n",
              "6061    사실형-긍정-현재-확실  \n",
              "6143    사실형-긍정-현재-확실  \n",
              "6242    추론형-긍정-현재-확실  \n",
              "6460   추론형-긍정-과거-불확실  \n",
              "7045    사실형-긍정-과거-확실  \n",
              "7144    사실형-긍정-과거-확실  \n",
              "8478    추론형-긍정-과거-확실  \n",
              "8499    사실형-긍정-과거-확실  \n",
              "8676    사실형-긍정-미래-확실  \n",
              "9138    사실형-긍정-현재-확실  \n",
              "9252    사실형-긍정-과거-확실  \n",
              "9320    사실형-긍정-현재-확실  \n",
              "9322    사실형-긍정-현재-확실  \n",
              "9647    사실형-긍정-현재-확실  \n",
              "9968    대화형-긍정-현재-확실  \n",
              "10107   사실형-긍정-과거-확실  \n",
              "10327   사실형-긍정-과거-확실  \n",
              "10570   사실형-긍정-과거-확실  \n",
              "11124   추론형-긍정-현재-확실  \n",
              "11387   사실형-긍정-과거-확실  \n",
              "11591   사실형-긍정-과거-확실  \n",
              "12023   사실형-긍정-현재-확실  \n",
              "12228   사실형-긍정-현재-확실  \n",
              "12252   대화형-긍정-현재-확실  \n",
              "12629   사실형-긍정-과거-확실  \n",
              "12911   사실형-긍정-현재-확실  \n",
              "13600   사실형-긍정-과거-확실  \n",
              "13742   사실형-긍정-현재-확실  \n",
              "14234   사실형-긍정-과거-확실  \n",
              "14790   사실형-긍정-현재-확실  \n",
              "14814   대화형-긍정-현재-확실  \n",
              "15415   사실형-긍정-과거-확실  \n",
              "15838   사실형-긍정-과거-확실  \n",
              "16098   사실형-긍정-과거-확실  \n",
              "16190   대화형-긍정-현재-확실  \n",
              "16540   사실형-긍정-현재-확실  "
            ],
            "text/html": [
              "\n",
              "  <div id=\"df-c19b231b-ae34-40bb-ba66-aff9204125ba\">\n",
              "    <div class=\"colab-df-container\">\n",
              "      <div>\n",
              "<style scoped>\n",
              "    .dataframe tbody tr th:only-of-type {\n",
              "        vertical-align: middle;\n",
              "    }\n",
              "\n",
              "    .dataframe tbody tr th {\n",
              "        vertical-align: top;\n",
              "    }\n",
              "\n",
              "    .dataframe thead th {\n",
              "        text-align: right;\n",
              "    }\n",
              "</style>\n",
              "<table border=\"1\" class=\"dataframe\">\n",
              "  <thead>\n",
              "    <tr style=\"text-align: right;\">\n",
              "      <th></th>\n",
              "      <th>문장</th>\n",
              "      <th>유형</th>\n",
              "      <th>극성</th>\n",
              "      <th>시제</th>\n",
              "      <th>확실성</th>\n",
              "      <th>label</th>\n",
              "    </tr>\n",
              "  </thead>\n",
              "  <tbody>\n",
              "    <tr>\n",
              "      <th>300</th>\n",
              "      <td>신용카드 빚을 뜻하는 판매신용은 2조4000억원 늘어난 91조1000억원이다.</td>\n",
              "      <td>사실형</td>\n",
              "      <td>긍정</td>\n",
              "      <td>현재</td>\n",
              "      <td>확실</td>\n",
              "      <td>사실형-긍정-현재-확실</td>\n",
              "    </tr>\n",
              "    <tr>\n",
              "      <th>335</th>\n",
              "      <td>급한대로 예매가 가능한 날짜의 표를 구매한 뒤 다른 사람과 바꾸려는 수요다.</td>\n",
              "      <td>추론형</td>\n",
              "      <td>긍정</td>\n",
              "      <td>현재</td>\n",
              "      <td>확실</td>\n",
              "      <td>추론형-긍정-현재-확실</td>\n",
              "    </tr>\n",
              "    <tr>\n",
              "      <th>438</th>\n",
              "      <td>자신의 남동생인 이재현 CJ 회장에게는 ＂불가능한 꿈일지라도 언제나 우리가 꿈을 꿀...</td>\n",
              "      <td>사실형</td>\n",
              "      <td>긍정</td>\n",
              "      <td>과거</td>\n",
              "      <td>확실</td>\n",
              "      <td>사실형-긍정-과거-확실</td>\n",
              "    </tr>\n",
              "    <tr>\n",
              "      <th>635</th>\n",
              "      <td>5일 한국은행에 따르면 작년 9월말 가계대출, 개인사업자대출, 판매신용 잔액은 석 ...</td>\n",
              "      <td>사실형</td>\n",
              "      <td>긍정</td>\n",
              "      <td>과거</td>\n",
              "      <td>확실</td>\n",
              "      <td>사실형-긍정-과거-확실</td>\n",
              "    </tr>\n",
              "    <tr>\n",
              "      <th>831</th>\n",
              "      <td>회당 300t가량의 물이 사용되는 것으로 알려졌다.</td>\n",
              "      <td>사실형</td>\n",
              "      <td>긍정</td>\n",
              "      <td>과거</td>\n",
              "      <td>불확실</td>\n",
              "      <td>사실형-긍정-과거-불확실</td>\n",
              "    </tr>\n",
              "    <tr>\n",
              "      <th>1152</th>\n",
              "      <td>3년 만에 돌아온 ＇싸이 흠뻑쇼＇가 물 낭비와 위생 논란에도 건재함을 과시했다.</td>\n",
              "      <td>사실형</td>\n",
              "      <td>긍정</td>\n",
              "      <td>과거</td>\n",
              "      <td>확실</td>\n",
              "      <td>사실형-긍정-과거-확실</td>\n",
              "    </tr>\n",
              "    <tr>\n",
              "      <th>1344</th>\n",
              "      <td>그는 ＂일종의 피해망상인데 검찰이 압수수색을 해서 증거를 왜곡할 수 있다는 이런 말...</td>\n",
              "      <td>사실형</td>\n",
              "      <td>긍정</td>\n",
              "      <td>과거</td>\n",
              "      <td>확실</td>\n",
              "      <td>사실형-긍정-과거-확실</td>\n",
              "    </tr>\n",
              "    <tr>\n",
              "      <th>1561</th>\n",
              "      <td>《목민심서》의 내용이다.</td>\n",
              "      <td>사실형</td>\n",
              "      <td>긍정</td>\n",
              "      <td>현재</td>\n",
              "      <td>확실</td>\n",
              "      <td>사실형-긍정-현재-확실</td>\n",
              "    </tr>\n",
              "    <tr>\n",
              "      <th>1563</th>\n",
              "      <td>미국은 음주운전으로 면허취소된 운전자가 운전면허를 재취득할 경우, 일정 혈중알코올농...</td>\n",
              "      <td>사실형</td>\n",
              "      <td>긍정</td>\n",
              "      <td>현재</td>\n",
              "      <td>확실</td>\n",
              "      <td>사실형-긍정-현재-확실</td>\n",
              "    </tr>\n",
              "    <tr>\n",
              "      <th>1638</th>\n",
              "      <td>신용카드 빚을 뜻하는 판매신용은 2조4000억원 늘어난 91조1000억원이다.</td>\n",
              "      <td>사실형</td>\n",
              "      <td>긍정</td>\n",
              "      <td>현재</td>\n",
              "      <td>확실</td>\n",
              "      <td>사실형-긍정-현재-확실</td>\n",
              "    </tr>\n",
              "    <tr>\n",
              "      <th>1707</th>\n",
              "      <td>헌재는 지난해 11월에도 ＇2회 이상 음주운전＇의 가중처벌을 규정한 조항을 위헌이라...</td>\n",
              "      <td>사실형</td>\n",
              "      <td>긍정</td>\n",
              "      <td>과거</td>\n",
              "      <td>확실</td>\n",
              "      <td>사실형-긍정-과거-확실</td>\n",
              "    </tr>\n",
              "    <tr>\n",
              "      <th>1716</th>\n",
              "      <td>여기에는 개인사업자 대출 차주가 빌린 가계대출 231조9000억원이 포함돼 있다.</td>\n",
              "      <td>사실형</td>\n",
              "      <td>긍정</td>\n",
              "      <td>과거</td>\n",
              "      <td>확실</td>\n",
              "      <td>사실형-긍정-과거-확실</td>\n",
              "    </tr>\n",
              "    <tr>\n",
              "      <th>1823</th>\n",
              "      <td>회당 300t가량의 물이 사용되는 것으로 알려졌다.</td>\n",
              "      <td>사실형</td>\n",
              "      <td>긍정</td>\n",
              "      <td>과거</td>\n",
              "      <td>불확실</td>\n",
              "      <td>사실형-긍정-과거-불확실</td>\n",
              "    </tr>\n",
              "    <tr>\n",
              "      <th>1888</th>\n",
              "      <td>예매가 시작되기도 전부터 사람이 몰려 예매 사이트 접속이 지연되는 등 뜨거운 관심을...</td>\n",
              "      <td>사실형</td>\n",
              "      <td>긍정</td>\n",
              "      <td>과거</td>\n",
              "      <td>확실</td>\n",
              "      <td>사실형-긍정-과거-확실</td>\n",
              "    </tr>\n",
              "    <tr>\n",
              "      <th>2153</th>\n",
              "      <td>반대로 애초에 정가보다 높은 가격을 제안하며 티켓을 구한다는 글도 다수 올라오고 있...</td>\n",
              "      <td>사실형</td>\n",
              "      <td>긍정</td>\n",
              "      <td>현재</td>\n",
              "      <td>확실</td>\n",
              "      <td>사실형-긍정-현재-확실</td>\n",
              "    </tr>\n",
              "    <tr>\n",
              "      <th>2587</th>\n",
              "      <td>우즈를 비롯해 새롭게 세계랭킹 1위에 오른 로리 매킬로이(북아일랜드)와 1위 자리를...</td>\n",
              "      <td>사실형</td>\n",
              "      <td>긍정</td>\n",
              "      <td>미래</td>\n",
              "      <td>확실</td>\n",
              "      <td>사실형-긍정-미래-확실</td>\n",
              "    </tr>\n",
              "    <tr>\n",
              "      <th>2642</th>\n",
              "      <td>최근 6개월간 전국 누적 강수량이 평년의 절반 수준에 머물게 되면서 공연을 위해 어...</td>\n",
              "      <td>추론형</td>\n",
              "      <td>긍정</td>\n",
              "      <td>과거</td>\n",
              "      <td>불확실</td>\n",
              "      <td>추론형-긍정-과거-불확실</td>\n",
              "    </tr>\n",
              "    <tr>\n",
              "      <th>2767</th>\n",
              "      <td>한편 학교폭력 피해를 경험하는 연령은 낮아지고 있는 것으로 나타났다.</td>\n",
              "      <td>사실형</td>\n",
              "      <td>긍정</td>\n",
              "      <td>과거</td>\n",
              "      <td>확실</td>\n",
              "      <td>사실형-긍정-과거-확실</td>\n",
              "    </tr>\n",
              "    <tr>\n",
              "      <th>3011</th>\n",
              "      <td>우승 상금도 133만2000달러에서 167만4000달러(약 19억9000만원)로 올랐다.</td>\n",
              "      <td>사실형</td>\n",
              "      <td>긍정</td>\n",
              "      <td>과거</td>\n",
              "      <td>확실</td>\n",
              "      <td>사실형-긍정-과거-확실</td>\n",
              "    </tr>\n",
              "    <tr>\n",
              "      <th>3420</th>\n",
              "      <td>지난해 10월 기준 생보사들은 계약을 중도 해지한 고객들에게 22조원을 돌려줬다.</td>\n",
              "      <td>사실형</td>\n",
              "      <td>긍정</td>\n",
              "      <td>과거</td>\n",
              "      <td>확실</td>\n",
              "      <td>사실형-긍정-과거-확실</td>\n",
              "    </tr>\n",
              "    <tr>\n",
              "      <th>3666</th>\n",
              "      <td>급한대로 예매가 가능한 날짜의 표를 구매한 뒤 다른 사람과 바꾸려는 수요다.</td>\n",
              "      <td>추론형</td>\n",
              "      <td>긍정</td>\n",
              "      <td>현재</td>\n",
              "      <td>확실</td>\n",
              "      <td>추론형-긍정-현재-확실</td>\n",
              "    </tr>\n",
              "    <tr>\n",
              "      <th>4327</th>\n",
              "      <td>미국은 음주운전으로 면허취소된 운전자가 운전면허를 재취득할 경우, 일정 혈중알코올농...</td>\n",
              "      <td>사실형</td>\n",
              "      <td>긍정</td>\n",
              "      <td>현재</td>\n",
              "      <td>확실</td>\n",
              "      <td>사실형-긍정-현재-확실</td>\n",
              "    </tr>\n",
              "    <tr>\n",
              "      <th>4393</th>\n",
              "      <td>이와 함께 마스크가 물에 젖으면 세균 번식 위험이 높다는 방역당국의 우려가 나와 또...</td>\n",
              "      <td>추론형</td>\n",
              "      <td>긍정</td>\n",
              "      <td>과거</td>\n",
              "      <td>확실</td>\n",
              "      <td>추론형-긍정-과거-확실</td>\n",
              "    </tr>\n",
              "    <tr>\n",
              "      <th>4587</th>\n",
              "      <td>예매가 시작되기도 전부터 사람이 몰려 예매 사이트 접속이 지연되는 등 뜨거운 관심을...</td>\n",
              "      <td>사실형</td>\n",
              "      <td>긍정</td>\n",
              "      <td>과거</td>\n",
              "      <td>확실</td>\n",
              "      <td>사실형-긍정-과거-확실</td>\n",
              "    </tr>\n",
              "    <tr>\n",
              "      <th>4881</th>\n",
              "      <td>웹젠은 4일까지 연장했다.</td>\n",
              "      <td>사실형</td>\n",
              "      <td>긍정</td>\n",
              "      <td>과거</td>\n",
              "      <td>확실</td>\n",
              "      <td>사실형-긍정-과거-확실</td>\n",
              "    </tr>\n",
              "    <tr>\n",
              "      <th>5360</th>\n",
              "      <td>그는 ＂일종의 피해망상인데 검찰이 압수수색을 해서 증거를 왜곡할 수 있다는 이런 말...</td>\n",
              "      <td>사실형</td>\n",
              "      <td>긍정</td>\n",
              "      <td>과거</td>\n",
              "      <td>확실</td>\n",
              "      <td>사실형-긍정-과거-확실</td>\n",
              "    </tr>\n",
              "    <tr>\n",
              "      <th>6061</th>\n",
              "      <td>이는 2021년 1월 이후 최저치다.</td>\n",
              "      <td>사실형</td>\n",
              "      <td>긍정</td>\n",
              "      <td>현재</td>\n",
              "      <td>확실</td>\n",
              "      <td>사실형-긍정-현재-확실</td>\n",
              "    </tr>\n",
              "    <tr>\n",
              "      <th>6143</th>\n",
              "      <td>이중 문책경고 이상이 중징계로 분류된다.</td>\n",
              "      <td>사실형</td>\n",
              "      <td>긍정</td>\n",
              "      <td>현재</td>\n",
              "      <td>확실</td>\n",
              "      <td>사실형-긍정-현재-확실</td>\n",
              "    </tr>\n",
              "    <tr>\n",
              "      <th>6242</th>\n",
              "      <td>문제는 올해 전국적으로 가뭄이 극심하다는 점이다.</td>\n",
              "      <td>추론형</td>\n",
              "      <td>긍정</td>\n",
              "      <td>현재</td>\n",
              "      <td>확실</td>\n",
              "      <td>추론형-긍정-현재-확실</td>\n",
              "    </tr>\n",
              "    <tr>\n",
              "      <th>6460</th>\n",
              "      <td>최근 6개월간 전국 누적 강수량이 평년의 절반 수준에 머물게 되면서 공연을 위해 어...</td>\n",
              "      <td>추론형</td>\n",
              "      <td>긍정</td>\n",
              "      <td>과거</td>\n",
              "      <td>불확실</td>\n",
              "      <td>추론형-긍정-과거-불확실</td>\n",
              "    </tr>\n",
              "    <tr>\n",
              "      <th>7045</th>\n",
              "      <td>지난해 10월 기준 생보사들은 계약을 중도 해지한 고객들에게 22조원을 돌려줬다.</td>\n",
              "      <td>사실형</td>\n",
              "      <td>긍정</td>\n",
              "      <td>과거</td>\n",
              "      <td>확실</td>\n",
              "      <td>사실형-긍정-과거-확실</td>\n",
              "    </tr>\n",
              "    <tr>\n",
              "      <th>7144</th>\n",
              "      <td>3년 만에 돌아온 ＇싸이 흠뻑쇼＇가 물 낭비와 위생 논란에도 건재함을 과시했다.</td>\n",
              "      <td>사실형</td>\n",
              "      <td>긍정</td>\n",
              "      <td>과거</td>\n",
              "      <td>확실</td>\n",
              "      <td>사실형-긍정-과거-확실</td>\n",
              "    </tr>\n",
              "    <tr>\n",
              "      <th>8478</th>\n",
              "      <td>이와 함께 마스크가 물에 젖으면 세균 번식 위험이 높다는 방역당국의 우려가 나와 또...</td>\n",
              "      <td>추론형</td>\n",
              "      <td>긍정</td>\n",
              "      <td>과거</td>\n",
              "      <td>확실</td>\n",
              "      <td>추론형-긍정-과거-확실</td>\n",
              "    </tr>\n",
              "    <tr>\n",
              "      <th>8499</th>\n",
              "      <td>한편 학교폭력 피해를 경험하는 연령은 낮아지고 있는 것으로 나타났다.</td>\n",
              "      <td>사실형</td>\n",
              "      <td>긍정</td>\n",
              "      <td>과거</td>\n",
              "      <td>확실</td>\n",
              "      <td>사실형-긍정-과거-확실</td>\n",
              "    </tr>\n",
              "    <tr>\n",
              "      <th>8676</th>\n",
              "      <td>우즈를 비롯해 새롭게 세계랭킹 1위에 오른 로리 매킬로이(북아일랜드)와 1위 자리를...</td>\n",
              "      <td>사실형</td>\n",
              "      <td>긍정</td>\n",
              "      <td>미래</td>\n",
              "      <td>확실</td>\n",
              "      <td>사실형-긍정-미래-확실</td>\n",
              "    </tr>\n",
              "    <tr>\n",
              "      <th>9138</th>\n",
              "      <td>코픽스는 국내 8개 은행(농협·신한·우리·SC제일·KEB하나·기업·국민·씨티은행)의...</td>\n",
              "      <td>사실형</td>\n",
              "      <td>긍정</td>\n",
              "      <td>현재</td>\n",
              "      <td>확실</td>\n",
              "      <td>사실형-긍정-현재-확실</td>\n",
              "    </tr>\n",
              "    <tr>\n",
              "      <th>9252</th>\n",
              "      <td>같은 조사에서 중학생은 0.8%, 고등학생은 0.3%가 피해를 경험했다고 밝혔다.</td>\n",
              "      <td>사실형</td>\n",
              "      <td>긍정</td>\n",
              "      <td>과거</td>\n",
              "      <td>확실</td>\n",
              "      <td>사실형-긍정-과거-확실</td>\n",
              "    </tr>\n",
              "    <tr>\n",
              "      <th>9320</th>\n",
              "      <td>싸이 흠뻑쇼는 관객이 물을 흠뻑 맞으며 즐기는 대표적인 여름 공연이다.</td>\n",
              "      <td>사실형</td>\n",
              "      <td>긍정</td>\n",
              "      <td>현재</td>\n",
              "      <td>확실</td>\n",
              "      <td>사실형-긍정-현재-확실</td>\n",
              "    </tr>\n",
              "    <tr>\n",
              "      <th>9322</th>\n",
              "      <td>반대로 애초에 정가보다 높은 가격을 제안하며 티켓을 구한다는 글도 다수 올라오고 있...</td>\n",
              "      <td>사실형</td>\n",
              "      <td>긍정</td>\n",
              "      <td>현재</td>\n",
              "      <td>확실</td>\n",
              "      <td>사실형-긍정-현재-확실</td>\n",
              "    </tr>\n",
              "    <tr>\n",
              "      <th>9647</th>\n",
              "      <td>이는 2021년 1월 이후 최저치다.</td>\n",
              "      <td>사실형</td>\n",
              "      <td>긍정</td>\n",
              "      <td>현재</td>\n",
              "      <td>확실</td>\n",
              "      <td>사실형-긍정-현재-확실</td>\n",
              "    </tr>\n",
              "    <tr>\n",
              "      <th>9968</th>\n",
              "      <td>암호화폐 투자에 있어 궁금하신 내용은 매주 수요일 오후 7시 디스트리트 유튜브 채널...</td>\n",
              "      <td>대화형</td>\n",
              "      <td>긍정</td>\n",
              "      <td>현재</td>\n",
              "      <td>확실</td>\n",
              "      <td>대화형-긍정-현재-확실</td>\n",
              "    </tr>\n",
              "    <tr>\n",
              "      <th>10107</th>\n",
              "      <td>헌재는 지난해 11월에도 ＇2회 이상 음주운전＇의 가중처벌을 규정한 조항을 위헌이라...</td>\n",
              "      <td>사실형</td>\n",
              "      <td>긍정</td>\n",
              "      <td>과거</td>\n",
              "      <td>확실</td>\n",
              "      <td>사실형-긍정-과거-확실</td>\n",
              "    </tr>\n",
              "    <tr>\n",
              "      <th>10327</th>\n",
              "      <td>우승 상금도 133만2000달러에서 167만4000달러(약 19억9000만원)로 올랐다.</td>\n",
              "      <td>사실형</td>\n",
              "      <td>긍정</td>\n",
              "      <td>과거</td>\n",
              "      <td>확실</td>\n",
              "      <td>사실형-긍정-과거-확실</td>\n",
              "    </tr>\n",
              "    <tr>\n",
              "      <th>10570</th>\n",
              "      <td>앞서 ＇전설＇들은 모두 리비에라에서 우승 트로피를 들었다.</td>\n",
              "      <td>사실형</td>\n",
              "      <td>긍정</td>\n",
              "      <td>과거</td>\n",
              "      <td>확실</td>\n",
              "      <td>사실형-긍정-과거-확실</td>\n",
              "    </tr>\n",
              "    <tr>\n",
              "      <th>11124</th>\n",
              "      <td>문제는 올해 전국적으로 가뭄이 극심하다는 점이다.</td>\n",
              "      <td>추론형</td>\n",
              "      <td>긍정</td>\n",
              "      <td>현재</td>\n",
              "      <td>확실</td>\n",
              "      <td>추론형-긍정-현재-확실</td>\n",
              "    </tr>\n",
              "    <tr>\n",
              "      <th>11387</th>\n",
              "      <td>자신의 남동생인 이재현 CJ 회장에게는 ＂불가능한 꿈일지라도 언제나 우리가 꿈을 꿀...</td>\n",
              "      <td>사실형</td>\n",
              "      <td>긍정</td>\n",
              "      <td>과거</td>\n",
              "      <td>확실</td>\n",
              "      <td>사실형-긍정-과거-확실</td>\n",
              "    </tr>\n",
              "    <tr>\n",
              "      <th>11591</th>\n",
              "      <td>여기에는 개인사업자 대출 차주가 빌린 가계대출 231조9000억원이 포함돼 있다.</td>\n",
              "      <td>사실형</td>\n",
              "      <td>긍정</td>\n",
              "      <td>과거</td>\n",
              "      <td>확실</td>\n",
              "      <td>사실형-긍정-과거-확실</td>\n",
              "    </tr>\n",
              "    <tr>\n",
              "      <th>12023</th>\n",
              "      <td>현재 각종 SNS와 중고거래 플랫폼에는 ＂싸이 흠뻑쇼 티켓 양도한다＂는 글이 쏟아지...</td>\n",
              "      <td>사실형</td>\n",
              "      <td>긍정</td>\n",
              "      <td>현재</td>\n",
              "      <td>확실</td>\n",
              "      <td>사실형-긍정-현재-확실</td>\n",
              "    </tr>\n",
              "    <tr>\n",
              "      <th>12228</th>\n",
              "      <td>이중 문책경고 이상이 중징계로 분류된다.</td>\n",
              "      <td>사실형</td>\n",
              "      <td>긍정</td>\n",
              "      <td>현재</td>\n",
              "      <td>확실</td>\n",
              "      <td>사실형-긍정-현재-확실</td>\n",
              "    </tr>\n",
              "    <tr>\n",
              "      <th>12252</th>\n",
              "      <td>암호화폐 투자에 있어 궁금하신 내용은 매주 수요일 오후 7시 디스트리트 유튜브 채널...</td>\n",
              "      <td>대화형</td>\n",
              "      <td>긍정</td>\n",
              "      <td>현재</td>\n",
              "      <td>확실</td>\n",
              "      <td>대화형-긍정-현재-확실</td>\n",
              "    </tr>\n",
              "    <tr>\n",
              "      <th>12629</th>\n",
              "      <td>웹젠은 4일까지 연장했다.</td>\n",
              "      <td>사실형</td>\n",
              "      <td>긍정</td>\n",
              "      <td>과거</td>\n",
              "      <td>확실</td>\n",
              "      <td>사실형-긍정-과거-확실</td>\n",
              "    </tr>\n",
              "    <tr>\n",
              "      <th>12911</th>\n",
              "      <td>싸이 흠뻑쇼는 관객이 물을 흠뻑 맞으며 즐기는 대표적인 여름 공연이다.</td>\n",
              "      <td>사실형</td>\n",
              "      <td>긍정</td>\n",
              "      <td>현재</td>\n",
              "      <td>확실</td>\n",
              "      <td>사실형-긍정-현재-확실</td>\n",
              "    </tr>\n",
              "    <tr>\n",
              "      <th>13600</th>\n",
              "      <td>같은 조사에서 중학생은 0.8%, 고등학생은 0.3%가 피해를 경험했다고 밝혔다.</td>\n",
              "      <td>사실형</td>\n",
              "      <td>긍정</td>\n",
              "      <td>과거</td>\n",
              "      <td>확실</td>\n",
              "      <td>사실형-긍정-과거-확실</td>\n",
              "    </tr>\n",
              "    <tr>\n",
              "      <th>13742</th>\n",
              "      <td>코픽스는 국내 8개 은행(농협·신한·우리·SC제일·KEB하나·기업·국민·씨티은행)의...</td>\n",
              "      <td>사실형</td>\n",
              "      <td>긍정</td>\n",
              "      <td>현재</td>\n",
              "      <td>확실</td>\n",
              "      <td>사실형-긍정-현재-확실</td>\n",
              "    </tr>\n",
              "    <tr>\n",
              "      <th>14234</th>\n",
              "      <td>CJ그룹의 CJ엔터테인먼트는 ＇기생충(parasite)＇의 배급을 맡았으며 이 부회...</td>\n",
              "      <td>사실형</td>\n",
              "      <td>긍정</td>\n",
              "      <td>과거</td>\n",
              "      <td>확실</td>\n",
              "      <td>사실형-긍정-과거-확실</td>\n",
              "    </tr>\n",
              "    <tr>\n",
              "      <th>14790</th>\n",
              "      <td>현재 각종 SNS와 중고거래 플랫폼에는 ＂싸이 흠뻑쇼 티켓 양도한다＂는 글이 쏟아지...</td>\n",
              "      <td>사실형</td>\n",
              "      <td>긍정</td>\n",
              "      <td>현재</td>\n",
              "      <td>확실</td>\n",
              "      <td>사실형-긍정-현재-확실</td>\n",
              "    </tr>\n",
              "    <tr>\n",
              "      <th>14814</th>\n",
              "      <td>디브리핑은 매일경제, 블록크래프터스, 데일리금융그룹과 함께하는 디스트리트에서 제공하...</td>\n",
              "      <td>대화형</td>\n",
              "      <td>긍정</td>\n",
              "      <td>현재</td>\n",
              "      <td>확실</td>\n",
              "      <td>대화형-긍정-현재-확실</td>\n",
              "    </tr>\n",
              "    <tr>\n",
              "      <th>15415</th>\n",
              "      <td>CJ그룹의 CJ엔터테인먼트는 ＇기생충(parasite)＇의 배급을 맡았으며 이 부회...</td>\n",
              "      <td>사실형</td>\n",
              "      <td>긍정</td>\n",
              "      <td>과거</td>\n",
              "      <td>확실</td>\n",
              "      <td>사실형-긍정-과거-확실</td>\n",
              "    </tr>\n",
              "    <tr>\n",
              "      <th>15838</th>\n",
              "      <td>앞서 ＇전설＇들은 모두 리비에라에서 우승 트로피를 들었다.</td>\n",
              "      <td>사실형</td>\n",
              "      <td>긍정</td>\n",
              "      <td>과거</td>\n",
              "      <td>확실</td>\n",
              "      <td>사실형-긍정-과거-확실</td>\n",
              "    </tr>\n",
              "    <tr>\n",
              "      <th>16098</th>\n",
              "      <td>5일 한국은행에 따르면 작년 9월말 가계대출, 개인사업자대출, 판매신용 잔액은 석 ...</td>\n",
              "      <td>사실형</td>\n",
              "      <td>긍정</td>\n",
              "      <td>과거</td>\n",
              "      <td>확실</td>\n",
              "      <td>사실형-긍정-과거-확실</td>\n",
              "    </tr>\n",
              "    <tr>\n",
              "      <th>16190</th>\n",
              "      <td>디브리핑은 매일경제, 블록크래프터스, 데일리금융그룹과 함께하는 디스트리트에서 제공하...</td>\n",
              "      <td>대화형</td>\n",
              "      <td>긍정</td>\n",
              "      <td>현재</td>\n",
              "      <td>확실</td>\n",
              "      <td>대화형-긍정-현재-확실</td>\n",
              "    </tr>\n",
              "    <tr>\n",
              "      <th>16540</th>\n",
              "      <td>《목민심서》의 내용이다.</td>\n",
              "      <td>사실형</td>\n",
              "      <td>긍정</td>\n",
              "      <td>현재</td>\n",
              "      <td>확실</td>\n",
              "      <td>사실형-긍정-현재-확실</td>\n",
              "    </tr>\n",
              "  </tbody>\n",
              "</table>\n",
              "</div>\n",
              "      <button class=\"colab-df-convert\" onclick=\"convertToInteractive('df-c19b231b-ae34-40bb-ba66-aff9204125ba')\"\n",
              "              title=\"Convert this dataframe to an interactive table.\"\n",
              "              style=\"display:none;\">\n",
              "        \n",
              "  <svg xmlns=\"http://www.w3.org/2000/svg\" height=\"24px\"viewBox=\"0 0 24 24\"\n",
              "       width=\"24px\">\n",
              "    <path d=\"M0 0h24v24H0V0z\" fill=\"none\"/>\n",
              "    <path d=\"M18.56 5.44l.94 2.06.94-2.06 2.06-.94-2.06-.94-.94-2.06-.94 2.06-2.06.94zm-11 1L8.5 8.5l.94-2.06 2.06-.94-2.06-.94L8.5 2.5l-.94 2.06-2.06.94zm10 10l.94 2.06.94-2.06 2.06-.94-2.06-.94-.94-2.06-.94 2.06-2.06.94z\"/><path d=\"M17.41 7.96l-1.37-1.37c-.4-.4-.92-.59-1.43-.59-.52 0-1.04.2-1.43.59L10.3 9.45l-7.72 7.72c-.78.78-.78 2.05 0 2.83L4 21.41c.39.39.9.59 1.41.59.51 0 1.02-.2 1.41-.59l7.78-7.78 2.81-2.81c.8-.78.8-2.07 0-2.86zM5.41 20L4 18.59l7.72-7.72 1.47 1.35L5.41 20z\"/>\n",
              "  </svg>\n",
              "      </button>\n",
              "      \n",
              "  <style>\n",
              "    .colab-df-container {\n",
              "      display:flex;\n",
              "      flex-wrap:wrap;\n",
              "      gap: 12px;\n",
              "    }\n",
              "\n",
              "    .colab-df-convert {\n",
              "      background-color: #E8F0FE;\n",
              "      border: none;\n",
              "      border-radius: 50%;\n",
              "      cursor: pointer;\n",
              "      display: none;\n",
              "      fill: #1967D2;\n",
              "      height: 32px;\n",
              "      padding: 0 0 0 0;\n",
              "      width: 32px;\n",
              "    }\n",
              "\n",
              "    .colab-df-convert:hover {\n",
              "      background-color: #E2EBFA;\n",
              "      box-shadow: 0px 1px 2px rgba(60, 64, 67, 0.3), 0px 1px 3px 1px rgba(60, 64, 67, 0.15);\n",
              "      fill: #174EA6;\n",
              "    }\n",
              "\n",
              "    [theme=dark] .colab-df-convert {\n",
              "      background-color: #3B4455;\n",
              "      fill: #D2E3FC;\n",
              "    }\n",
              "\n",
              "    [theme=dark] .colab-df-convert:hover {\n",
              "      background-color: #434B5C;\n",
              "      box-shadow: 0px 1px 3px 1px rgba(0, 0, 0, 0.15);\n",
              "      filter: drop-shadow(0px 1px 2px rgba(0, 0, 0, 0.3));\n",
              "      fill: #FFFFFF;\n",
              "    }\n",
              "  </style>\n",
              "\n",
              "      <script>\n",
              "        const buttonEl =\n",
              "          document.querySelector('#df-c19b231b-ae34-40bb-ba66-aff9204125ba button.colab-df-convert');\n",
              "        buttonEl.style.display =\n",
              "          google.colab.kernel.accessAllowed ? 'block' : 'none';\n",
              "\n",
              "        async function convertToInteractive(key) {\n",
              "          const element = document.querySelector('#df-c19b231b-ae34-40bb-ba66-aff9204125ba');\n",
              "          const dataTable =\n",
              "            await google.colab.kernel.invokeFunction('convertToInteractive',\n",
              "                                                     [key], {});\n",
              "          if (!dataTable) return;\n",
              "\n",
              "          const docLinkHtml = 'Like what you see? Visit the ' +\n",
              "            '<a target=\"_blank\" href=https://colab.research.google.com/notebooks/data_table.ipynb>data table notebook</a>'\n",
              "            + ' to learn more about interactive tables.';\n",
              "          element.innerHTML = '';\n",
              "          dataTable['output_type'] = 'display_data';\n",
              "          await google.colab.output.renderOutput(dataTable, element);\n",
              "          const docLink = document.createElement('div');\n",
              "          docLink.innerHTML = docLinkHtml;\n",
              "          element.appendChild(docLink);\n",
              "        }\n",
              "      </script>\n",
              "    </div>\n",
              "  </div>\n",
              "  "
            ]
          },
          "metadata": {},
          "execution_count": 10
        }
      ]
    },
    {
      "cell_type": "code",
      "source": [
        "# 문장과 label이 모두 같은 데이터에서 중복값 삭제\n",
        "train = train.drop_duplicates([\"문장\", \"label\"], keep=\"first\")"
      ],
      "metadata": {
        "id": "ym9lAo4SVCzk"
      },
      "execution_count": null,
      "outputs": []
    },
    {
      "cell_type": "code",
      "source": [
        "# 문장은 같으나 label이 다른 데이터\n",
        "train[train.duplicated([\"문장\"], keep=False)]"
      ],
      "metadata": {
        "colab": {
          "base_uri": "https://localhost:8080/",
          "height": 500
        },
        "id": "h5dKBtoTVZuL",
        "outputId": "75af4562-29e7-465f-be6c-323b70251dae"
      },
      "execution_count": null,
      "outputs": [
        {
          "output_type": "execute_result",
          "data": {
            "text/plain": [
              "                                                      문장   유형  극성  시제  확실성  \\\n",
              "208    박근혜 정권에서 블랙리스트에 올라 지난 2014년 타의로 미국으로 떠난 이 부회장은...  사실형  긍정  과거  불확실   \n",
              "2108          직접적으로 암 덩어리를 없애거나 크기를 줄이고 암세포를 죽이기 위한 치료다.  사실형  긍정  현재  불확실   \n",
              "3364   박근혜 정권에서 블랙리스트에 올라 지난 2014년 타의로 미국으로 떠난 이 부회장은...  사실형  긍정  과거   확실   \n",
              "4670             이들 게임은 국내 구글 플레이 매출 톱10 진입이 예상되는 기대작이다.  추론형  긍정  미래  불확실   \n",
              "7099             이들 게임은 국내 구글 플레이 매출 톱10 진입이 예상되는 기대작이다.  예측형  긍정  현재  불확실   \n",
              "7269   각 레이스가 종료되면 ＇우마무스메＇들이 무대에 올라 눈과 귀를 즐겁게하는 공연을 펼친다.  사실형  긍정  미래   확실   \n",
              "14989  각 레이스가 종료되면 ＇우마무스메＇들이 무대에 올라 눈과 귀를 즐겁게하는 공연을 펼친다.  사실형  긍정  현재  불확실   \n",
              "15167         직접적으로 암 덩어리를 없애거나 크기를 줄이고 암세포를 죽이기 위한 치료다.  사실형  긍정  현재   확실   \n",
              "\n",
              "               label  \n",
              "208    사실형-긍정-과거-불확실  \n",
              "2108   사실형-긍정-현재-불확실  \n",
              "3364    사실형-긍정-과거-확실  \n",
              "4670   추론형-긍정-미래-불확실  \n",
              "7099   예측형-긍정-현재-불확실  \n",
              "7269    사실형-긍정-미래-확실  \n",
              "14989  사실형-긍정-현재-불확실  \n",
              "15167   사실형-긍정-현재-확실  "
            ],
            "text/html": [
              "\n",
              "  <div id=\"df-da4460bc-9221-4e8c-99b9-51e2a3b86f34\">\n",
              "    <div class=\"colab-df-container\">\n",
              "      <div>\n",
              "<style scoped>\n",
              "    .dataframe tbody tr th:only-of-type {\n",
              "        vertical-align: middle;\n",
              "    }\n",
              "\n",
              "    .dataframe tbody tr th {\n",
              "        vertical-align: top;\n",
              "    }\n",
              "\n",
              "    .dataframe thead th {\n",
              "        text-align: right;\n",
              "    }\n",
              "</style>\n",
              "<table border=\"1\" class=\"dataframe\">\n",
              "  <thead>\n",
              "    <tr style=\"text-align: right;\">\n",
              "      <th></th>\n",
              "      <th>문장</th>\n",
              "      <th>유형</th>\n",
              "      <th>극성</th>\n",
              "      <th>시제</th>\n",
              "      <th>확실성</th>\n",
              "      <th>label</th>\n",
              "    </tr>\n",
              "  </thead>\n",
              "  <tbody>\n",
              "    <tr>\n",
              "      <th>208</th>\n",
              "      <td>박근혜 정권에서 블랙리스트에 올라 지난 2014년 타의로 미국으로 떠난 이 부회장은...</td>\n",
              "      <td>사실형</td>\n",
              "      <td>긍정</td>\n",
              "      <td>과거</td>\n",
              "      <td>불확실</td>\n",
              "      <td>사실형-긍정-과거-불확실</td>\n",
              "    </tr>\n",
              "    <tr>\n",
              "      <th>2108</th>\n",
              "      <td>직접적으로 암 덩어리를 없애거나 크기를 줄이고 암세포를 죽이기 위한 치료다.</td>\n",
              "      <td>사실형</td>\n",
              "      <td>긍정</td>\n",
              "      <td>현재</td>\n",
              "      <td>불확실</td>\n",
              "      <td>사실형-긍정-현재-불확실</td>\n",
              "    </tr>\n",
              "    <tr>\n",
              "      <th>3364</th>\n",
              "      <td>박근혜 정권에서 블랙리스트에 올라 지난 2014년 타의로 미국으로 떠난 이 부회장은...</td>\n",
              "      <td>사실형</td>\n",
              "      <td>긍정</td>\n",
              "      <td>과거</td>\n",
              "      <td>확실</td>\n",
              "      <td>사실형-긍정-과거-확실</td>\n",
              "    </tr>\n",
              "    <tr>\n",
              "      <th>4670</th>\n",
              "      <td>이들 게임은 국내 구글 플레이 매출 톱10 진입이 예상되는 기대작이다.</td>\n",
              "      <td>추론형</td>\n",
              "      <td>긍정</td>\n",
              "      <td>미래</td>\n",
              "      <td>불확실</td>\n",
              "      <td>추론형-긍정-미래-불확실</td>\n",
              "    </tr>\n",
              "    <tr>\n",
              "      <th>7099</th>\n",
              "      <td>이들 게임은 국내 구글 플레이 매출 톱10 진입이 예상되는 기대작이다.</td>\n",
              "      <td>예측형</td>\n",
              "      <td>긍정</td>\n",
              "      <td>현재</td>\n",
              "      <td>불확실</td>\n",
              "      <td>예측형-긍정-현재-불확실</td>\n",
              "    </tr>\n",
              "    <tr>\n",
              "      <th>7269</th>\n",
              "      <td>각 레이스가 종료되면 ＇우마무스메＇들이 무대에 올라 눈과 귀를 즐겁게하는 공연을 펼친다.</td>\n",
              "      <td>사실형</td>\n",
              "      <td>긍정</td>\n",
              "      <td>미래</td>\n",
              "      <td>확실</td>\n",
              "      <td>사실형-긍정-미래-확실</td>\n",
              "    </tr>\n",
              "    <tr>\n",
              "      <th>14989</th>\n",
              "      <td>각 레이스가 종료되면 ＇우마무스메＇들이 무대에 올라 눈과 귀를 즐겁게하는 공연을 펼친다.</td>\n",
              "      <td>사실형</td>\n",
              "      <td>긍정</td>\n",
              "      <td>현재</td>\n",
              "      <td>불확실</td>\n",
              "      <td>사실형-긍정-현재-불확실</td>\n",
              "    </tr>\n",
              "    <tr>\n",
              "      <th>15167</th>\n",
              "      <td>직접적으로 암 덩어리를 없애거나 크기를 줄이고 암세포를 죽이기 위한 치료다.</td>\n",
              "      <td>사실형</td>\n",
              "      <td>긍정</td>\n",
              "      <td>현재</td>\n",
              "      <td>확실</td>\n",
              "      <td>사실형-긍정-현재-확실</td>\n",
              "    </tr>\n",
              "  </tbody>\n",
              "</table>\n",
              "</div>\n",
              "      <button class=\"colab-df-convert\" onclick=\"convertToInteractive('df-da4460bc-9221-4e8c-99b9-51e2a3b86f34')\"\n",
              "              title=\"Convert this dataframe to an interactive table.\"\n",
              "              style=\"display:none;\">\n",
              "        \n",
              "  <svg xmlns=\"http://www.w3.org/2000/svg\" height=\"24px\"viewBox=\"0 0 24 24\"\n",
              "       width=\"24px\">\n",
              "    <path d=\"M0 0h24v24H0V0z\" fill=\"none\"/>\n",
              "    <path d=\"M18.56 5.44l.94 2.06.94-2.06 2.06-.94-2.06-.94-.94-2.06-.94 2.06-2.06.94zm-11 1L8.5 8.5l.94-2.06 2.06-.94-2.06-.94L8.5 2.5l-.94 2.06-2.06.94zm10 10l.94 2.06.94-2.06 2.06-.94-2.06-.94-.94-2.06-.94 2.06-2.06.94z\"/><path d=\"M17.41 7.96l-1.37-1.37c-.4-.4-.92-.59-1.43-.59-.52 0-1.04.2-1.43.59L10.3 9.45l-7.72 7.72c-.78.78-.78 2.05 0 2.83L4 21.41c.39.39.9.59 1.41.59.51 0 1.02-.2 1.41-.59l7.78-7.78 2.81-2.81c.8-.78.8-2.07 0-2.86zM5.41 20L4 18.59l7.72-7.72 1.47 1.35L5.41 20z\"/>\n",
              "  </svg>\n",
              "      </button>\n",
              "      \n",
              "  <style>\n",
              "    .colab-df-container {\n",
              "      display:flex;\n",
              "      flex-wrap:wrap;\n",
              "      gap: 12px;\n",
              "    }\n",
              "\n",
              "    .colab-df-convert {\n",
              "      background-color: #E8F0FE;\n",
              "      border: none;\n",
              "      border-radius: 50%;\n",
              "      cursor: pointer;\n",
              "      display: none;\n",
              "      fill: #1967D2;\n",
              "      height: 32px;\n",
              "      padding: 0 0 0 0;\n",
              "      width: 32px;\n",
              "    }\n",
              "\n",
              "    .colab-df-convert:hover {\n",
              "      background-color: #E2EBFA;\n",
              "      box-shadow: 0px 1px 2px rgba(60, 64, 67, 0.3), 0px 1px 3px 1px rgba(60, 64, 67, 0.15);\n",
              "      fill: #174EA6;\n",
              "    }\n",
              "\n",
              "    [theme=dark] .colab-df-convert {\n",
              "      background-color: #3B4455;\n",
              "      fill: #D2E3FC;\n",
              "    }\n",
              "\n",
              "    [theme=dark] .colab-df-convert:hover {\n",
              "      background-color: #434B5C;\n",
              "      box-shadow: 0px 1px 3px 1px rgba(0, 0, 0, 0.15);\n",
              "      filter: drop-shadow(0px 1px 2px rgba(0, 0, 0, 0.3));\n",
              "      fill: #FFFFFF;\n",
              "    }\n",
              "  </style>\n",
              "\n",
              "      <script>\n",
              "        const buttonEl =\n",
              "          document.querySelector('#df-da4460bc-9221-4e8c-99b9-51e2a3b86f34 button.colab-df-convert');\n",
              "        buttonEl.style.display =\n",
              "          google.colab.kernel.accessAllowed ? 'block' : 'none';\n",
              "\n",
              "        async function convertToInteractive(key) {\n",
              "          const element = document.querySelector('#df-da4460bc-9221-4e8c-99b9-51e2a3b86f34');\n",
              "          const dataTable =\n",
              "            await google.colab.kernel.invokeFunction('convertToInteractive',\n",
              "                                                     [key], {});\n",
              "          if (!dataTable) return;\n",
              "\n",
              "          const docLinkHtml = 'Like what you see? Visit the ' +\n",
              "            '<a target=\"_blank\" href=https://colab.research.google.com/notebooks/data_table.ipynb>data table notebook</a>'\n",
              "            + ' to learn more about interactive tables.';\n",
              "          element.innerHTML = '';\n",
              "          dataTable['output_type'] = 'display_data';\n",
              "          await google.colab.output.renderOutput(dataTable, element);\n",
              "          const docLink = document.createElement('div');\n",
              "          docLink.innerHTML = docLinkHtml;\n",
              "          element.appendChild(docLink);\n",
              "        }\n",
              "      </script>\n",
              "    </div>\n",
              "  </div>\n",
              "  "
            ]
          },
          "metadata": {},
          "execution_count": 12
        }
      ]
    },
    {
      "cell_type": "code",
      "source": [
        "# 문장은 같으나 label이 다른 데이터 => 모두 삭제\n",
        "train = train.drop(index=train[train.duplicated([\"문장\"], keep=False)].index)\n",
        "train = train.reset_index()\n",
        "train.shape"
      ],
      "metadata": {
        "colab": {
          "base_uri": "https://localhost:8080/"
        },
        "id": "gmYTfWRfV8Az",
        "outputId": "4f81dea4-e4fd-470a-b4c3-eaf4d75c2110"
      },
      "execution_count": null,
      "outputs": [
        {
          "output_type": "execute_result",
          "data": {
            "text/plain": [
              "(16502, 7)"
            ]
          },
          "metadata": {},
          "execution_count": 13
        }
      ]
    },
    {
      "cell_type": "code",
      "source": [
        "X = train[\"문장\"]\n",
        "type_y = train[\"유형\"]\n",
        "polarity_y = train[\"극성\"]\n",
        "tense_y = train[\"시제\"]\n",
        "certainty_y = train[\"확실성\"]"
      ],
      "metadata": {
        "id": "pMxGpC8omviQ"
      },
      "execution_count": null,
      "outputs": []
    },
    {
      "cell_type": "code",
      "source": [
        "# # # vectorizer\n",
        "# from sklearn.feature_extraction.text import TfidfVectorizer\n",
        "\n",
        "# vectorizer = TfidfVectorizer(min_df=4, analyzer='word', ngram_range=(1, 2))\n",
        "# vectorizer.fit(X)\n",
        "\n",
        "# X_train = vectorizer.transform(X)\n",
        "# test = vectorizer.transform(test)\n",
        "\n",
        "# X_train.shape, test.shape"
      ],
      "metadata": {
        "id": "g0qX5AJWoY4C"
      },
      "execution_count": null,
      "outputs": []
    },
    {
      "cell_type": "code",
      "source": [
        "from tensorflow.keras.preprocessing.text import Tokenizer\n",
        "\n",
        "vocab_size = 100\n",
        "oov_tok = \"<oov>\"\n",
        "tokenizer = Tokenizer(num_words=vocab_size, oov_token = oov_tok)\n",
        "\n",
        "tokenizer.fit_on_texts(X)\n",
        "\n",
        "train_sequence = tokenizer.texts_to_sequences(X)\n",
        "test_sequence = tokenizer.texts_to_sequences(test[\"문장\"])"
      ],
      "metadata": {
        "id": "F9hHbQWTOihE"
      },
      "execution_count": null,
      "outputs": []
    },
    {
      "cell_type": "code",
      "source": [
        "from tensorflow.keras.preprocessing.sequence import pad_sequences\n",
        "\n",
        "train_sp = pad_sequences(train_sequence, maxlen=100)\n",
        "test_sp = pad_sequences(test_sequence, maxlen=100)"
      ],
      "metadata": {
        "id": "IarTC87bN6b9"
      },
      "execution_count": null,
      "outputs": []
    },
    {
      "cell_type": "code",
      "source": [
        "# # Label Encoding (유형, 극성, 시제, 확실성)\n",
        "# from sklearn.preprocessing import LabelEncoder\n",
        "\n",
        "# type_le = LabelEncoder()\n",
        "# type_y = type_le.fit_transform(type_y.values)\n",
        "\n",
        "# polarity_le = LabelEncoder()\n",
        "# polarity_y = polarity_le.fit_transform(polarity_y.values)\n",
        "\n",
        "# tense_le  = LabelEncoder()\n",
        "# tense_y = tense_le.fit_transform(tense_y.values)\n",
        "\n",
        "# certainty_le  = LabelEncoder()\n",
        "# certainty_y = certainty_le.fit_transform(certainty_y.values)"
      ],
      "metadata": {
        "id": "8SzDIe1pfpsQ"
      },
      "execution_count": null,
      "outputs": []
    },
    {
      "cell_type": "code",
      "source": [
        "# one-hot encoding\n",
        "type_y = pd.get_dummies(type_y)\n",
        "polarity_y = pd.get_dummies(polarity_y)\n",
        "tense_y = pd.get_dummies(tense_y)\n",
        "certainty_y = pd.get_dummies(certainty_y)"
      ],
      "metadata": {
        "id": "elBXoZIubM_F"
      },
      "execution_count": null,
      "outputs": []
    },
    {
      "cell_type": "code",
      "source": [
        "type_y.shape, polarity_y.shape, tense_y.shape, certainty_y.shape"
      ],
      "metadata": {
        "colab": {
          "base_uri": "https://localhost:8080/"
        },
        "id": "OGXD9NPzbsPj",
        "outputId": "e498ee43-22ec-4cb9-a2ff-b805cfe6d798"
      },
      "execution_count": null,
      "outputs": [
        {
          "output_type": "execute_result",
          "data": {
            "text/plain": [
              "((16502, 4), (16502, 3), (16502, 3), (16502, 2))"
            ]
          },
          "metadata": {},
          "execution_count": 20
        }
      ]
    },
    {
      "cell_type": "code",
      "source": [
        "from tensorflow.keras.callbacks import EarlyStopping\n",
        "early_stop = EarlyStopping(monitor='val_loss', patience=5, restore_best_weights=True)"
      ],
      "metadata": {
        "id": "RCq4mjl20I54"
      },
      "execution_count": null,
      "outputs": []
    },
    {
      "cell_type": "code",
      "source": [
        "import tensorflow as tf\n",
        "from tensorflow.keras.layers import Dense, Embedding, GRU, Bidirectional, LSTM, Dropout"
      ],
      "metadata": {
        "id": "g0AbDk7MrCt8"
      },
      "execution_count": null,
      "outputs": []
    },
    {
      "cell_type": "markdown",
      "source": [
        "### 유형"
      ],
      "metadata": {
        "id": "nUzrNLc4dnKa"
      }
    },
    {
      "cell_type": "code",
      "source": [
        "model = tf.keras.Sequential()\n",
        "\n",
        "model.add(Embedding(input_dim=100,\n",
        "                    output_dim=64,\n",
        "                    input_length=100))\n",
        "model.add(Bidirectional(GRU(units=64, return_sequences=True)))\n",
        "model.add(Bidirectional(GRU(units=64, return_sequences=True)))\n",
        "model.add(GRU(units=64))\n",
        "\n",
        "model.add(Dense(4, activation=\"softmax\"))\n",
        "\n",
        "model.summary()"
      ],
      "metadata": {
        "colab": {
          "base_uri": "https://localhost:8080/"
        },
        "id": "CJXHj6E_kN8m",
        "outputId": "6f400c4c-16f6-4438-b5f2-1f5eaf1f557c"
      },
      "execution_count": null,
      "outputs": [
        {
          "output_type": "stream",
          "name": "stdout",
          "text": [
            "Model: \"sequential\"\n",
            "_________________________________________________________________\n",
            " Layer (type)                Output Shape              Param #   \n",
            "=================================================================\n",
            " embedding (Embedding)       (None, 100, 64)           6400      \n",
            "                                                                 \n",
            " bidirectional (Bidirectiona  (None, 100, 128)         49920     \n",
            " l)                                                              \n",
            "                                                                 \n",
            " bidirectional_1 (Bidirectio  (None, 100, 128)         74496     \n",
            " nal)                                                            \n",
            "                                                                 \n",
            " gru_2 (GRU)                 (None, 64)                37248     \n",
            "                                                                 \n",
            " dense (Dense)               (None, 4)                 260       \n",
            "                                                                 \n",
            "=================================================================\n",
            "Total params: 168,324\n",
            "Trainable params: 168,324\n",
            "Non-trainable params: 0\n",
            "_________________________________________________________________\n"
          ]
        }
      ]
    },
    {
      "cell_type": "code",
      "source": [
        "model.compile(optimizer=\"adam\",\n",
        "            loss=\"categorical_crossentropy\",\n",
        "            metrics=\"accuracy\")"
      ],
      "metadata": {
        "id": "24ZE23YBkS1-"
      },
      "execution_count": null,
      "outputs": []
    },
    {
      "cell_type": "code",
      "source": [
        "# 유형\n",
        "from sklearn.model_selection import train_test_split\n",
        "\n",
        "X_train_type, X_val_type, y_train_type, y_val_type = train_test_split(\n",
        "    train_sp, type_y, test_size=0.2, random_state=42, stratify=type_y)\n",
        "\n",
        "X_train_type.shape, X_val_type.shape, y_train_type.shape, y_val_type.shape"
      ],
      "metadata": {
        "colab": {
          "base_uri": "https://localhost:8080/"
        },
        "id": "ovGR5mcc932c",
        "outputId": "0a6ef5a3-b5eb-4f49-9610-5977eb5fc099"
      },
      "execution_count": null,
      "outputs": [
        {
          "output_type": "execute_result",
          "data": {
            "text/plain": [
              "((13201, 100), (3301, 100), (13201, 4), (3301, 4))"
            ]
          },
          "metadata": {},
          "execution_count": 25
        }
      ]
    },
    {
      "cell_type": "code",
      "source": [
        "# 유형\n",
        "type_history = model.fit(X_train_type, y_train_type,\n",
        "                    validation_data=(X_val_type, y_val_type),\n",
        "                    epochs=100, callbacks=[early_stop])"
      ],
      "metadata": {
        "colab": {
          "base_uri": "https://localhost:8080/"
        },
        "id": "yxTXQZZS0UY4",
        "outputId": "03da9a0b-5c47-487e-c9a6-7ccdabdf1838"
      },
      "execution_count": null,
      "outputs": [
        {
          "output_type": "stream",
          "name": "stdout",
          "text": [
            "Epoch 1/100\n",
            "413/413 [==============================] - 137s 307ms/step - loss: 0.5817 - accuracy: 0.8230 - val_loss: 0.5551 - val_accuracy: 0.8252\n",
            "Epoch 2/100\n",
            "413/413 [==============================] - 125s 302ms/step - loss: 0.5315 - accuracy: 0.8299 - val_loss: 0.5288 - val_accuracy: 0.8310\n",
            "Epoch 3/100\n",
            "413/413 [==============================] - 125s 303ms/step - loss: 0.5232 - accuracy: 0.8298 - val_loss: 0.5185 - val_accuracy: 0.8304\n",
            "Epoch 4/100\n",
            "413/413 [==============================] - 125s 302ms/step - loss: 0.5197 - accuracy: 0.8314 - val_loss: 0.5299 - val_accuracy: 0.8294\n",
            "Epoch 5/100\n",
            "413/413 [==============================] - 126s 304ms/step - loss: 0.5148 - accuracy: 0.8318 - val_loss: 0.5293 - val_accuracy: 0.8319\n",
            "Epoch 6/100\n",
            "413/413 [==============================] - 125s 303ms/step - loss: 0.5135 - accuracy: 0.8322 - val_loss: 0.5197 - val_accuracy: 0.8313\n",
            "Epoch 7/100\n",
            "413/413 [==============================] - 125s 302ms/step - loss: 0.5104 - accuracy: 0.8322 - val_loss: 0.5173 - val_accuracy: 0.8313\n",
            "Epoch 8/100\n",
            "413/413 [==============================] - 125s 303ms/step - loss: 0.5079 - accuracy: 0.8314 - val_loss: 0.5226 - val_accuracy: 0.8267\n",
            "Epoch 9/100\n",
            "413/413 [==============================] - 125s 303ms/step - loss: 0.5055 - accuracy: 0.8314 - val_loss: 0.5160 - val_accuracy: 0.8316\n",
            "Epoch 10/100\n",
            "413/413 [==============================] - 125s 303ms/step - loss: 0.5028 - accuracy: 0.8330 - val_loss: 0.5189 - val_accuracy: 0.8301\n",
            "Epoch 11/100\n",
            "413/413 [==============================] - 125s 304ms/step - loss: 0.4977 - accuracy: 0.8341 - val_loss: 0.5218 - val_accuracy: 0.8264\n",
            "Epoch 12/100\n",
            "413/413 [==============================] - 126s 304ms/step - loss: 0.4970 - accuracy: 0.8325 - val_loss: 0.5264 - val_accuracy: 0.8288\n",
            "Epoch 13/100\n",
            "413/413 [==============================] - 126s 306ms/step - loss: 0.4938 - accuracy: 0.8334 - val_loss: 0.5228 - val_accuracy: 0.8325\n",
            "Epoch 14/100\n",
            "413/413 [==============================] - 126s 304ms/step - loss: 0.4897 - accuracy: 0.8349 - val_loss: 0.5267 - val_accuracy: 0.8288\n"
          ]
        }
      ]
    },
    {
      "cell_type": "code",
      "source": [
        "type_df = pd.DataFrame(type_history.history)\n",
        "type_df"
      ],
      "metadata": {
        "colab": {
          "base_uri": "https://localhost:8080/",
          "height": 488
        },
        "id": "Yl_fdcnmU5l-",
        "outputId": "dfd26c8a-4563-4189-aac8-4acce1241cd5"
      },
      "execution_count": null,
      "outputs": [
        {
          "output_type": "execute_result",
          "data": {
            "text/plain": [
              "        loss  accuracy  val_loss  val_accuracy\n",
              "0   0.581703  0.822968  0.555122      0.825204\n",
              "1   0.531503  0.829937  0.528843      0.830960\n",
              "2   0.523234  0.829786  0.518497      0.830354\n",
              "3   0.519749  0.831376  0.529868      0.829446\n",
              "4   0.514782  0.831755  0.529279      0.831869\n",
              "5   0.513536  0.832210  0.519724      0.831263\n",
              "6   0.510425  0.832210  0.517287      0.831263\n",
              "7   0.507930  0.831376  0.522592      0.826719\n",
              "8   0.505466  0.831376  0.515974      0.831566\n",
              "9   0.502791  0.832967  0.518854      0.830051\n",
              "10  0.497663  0.834103  0.521845      0.826416\n",
              "11  0.497027  0.832513  0.526433      0.828840\n",
              "12  0.493758  0.833422  0.522770      0.832475\n",
              "13  0.489662  0.834937  0.526744      0.828840"
            ],
            "text/html": [
              "\n",
              "  <div id=\"df-58bc28cf-347c-4642-8537-320c3bb2d5d6\">\n",
              "    <div class=\"colab-df-container\">\n",
              "      <div>\n",
              "<style scoped>\n",
              "    .dataframe tbody tr th:only-of-type {\n",
              "        vertical-align: middle;\n",
              "    }\n",
              "\n",
              "    .dataframe tbody tr th {\n",
              "        vertical-align: top;\n",
              "    }\n",
              "\n",
              "    .dataframe thead th {\n",
              "        text-align: right;\n",
              "    }\n",
              "</style>\n",
              "<table border=\"1\" class=\"dataframe\">\n",
              "  <thead>\n",
              "    <tr style=\"text-align: right;\">\n",
              "      <th></th>\n",
              "      <th>loss</th>\n",
              "      <th>accuracy</th>\n",
              "      <th>val_loss</th>\n",
              "      <th>val_accuracy</th>\n",
              "    </tr>\n",
              "  </thead>\n",
              "  <tbody>\n",
              "    <tr>\n",
              "      <th>0</th>\n",
              "      <td>0.581703</td>\n",
              "      <td>0.822968</td>\n",
              "      <td>0.555122</td>\n",
              "      <td>0.825204</td>\n",
              "    </tr>\n",
              "    <tr>\n",
              "      <th>1</th>\n",
              "      <td>0.531503</td>\n",
              "      <td>0.829937</td>\n",
              "      <td>0.528843</td>\n",
              "      <td>0.830960</td>\n",
              "    </tr>\n",
              "    <tr>\n",
              "      <th>2</th>\n",
              "      <td>0.523234</td>\n",
              "      <td>0.829786</td>\n",
              "      <td>0.518497</td>\n",
              "      <td>0.830354</td>\n",
              "    </tr>\n",
              "    <tr>\n",
              "      <th>3</th>\n",
              "      <td>0.519749</td>\n",
              "      <td>0.831376</td>\n",
              "      <td>0.529868</td>\n",
              "      <td>0.829446</td>\n",
              "    </tr>\n",
              "    <tr>\n",
              "      <th>4</th>\n",
              "      <td>0.514782</td>\n",
              "      <td>0.831755</td>\n",
              "      <td>0.529279</td>\n",
              "      <td>0.831869</td>\n",
              "    </tr>\n",
              "    <tr>\n",
              "      <th>5</th>\n",
              "      <td>0.513536</td>\n",
              "      <td>0.832210</td>\n",
              "      <td>0.519724</td>\n",
              "      <td>0.831263</td>\n",
              "    </tr>\n",
              "    <tr>\n",
              "      <th>6</th>\n",
              "      <td>0.510425</td>\n",
              "      <td>0.832210</td>\n",
              "      <td>0.517287</td>\n",
              "      <td>0.831263</td>\n",
              "    </tr>\n",
              "    <tr>\n",
              "      <th>7</th>\n",
              "      <td>0.507930</td>\n",
              "      <td>0.831376</td>\n",
              "      <td>0.522592</td>\n",
              "      <td>0.826719</td>\n",
              "    </tr>\n",
              "    <tr>\n",
              "      <th>8</th>\n",
              "      <td>0.505466</td>\n",
              "      <td>0.831376</td>\n",
              "      <td>0.515974</td>\n",
              "      <td>0.831566</td>\n",
              "    </tr>\n",
              "    <tr>\n",
              "      <th>9</th>\n",
              "      <td>0.502791</td>\n",
              "      <td>0.832967</td>\n",
              "      <td>0.518854</td>\n",
              "      <td>0.830051</td>\n",
              "    </tr>\n",
              "    <tr>\n",
              "      <th>10</th>\n",
              "      <td>0.497663</td>\n",
              "      <td>0.834103</td>\n",
              "      <td>0.521845</td>\n",
              "      <td>0.826416</td>\n",
              "    </tr>\n",
              "    <tr>\n",
              "      <th>11</th>\n",
              "      <td>0.497027</td>\n",
              "      <td>0.832513</td>\n",
              "      <td>0.526433</td>\n",
              "      <td>0.828840</td>\n",
              "    </tr>\n",
              "    <tr>\n",
              "      <th>12</th>\n",
              "      <td>0.493758</td>\n",
              "      <td>0.833422</td>\n",
              "      <td>0.522770</td>\n",
              "      <td>0.832475</td>\n",
              "    </tr>\n",
              "    <tr>\n",
              "      <th>13</th>\n",
              "      <td>0.489662</td>\n",
              "      <td>0.834937</td>\n",
              "      <td>0.526744</td>\n",
              "      <td>0.828840</td>\n",
              "    </tr>\n",
              "  </tbody>\n",
              "</table>\n",
              "</div>\n",
              "      <button class=\"colab-df-convert\" onclick=\"convertToInteractive('df-58bc28cf-347c-4642-8537-320c3bb2d5d6')\"\n",
              "              title=\"Convert this dataframe to an interactive table.\"\n",
              "              style=\"display:none;\">\n",
              "        \n",
              "  <svg xmlns=\"http://www.w3.org/2000/svg\" height=\"24px\"viewBox=\"0 0 24 24\"\n",
              "       width=\"24px\">\n",
              "    <path d=\"M0 0h24v24H0V0z\" fill=\"none\"/>\n",
              "    <path d=\"M18.56 5.44l.94 2.06.94-2.06 2.06-.94-2.06-.94-.94-2.06-.94 2.06-2.06.94zm-11 1L8.5 8.5l.94-2.06 2.06-.94-2.06-.94L8.5 2.5l-.94 2.06-2.06.94zm10 10l.94 2.06.94-2.06 2.06-.94-2.06-.94-.94-2.06-.94 2.06-2.06.94z\"/><path d=\"M17.41 7.96l-1.37-1.37c-.4-.4-.92-.59-1.43-.59-.52 0-1.04.2-1.43.59L10.3 9.45l-7.72 7.72c-.78.78-.78 2.05 0 2.83L4 21.41c.39.39.9.59 1.41.59.51 0 1.02-.2 1.41-.59l7.78-7.78 2.81-2.81c.8-.78.8-2.07 0-2.86zM5.41 20L4 18.59l7.72-7.72 1.47 1.35L5.41 20z\"/>\n",
              "  </svg>\n",
              "      </button>\n",
              "      \n",
              "  <style>\n",
              "    .colab-df-container {\n",
              "      display:flex;\n",
              "      flex-wrap:wrap;\n",
              "      gap: 12px;\n",
              "    }\n",
              "\n",
              "    .colab-df-convert {\n",
              "      background-color: #E8F0FE;\n",
              "      border: none;\n",
              "      border-radius: 50%;\n",
              "      cursor: pointer;\n",
              "      display: none;\n",
              "      fill: #1967D2;\n",
              "      height: 32px;\n",
              "      padding: 0 0 0 0;\n",
              "      width: 32px;\n",
              "    }\n",
              "\n",
              "    .colab-df-convert:hover {\n",
              "      background-color: #E2EBFA;\n",
              "      box-shadow: 0px 1px 2px rgba(60, 64, 67, 0.3), 0px 1px 3px 1px rgba(60, 64, 67, 0.15);\n",
              "      fill: #174EA6;\n",
              "    }\n",
              "\n",
              "    [theme=dark] .colab-df-convert {\n",
              "      background-color: #3B4455;\n",
              "      fill: #D2E3FC;\n",
              "    }\n",
              "\n",
              "    [theme=dark] .colab-df-convert:hover {\n",
              "      background-color: #434B5C;\n",
              "      box-shadow: 0px 1px 3px 1px rgba(0, 0, 0, 0.15);\n",
              "      filter: drop-shadow(0px 1px 2px rgba(0, 0, 0, 0.3));\n",
              "      fill: #FFFFFF;\n",
              "    }\n",
              "  </style>\n",
              "\n",
              "      <script>\n",
              "        const buttonEl =\n",
              "          document.querySelector('#df-58bc28cf-347c-4642-8537-320c3bb2d5d6 button.colab-df-convert');\n",
              "        buttonEl.style.display =\n",
              "          google.colab.kernel.accessAllowed ? 'block' : 'none';\n",
              "\n",
              "        async function convertToInteractive(key) {\n",
              "          const element = document.querySelector('#df-58bc28cf-347c-4642-8537-320c3bb2d5d6');\n",
              "          const dataTable =\n",
              "            await google.colab.kernel.invokeFunction('convertToInteractive',\n",
              "                                                     [key], {});\n",
              "          if (!dataTable) return;\n",
              "\n",
              "          const docLinkHtml = 'Like what you see? Visit the ' +\n",
              "            '<a target=\"_blank\" href=https://colab.research.google.com/notebooks/data_table.ipynb>data table notebook</a>'\n",
              "            + ' to learn more about interactive tables.';\n",
              "          element.innerHTML = '';\n",
              "          dataTable['output_type'] = 'display_data';\n",
              "          await google.colab.output.renderOutput(dataTable, element);\n",
              "          const docLink = document.createElement('div');\n",
              "          docLink.innerHTML = docLinkHtml;\n",
              "          element.appendChild(docLink);\n",
              "        }\n",
              "      </script>\n",
              "    </div>\n",
              "  </div>\n",
              "  "
            ]
          },
          "metadata": {},
          "execution_count": 27
        }
      ]
    },
    {
      "cell_type": "code",
      "source": [
        "type_df[[\"loss\", \"val_loss\"]].plot();"
      ],
      "metadata": {
        "colab": {
          "base_uri": "https://localhost:8080/",
          "height": 265
        },
        "id": "kS_pyIdeVFJW",
        "outputId": "38f7a7f7-184b-4698-d4fb-5dcc062760ba"
      },
      "execution_count": null,
      "outputs": [
        {
          "output_type": "display_data",
          "data": {
            "text/plain": [
              "<Figure size 432x288 with 1 Axes>"
            ],
            "image/png": "[encoded data removed]"
          },
          "metadata": {
            "needs_background": "light"
          }
        }
      ]
    },
    {
      "cell_type": "code",
      "source": [
        "type_df[[\"accuracy\", \"val_accuracy\"]].plot();"
      ],
      "metadata": {
        "colab": {
          "base_uri": "https://localhost:8080/",
          "height": 265
        },
        "id": "NVoC_uNZVT0q",
        "outputId": "bd14f765-d3f4-4945-8c79-012f2112cc20"
      },
      "execution_count": null,
      "outputs": [
        {
          "output_type": "display_data",
          "data": {
            "text/plain": [
              "<Figure size 432x288 with 1 Axes>"
            ],
            "image/png": "[encoded data removed]"
          },
          "metadata": {
            "needs_background": "light"
          }
        }
      ]
    },
    {
      "cell_type": "code",
      "source": [
        "model.evaluate(X_val_type, y_val_type)"
      ],
      "metadata": {
        "colab": {
          "base_uri": "https://localhost:8080/"
        },
        "id": "BBI7tVAh0Vd8",
        "outputId": "89406e11-16b0-4328-edab-1abe6ecb4c7e"
      },
      "execution_count": null,
      "outputs": [
        {
          "output_type": "stream",
          "name": "stdout",
          "text": [
            "104/104 [==============================] - 7s 65ms/step - loss: 0.5160 - accuracy: 0.8316\n"
          ]
        },
        {
          "output_type": "execute_result",
          "data": {
            "text/plain": [
              "[0.5159744024276733, 0.8315662145614624]"
            ]
          },
          "metadata": {},
          "execution_count": 30
        }
      ]
    },
    {
      "cell_type": "code",
      "source": [
        "y_pred_type = model.predict(test_sp)"
      ],
      "metadata": {
        "colab": {
          "base_uri": "https://localhost:8080/"
        },
        "id": "YiXJy8_zVfU4",
        "outputId": "b7329bd2-e148-4045-d8d5-3d75d9666917"
      },
      "execution_count": null,
      "outputs": [
        {
          "output_type": "stream",
          "name": "stdout",
          "text": [
            "222/222 [==============================] - 16s 65ms/step\n"
          ]
        }
      ]
    },
    {
      "cell_type": "code",
      "source": [
        "y_predict_type = np.argmax(y_pred_type, axis=1)\n",
        "y_predict_type"
      ],
      "metadata": {
        "colab": {
          "base_uri": "https://localhost:8080/"
        },
        "id": "iMAC-EOnjnpQ",
        "outputId": "76ed58fc-3c0b-4718-8b23-422be02f826d"
      },
      "execution_count": null,
      "outputs": [
        {
          "output_type": "execute_result",
          "data": {
            "text/plain": [
              "array([1, 1, 1, ..., 1, 1, 1])"
            ]
          },
          "metadata": {},
          "execution_count": 34
        }
      ]
    },
    {
      "cell_type": "code",
      "source": [
        "type_dict = {0 : \"대화형\",\n",
        "             1 : \"사실형\",\n",
        "             2 : \"예측형\",\n",
        "             3 : \"추론형\"}"
      ],
      "metadata": {
        "id": "pF9SAIx52QkU"
      },
      "execution_count": null,
      "outputs": []
    },
    {
      "cell_type": "code",
      "source": [
        "pd.Series(y_predict_type).value_counts()"
      ],
      "metadata": {
        "colab": {
          "base_uri": "https://localhost:8080/"
        },
        "id": "royWJQPKV38z",
        "outputId": "b1b5f075-09fc-4f9f-cafb-19588a2dba8a"
      },
      "execution_count": null,
      "outputs": [
        {
          "output_type": "execute_result",
          "data": {
            "text/plain": [
              "1    6876\n",
              "3     107\n",
              "0      97\n",
              "2      10\n",
              "dtype: int64"
            ]
          },
          "metadata": {},
          "execution_count": 35
        }
      ]
    },
    {
      "cell_type": "code",
      "source": [
        "type = pd.Series(y_predict_type).map(type_dict)\n",
        "type"
      ],
      "metadata": {
        "colab": {
          "base_uri": "https://localhost:8080/"
        },
        "id": "hyadw1n0IdIx",
        "outputId": "dfff17c6-4029-42ba-a0fd-11b40c73bf39"
      },
      "execution_count": null,
      "outputs": [
        {
          "output_type": "execute_result",
          "data": {
            "text/plain": [
              "0       사실형\n",
              "1       사실형\n",
              "2       사실형\n",
              "3       사실형\n",
              "4       사실형\n",
              "       ... \n",
              "7085    사실형\n",
              "7086    사실형\n",
              "7087    사실형\n",
              "7088    사실형\n",
              "7089    사실형\n",
              "Length: 7090, dtype: object"
            ]
          },
          "metadata": {},
          "execution_count": 39
        }
      ]
    },
    {
      "cell_type": "markdown",
      "source": [
        "### 극성"
      ],
      "metadata": {
        "id": "P5OptbNkdqUb"
      }
    },
    {
      "cell_type": "code",
      "source": [
        "model = tf.keras.Sequential()\n",
        "\n",
        "model.add(Embedding(input_dim=100,\n",
        "                    output_dim=64,\n",
        "                    input_length=100))\n",
        "model.add(Bidirectional(GRU(units=64, return_sequences=True)))\n",
        "model.add(Bidirectional(GRU(units=64, return_sequences=True)))\n",
        "model.add(GRU(units=64))\n",
        "\n",
        "model.add(Dense(3, activation=\"softmax\"))\n",
        "\n",
        "model.summary()"
      ],
      "metadata": {
        "colab": {
          "base_uri": "https://localhost:8080/"
        },
        "id": "oGWFZkBvI-Za",
        "outputId": "04e97b3b-2997-4d3b-c4e9-f1799e60aabc"
      },
      "execution_count": null,
      "outputs": [
        {
          "output_type": "stream",
          "name": "stdout",
          "text": [
            "Model: \"sequential_1\"\n",
            "_________________________________________________________________\n",
            " Layer (type)                Output Shape              Param #   \n",
            "=================================================================\n",
            " embedding_1 (Embedding)     (None, 100, 64)           6400      \n",
            "                                                                 \n",
            " bidirectional_2 (Bidirectio  (None, 100, 128)         49920     \n",
            " nal)                                                            \n",
            "                                                                 \n",
            " bidirectional_3 (Bidirectio  (None, 100, 128)         74496     \n",
            " nal)                                                            \n",
            "                                                                 \n",
            " gru_5 (GRU)                 (None, 64)                37248     \n",
            "                                                                 \n",
            " dense_1 (Dense)             (None, 3)                 195       \n",
            "                                                                 \n",
            "=================================================================\n",
            "Total params: 168,259\n",
            "Trainable params: 168,259\n",
            "Non-trainable params: 0\n",
            "_________________________________________________________________\n"
          ]
        }
      ]
    },
    {
      "cell_type": "code",
      "source": [
        "model.compile(optimizer=\"adam\",\n",
        "            loss=\"categorical_crossentropy\",\n",
        "            metrics=\"accuracy\")"
      ],
      "metadata": {
        "id": "SsyOkZJmJD7p"
      },
      "execution_count": null,
      "outputs": []
    },
    {
      "cell_type": "code",
      "source": [
        "# 극성\n",
        "X_train_polarity, X_val_polarity, y_train_polarity, y_val_polarity = train_test_split(\n",
        "    train_sp, polarity_y, test_size=0.2, random_state=42, stratify=polarity_y)\n",
        "\n",
        "X_train_polarity.shape, X_val_polarity.shape, y_train_polarity.shape, y_val_polarity.shape"
      ],
      "metadata": {
        "colab": {
          "base_uri": "https://localhost:8080/"
        },
        "id": "zF7ADDdC-Dt2",
        "outputId": "c678601b-18c2-4a10-be38-b2009f4cd2d6"
      },
      "execution_count": null,
      "outputs": [
        {
          "output_type": "execute_result",
          "data": {
            "text/plain": [
              "((13201, 100), (3301, 100), (13201, 3), (3301, 3))"
            ]
          },
          "metadata": {},
          "execution_count": 40
        }
      ]
    },
    {
      "cell_type": "code",
      "source": [
        "# 극성\n",
        "polarity_history = model.fit(X_train_polarity, y_train_polarity,\n",
        "                    validation_data=(X_val_polarity, y_val_polarity),\n",
        "                    epochs=100, callbacks=[early_stop])"
      ],
      "metadata": {
        "colab": {
          "base_uri": "https://localhost:8080/"
        },
        "id": "PA-I7wkLUsyI",
        "outputId": "697931d9-64ad-45b4-c0f6-4efaf16de806"
      },
      "execution_count": null,
      "outputs": [
        {
          "output_type": "stream",
          "name": "stdout",
          "text": [
            "Epoch 1/100\n",
            "413/413 [==============================] - 137s 310ms/step - loss: 0.2232 - accuracy: 0.9525 - val_loss: 0.1991 - val_accuracy: 0.9546\n",
            "Epoch 2/100\n",
            "413/413 [==============================] - 126s 306ms/step - loss: 0.1994 - accuracy: 0.9548 - val_loss: 0.2032 - val_accuracy: 0.9546\n",
            "Epoch 3/100\n",
            "413/413 [==============================] - 125s 304ms/step - loss: 0.1972 - accuracy: 0.9545 - val_loss: 0.1999 - val_accuracy: 0.9546\n",
            "Epoch 4/100\n",
            "413/413 [==============================] - 125s 303ms/step - loss: 0.1944 - accuracy: 0.9549 - val_loss: 0.1958 - val_accuracy: 0.9552\n",
            "Epoch 5/100\n",
            "413/413 [==============================] - 126s 304ms/step - loss: 0.1949 - accuracy: 0.9544 - val_loss: 0.1961 - val_accuracy: 0.9552\n",
            "Epoch 6/100\n",
            "413/413 [==============================] - 126s 305ms/step - loss: 0.1922 - accuracy: 0.9547 - val_loss: 0.1961 - val_accuracy: 0.9543\n",
            "Epoch 7/100\n",
            "413/413 [==============================] - 125s 303ms/step - loss: 0.1913 - accuracy: 0.9549 - val_loss: 0.2009 - val_accuracy: 0.9546\n",
            "Epoch 8/100\n",
            "413/413 [==============================] - 126s 306ms/step - loss: 0.1899 - accuracy: 0.9547 - val_loss: 0.2009 - val_accuracy: 0.9546\n",
            "Epoch 9/100\n",
            "413/413 [==============================] - 125s 302ms/step - loss: 0.1884 - accuracy: 0.9551 - val_loss: 0.2032 - val_accuracy: 0.9543\n"
          ]
        }
      ]
    },
    {
      "cell_type": "code",
      "source": [
        "polarity_df = pd.DataFrame(polarity_history.history)\n",
        "polarity_df"
      ],
      "metadata": {
        "colab": {
          "base_uri": "https://localhost:8080/",
          "height": 331
        },
        "id": "VoTiBS4JOApM",
        "outputId": "bd4fe25b-7b61-42de-f157-3fa58d4fdbbe"
      },
      "execution_count": null,
      "outputs": [
        {
          "output_type": "execute_result",
          "data": {
            "text/plain": [
              "       loss  accuracy  val_loss  val_accuracy\n",
              "0  0.223173  0.952504  0.199076      0.954559\n",
              "1  0.199388  0.954776  0.203231      0.954559\n",
              "2  0.197233  0.954549  0.199941      0.954559\n",
              "3  0.194385  0.954928  0.195827      0.955165\n",
              "4  0.194863  0.954397  0.196067      0.955165\n",
              "5  0.192193  0.954700  0.196054      0.954256\n",
              "6  0.191349  0.954852  0.200898      0.954559\n",
              "7  0.189895  0.954700  0.200873      0.954559\n",
              "8  0.188385  0.955079  0.203199      0.954256"
            ],
            "text/html": [
              "\n",
              "  <div id=\"df-8bbe0712-e400-4b17-8325-b13c46a5f3a6\">\n",
              "    <div class=\"colab-df-container\">\n",
              "      <div>\n",
              "<style scoped>\n",
              "    .dataframe tbody tr th:only-of-type {\n",
              "        vertical-align: middle;\n",
              "    }\n",
              "\n",
              "    .dataframe tbody tr th {\n",
              "        vertical-align: top;\n",
              "    }\n",
              "\n",
              "    .dataframe thead th {\n",
              "        text-align: right;\n",
              "    }\n",
              "</style>\n",
              "<table border=\"1\" class=\"dataframe\">\n",
              "  <thead>\n",
              "    <tr style=\"text-align: right;\">\n",
              "      <th></th>\n",
              "      <th>loss</th>\n",
              "      <th>accuracy</th>\n",
              "      <th>val_loss</th>\n",
              "      <th>val_accuracy</th>\n",
              "    </tr>\n",
              "  </thead>\n",
              "  <tbody>\n",
              "    <tr>\n",
              "      <th>0</th>\n",
              "      <td>0.223173</td>\n",
              "      <td>0.952504</td>\n",
              "      <td>0.199076</td>\n",
              "      <td>0.954559</td>\n",
              "    </tr>\n",
              "    <tr>\n",
              "      <th>1</th>\n",
              "      <td>0.199388</td>\n",
              "      <td>0.954776</td>\n",
              "      <td>0.203231</td>\n",
              "      <td>0.954559</td>\n",
              "    </tr>\n",
              "    <tr>\n",
              "      <th>2</th>\n",
              "      <td>0.197233</td>\n",
              "      <td>0.954549</td>\n",
              "      <td>0.199941</td>\n",
              "      <td>0.954559</td>\n",
              "    </tr>\n",
              "    <tr>\n",
              "      <th>3</th>\n",
              "      <td>0.194385</td>\n",
              "      <td>0.954928</td>\n",
              "      <td>0.195827</td>\n",
              "      <td>0.955165</td>\n",
              "    </tr>\n",
              "    <tr>\n",
              "      <th>4</th>\n",
              "      <td>0.194863</td>\n",
              "      <td>0.954397</td>\n",
              "      <td>0.196067</td>\n",
              "      <td>0.955165</td>\n",
              "    </tr>\n",
              "    <tr>\n",
              "      <th>5</th>\n",
              "      <td>0.192193</td>\n",
              "      <td>0.954700</td>\n",
              "      <td>0.196054</td>\n",
              "      <td>0.954256</td>\n",
              "    </tr>\n",
              "    <tr>\n",
              "      <th>6</th>\n",
              "      <td>0.191349</td>\n",
              "      <td>0.954852</td>\n",
              "      <td>0.200898</td>\n",
              "      <td>0.954559</td>\n",
              "    </tr>\n",
              "    <tr>\n",
              "      <th>7</th>\n",
              "      <td>0.189895</td>\n",
              "      <td>0.954700</td>\n",
              "      <td>0.200873</td>\n",
              "      <td>0.954559</td>\n",
              "    </tr>\n",
              "    <tr>\n",
              "      <th>8</th>\n",
              "      <td>0.188385</td>\n",
              "      <td>0.955079</td>\n",
              "      <td>0.203199</td>\n",
              "      <td>0.954256</td>\n",
              "    </tr>\n",
              "  </tbody>\n",
              "</table>\n",
              "</div>\n",
              "      <button class=\"colab-df-convert\" onclick=\"convertToInteractive('df-8bbe0712-e400-4b17-8325-b13c46a5f3a6')\"\n",
              "              title=\"Convert this dataframe to an interactive table.\"\n",
              "              style=\"display:none;\">\n",
              "        \n",
              "  <svg xmlns=\"http://www.w3.org/2000/svg\" height=\"24px\"viewBox=\"0 0 24 24\"\n",
              "       width=\"24px\">\n",
              "    <path d=\"M0 0h24v24H0V0z\" fill=\"none\"/>\n",
              "    <path d=\"M18.56 5.44l.94 2.06.94-2.06 2.06-.94-2.06-.94-.94-2.06-.94 2.06-2.06.94zm-11 1L8.5 8.5l.94-2.06 2.06-.94-2.06-.94L8.5 2.5l-.94 2.06-2.06.94zm10 10l.94 2.06.94-2.06 2.06-.94-2.06-.94-.94-2.06-.94 2.06-2.06.94z\"/><path d=\"M17.41 7.96l-1.37-1.37c-.4-.4-.92-.59-1.43-.59-.52 0-1.04.2-1.43.59L10.3 9.45l-7.72 7.72c-.78.78-.78 2.05 0 2.83L4 21.41c.39.39.9.59 1.41.59.51 0 1.02-.2 1.41-.59l7.78-7.78 2.81-2.81c.8-.78.8-2.07 0-2.86zM5.41 20L4 18.59l7.72-7.72 1.47 1.35L5.41 20z\"/>\n",
              "  </svg>\n",
              "      </button>\n",
              "      \n",
              "  <style>\n",
              "    .colab-df-container {\n",
              "      display:flex;\n",
              "      flex-wrap:wrap;\n",
              "      gap: 12px;\n",
              "    }\n",
              "\n",
              "    .colab-df-convert {\n",
              "      background-color: #E8F0FE;\n",
              "      border: none;\n",
              "      border-radius: 50%;\n",
              "      cursor: pointer;\n",
              "      display: none;\n",
              "      fill: #1967D2;\n",
              "      height: 32px;\n",
              "      padding: 0 0 0 0;\n",
              "      width: 32px;\n",
              "    }\n",
              "\n",
              "    .colab-df-convert:hover {\n",
              "      background-color: #E2EBFA;\n",
              "      box-shadow: 0px 1px 2px rgba(60, 64, 67, 0.3), 0px 1px 3px 1px rgba(60, 64, 67, 0.15);\n",
              "      fill: #174EA6;\n",
              "    }\n",
              "\n",
              "    [theme=dark] .colab-df-convert {\n",
              "      background-color: #3B4455;\n",
              "      fill: #D2E3FC;\n",
              "    }\n",
              "\n",
              "    [theme=dark] .colab-df-convert:hover {\n",
              "      background-color: #434B5C;\n",
              "      box-shadow: 0px 1px 3px 1px rgba(0, 0, 0, 0.15);\n",
              "      filter: drop-shadow(0px 1px 2px rgba(0, 0, 0, 0.3));\n",
              "      fill: #FFFFFF;\n",
              "    }\n",
              "  </style>\n",
              "\n",
              "      <script>\n",
              "        const buttonEl =\n",
              "          document.querySelector('#df-8bbe0712-e400-4b17-8325-b13c46a5f3a6 button.colab-df-convert');\n",
              "        buttonEl.style.display =\n",
              "          google.colab.kernel.accessAllowed ? 'block' : 'none';\n",
              "\n",
              "        async function convertToInteractive(key) {\n",
              "          const element = document.querySelector('#df-8bbe0712-e400-4b17-8325-b13c46a5f3a6');\n",
              "          const dataTable =\n",
              "            await google.colab.kernel.invokeFunction('convertToInteractive',\n",
              "                                                     [key], {});\n",
              "          if (!dataTable) return;\n",
              "\n",
              "          const docLinkHtml = 'Like what you see? Visit the ' +\n",
              "            '<a target=\"_blank\" href=https://colab.research.google.com/notebooks/data_table.ipynb>data table notebook</a>'\n",
              "            + ' to learn more about interactive tables.';\n",
              "          element.innerHTML = '';\n",
              "          dataTable['output_type'] = 'display_data';\n",
              "          await google.colab.output.renderOutput(dataTable, element);\n",
              "          const docLink = document.createElement('div');\n",
              "          docLink.innerHTML = docLinkHtml;\n",
              "          element.appendChild(docLink);\n",
              "        }\n",
              "      </script>\n",
              "    </div>\n",
              "  </div>\n",
              "  "
            ]
          },
          "metadata": {},
          "execution_count": 45
        }
      ]
    },
    {
      "cell_type": "code",
      "source": [
        "polarity_df[[\"loss\", \"val_loss\"]].plot();"
      ],
      "metadata": {
        "colab": {
          "base_uri": "https://localhost:8080/",
          "height": 265
        },
        "id": "jcgznUzEOQeb",
        "outputId": "f0dc009e-c3fb-46fb-dc36-af26522d4015"
      },
      "execution_count": null,
      "outputs": [
        {
          "output_type": "display_data",
          "data": {
            "text/plain": [
              "<Figure size 432x288 with 1 Axes>"
            ],
            "image/png": "[encoded data removed]"
          },
          "metadata": {
            "needs_background": "light"
          }
        }
      ]
    },
    {
      "cell_type": "code",
      "source": [
        "polarity_df[[\"accuracy\", \"val_accuracy\"]].plot();"
      ],
      "metadata": {
        "colab": {
          "base_uri": "https://localhost:8080/",
          "height": 265
        },
        "id": "HX55ZKqeOpRG",
        "outputId": "7a55d7a2-f1ca-4b14-dc8f-34c11e37e9d6"
      },
      "execution_count": null,
      "outputs": [
        {
          "output_type": "display_data",
          "data": {
            "text/plain": [
              "<Figure size 432x288 with 1 Axes>"
            ],
            "image/png": "[encoded data removed]"
          },
          "metadata": {
            "needs_background": "light"
          }
        }
      ]
    },
    {
      "cell_type": "code",
      "source": [
        "model.evaluate(X_val_polarity, y_val_polarity)"
      ],
      "metadata": {
        "colab": {
          "base_uri": "https://localhost:8080/"
        },
        "id": "WbaPG07aOxWj",
        "outputId": "358a02e1-2d84-4ab9-9825-cc62c2e5cd6c"
      },
      "execution_count": null,
      "outputs": [
        {
          "output_type": "stream",
          "name": "stdout",
          "text": [
            "104/104 [==============================] - 7s 67ms/step - loss: 0.1958 - accuracy: 0.9552\n"
          ]
        },
        {
          "output_type": "execute_result",
          "data": {
            "text/plain": [
              "[0.1958267241716385, 0.9551650881767273]"
            ]
          },
          "metadata": {},
          "execution_count": 48
        }
      ]
    },
    {
      "cell_type": "code",
      "source": [
        "y_pred_polarity = model.predict(test_sp)"
      ],
      "metadata": {
        "colab": {
          "base_uri": "https://localhost:8080/"
        },
        "id": "65bO6Y1-O3G7",
        "outputId": "7c6020a1-ef35-4aed-8557-a8f8812b9971"
      },
      "execution_count": null,
      "outputs": [
        {
          "output_type": "stream",
          "name": "stdout",
          "text": [
            "222/222 [==============================] - 17s 68ms/step\n"
          ]
        }
      ]
    },
    {
      "cell_type": "code",
      "source": [
        "y_predict_polarity = np.argmax(y_pred_polarity, axis=1)\n",
        "y_predict_polarity"
      ],
      "metadata": {
        "colab": {
          "base_uri": "https://localhost:8080/"
        },
        "id": "ZRaPj39nO-b7",
        "outputId": "d876e5b3-b967-4738-87a5-e7139c02428b"
      },
      "execution_count": null,
      "outputs": [
        {
          "output_type": "execute_result",
          "data": {
            "text/plain": [
              "array([0, 0, 0, ..., 0, 0, 0])"
            ]
          },
          "metadata": {},
          "execution_count": 50
        }
      ]
    },
    {
      "cell_type": "code",
      "source": [
        "polarity_dict = {0 : \"긍정\",\n",
        "             1 : \"미정\",\n",
        "             2 : \"부정\"}"
      ],
      "metadata": {
        "id": "-3dL-xy4PQvE"
      },
      "execution_count": null,
      "outputs": []
    },
    {
      "cell_type": "code",
      "source": [
        "polarity = pd.Series(y_predict_polarity).map(polarity_dict)\n",
        "polarity"
      ],
      "metadata": {
        "colab": {
          "base_uri": "https://localhost:8080/"
        },
        "id": "L5e2XWX_Pfot",
        "outputId": "9426d310-0b55-4585-b524-f44c8f0a19fd"
      },
      "execution_count": null,
      "outputs": [
        {
          "output_type": "execute_result",
          "data": {
            "text/plain": [
              "0       긍정\n",
              "1       긍정\n",
              "2       긍정\n",
              "3       긍정\n",
              "4       긍정\n",
              "        ..\n",
              "7085    긍정\n",
              "7086    긍정\n",
              "7087    긍정\n",
              "7088    긍정\n",
              "7089    긍정\n",
              "Length: 7090, dtype: object"
            ]
          },
          "metadata": {},
          "execution_count": 60
        }
      ]
    },
    {
      "cell_type": "markdown",
      "source": [
        "### 시제"
      ],
      "metadata": {
        "id": "NrI9a7VWdshc"
      }
    },
    {
      "cell_type": "code",
      "source": [
        "model = tf.keras.Sequential()\n",
        "\n",
        "model.add(Embedding(input_dim=100,\n",
        "                    output_dim=64,\n",
        "                    input_length=100))\n",
        "model.add(Bidirectional(GRU(units=64, return_sequences=True)))\n",
        "model.add(Bidirectional(GRU(units=64, return_sequences=True)))\n",
        "model.add(GRU(units=64))\n",
        "\n",
        "model.add(Dense(3, activation=\"softmax\"))\n",
        "\n",
        "model.summary()"
      ],
      "metadata": {
        "colab": {
          "base_uri": "https://localhost:8080/"
        },
        "id": "kdHEjHO3N_7L",
        "outputId": "cc93ab3b-85b8-4921-c755-ee30195c962d"
      },
      "execution_count": null,
      "outputs": [
        {
          "output_type": "stream",
          "name": "stdout",
          "text": [
            "Model: \"sequential_2\"\n",
            "_________________________________________________________________\n",
            " Layer (type)                Output Shape              Param #   \n",
            "=================================================================\n",
            " embedding_2 (Embedding)     (None, 100, 64)           6400      \n",
            "                                                                 \n",
            " bidirectional_4 (Bidirectio  (None, 100, 128)         49920     \n",
            " nal)                                                            \n",
            "                                                                 \n",
            " bidirectional_5 (Bidirectio  (None, 100, 128)         74496     \n",
            " nal)                                                            \n",
            "                                                                 \n",
            " gru_8 (GRU)                 (None, 64)                37248     \n",
            "                                                                 \n",
            " dense_2 (Dense)             (None, 3)                 195       \n",
            "                                                                 \n",
            "=================================================================\n",
            "Total params: 168,259\n",
            "Trainable params: 168,259\n",
            "Non-trainable params: 0\n",
            "_________________________________________________________________\n"
          ]
        }
      ]
    },
    {
      "cell_type": "code",
      "source": [
        "model.compile(optimizer=\"adam\",\n",
        "            loss=\"categorical_crossentropy\",\n",
        "            metrics=\"accuracy\")"
      ],
      "metadata": {
        "id": "2YewZF59Q0XR"
      },
      "execution_count": null,
      "outputs": []
    },
    {
      "cell_type": "code",
      "source": [
        "# 시제\n",
        "X_train_tense, X_val_tense, y_train_tense, y_val_tense = train_test_split(\n",
        "    train_sp, tense_y, test_size=0.2, random_state=42, stratify=tense_y)\n",
        "\n",
        "X_train_tense.shape, X_val_tense.shape, y_train_tense.shape, y_val_tense.shape"
      ],
      "metadata": {
        "colab": {
          "base_uri": "https://localhost:8080/"
        },
        "id": "nPJICO9K-ExN",
        "outputId": "adfa0eb7-545f-4fbe-b965-0ddba98a8df2"
      },
      "execution_count": null,
      "outputs": [
        {
          "output_type": "execute_result",
          "data": {
            "text/plain": [
              "((13201, 100), (3301, 100), (13201, 3), (3301, 3))"
            ]
          },
          "metadata": {},
          "execution_count": 63
        }
      ]
    },
    {
      "cell_type": "code",
      "source": [
        "# 시제\n",
        "tense_history = model.fit(X_train_tense, y_train_tense,\n",
        "                    validation_data=(X_val_tense, y_val_tense),\n",
        "                    epochs=100, callbacks=[early_stop])"
      ],
      "metadata": {
        "colab": {
          "base_uri": "https://localhost:8080/"
        },
        "id": "gWxpb4B5RLQs",
        "outputId": "303b49ad-5eae-4343-f993-9ff56dffefe2"
      },
      "execution_count": null,
      "outputs": [
        {
          "output_type": "stream",
          "name": "stdout",
          "text": [
            "Epoch 1/100\n",
            "413/413 [==============================] - 138s 311ms/step - loss: 0.8505 - accuracy: 0.5749 - val_loss: 0.8047 - val_accuracy: 0.6062\n",
            "Epoch 2/100\n",
            "413/413 [==============================] - 125s 303ms/step - loss: 0.8050 - accuracy: 0.6100 - val_loss: 0.7921 - val_accuracy: 0.6207\n",
            "Epoch 3/100\n",
            "413/413 [==============================] - 126s 305ms/step - loss: 0.7837 - accuracy: 0.6179 - val_loss: 0.7683 - val_accuracy: 0.6189\n",
            "Epoch 4/100\n",
            "413/413 [==============================] - 126s 306ms/step - loss: 0.7746 - accuracy: 0.6209 - val_loss: 0.7676 - val_accuracy: 0.6222\n",
            "Epoch 5/100\n",
            "413/413 [==============================] - 126s 305ms/step - loss: 0.7688 - accuracy: 0.6267 - val_loss: 0.7693 - val_accuracy: 0.6231\n",
            "Epoch 6/100\n",
            "413/413 [==============================] - 126s 306ms/step - loss: 0.7658 - accuracy: 0.6287 - val_loss: 0.7718 - val_accuracy: 0.6168\n",
            "Epoch 7/100\n",
            "413/413 [==============================] - 126s 306ms/step - loss: 0.7619 - accuracy: 0.6288 - val_loss: 0.7718 - val_accuracy: 0.6222\n",
            "Epoch 8/100\n",
            "413/413 [==============================] - 126s 306ms/step - loss: 0.7596 - accuracy: 0.6340 - val_loss: 0.7696 - val_accuracy: 0.6225\n",
            "Epoch 9/100\n",
            "413/413 [==============================] - 126s 306ms/step - loss: 0.7561 - accuracy: 0.6371 - val_loss: 0.7777 - val_accuracy: 0.6174\n"
          ]
        }
      ]
    },
    {
      "cell_type": "code",
      "source": [
        "tense_df = pd.DataFrame(tense_history.history)\n",
        "tense_df"
      ],
      "metadata": {
        "colab": {
          "base_uri": "https://localhost:8080/",
          "height": 331
        },
        "id": "vaM5zj5oWItw",
        "outputId": "8800f7b4-1fb4-4cc6-d55d-f19de4a19831"
      },
      "execution_count": null,
      "outputs": [
        {
          "output_type": "execute_result",
          "data": {
            "text/plain": [
              "       loss  accuracy  val_loss  val_accuracy\n",
              "0  0.850456  0.574881  0.804712      0.606180\n",
              "1  0.805000  0.610030  0.792118      0.620721\n",
              "2  0.783673  0.617908  0.768311      0.618903\n",
              "3  0.774622  0.620862  0.767603      0.622236\n",
              "4  0.768850  0.626695  0.769333      0.623145\n",
              "5  0.765828  0.628740  0.771801      0.616783\n",
              "6  0.761932  0.628816  0.771750      0.622236\n",
              "7  0.759557  0.633967  0.769638      0.622539\n",
              "8  0.756111  0.637149  0.777653      0.617389"
            ],
            "text/html": [
              "\n",
              "  <div id=\"df-9fc6a69e-a1c1-4ed9-a476-09b14cfe61ac\">\n",
              "    <div class=\"colab-df-container\">\n",
              "      <div>\n",
              "<style scoped>\n",
              "    .dataframe tbody tr th:only-of-type {\n",
              "        vertical-align: middle;\n",
              "    }\n",
              "\n",
              "    .dataframe tbody tr th {\n",
              "        vertical-align: top;\n",
              "    }\n",
              "\n",
              "    .dataframe thead th {\n",
              "        text-align: right;\n",
              "    }\n",
              "</style>\n",
              "<table border=\"1\" class=\"dataframe\">\n",
              "  <thead>\n",
              "    <tr style=\"text-align: right;\">\n",
              "      <th></th>\n",
              "      <th>loss</th>\n",
              "      <th>accuracy</th>\n",
              "      <th>val_loss</th>\n",
              "      <th>val_accuracy</th>\n",
              "    </tr>\n",
              "  </thead>\n",
              "  <tbody>\n",
              "    <tr>\n",
              "      <th>0</th>\n",
              "      <td>0.850456</td>\n",
              "      <td>0.574881</td>\n",
              "      <td>0.804712</td>\n",
              "      <td>0.606180</td>\n",
              "    </tr>\n",
              "    <tr>\n",
              "      <th>1</th>\n",
              "      <td>0.805000</td>\n",
              "      <td>0.610030</td>\n",
              "      <td>0.792118</td>\n",
              "      <td>0.620721</td>\n",
              "    </tr>\n",
              "    <tr>\n",
              "      <th>2</th>\n",
              "      <td>0.783673</td>\n",
              "      <td>0.617908</td>\n",
              "      <td>0.768311</td>\n",
              "      <td>0.618903</td>\n",
              "    </tr>\n",
              "    <tr>\n",
              "      <th>3</th>\n",
              "      <td>0.774622</td>\n",
              "      <td>0.620862</td>\n",
              "      <td>0.767603</td>\n",
              "      <td>0.622236</td>\n",
              "    </tr>\n",
              "    <tr>\n",
              "      <th>4</th>\n",
              "      <td>0.768850</td>\n",
              "      <td>0.626695</td>\n",
              "      <td>0.769333</td>\n",
              "      <td>0.623145</td>\n",
              "    </tr>\n",
              "    <tr>\n",
              "      <th>5</th>\n",
              "      <td>0.765828</td>\n",
              "      <td>0.628740</td>\n",
              "      <td>0.771801</td>\n",
              "      <td>0.616783</td>\n",
              "    </tr>\n",
              "    <tr>\n",
              "      <th>6</th>\n",
              "      <td>0.761932</td>\n",
              "      <td>0.628816</td>\n",
              "      <td>0.771750</td>\n",
              "      <td>0.622236</td>\n",
              "    </tr>\n",
              "    <tr>\n",
              "      <th>7</th>\n",
              "      <td>0.759557</td>\n",
              "      <td>0.633967</td>\n",
              "      <td>0.769638</td>\n",
              "      <td>0.622539</td>\n",
              "    </tr>\n",
              "    <tr>\n",
              "      <th>8</th>\n",
              "      <td>0.756111</td>\n",
              "      <td>0.637149</td>\n",
              "      <td>0.777653</td>\n",
              "      <td>0.617389</td>\n",
              "    </tr>\n",
              "  </tbody>\n",
              "</table>\n",
              "</div>\n",
              "      <button class=\"colab-df-convert\" onclick=\"convertToInteractive('df-9fc6a69e-a1c1-4ed9-a476-09b14cfe61ac')\"\n",
              "              title=\"Convert this dataframe to an interactive table.\"\n",
              "              style=\"display:none;\">\n",
              "        \n",
              "  <svg xmlns=\"http://www.w3.org/2000/svg\" height=\"24px\"viewBox=\"0 0 24 24\"\n",
              "       width=\"24px\">\n",
              "    <path d=\"M0 0h24v24H0V0z\" fill=\"none\"/>\n",
              "    <path d=\"M18.56 5.44l.94 2.06.94-2.06 2.06-.94-2.06-.94-.94-2.06-.94 2.06-2.06.94zm-11 1L8.5 8.5l.94-2.06 2.06-.94-2.06-.94L8.5 2.5l-.94 2.06-2.06.94zm10 10l.94 2.06.94-2.06 2.06-.94-2.06-.94-.94-2.06-.94 2.06-2.06.94z\"/><path d=\"M17.41 7.96l-1.37-1.37c-.4-.4-.92-.59-1.43-.59-.52 0-1.04.2-1.43.59L10.3 9.45l-7.72 7.72c-.78.78-.78 2.05 0 2.83L4 21.41c.39.39.9.59 1.41.59.51 0 1.02-.2 1.41-.59l7.78-7.78 2.81-2.81c.8-.78.8-2.07 0-2.86zM5.41 20L4 18.59l7.72-7.72 1.47 1.35L5.41 20z\"/>\n",
              "  </svg>\n",
              "      </button>\n",
              "      \n",
              "  <style>\n",
              "    .colab-df-container {\n",
              "      display:flex;\n",
              "      flex-wrap:wrap;\n",
              "      gap: 12px;\n",
              "    }\n",
              "\n",
              "    .colab-df-convert {\n",
              "      background-color: #E8F0FE;\n",
              "      border: none;\n",
              "      border-radius: 50%;\n",
              "      cursor: pointer;\n",
              "      display: none;\n",
              "      fill: #1967D2;\n",
              "      height: 32px;\n",
              "      padding: 0 0 0 0;\n",
              "      width: 32px;\n",
              "    }\n",
              "\n",
              "    .colab-df-convert:hover {\n",
              "      background-color: #E2EBFA;\n",
              "      box-shadow: 0px 1px 2px rgba(60, 64, 67, 0.3), 0px 1px 3px 1px rgba(60, 64, 67, 0.15);\n",
              "      fill: #174EA6;\n",
              "    }\n",
              "\n",
              "    [theme=dark] .colab-df-convert {\n",
              "      background-color: #3B4455;\n",
              "      fill: #D2E3FC;\n",
              "    }\n",
              "\n",
              "    [theme=dark] .colab-df-convert:hover {\n",
              "      background-color: #434B5C;\n",
              "      box-shadow: 0px 1px 3px 1px rgba(0, 0, 0, 0.15);\n",
              "      filter: drop-shadow(0px 1px 2px rgba(0, 0, 0, 0.3));\n",
              "      fill: #FFFFFF;\n",
              "    }\n",
              "  </style>\n",
              "\n",
              "      <script>\n",
              "        const buttonEl =\n",
              "          document.querySelector('#df-9fc6a69e-a1c1-4ed9-a476-09b14cfe61ac button.colab-df-convert');\n",
              "        buttonEl.style.display =\n",
              "          google.colab.kernel.accessAllowed ? 'block' : 'none';\n",
              "\n",
              "        async function convertToInteractive(key) {\n",
              "          const element = document.querySelector('#df-9fc6a69e-a1c1-4ed9-a476-09b14cfe61ac');\n",
              "          const dataTable =\n",
              "            await google.colab.kernel.invokeFunction('convertToInteractive',\n",
              "                                                     [key], {});\n",
              "          if (!dataTable) return;\n",
              "\n",
              "          const docLinkHtml = 'Like what you see? Visit the ' +\n",
              "            '<a target=\"_blank\" href=https://colab.research.google.com/notebooks/data_table.ipynb>data table notebook</a>'\n",
              "            + ' to learn more about interactive tables.';\n",
              "          element.innerHTML = '';\n",
              "          dataTable['output_type'] = 'display_data';\n",
              "          await google.colab.output.renderOutput(dataTable, element);\n",
              "          const docLink = document.createElement('div');\n",
              "          docLink.innerHTML = docLinkHtml;\n",
              "          element.appendChild(docLink);\n",
              "        }\n",
              "      </script>\n",
              "    </div>\n",
              "  </div>\n",
              "  "
            ]
          },
          "metadata": {},
          "execution_count": 65
        }
      ]
    },
    {
      "cell_type": "code",
      "source": [
        "tense_df[[\"loss\", \"val_loss\"]].plot();"
      ],
      "metadata": {
        "colab": {
          "base_uri": "https://localhost:8080/",
          "height": 265
        },
        "id": "kg9N0JUdWQst",
        "outputId": "f3fffd0d-325b-4fda-bc02-8e41a4cc5d72"
      },
      "execution_count": null,
      "outputs": [
        {
          "output_type": "display_data",
          "data": {
            "text/plain": [
              "<Figure size 432x288 with 1 Axes>"
            ],
            "image/png": "[encoded data removed]"
          },
          "metadata": {
            "needs_background": "light"
          }
        }
      ]
    },
    {
      "cell_type": "code",
      "source": [
        "tense_df[[\"accuracy\", \"val_accuracy\"]].plot();"
      ],
      "metadata": {
        "colab": {
          "base_uri": "https://localhost:8080/",
          "height": 269
        },
        "id": "d4OjlJqJWVBY",
        "outputId": "e777b7bb-a360-45ef-de09-470b9ba16349"
      },
      "execution_count": null,
      "outputs": [
        {
          "output_type": "display_data",
          "data": {
            "text/plain": [
              "<Figure size 432x288 with 1 Axes>"
            ],
            "image/png": "[encoded data removed]"
          },
          "metadata": {
            "needs_background": "light"
          }
        }
      ]
    },
    {
      "cell_type": "code",
      "source": [
        "model.evaluate(X_val_tense, y_val_tense)"
      ],
      "metadata": {
        "colab": {
          "base_uri": "https://localhost:8080/"
        },
        "id": "womxDapaWcdG",
        "outputId": "391ab988-1fb5-469c-efc4-d2d7662304ff"
      },
      "execution_count": null,
      "outputs": [
        {
          "output_type": "stream",
          "name": "stdout",
          "text": [
            "104/104 [==============================] - 8s 73ms/step - loss: 0.7676 - accuracy: 0.6222\n"
          ]
        },
        {
          "output_type": "execute_result",
          "data": {
            "text/plain": [
              "[0.767602801322937, 0.6222357153892517]"
            ]
          },
          "metadata": {},
          "execution_count": 68
        }
      ]
    },
    {
      "cell_type": "code",
      "source": [
        "y_pred_tense = model.predict(test_sp)"
      ],
      "metadata": {
        "colab": {
          "base_uri": "https://localhost:8080/"
        },
        "id": "kjgIQPAgWfvN",
        "outputId": "3c8a4f2b-004e-46f5-df1f-48686e11afca"
      },
      "execution_count": null,
      "outputs": [
        {
          "output_type": "stream",
          "name": "stdout",
          "text": [
            "222/222 [==============================] - 18s 74ms/step\n"
          ]
        }
      ]
    },
    {
      "cell_type": "code",
      "source": [
        "y_predict_tense= np.argmax(y_pred_tense, axis=1)\n",
        "y_predict_tense"
      ],
      "metadata": {
        "colab": {
          "base_uri": "https://localhost:8080/"
        },
        "id": "_E1r0OosWmCW",
        "outputId": "41c25136-31ec-4449-f7be-4d292a374741"
      },
      "execution_count": null,
      "outputs": [
        {
          "output_type": "execute_result",
          "data": {
            "text/plain": [
              "array([0, 2, 0, ..., 2, 1, 2])"
            ]
          },
          "metadata": {},
          "execution_count": 70
        }
      ]
    },
    {
      "cell_type": "code",
      "source": [
        "tense_dict = {0 : \"과거\",\n",
        "             1 : \"미래\",\n",
        "             2 : \"현재\"}"
      ],
      "metadata": {
        "id": "MWxsL44yW03H"
      },
      "execution_count": null,
      "outputs": []
    },
    {
      "cell_type": "code",
      "source": [
        "tense = pd.Series(y_predict_tense).map(tense_dict)\n",
        "tense"
      ],
      "metadata": {
        "colab": {
          "base_uri": "https://localhost:8080/"
        },
        "id": "0VtSA5R8XFtH",
        "outputId": "ea4864d8-3d00-4bfa-c067-ef9defcc994e"
      },
      "execution_count": null,
      "outputs": [
        {
          "output_type": "execute_result",
          "data": {
            "text/plain": [
              "0       과거\n",
              "1       현재\n",
              "2       과거\n",
              "3       과거\n",
              "4       과거\n",
              "        ..\n",
              "7085    과거\n",
              "7086    현재\n",
              "7087    현재\n",
              "7088    미래\n",
              "7089    현재\n",
              "Length: 7090, dtype: object"
            ]
          },
          "metadata": {},
          "execution_count": 76
        }
      ]
    },
    {
      "cell_type": "markdown",
      "source": [
        "### 확실성"
      ],
      "metadata": {
        "id": "CwZ9yCsVduEF"
      }
    },
    {
      "cell_type": "code",
      "source": [
        "model = tf.keras.Sequential()\n",
        "\n",
        "model.add(Embedding(input_dim=100,\n",
        "                    output_dim=64,\n",
        "                    input_length=100))\n",
        "model.add(Bidirectional(GRU(units=64, return_sequences=True)))\n",
        "model.add(Bidirectional(GRU(units=64, return_sequences=True)))\n",
        "model.add(GRU(units=64))\n",
        "\n",
        "model.add(Dense(2, activation=\"softmax\"))\n",
        "\n",
        "model.summary()"
      ],
      "metadata": {
        "colab": {
          "base_uri": "https://localhost:8080/"
        },
        "id": "0G3I3Jl0XW2v",
        "outputId": "54fcfd77-8849-4ebb-f5e8-a5920556a754"
      },
      "execution_count": null,
      "outputs": [
        {
          "output_type": "stream",
          "name": "stdout",
          "text": [
            "Model: \"sequential_3\"\n",
            "_________________________________________________________________\n",
            " Layer (type)                Output Shape              Param #   \n",
            "=================================================================\n",
            " embedding_3 (Embedding)     (None, 100, 64)           6400      \n",
            "                                                                 \n",
            " bidirectional_6 (Bidirectio  (None, 100, 128)         49920     \n",
            " nal)                                                            \n",
            "                                                                 \n",
            " bidirectional_7 (Bidirectio  (None, 100, 128)         74496     \n",
            " nal)                                                            \n",
            "                                                                 \n",
            " gru_11 (GRU)                (None, 64)                37248     \n",
            "                                                                 \n",
            " dense_3 (Dense)             (None, 2)                 130       \n",
            "                                                                 \n",
            "=================================================================\n",
            "Total params: 168,194\n",
            "Trainable params: 168,194\n",
            "Non-trainable params: 0\n",
            "_________________________________________________________________\n"
          ]
        }
      ]
    },
    {
      "cell_type": "code",
      "source": [
        "model.compile(optimizer=\"adam\",\n",
        "            loss=\"categorical_crossentropy\",\n",
        "            metrics=\"accuracy\")"
      ],
      "metadata": {
        "id": "zVIx9VZfXhNh"
      },
      "execution_count": null,
      "outputs": []
    },
    {
      "cell_type": "code",
      "source": [
        "# 확실성\n",
        "X_train_certainty, X_val_certainty, y_train_certainty, y_val_certainty = train_test_split(\n",
        "    train_sp, certainty_y, test_size=0.2, random_state=42, stratify=certainty_y)\n",
        "\n",
        "X_train_certainty.shape, X_val_certainty.shape, y_train_certainty.shape, y_val_certainty.shape"
      ],
      "metadata": {
        "colab": {
          "base_uri": "https://localhost:8080/"
        },
        "id": "rjFh_19M-FgM",
        "outputId": "42ee4475-dbe4-44e9-986c-f4dc62446a86"
      },
      "execution_count": null,
      "outputs": [
        {
          "output_type": "execute_result",
          "data": {
            "text/plain": [
              "((13201, 100), (3301, 100), (13201, 2), (3301, 2))"
            ]
          },
          "metadata": {},
          "execution_count": 79
        }
      ]
    },
    {
      "cell_type": "code",
      "source": [
        "# 확실성\n",
        "certainty_history = model.fit(X_train_certainty, y_train_certainty,\n",
        "                    validation_data=(X_val_certainty, y_val_certainty),\n",
        "                    epochs=100, callbacks=[early_stop])"
      ],
      "metadata": {
        "colab": {
          "base_uri": "https://localhost:8080/"
        },
        "id": "AthYV9bz0wtC",
        "outputId": "6437c105-6ca6-4ddc-f55a-84f8259f6b8d"
      },
      "execution_count": null,
      "outputs": [
        {
          "output_type": "stream",
          "name": "stdout",
          "text": [
            "Epoch 1/100\n",
            "413/413 [==============================] - 140s 316ms/step - loss: 0.2674 - accuracy: 0.9160 - val_loss: 0.2640 - val_accuracy: 0.9188\n",
            "Epoch 2/100\n",
            "413/413 [==============================] - 126s 305ms/step - loss: 0.2561 - accuracy: 0.9190 - val_loss: 0.2624 - val_accuracy: 0.9188\n",
            "Epoch 3/100\n",
            "413/413 [==============================] - 125s 302ms/step - loss: 0.2537 - accuracy: 0.9190 - val_loss: 0.2660 - val_accuracy: 0.9188\n",
            "Epoch 4/100\n",
            "413/413 [==============================] - 125s 303ms/step - loss: 0.2517 - accuracy: 0.9192 - val_loss: 0.2700 - val_accuracy: 0.9155\n",
            "Epoch 5/100\n",
            "413/413 [==============================] - 125s 303ms/step - loss: 0.2508 - accuracy: 0.9199 - val_loss: 0.2602 - val_accuracy: 0.9185\n",
            "Epoch 6/100\n",
            "413/413 [==============================] - 126s 305ms/step - loss: 0.2475 - accuracy: 0.9207 - val_loss: 0.2660 - val_accuracy: 0.9176\n",
            "Epoch 7/100\n",
            "413/413 [==============================] - 125s 302ms/step - loss: 0.2472 - accuracy: 0.9193 - val_loss: 0.2639 - val_accuracy: 0.9152\n",
            "Epoch 8/100\n",
            "413/413 [==============================] - 125s 303ms/step - loss: 0.2460 - accuracy: 0.9198 - val_loss: 0.2696 - val_accuracy: 0.9158\n",
            "Epoch 9/100\n",
            "413/413 [==============================] - 125s 303ms/step - loss: 0.2457 - accuracy: 0.9206 - val_loss: 0.2729 - val_accuracy: 0.9167\n",
            "Epoch 10/100\n",
            "413/413 [==============================] - 125s 303ms/step - loss: 0.2460 - accuracy: 0.9204 - val_loss: 0.2613 - val_accuracy: 0.9197\n"
          ]
        }
      ]
    },
    {
      "cell_type": "code",
      "source": [
        "certainty_df = pd.DataFrame(certainty_history.history)\n",
        "certainty_df"
      ],
      "metadata": {
        "colab": {
          "base_uri": "https://localhost:8080/",
          "height": 363
        },
        "id": "NWKFqkXRX8o_",
        "outputId": "a8026d11-1532-44cb-e2c1-78fa87740581"
      },
      "execution_count": null,
      "outputs": [
        {
          "output_type": "execute_result",
          "data": {
            "text/plain": [
              "       loss  accuracy  val_loss  val_accuracy\n",
              "0  0.267384  0.915991  0.263971      0.918812\n",
              "1  0.256099  0.919021  0.262411      0.918812\n",
              "2  0.253704  0.919021  0.265984      0.918812\n",
              "3  0.251695  0.919249  0.269996      0.915480\n",
              "4  0.250838  0.919855  0.260165      0.918510\n",
              "5  0.247486  0.920688  0.265988      0.917601\n",
              "6  0.247195  0.919324  0.263948      0.915177\n",
              "7  0.245990  0.919779  0.269623      0.915783\n",
              "8  0.245749  0.920612  0.272933      0.916692\n",
              "9  0.246023  0.920385  0.261342      0.919721"
            ],
            "text/html": [
              "\n",
              "  <div id=\"df-41dd5a3c-8d12-4fa1-b316-27798599101e\">\n",
              "    <div class=\"colab-df-container\">\n",
              "      <div>\n",
              "<style scoped>\n",
              "    .dataframe tbody tr th:only-of-type {\n",
              "        vertical-align: middle;\n",
              "    }\n",
              "\n",
              "    .dataframe tbody tr th {\n",
              "        vertical-align: top;\n",
              "    }\n",
              "\n",
              "    .dataframe thead th {\n",
              "        text-align: right;\n",
              "    }\n",
              "</style>\n",
              "<table border=\"1\" class=\"dataframe\">\n",
              "  <thead>\n",
              "    <tr style=\"text-align: right;\">\n",
              "      <th></th>\n",
              "      <th>loss</th>\n",
              "      <th>accuracy</th>\n",
              "      <th>val_loss</th>\n",
              "      <th>val_accuracy</th>\n",
              "    </tr>\n",
              "  </thead>\n",
              "  <tbody>\n",
              "    <tr>\n",
              "      <th>0</th>\n",
              "      <td>0.267384</td>\n",
              "      <td>0.915991</td>\n",
              "      <td>0.263971</td>\n",
              "      <td>0.918812</td>\n",
              "    </tr>\n",
              "    <tr>\n",
              "      <th>1</th>\n",
              "      <td>0.256099</td>\n",
              "      <td>0.919021</td>\n",
              "      <td>0.262411</td>\n",
              "      <td>0.918812</td>\n",
              "    </tr>\n",
              "    <tr>\n",
              "      <th>2</th>\n",
              "      <td>0.253704</td>\n",
              "      <td>0.919021</td>\n",
              "      <td>0.265984</td>\n",
              "      <td>0.918812</td>\n",
              "    </tr>\n",
              "    <tr>\n",
              "      <th>3</th>\n",
              "      <td>0.251695</td>\n",
              "      <td>0.919249</td>\n",
              "      <td>0.269996</td>\n",
              "      <td>0.915480</td>\n",
              "    </tr>\n",
              "    <tr>\n",
              "      <th>4</th>\n",
              "      <td>0.250838</td>\n",
              "      <td>0.919855</td>\n",
              "      <td>0.260165</td>\n",
              "      <td>0.918510</td>\n",
              "    </tr>\n",
              "    <tr>\n",
              "      <th>5</th>\n",
              "      <td>0.247486</td>\n",
              "      <td>0.920688</td>\n",
              "      <td>0.265988</td>\n",
              "      <td>0.917601</td>\n",
              "    </tr>\n",
              "    <tr>\n",
              "      <th>6</th>\n",
              "      <td>0.247195</td>\n",
              "      <td>0.919324</td>\n",
              "      <td>0.263948</td>\n",
              "      <td>0.915177</td>\n",
              "    </tr>\n",
              "    <tr>\n",
              "      <th>7</th>\n",
              "      <td>0.245990</td>\n",
              "      <td>0.919779</td>\n",
              "      <td>0.269623</td>\n",
              "      <td>0.915783</td>\n",
              "    </tr>\n",
              "    <tr>\n",
              "      <th>8</th>\n",
              "      <td>0.245749</td>\n",
              "      <td>0.920612</td>\n",
              "      <td>0.272933</td>\n",
              "      <td>0.916692</td>\n",
              "    </tr>\n",
              "    <tr>\n",
              "      <th>9</th>\n",
              "      <td>0.246023</td>\n",
              "      <td>0.920385</td>\n",
              "      <td>0.261342</td>\n",
              "      <td>0.919721</td>\n",
              "    </tr>\n",
              "  </tbody>\n",
              "</table>\n",
              "</div>\n",
              "      <button class=\"colab-df-convert\" onclick=\"convertToInteractive('df-41dd5a3c-8d12-4fa1-b316-27798599101e')\"\n",
              "              title=\"Convert this dataframe to an interactive table.\"\n",
              "              style=\"display:none;\">\n",
              "        \n",
              "  <svg xmlns=\"http://www.w3.org/2000/svg\" height=\"24px\"viewBox=\"0 0 24 24\"\n",
              "       width=\"24px\">\n",
              "    <path d=\"M0 0h24v24H0V0z\" fill=\"none\"/>\n",
              "    <path d=\"M18.56 5.44l.94 2.06.94-2.06 2.06-.94-2.06-.94-.94-2.06-.94 2.06-2.06.94zm-11 1L8.5 8.5l.94-2.06 2.06-.94-2.06-.94L8.5 2.5l-.94 2.06-2.06.94zm10 10l.94 2.06.94-2.06 2.06-.94-2.06-.94-.94-2.06-.94 2.06-2.06.94z\"/><path d=\"M17.41 7.96l-1.37-1.37c-.4-.4-.92-.59-1.43-.59-.52 0-1.04.2-1.43.59L10.3 9.45l-7.72 7.72c-.78.78-.78 2.05 0 2.83L4 21.41c.39.39.9.59 1.41.59.51 0 1.02-.2 1.41-.59l7.78-7.78 2.81-2.81c.8-.78.8-2.07 0-2.86zM5.41 20L4 18.59l7.72-7.72 1.47 1.35L5.41 20z\"/>\n",
              "  </svg>\n",
              "      </button>\n",
              "      \n",
              "  <style>\n",
              "    .colab-df-container {\n",
              "      display:flex;\n",
              "      flex-wrap:wrap;\n",
              "      gap: 12px;\n",
              "    }\n",
              "\n",
              "    .colab-df-convert {\n",
              "      background-color: #E8F0FE;\n",
              "      border: none;\n",
              "      border-radius: 50%;\n",
              "      cursor: pointer;\n",
              "      display: none;\n",
              "      fill: #1967D2;\n",
              "      height: 32px;\n",
              "      padding: 0 0 0 0;\n",
              "      width: 32px;\n",
              "    }\n",
              "\n",
              "    .colab-df-convert:hover {\n",
              "      background-color: #E2EBFA;\n",
              "      box-shadow: 0px 1px 2px rgba(60, 64, 67, 0.3), 0px 1px 3px 1px rgba(60, 64, 67, 0.15);\n",
              "      fill: #174EA6;\n",
              "    }\n",
              "\n",
              "    [theme=dark] .colab-df-convert {\n",
              "      background-color: #3B4455;\n",
              "      fill: #D2E3FC;\n",
              "    }\n",
              "\n",
              "    [theme=dark] .colab-df-convert:hover {\n",
              "      background-color: #434B5C;\n",
              "      box-shadow: 0px 1px 3px 1px rgba(0, 0, 0, 0.15);\n",
              "      filter: drop-shadow(0px 1px 2px rgba(0, 0, 0, 0.3));\n",
              "      fill: #FFFFFF;\n",
              "    }\n",
              "  </style>\n",
              "\n",
              "      <script>\n",
              "        const buttonEl =\n",
              "          document.querySelector('#df-41dd5a3c-8d12-4fa1-b316-27798599101e button.colab-df-convert');\n",
              "        buttonEl.style.display =\n",
              "          google.colab.kernel.accessAllowed ? 'block' : 'none';\n",
              "\n",
              "        async function convertToInteractive(key) {\n",
              "          const element = document.querySelector('#df-41dd5a3c-8d12-4fa1-b316-27798599101e');\n",
              "          const dataTable =\n",
              "            await google.colab.kernel.invokeFunction('convertToInteractive',\n",
              "                                                     [key], {});\n",
              "          if (!dataTable) return;\n",
              "\n",
              "          const docLinkHtml = 'Like what you see? Visit the ' +\n",
              "            '<a target=\"_blank\" href=https://colab.research.google.com/notebooks/data_table.ipynb>data table notebook</a>'\n",
              "            + ' to learn more about interactive tables.';\n",
              "          element.innerHTML = '';\n",
              "          dataTable['output_type'] = 'display_data';\n",
              "          await google.colab.output.renderOutput(dataTable, element);\n",
              "          const docLink = document.createElement('div');\n",
              "          docLink.innerHTML = docLinkHtml;\n",
              "          element.appendChild(docLink);\n",
              "        }\n",
              "      </script>\n",
              "    </div>\n",
              "  </div>\n",
              "  "
            ]
          },
          "metadata": {},
          "execution_count": 81
        }
      ]
    },
    {
      "cell_type": "code",
      "source": [
        "certainty_df[[\"loss\", \"val_loss\"]].plot();"
      ],
      "metadata": {
        "colab": {
          "base_uri": "https://localhost:8080/",
          "height": 265
        },
        "id": "hmaiYAthdd3p",
        "outputId": "20921d02-c87b-482a-9ee6-ac458d124c3d"
      },
      "execution_count": null,
      "outputs": [
        {
          "output_type": "display_data",
          "data": {
            "text/plain": [
              "<Figure size 432x288 with 1 Axes>"
            ],
            "image/png": "[encoded data removed]"
          },
          "metadata": {
            "needs_background": "light"
          }
        }
      ]
    },
    {
      "cell_type": "code",
      "source": [
        "certainty_df[[\"accuracy\", \"val_accuracy\"]].plot();"
      ],
      "metadata": {
        "colab": {
          "base_uri": "https://localhost:8080/",
          "height": 265
        },
        "id": "XIb1s-EfdlAR",
        "outputId": "1244323d-c3f0-462a-b636-4eaab3f873ca"
      },
      "execution_count": null,
      "outputs": [
        {
          "output_type": "display_data",
          "data": {
            "text/plain": [
              "<Figure size 432x288 with 1 Axes>"
            ],
            "image/png": "[encoded data removed]"
          },
          "metadata": {
            "needs_background": "light"
          }
        }
      ]
    },
    {
      "cell_type": "code",
      "source": [
        "model.evaluate(X_val_certainty, y_val_certainty)"
      ],
      "metadata": {
        "colab": {
          "base_uri": "https://localhost:8080/"
        },
        "id": "37HtESZXdpG5",
        "outputId": "48a0ca31-b54d-4d0a-d73a-6c789367ddf7"
      },
      "execution_count": null,
      "outputs": [
        {
          "output_type": "stream",
          "name": "stdout",
          "text": [
            "104/104 [==============================] - 7s 66ms/step - loss: 0.2602 - accuracy: 0.9185\n"
          ]
        },
        {
          "output_type": "execute_result",
          "data": {
            "text/plain": [
              "[0.26016488671302795, 0.9185095429420471]"
            ]
          },
          "metadata": {},
          "execution_count": 84
        }
      ]
    },
    {
      "cell_type": "code",
      "source": [
        "y_pred_certainty = model.predict(test_sp)"
      ],
      "metadata": {
        "colab": {
          "base_uri": "https://localhost:8080/"
        },
        "id": "e6Hv2Iapdu1i",
        "outputId": "8a157bc8-4d77-4185-e67e-17731d4926b2"
      },
      "execution_count": null,
      "outputs": [
        {
          "output_type": "stream",
          "name": "stdout",
          "text": [
            "222/222 [==============================] - 18s 66ms/step\n"
          ]
        }
      ]
    },
    {
      "cell_type": "code",
      "source": [
        "y_predict_certainty= np.argmax(y_pred_certainty, axis=1)\n",
        "y_predict_certainty"
      ],
      "metadata": {
        "colab": {
          "base_uri": "https://localhost:8080/"
        },
        "id": "pNZxEpF0d25w",
        "outputId": "3090f437-09fb-40e7-eab0-73921ba0cd00"
      },
      "execution_count": null,
      "outputs": [
        {
          "output_type": "execute_result",
          "data": {
            "text/plain": [
              "array([1, 1, 1, ..., 1, 1, 1])"
            ]
          },
          "metadata": {},
          "execution_count": 86
        }
      ]
    },
    {
      "cell_type": "code",
      "source": [
        "pd.Series(y_predict_certainty).value_counts()"
      ],
      "metadata": {
        "colab": {
          "base_uri": "https://localhost:8080/"
        },
        "id": "LR_9MMA-eG8i",
        "outputId": "32c0514c-b462-4925-97d3-1faa0978ce0f"
      },
      "execution_count": null,
      "outputs": [
        {
          "output_type": "execute_result",
          "data": {
            "text/plain": [
              "1    7077\n",
              "0      13\n",
              "dtype: int64"
            ]
          },
          "metadata": {},
          "execution_count": 87
        }
      ]
    },
    {
      "cell_type": "code",
      "source": [
        "certainty_dict = {0 : \"불확실\",\n",
        "             1 : \"확실\"}"
      ],
      "metadata": {
        "id": "fS1RbgUSd9R5"
      },
      "execution_count": null,
      "outputs": []
    },
    {
      "cell_type": "code",
      "source": [
        "certainty = pd.Series(y_predict_certainty).map(certainty_dict)\n",
        "certainty"
      ],
      "metadata": {
        "colab": {
          "base_uri": "https://localhost:8080/"
        },
        "id": "y0sCoya6eSlB",
        "outputId": "b23c2eb5-b056-4627-a33f-8b32b1d554a1"
      },
      "execution_count": null,
      "outputs": [
        {
          "output_type": "execute_result",
          "data": {
            "text/plain": [
              "0       확실\n",
              "1       확실\n",
              "2       확실\n",
              "3       확실\n",
              "4       확실\n",
              "        ..\n",
              "7085    확실\n",
              "7086    확실\n",
              "7087    확실\n",
              "7088    확실\n",
              "7089    확실\n",
              "Length: 7090, dtype: object"
            ]
          },
          "metadata": {},
          "execution_count": 91
        }
      ]
    },
    {
      "cell_type": "markdown",
      "source": [
        "### 제출"
      ],
      "metadata": {
        "id": "Z4UwGbnjeb4J"
      }
    },
    {
      "cell_type": "code",
      "source": [
        "submission = pd.read_csv(f\"{base_path}/sample_submission.csv\")\n",
        "print(submission.shape)\n",
        "submission.head()"
      ],
      "metadata": {
        "colab": {
          "base_uri": "https://localhost:8080/",
          "height": 226
        },
        "id": "cNQ7JVmzeiYA",
        "outputId": "34672a65-722f-4b20-ab0d-a5d8e21037e3"
      },
      "execution_count": null,
      "outputs": [
        {
          "output_type": "stream",
          "name": "stdout",
          "text": [
            "(7090, 2)\n"
          ]
        },
        {
          "output_type": "execute_result",
          "data": {
            "text/plain": [
              "          ID         label\n",
              "0  TEST_0000  추론형-긍정-현재-확실\n",
              "1  TEST_0001  추론형-긍정-현재-확실\n",
              "2  TEST_0002  추론형-긍정-현재-확실\n",
              "3  TEST_0003  추론형-긍정-현재-확실\n",
              "4  TEST_0004  추론형-긍정-현재-확실"
            ],
            "text/html": [
              "\n",
              "  <div id=\"df-e33dd6c9-a7ef-4459-b138-f4da78150f29\">\n",
              "    <div class=\"colab-df-container\">\n",
              "      <div>\n",
              "<style scoped>\n",
              "    .dataframe tbody tr th:only-of-type {\n",
              "        vertical-align: middle;\n",
              "    }\n",
              "\n",
              "    .dataframe tbody tr th {\n",
              "        vertical-align: top;\n",
              "    }\n",
              "\n",
              "    .dataframe thead th {\n",
              "        text-align: right;\n",
              "    }\n",
              "</style>\n",
              "<table border=\"1\" class=\"dataframe\">\n",
              "  <thead>\n",
              "    <tr style=\"text-align: right;\">\n",
              "      <th></th>\n",
              "      <th>ID</th>\n",
              "      <th>label</th>\n",
              "    </tr>\n",
              "  </thead>\n",
              "  <tbody>\n",
              "    <tr>\n",
              "      <th>0</th>\n",
              "      <td>TEST_0000</td>\n",
              "      <td>추론형-긍정-현재-확실</td>\n",
              "    </tr>\n",
              "    <tr>\n",
              "      <th>1</th>\n",
              "      <td>TEST_0001</td>\n",
              "      <td>추론형-긍정-현재-확실</td>\n",
              "    </tr>\n",
              "    <tr>\n",
              "      <th>2</th>\n",
              "      <td>TEST_0002</td>\n",
              "      <td>추론형-긍정-현재-확실</td>\n",
              "    </tr>\n",
              "    <tr>\n",
              "      <th>3</th>\n",
              "      <td>TEST_0003</td>\n",
              "      <td>추론형-긍정-현재-확실</td>\n",
              "    </tr>\n",
              "    <tr>\n",
              "      <th>4</th>\n",
              "      <td>TEST_0004</td>\n",
              "      <td>추론형-긍정-현재-확실</td>\n",
              "    </tr>\n",
              "  </tbody>\n",
              "</table>\n",
              "</div>\n",
              "      <button class=\"colab-df-convert\" onclick=\"convertToInteractive('df-e33dd6c9-a7ef-4459-b138-f4da78150f29')\"\n",
              "              title=\"Convert this dataframe to an interactive table.\"\n",
              "              style=\"display:none;\">\n",
              "        \n",
              "  <svg xmlns=\"http://www.w3.org/2000/svg\" height=\"24px\"viewBox=\"0 0 24 24\"\n",
              "       width=\"24px\">\n",
              "    <path d=\"M0 0h24v24H0V0z\" fill=\"none\"/>\n",
              "    <path d=\"M18.56 5.44l.94 2.06.94-2.06 2.06-.94-2.06-.94-.94-2.06-.94 2.06-2.06.94zm-11 1L8.5 8.5l.94-2.06 2.06-.94-2.06-.94L8.5 2.5l-.94 2.06-2.06.94zm10 10l.94 2.06.94-2.06 2.06-.94-2.06-.94-.94-2.06-.94 2.06-2.06.94z\"/><path d=\"M17.41 7.96l-1.37-1.37c-.4-.4-.92-.59-1.43-.59-.52 0-1.04.2-1.43.59L10.3 9.45l-7.72 7.72c-.78.78-.78 2.05 0 2.83L4 21.41c.39.39.9.59 1.41.59.51 0 1.02-.2 1.41-.59l7.78-7.78 2.81-2.81c.8-.78.8-2.07 0-2.86zM5.41 20L4 18.59l7.72-7.72 1.47 1.35L5.41 20z\"/>\n",
              "  </svg>\n",
              "      </button>\n",
              "      \n",
              "  <style>\n",
              "    .colab-df-container {\n",
              "      display:flex;\n",
              "      flex-wrap:wrap;\n",
              "      gap: 12px;\n",
              "    }\n",
              "\n",
              "    .colab-df-convert {\n",
              "      background-color: #E8F0FE;\n",
              "      border: none;\n",
              "      border-radius: 50%;\n",
              "      cursor: pointer;\n",
              "      display: none;\n",
              "      fill: #1967D2;\n",
              "      height: 32px;\n",
              "      padding: 0 0 0 0;\n",
              "      width: 32px;\n",
              "    }\n",
              "\n",
              "    .colab-df-convert:hover {\n",
              "      background-color: #E2EBFA;\n",
              "      box-shadow: 0px 1px 2px rgba(60, 64, 67, 0.3), 0px 1px 3px 1px rgba(60, 64, 67, 0.15);\n",
              "      fill: #174EA6;\n",
              "    }\n",
              "\n",
              "    [theme=dark] .colab-df-convert {\n",
              "      background-color: #3B4455;\n",
              "      fill: #D2E3FC;\n",
              "    }\n",
              "\n",
              "    [theme=dark] .colab-df-convert:hover {\n",
              "      background-color: #434B5C;\n",
              "      box-shadow: 0px 1px 3px 1px rgba(0, 0, 0, 0.15);\n",
              "      filter: drop-shadow(0px 1px 2px rgba(0, 0, 0, 0.3));\n",
              "      fill: #FFFFFF;\n",
              "    }\n",
              "  </style>\n",
              "\n",
              "      <script>\n",
              "        const buttonEl =\n",
              "          document.querySelector('#df-e33dd6c9-a7ef-4459-b138-f4da78150f29 button.colab-df-convert');\n",
              "        buttonEl.style.display =\n",
              "          google.colab.kernel.accessAllowed ? 'block' : 'none';\n",
              "\n",
              "        async function convertToInteractive(key) {\n",
              "          const element = document.querySelector('#df-e33dd6c9-a7ef-4459-b138-f4da78150f29');\n",
              "          const dataTable =\n",
              "            await google.colab.kernel.invokeFunction('convertToInteractive',\n",
              "                                                     [key], {});\n",
              "          if (!dataTable) return;\n",
              "\n",
              "          const docLinkHtml = 'Like what you see? Visit the ' +\n",
              "            '<a target=\"_blank\" href=https://colab.research.google.com/notebooks/data_table.ipynb>data table notebook</a>'\n",
              "            + ' to learn more about interactive tables.';\n",
              "          element.innerHTML = '';\n",
              "          dataTable['output_type'] = 'display_data';\n",
              "          await google.colab.output.renderOutput(dataTable, element);\n",
              "          const docLink = document.createElement('div');\n",
              "          docLink.innerHTML = docLinkHtml;\n",
              "          element.appendChild(docLink);\n",
              "        }\n",
              "      </script>\n",
              "    </div>\n",
              "  </div>\n",
              "  "
            ]
          },
          "metadata": {},
          "execution_count": 96
        }
      ]
    },
    {
      "cell_type": "code",
      "source": [
        "# 예측값 label 만들기\n",
        "submission[\"label\"] = type + \"-\" + polarity + \"-\" + tense + \"-\" + certainty\n",
        "submission.head()"
      ],
      "metadata": {
        "colab": {
          "base_uri": "https://localhost:8080/",
          "height": 206
        },
        "id": "emzDOadfe3OJ",
        "outputId": "9dc6b888-e50d-4c77-d921-dd4128a97d93"
      },
      "execution_count": null,
      "outputs": [
        {
          "output_type": "execute_result",
          "data": {
            "text/plain": [
              "          ID         label\n",
              "0  TEST_0000  사실형-긍정-과거-확실\n",
              "1  TEST_0001  사실형-긍정-현재-확실\n",
              "2  TEST_0002  사실형-긍정-과거-확실\n",
              "3  TEST_0003  사실형-긍정-과거-확실\n",
              "4  TEST_0004  사실형-긍정-과거-확실"
            ],
            "text/html": [
              "\n",
              "  <div id=\"df-6ed3fb54-d0c6-4015-aecd-dfb4ce119f55\">\n",
              "    <div class=\"colab-df-container\">\n",
              "      <div>\n",
              "<style scoped>\n",
              "    .dataframe tbody tr th:only-of-type {\n",
              "        vertical-align: middle;\n",
              "    }\n",
              "\n",
              "    .dataframe tbody tr th {\n",
              "        vertical-align: top;\n",
              "    }\n",
              "\n",
              "    .dataframe thead th {\n",
              "        text-align: right;\n",
              "    }\n",
              "</style>\n",
              "<table border=\"1\" class=\"dataframe\">\n",
              "  <thead>\n",
              "    <tr style=\"text-align: right;\">\n",
              "      <th></th>\n",
              "      <th>ID</th>\n",
              "      <th>label</th>\n",
              "    </tr>\n",
              "  </thead>\n",
              "  <tbody>\n",
              "    <tr>\n",
              "      <th>0</th>\n",
              "      <td>TEST_0000</td>\n",
              "      <td>사실형-긍정-과거-확실</td>\n",
              "    </tr>\n",
              "    <tr>\n",
              "      <th>1</th>\n",
              "      <td>TEST_0001</td>\n",
              "      <td>사실형-긍정-현재-확실</td>\n",
              "    </tr>\n",
              "    <tr>\n",
              "      <th>2</th>\n",
              "      <td>TEST_0002</td>\n",
              "      <td>사실형-긍정-과거-확실</td>\n",
              "    </tr>\n",
              "    <tr>\n",
              "      <th>3</th>\n",
              "      <td>TEST_0003</td>\n",
              "      <td>사실형-긍정-과거-확실</td>\n",
              "    </tr>\n",
              "    <tr>\n",
              "      <th>4</th>\n",
              "      <td>TEST_0004</td>\n",
              "      <td>사실형-긍정-과거-확실</td>\n",
              "    </tr>\n",
              "  </tbody>\n",
              "</table>\n",
              "</div>\n",
              "      <button class=\"colab-df-convert\" onclick=\"convertToInteractive('df-6ed3fb54-d0c6-4015-aecd-dfb4ce119f55')\"\n",
              "              title=\"Convert this dataframe to an interactive table.\"\n",
              "              style=\"display:none;\">\n",
              "        \n",
              "  <svg xmlns=\"http://www.w3.org/2000/svg\" height=\"24px\"viewBox=\"0 0 24 24\"\n",
              "       width=\"24px\">\n",
              "    <path d=\"M0 0h24v24H0V0z\" fill=\"none\"/>\n",
              "    <path d=\"M18.56 5.44l.94 2.06.94-2.06 2.06-.94-2.06-.94-.94-2.06-.94 2.06-2.06.94zm-11 1L8.5 8.5l.94-2.06 2.06-.94-2.06-.94L8.5 2.5l-.94 2.06-2.06.94zm10 10l.94 2.06.94-2.06 2.06-.94-2.06-.94-.94-2.06-.94 2.06-2.06.94z\"/><path d=\"M17.41 7.96l-1.37-1.37c-.4-.4-.92-.59-1.43-.59-.52 0-1.04.2-1.43.59L10.3 9.45l-7.72 7.72c-.78.78-.78 2.05 0 2.83L4 21.41c.39.39.9.59 1.41.59.51 0 1.02-.2 1.41-.59l7.78-7.78 2.81-2.81c.8-.78.8-2.07 0-2.86zM5.41 20L4 18.59l7.72-7.72 1.47 1.35L5.41 20z\"/>\n",
              "  </svg>\n",
              "      </button>\n",
              "      \n",
              "  <style>\n",
              "    .colab-df-container {\n",
              "      display:flex;\n",
              "      flex-wrap:wrap;\n",
              "      gap: 12px;\n",
              "    }\n",
              "\n",
              "    .colab-df-convert {\n",
              "      background-color: #E8F0FE;\n",
              "      border: none;\n",
              "      border-radius: 50%;\n",
              "      cursor: pointer;\n",
              "      display: none;\n",
              "      fill: #1967D2;\n",
              "      height: 32px;\n",
              "      padding: 0 0 0 0;\n",
              "      width: 32px;\n",
              "    }\n",
              "\n",
              "    .colab-df-convert:hover {\n",
              "      background-color: #E2EBFA;\n",
              "      box-shadow: 0px 1px 2px rgba(60, 64, 67, 0.3), 0px 1px 3px 1px rgba(60, 64, 67, 0.15);\n",
              "      fill: #174EA6;\n",
              "    }\n",
              "\n",
              "    [theme=dark] .colab-df-convert {\n",
              "      background-color: #3B4455;\n",
              "      fill: #D2E3FC;\n",
              "    }\n",
              "\n",
              "    [theme=dark] .colab-df-convert:hover {\n",
              "      background-color: #434B5C;\n",
              "      box-shadow: 0px 1px 3px 1px rgba(0, 0, 0, 0.15);\n",
              "      filter: drop-shadow(0px 1px 2px rgba(0, 0, 0, 0.3));\n",
              "      fill: #FFFFFF;\n",
              "    }\n",
              "  </style>\n",
              "\n",
              "      <script>\n",
              "        const buttonEl =\n",
              "          document.querySelector('#df-6ed3fb54-d0c6-4015-aecd-dfb4ce119f55 button.colab-df-convert');\n",
              "        buttonEl.style.display =\n",
              "          google.colab.kernel.accessAllowed ? 'block' : 'none';\n",
              "\n",
              "        async function convertToInteractive(key) {\n",
              "          const element = document.querySelector('#df-6ed3fb54-d0c6-4015-aecd-dfb4ce119f55');\n",
              "          const dataTable =\n",
              "            await google.colab.kernel.invokeFunction('convertToInteractive',\n",
              "                                                     [key], {});\n",
              "          if (!dataTable) return;\n",
              "\n",
              "          const docLinkHtml = 'Like what you see? Visit the ' +\n",
              "            '<a target=\"_blank\" href=https://colab.research.google.com/notebooks/data_table.ipynb>data table notebook</a>'\n",
              "            + ' to learn more about interactive tables.';\n",
              "          element.innerHTML = '';\n",
              "          dataTable['output_type'] = 'display_data';\n",
              "          await google.colab.output.renderOutput(dataTable, element);\n",
              "          const docLink = document.createElement('div');\n",
              "          docLink.innerHTML = docLinkHtml;\n",
              "          element.appendChild(docLink);\n",
              "        }\n",
              "      </script>\n",
              "    </div>\n",
              "  </div>\n",
              "  "
            ]
          },
          "metadata": {},
          "execution_count": 98
        }
      ]
    },
    {
      "cell_type": "code",
      "source": [
        "submission.to_csv(f\"{base_path}/GRU1.csv\", index=False)\n",
        "pd.read_csv(f\"{base_path}/GRU1.csv\")"
      ],
      "metadata": {
        "colab": {
          "base_uri": "https://localhost:8080/",
          "height": 423
        },
        "id": "Z6JcktWWeh-B",
        "outputId": "31b6d1e1-a615-4ad0-a07a-2096ed679315"
      },
      "execution_count": null,
      "outputs": [
        {
          "output_type": "execute_result",
          "data": {
            "text/plain": [
              "             ID         label\n",
              "0     TEST_0000  사실형-긍정-과거-확실\n",
              "1     TEST_0001  사실형-긍정-현재-확실\n",
              "2     TEST_0002  사실형-긍정-과거-확실\n",
              "3     TEST_0003  사실형-긍정-과거-확실\n",
              "4     TEST_0004  사실형-긍정-과거-확실\n",
              "...         ...           ...\n",
              "7085  TEST_7085  사실형-긍정-과거-확실\n",
              "7086  TEST_7086  사실형-긍정-현재-확실\n",
              "7087  TEST_7087  사실형-긍정-현재-확실\n",
              "7088  TEST_7088  사실형-긍정-미래-확실\n",
              "7089  TEST_7089  사실형-긍정-현재-확실\n",
              "\n",
              "[7090 rows x 2 columns]"
            ],
            "text/html": [
              "\n",
              "  <div id=\"df-3d934008-8699-4599-bcb6-5b29ee0dec6b\">\n",
              "    <div class=\"colab-df-container\">\n",
              "      <div>\n",
              "<style scoped>\n",
              "    .dataframe tbody tr th:only-of-type {\n",
              "        vertical-align: middle;\n",
              "    }\n",
              "\n",
              "    .dataframe tbody tr th {\n",
              "        vertical-align: top;\n",
              "    }\n",
              "\n",
              "    .dataframe thead th {\n",
              "        text-align: right;\n",
              "    }\n",
              "</style>\n",
              "<table border=\"1\" class=\"dataframe\">\n",
              "  <thead>\n",
              "    <tr style=\"text-align: right;\">\n",
              "      <th></th>\n",
              "      <th>ID</th>\n",
              "      <th>label</th>\n",
              "    </tr>\n",
              "  </thead>\n",
              "  <tbody>\n",
              "    <tr>\n",
              "      <th>0</th>\n",
              "      <td>TEST_0000</td>\n",
              "      <td>사실형-긍정-과거-확실</td>\n",
              "    </tr>\n",
              "    <tr>\n",
              "      <th>1</th>\n",
              "      <td>TEST_0001</td>\n",
              "      <td>사실형-긍정-현재-확실</td>\n",
              "    </tr>\n",
              "    <tr>\n",
              "      <th>2</th>\n",
              "      <td>TEST_0002</td>\n",
              "      <td>사실형-긍정-과거-확실</td>\n",
              "    </tr>\n",
              "    <tr>\n",
              "      <th>3</th>\n",
              "      <td>TEST_0003</td>\n",
              "      <td>사실형-긍정-과거-확실</td>\n",
              "    </tr>\n",
              "    <tr>\n",
              "      <th>4</th>\n",
              "      <td>TEST_0004</td>\n",
              "      <td>사실형-긍정-과거-확실</td>\n",
              "    </tr>\n",
              "    <tr>\n",
              "      <th>...</th>\n",
              "      <td>...</td>\n",
              "      <td>...</td>\n",
              "    </tr>\n",
              "    <tr>\n",
              "      <th>7085</th>\n",
              "      <td>TEST_7085</td>\n",
              "      <td>사실형-긍정-과거-확실</td>\n",
              "    </tr>\n",
              "    <tr>\n",
              "      <th>7086</th>\n",
              "      <td>TEST_7086</td>\n",
              "      <td>사실형-긍정-현재-확실</td>\n",
              "    </tr>\n",
              "    <tr>\n",
              "      <th>7087</th>\n",
              "      <td>TEST_7087</td>\n",
              "      <td>사실형-긍정-현재-확실</td>\n",
              "    </tr>\n",
              "    <tr>\n",
              "      <th>7088</th>\n",
              "      <td>TEST_7088</td>\n",
              "      <td>사실형-긍정-미래-확실</td>\n",
              "    </tr>\n",
              "    <tr>\n",
              "      <th>7089</th>\n",
              "      <td>TEST_7089</td>\n",
              "      <td>사실형-긍정-현재-확실</td>\n",
              "    </tr>\n",
              "  </tbody>\n",
              "</table>\n",
              "<p>7090 rows × 2 columns</p>\n",
              "</div>\n",
              "      <button class=\"colab-df-convert\" onclick=\"convertToInteractive('df-3d934008-8699-4599-bcb6-5b29ee0dec6b')\"\n",
              "              title=\"Convert this dataframe to an interactive table.\"\n",
              "              style=\"display:none;\">\n",
              "        \n",
              "  <svg xmlns=\"http://www.w3.org/2000/svg\" height=\"24px\"viewBox=\"0 0 24 24\"\n",
              "       width=\"24px\">\n",
              "    <path d=\"M0 0h24v24H0V0z\" fill=\"none\"/>\n",
              "    <path d=\"M18.56 5.44l.94 2.06.94-2.06 2.06-.94-2.06-.94-.94-2.06-.94 2.06-2.06.94zm-11 1L8.5 8.5l.94-2.06 2.06-.94-2.06-.94L8.5 2.5l-.94 2.06-2.06.94zm10 10l.94 2.06.94-2.06 2.06-.94-2.06-.94-.94-2.06-.94 2.06-2.06.94z\"/><path d=\"M17.41 7.96l-1.37-1.37c-.4-.4-.92-.59-1.43-.59-.52 0-1.04.2-1.43.59L10.3 9.45l-7.72 7.72c-.78.78-.78 2.05 0 2.83L4 21.41c.39.39.9.59 1.41.59.51 0 1.02-.2 1.41-.59l7.78-7.78 2.81-2.81c.8-.78.8-2.07 0-2.86zM5.41 20L4 18.59l7.72-7.72 1.47 1.35L5.41 20z\"/>\n",
              "  </svg>\n",
              "      </button>\n",
              "      \n",
              "  <style>\n",
              "    .colab-df-container {\n",
              "      display:flex;\n",
              "      flex-wrap:wrap;\n",
              "      gap: 12px;\n",
              "    }\n",
              "\n",
              "    .colab-df-convert {\n",
              "      background-color: #E8F0FE;\n",
              "      border: none;\n",
              "      border-radius: 50%;\n",
              "      cursor: pointer;\n",
              "      display: none;\n",
              "      fill: #1967D2;\n",
              "      height: 32px;\n",
              "      padding: 0 0 0 0;\n",
              "      width: 32px;\n",
              "    }\n",
              "\n",
              "    .colab-df-convert:hover {\n",
              "      background-color: #E2EBFA;\n",
              "      box-shadow: 0px 1px 2px rgba(60, 64, 67, 0.3), 0px 1px 3px 1px rgba(60, 64, 67, 0.15);\n",
              "      fill: #174EA6;\n",
              "    }\n",
              "\n",
              "    [theme=dark] .colab-df-convert {\n",
              "      background-color: #3B4455;\n",
              "      fill: #D2E3FC;\n",
              "    }\n",
              "\n",
              "    [theme=dark] .colab-df-convert:hover {\n",
              "      background-color: #434B5C;\n",
              "      box-shadow: 0px 1px 3px 1px rgba(0, 0, 0, 0.15);\n",
              "      filter: drop-shadow(0px 1px 2px rgba(0, 0, 0, 0.3));\n",
              "      fill: #FFFFFF;\n",
              "    }\n",
              "  </style>\n",
              "\n",
              "      <script>\n",
              "        const buttonEl =\n",
              "          document.querySelector('#df-3d934008-8699-4599-bcb6-5b29ee0dec6b button.colab-df-convert');\n",
              "        buttonEl.style.display =\n",
              "          google.colab.kernel.accessAllowed ? 'block' : 'none';\n",
              "\n",
              "        async function convertToInteractive(key) {\n",
              "          const element = document.querySelector('#df-3d934008-8699-4599-bcb6-5b29ee0dec6b');\n",
              "          const dataTable =\n",
              "            await google.colab.kernel.invokeFunction('convertToInteractive',\n",
              "                                                     [key], {});\n",
              "          if (!dataTable) return;\n",
              "\n",
              "          const docLinkHtml = 'Like what you see? Visit the ' +\n",
              "            '<a target=\"_blank\" href=https://colab.research.google.com/notebooks/data_table.ipynb>data table notebook</a>'\n",
              "            + ' to learn more about interactive tables.';\n",
              "          element.innerHTML = '';\n",
              "          dataTable['output_type'] = 'display_data';\n",
              "          await google.colab.output.renderOutput(dataTable, element);\n",
              "          const docLink = document.createElement('div');\n",
              "          docLink.innerHTML = docLinkHtml;\n",
              "          element.appendChild(docLink);\n",
              "        }\n",
              "      </script>\n",
              "    </div>\n",
              "  </div>\n",
              "  "
            ]
          },
          "metadata": {},
          "execution_count": 101
        }
      ]
    },
    {
      "cell_type": "code",
      "source": [],
      "metadata": {
        "id": "1YCkdW21gCkq"
      },
      "execution_count": null,
      "outputs": []
    }
  ]
}