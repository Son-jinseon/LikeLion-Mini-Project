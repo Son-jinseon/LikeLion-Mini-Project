{
 "cells": [
  {
   "cell_type": "markdown",
   "id": "c1bf139f",
   "metadata": {},
   "source": [
    "# 라이브러리 로드"
   ]
  },
  {
   "cell_type": "code",
   "execution_count": 2,
   "id": "7968cf01",
   "metadata": {},
   "outputs": [],
   "source": [
    "import pandas as pd\n",
    "import numpy as np\n",
    "import seaborn as sns\n",
    "import matplotlib.pyplot as plt"
   ]
  },
  {
   "cell_type": "markdown",
   "id": "1a561b00",
   "metadata": {},
   "source": [
    "# 데이터셋 로드"
   ]
  },
  {
   "cell_type": "code",
   "execution_count": 3,
   "id": "82de4317",
   "metadata": {},
   "outputs": [
    {
     "name": "stdout",
     "output_type": "stream",
     "text": [
      "(26457, 19)\n"
     ]
    },
    {
     "data": {
      "text/html": [
       "<div>\n",
       "<style scoped>\n",
       "    .dataframe tbody tr th:only-of-type {\n",
       "        vertical-align: middle;\n",
       "    }\n",
       "\n",
       "    .dataframe tbody tr th {\n",
       "        vertical-align: top;\n",
       "    }\n",
       "\n",
       "    .dataframe thead th {\n",
       "        text-align: right;\n",
       "    }\n",
       "</style>\n",
       "<table border=\"1\" class=\"dataframe\">\n",
       "  <thead>\n",
       "    <tr style=\"text-align: right;\">\n",
       "      <th></th>\n",
       "      <th>gender</th>\n",
       "      <th>car</th>\n",
       "      <th>reality</th>\n",
       "      <th>child_num</th>\n",
       "      <th>income_total</th>\n",
       "      <th>income_type</th>\n",
       "      <th>edu_type</th>\n",
       "      <th>family_type</th>\n",
       "      <th>house_type</th>\n",
       "      <th>DAYS_BIRTH</th>\n",
       "      <th>DAYS_EMPLOYED</th>\n",
       "      <th>FLAG_MOBIL</th>\n",
       "      <th>work_phone</th>\n",
       "      <th>phone</th>\n",
       "      <th>email</th>\n",
       "      <th>occyp_type</th>\n",
       "      <th>family_size</th>\n",
       "      <th>begin_month</th>\n",
       "      <th>credit</th>\n",
       "    </tr>\n",
       "    <tr>\n",
       "      <th>index</th>\n",
       "      <th></th>\n",
       "      <th></th>\n",
       "      <th></th>\n",
       "      <th></th>\n",
       "      <th></th>\n",
       "      <th></th>\n",
       "      <th></th>\n",
       "      <th></th>\n",
       "      <th></th>\n",
       "      <th></th>\n",
       "      <th></th>\n",
       "      <th></th>\n",
       "      <th></th>\n",
       "      <th></th>\n",
       "      <th></th>\n",
       "      <th></th>\n",
       "      <th></th>\n",
       "      <th></th>\n",
       "      <th></th>\n",
       "    </tr>\n",
       "  </thead>\n",
       "  <tbody>\n",
       "    <tr>\n",
       "      <th>0</th>\n",
       "      <td>F</td>\n",
       "      <td>N</td>\n",
       "      <td>N</td>\n",
       "      <td>0</td>\n",
       "      <td>202500.0</td>\n",
       "      <td>Commercial associate</td>\n",
       "      <td>Higher education</td>\n",
       "      <td>Married</td>\n",
       "      <td>Municipal apartment</td>\n",
       "      <td>-13899</td>\n",
       "      <td>-4709</td>\n",
       "      <td>1</td>\n",
       "      <td>0</td>\n",
       "      <td>0</td>\n",
       "      <td>0</td>\n",
       "      <td>NaN</td>\n",
       "      <td>2.0</td>\n",
       "      <td>-6.0</td>\n",
       "      <td>1.0</td>\n",
       "    </tr>\n",
       "    <tr>\n",
       "      <th>1</th>\n",
       "      <td>F</td>\n",
       "      <td>N</td>\n",
       "      <td>Y</td>\n",
       "      <td>1</td>\n",
       "      <td>247500.0</td>\n",
       "      <td>Commercial associate</td>\n",
       "      <td>Secondary / secondary special</td>\n",
       "      <td>Civil marriage</td>\n",
       "      <td>House / apartment</td>\n",
       "      <td>-11380</td>\n",
       "      <td>-1540</td>\n",
       "      <td>1</td>\n",
       "      <td>0</td>\n",
       "      <td>0</td>\n",
       "      <td>1</td>\n",
       "      <td>Laborers</td>\n",
       "      <td>3.0</td>\n",
       "      <td>-5.0</td>\n",
       "      <td>1.0</td>\n",
       "    </tr>\n",
       "  </tbody>\n",
       "</table>\n",
       "</div>"
      ],
      "text/plain": [
       "      gender car reality  child_num  income_total           income_type  \\\n",
       "index                                                                     \n",
       "0          F   N       N          0      202500.0  Commercial associate   \n",
       "1          F   N       Y          1      247500.0  Commercial associate   \n",
       "\n",
       "                            edu_type     family_type           house_type  \\\n",
       "index                                                                       \n",
       "0                   Higher education         Married  Municipal apartment   \n",
       "1      Secondary / secondary special  Civil marriage    House / apartment   \n",
       "\n",
       "       DAYS_BIRTH  DAYS_EMPLOYED  FLAG_MOBIL  work_phone  phone  email  \\\n",
       "index                                                                    \n",
       "0          -13899          -4709           1           0      0      0   \n",
       "1          -11380          -1540           1           0      0      1   \n",
       "\n",
       "      occyp_type  family_size  begin_month  credit  \n",
       "index                                               \n",
       "0            NaN          2.0         -6.0     1.0  \n",
       "1       Laborers          3.0         -5.0     1.0  "
      ]
     },
     "execution_count": 3,
     "metadata": {},
     "output_type": "execute_result"
    }
   ],
   "source": [
    "train = pd.read_csv(\"data/train.csv\", index_col=0)\n",
    "print(train.shape)\n",
    "train.head(2)"
   ]
  },
  {
   "cell_type": "code",
   "execution_count": 4,
   "id": "3ef64136",
   "metadata": {},
   "outputs": [
    {
     "name": "stdout",
     "output_type": "stream",
     "text": [
      "(10000, 18)\n"
     ]
    },
    {
     "data": {
      "text/html": [
       "<div>\n",
       "<style scoped>\n",
       "    .dataframe tbody tr th:only-of-type {\n",
       "        vertical-align: middle;\n",
       "    }\n",
       "\n",
       "    .dataframe tbody tr th {\n",
       "        vertical-align: top;\n",
       "    }\n",
       "\n",
       "    .dataframe thead th {\n",
       "        text-align: right;\n",
       "    }\n",
       "</style>\n",
       "<table border=\"1\" class=\"dataframe\">\n",
       "  <thead>\n",
       "    <tr style=\"text-align: right;\">\n",
       "      <th></th>\n",
       "      <th>gender</th>\n",
       "      <th>car</th>\n",
       "      <th>reality</th>\n",
       "      <th>child_num</th>\n",
       "      <th>income_total</th>\n",
       "      <th>income_type</th>\n",
       "      <th>edu_type</th>\n",
       "      <th>family_type</th>\n",
       "      <th>house_type</th>\n",
       "      <th>DAYS_BIRTH</th>\n",
       "      <th>DAYS_EMPLOYED</th>\n",
       "      <th>FLAG_MOBIL</th>\n",
       "      <th>work_phone</th>\n",
       "      <th>phone</th>\n",
       "      <th>email</th>\n",
       "      <th>occyp_type</th>\n",
       "      <th>family_size</th>\n",
       "      <th>begin_month</th>\n",
       "    </tr>\n",
       "    <tr>\n",
       "      <th>index</th>\n",
       "      <th></th>\n",
       "      <th></th>\n",
       "      <th></th>\n",
       "      <th></th>\n",
       "      <th></th>\n",
       "      <th></th>\n",
       "      <th></th>\n",
       "      <th></th>\n",
       "      <th></th>\n",
       "      <th></th>\n",
       "      <th></th>\n",
       "      <th></th>\n",
       "      <th></th>\n",
       "      <th></th>\n",
       "      <th></th>\n",
       "      <th></th>\n",
       "      <th></th>\n",
       "      <th></th>\n",
       "    </tr>\n",
       "  </thead>\n",
       "  <tbody>\n",
       "    <tr>\n",
       "      <th>26457</th>\n",
       "      <td>M</td>\n",
       "      <td>Y</td>\n",
       "      <td>N</td>\n",
       "      <td>0</td>\n",
       "      <td>112500.0</td>\n",
       "      <td>Pensioner</td>\n",
       "      <td>Secondary / secondary special</td>\n",
       "      <td>Civil marriage</td>\n",
       "      <td>House / apartment</td>\n",
       "      <td>-21990</td>\n",
       "      <td>365243</td>\n",
       "      <td>1</td>\n",
       "      <td>0</td>\n",
       "      <td>1</td>\n",
       "      <td>0</td>\n",
       "      <td>NaN</td>\n",
       "      <td>2.0</td>\n",
       "      <td>-60.0</td>\n",
       "    </tr>\n",
       "    <tr>\n",
       "      <th>26458</th>\n",
       "      <td>F</td>\n",
       "      <td>N</td>\n",
       "      <td>Y</td>\n",
       "      <td>0</td>\n",
       "      <td>135000.0</td>\n",
       "      <td>State servant</td>\n",
       "      <td>Higher education</td>\n",
       "      <td>Married</td>\n",
       "      <td>House / apartment</td>\n",
       "      <td>-18964</td>\n",
       "      <td>-8671</td>\n",
       "      <td>1</td>\n",
       "      <td>0</td>\n",
       "      <td>1</td>\n",
       "      <td>0</td>\n",
       "      <td>Core staff</td>\n",
       "      <td>2.0</td>\n",
       "      <td>-36.0</td>\n",
       "    </tr>\n",
       "  </tbody>\n",
       "</table>\n",
       "</div>"
      ],
      "text/plain": [
       "      gender car reality  child_num  income_total    income_type  \\\n",
       "index                                                              \n",
       "26457      M   Y       N          0      112500.0      Pensioner   \n",
       "26458      F   N       Y          0      135000.0  State servant   \n",
       "\n",
       "                            edu_type     family_type         house_type  \\\n",
       "index                                                                     \n",
       "26457  Secondary / secondary special  Civil marriage  House / apartment   \n",
       "26458               Higher education         Married  House / apartment   \n",
       "\n",
       "       DAYS_BIRTH  DAYS_EMPLOYED  FLAG_MOBIL  work_phone  phone  email  \\\n",
       "index                                                                    \n",
       "26457      -21990         365243           1           0      1      0   \n",
       "26458      -18964          -8671           1           0      1      0   \n",
       "\n",
       "       occyp_type  family_size  begin_month  \n",
       "index                                        \n",
       "26457         NaN          2.0        -60.0  \n",
       "26458  Core staff          2.0        -36.0  "
      ]
     },
     "execution_count": 4,
     "metadata": {},
     "output_type": "execute_result"
    }
   ],
   "source": [
    "test = pd.read_csv(\"data/test.csv\", index_col=0)\n",
    "print(test.shape)\n",
    "test.head(2)"
   ]
  },
  {
   "cell_type": "code",
   "execution_count": 5,
   "id": "fc46c01f",
   "metadata": {},
   "outputs": [
    {
     "data": {
      "text/plain": [
       "{'credit'}"
      ]
     },
     "execution_count": 5,
     "metadata": {},
     "output_type": "execute_result"
    }
   ],
   "source": [
    "# 컬럼 비교\n",
    "set(train.columns) - set(test.columns)"
   ]
  },
  {
   "cell_type": "markdown",
   "id": "10ebadec",
   "metadata": {},
   "source": [
    "## info"
   ]
  },
  {
   "cell_type": "code",
   "execution_count": 6,
   "id": "3e6fec26",
   "metadata": {},
   "outputs": [
    {
     "name": "stdout",
     "output_type": "stream",
     "text": [
      "<class 'pandas.core.frame.DataFrame'>\n",
      "Int64Index: 26457 entries, 0 to 26456\n",
      "Data columns (total 19 columns):\n",
      " #   Column         Non-Null Count  Dtype  \n",
      "---  ------         --------------  -----  \n",
      " 0   gender         26457 non-null  object \n",
      " 1   car            26457 non-null  object \n",
      " 2   reality        26457 non-null  object \n",
      " 3   child_num      26457 non-null  int64  \n",
      " 4   income_total   26457 non-null  float64\n",
      " 5   income_type    26457 non-null  object \n",
      " 6   edu_type       26457 non-null  object \n",
      " 7   family_type    26457 non-null  object \n",
      " 8   house_type     26457 non-null  object \n",
      " 9   DAYS_BIRTH     26457 non-null  int64  \n",
      " 10  DAYS_EMPLOYED  26457 non-null  int64  \n",
      " 11  FLAG_MOBIL     26457 non-null  int64  \n",
      " 12  work_phone     26457 non-null  int64  \n",
      " 13  phone          26457 non-null  int64  \n",
      " 14  email          26457 non-null  int64  \n",
      " 15  occyp_type     18286 non-null  object \n",
      " 16  family_size    26457 non-null  float64\n",
      " 17  begin_month    26457 non-null  float64\n",
      " 18  credit         26457 non-null  float64\n",
      "dtypes: float64(4), int64(7), object(8)\n",
      "memory usage: 4.0+ MB\n"
     ]
    }
   ],
   "source": [
    "train.info()"
   ]
  },
  {
   "cell_type": "code",
   "execution_count": 7,
   "id": "39896d47",
   "metadata": {},
   "outputs": [
    {
     "name": "stdout",
     "output_type": "stream",
     "text": [
      "<class 'pandas.core.frame.DataFrame'>\n",
      "Int64Index: 10000 entries, 26457 to 36456\n",
      "Data columns (total 18 columns):\n",
      " #   Column         Non-Null Count  Dtype  \n",
      "---  ------         --------------  -----  \n",
      " 0   gender         10000 non-null  object \n",
      " 1   car            10000 non-null  object \n",
      " 2   reality        10000 non-null  object \n",
      " 3   child_num      10000 non-null  int64  \n",
      " 4   income_total   10000 non-null  float64\n",
      " 5   income_type    10000 non-null  object \n",
      " 6   edu_type       10000 non-null  object \n",
      " 7   family_type    10000 non-null  object \n",
      " 8   house_type     10000 non-null  object \n",
      " 9   DAYS_BIRTH     10000 non-null  int64  \n",
      " 10  DAYS_EMPLOYED  10000 non-null  int64  \n",
      " 11  FLAG_MOBIL     10000 non-null  int64  \n",
      " 12  work_phone     10000 non-null  int64  \n",
      " 13  phone          10000 non-null  int64  \n",
      " 14  email          10000 non-null  int64  \n",
      " 15  occyp_type     6848 non-null   object \n",
      " 16  family_size    10000 non-null  float64\n",
      " 17  begin_month    10000 non-null  float64\n",
      "dtypes: float64(3), int64(7), object(8)\n",
      "memory usage: 1.4+ MB\n"
     ]
    }
   ],
   "source": [
    "test.info()"
   ]
  },
  {
   "cell_type": "markdown",
   "id": "4f2110f4",
   "metadata": {},
   "source": [
    "# downcast"
   ]
  },
  {
   "cell_type": "code",
   "execution_count": 8,
   "id": "3f0b7848",
   "metadata": {},
   "outputs": [],
   "source": [
    "def downcast(df):\n",
    "    for i in df.columns:\n",
    "        if df[i].dtypes == \"int64\":\n",
    "            df[i] = pd.to_numeric(df[i], downcast=\"unsigned\")\n",
    "        elif df[i].dtypes == \"float64\":\n",
    "            df[i] = pd.to_numeric(df[i], downcast=\"float\")\n",
    "        elif df[i].dtypes == \"object\":\n",
    "            df[i] = df[i].astype(\"category\")"
   ]
  },
  {
   "cell_type": "code",
   "execution_count": 9,
   "id": "12fb627d",
   "metadata": {},
   "outputs": [
    {
     "name": "stdout",
     "output_type": "stream",
     "text": [
      "<class 'pandas.core.frame.DataFrame'>\n",
      "Int64Index: 26457 entries, 0 to 26456\n",
      "Data columns (total 19 columns):\n",
      " #   Column         Non-Null Count  Dtype   \n",
      "---  ------         --------------  -----   \n",
      " 0   gender         26457 non-null  category\n",
      " 1   car            26457 non-null  category\n",
      " 2   reality        26457 non-null  category\n",
      " 3   child_num      26457 non-null  uint8   \n",
      " 4   income_total   26457 non-null  float32 \n",
      " 5   income_type    26457 non-null  category\n",
      " 6   edu_type       26457 non-null  category\n",
      " 7   family_type    26457 non-null  category\n",
      " 8   house_type     26457 non-null  category\n",
      " 9   DAYS_BIRTH     26457 non-null  int64   \n",
      " 10  DAYS_EMPLOYED  26457 non-null  int64   \n",
      " 11  FLAG_MOBIL     26457 non-null  uint8   \n",
      " 12  work_phone     26457 non-null  uint8   \n",
      " 13  phone          26457 non-null  uint8   \n",
      " 14  email          26457 non-null  uint8   \n",
      " 15  occyp_type     18286 non-null  category\n",
      " 16  family_size    26457 non-null  float32 \n",
      " 17  begin_month    26457 non-null  float32 \n",
      " 18  credit         26457 non-null  float32 \n",
      "dtypes: category(8), float32(4), int64(2), uint8(5)\n",
      "memory usage: 1.3 MB\n"
     ]
    }
   ],
   "source": [
    "downcast(train)\n",
    "train.info()"
   ]
  },
  {
   "cell_type": "code",
   "execution_count": 10,
   "id": "11b79891",
   "metadata": {},
   "outputs": [
    {
     "name": "stdout",
     "output_type": "stream",
     "text": [
      "<class 'pandas.core.frame.DataFrame'>\n",
      "Int64Index: 10000 entries, 26457 to 36456\n",
      "Data columns (total 18 columns):\n",
      " #   Column         Non-Null Count  Dtype   \n",
      "---  ------         --------------  -----   \n",
      " 0   gender         10000 non-null  category\n",
      " 1   car            10000 non-null  category\n",
      " 2   reality        10000 non-null  category\n",
      " 3   child_num      10000 non-null  uint8   \n",
      " 4   income_total   10000 non-null  float32 \n",
      " 5   income_type    10000 non-null  category\n",
      " 6   edu_type       10000 non-null  category\n",
      " 7   family_type    10000 non-null  category\n",
      " 8   house_type     10000 non-null  category\n",
      " 9   DAYS_BIRTH     10000 non-null  int64   \n",
      " 10  DAYS_EMPLOYED  10000 non-null  int64   \n",
      " 11  FLAG_MOBIL     10000 non-null  uint8   \n",
      " 12  work_phone     10000 non-null  uint8   \n",
      " 13  phone          10000 non-null  uint8   \n",
      " 14  email          10000 non-null  uint8   \n",
      " 15  occyp_type     6848 non-null   category\n",
      " 16  family_size    10000 non-null  float32 \n",
      " 17  begin_month    10000 non-null  float32 \n",
      "dtypes: category(8), float32(3), int64(2), uint8(5)\n",
      "memory usage: 480.4 KB\n"
     ]
    }
   ],
   "source": [
    "downcast(test)\n",
    "test.info()"
   ]
  },
  {
   "cell_type": "markdown",
   "id": "3293ebf5",
   "metadata": {},
   "source": [
    "## histogram"
   ]
  },
  {
   "cell_type": "code",
   "execution_count": 11,
   "id": "1c259e93",
   "metadata": {},
   "outputs": [
    {
     "data": {
      "image/png": "[encoded data removed]",
      "text/plain": [
       "<Figure size 864x720 with 12 Axes>"
      ]
     },
     "metadata": {
      "needs_background": "light"
     },
     "output_type": "display_data"
    }
   ],
   "source": [
    "train.hist(figsize=(12, 10), bins=50);"
   ]
  },
  {
   "cell_type": "code",
   "execution_count": 12,
   "id": "43725f10",
   "metadata": {},
   "outputs": [
    {
     "data": {
      "image/png": "[encoded data removed]",
      "text/plain": [
       "<Figure size 864x720 with 12 Axes>"
      ]
     },
     "metadata": {
      "needs_background": "light"
     },
     "output_type": "display_data"
    }
   ],
   "source": [
    "test.hist(figsize=(12, 10), bins=50);"
   ]
  },
  {
   "cell_type": "markdown",
   "id": "b3e176f2",
   "metadata": {},
   "source": [
    "## 결측치"
   ]
  },
  {
   "cell_type": "code",
   "execution_count": 13,
   "id": "998dee9b",
   "metadata": {},
   "outputs": [
    {
     "data": {
      "text/plain": [
       "gender              0\n",
       "car                 0\n",
       "reality             0\n",
       "child_num           0\n",
       "income_total        0\n",
       "income_type         0\n",
       "edu_type            0\n",
       "family_type         0\n",
       "house_type          0\n",
       "DAYS_BIRTH          0\n",
       "DAYS_EMPLOYED       0\n",
       "FLAG_MOBIL          0\n",
       "work_phone          0\n",
       "phone               0\n",
       "email               0\n",
       "occyp_type       8171\n",
       "family_size         0\n",
       "begin_month         0\n",
       "credit              0\n",
       "dtype: int64"
      ]
     },
     "execution_count": 13,
     "metadata": {},
     "output_type": "execute_result"
    }
   ],
   "source": [
    "train.isnull().sum()"
   ]
  },
  {
   "cell_type": "code",
   "execution_count": 14,
   "id": "b277ec1f",
   "metadata": {},
   "outputs": [
    {
     "data": {
      "text/plain": [
       "gender              0\n",
       "car                 0\n",
       "reality             0\n",
       "child_num           0\n",
       "income_total        0\n",
       "income_type         0\n",
       "edu_type            0\n",
       "family_type         0\n",
       "house_type          0\n",
       "DAYS_BIRTH          0\n",
       "DAYS_EMPLOYED       0\n",
       "FLAG_MOBIL          0\n",
       "work_phone          0\n",
       "phone               0\n",
       "email               0\n",
       "occyp_type       3152\n",
       "family_size         0\n",
       "begin_month         0\n",
       "dtype: int64"
      ]
     },
     "execution_count": 14,
     "metadata": {},
     "output_type": "execute_result"
    }
   ],
   "source": [
    "test.isnull().sum()"
   ]
  },
  {
   "cell_type": "code",
   "execution_count": 15,
   "id": "cec519b1",
   "metadata": {},
   "outputs": [
    {
     "data": {
      "image/png": "[encoded data removed]",
      "text/plain": [
       "<Figure size 864x576 with 6 Axes>"
      ]
     },
     "metadata": {
      "needs_background": "light"
     },
     "output_type": "display_data"
    }
   ],
   "source": [
    "fig, axes = plt.subplots(nrows=2, ncols=2, figsize=(12, 8))\n",
    "sns.heatmap(train.isnull(), ax=axes[0, 0]);\n",
    "sns.heatmap(test.isnull(), ax=axes[0, 1]);\n",
    "sns.barplot(data=train.isnull(), ci=None, ax=axes[1, 0]);\n",
    "sns.barplot(data=test.isnull(), ci=None, ax=axes[1, 1]);"
   ]
  },
  {
   "cell_type": "markdown",
   "id": "ca1dd368",
   "metadata": {},
   "source": [
    "## 결측치 제거"
   ]
  },
  {
   "cell_type": "code",
   "execution_count": 16,
   "id": "34f7dfc0",
   "metadata": {},
   "outputs": [],
   "source": [
    "train = train.drop(columns=\"occyp_type\")\n",
    "test = test.drop(columns=\"occyp_type\")"
   ]
  },
  {
   "cell_type": "markdown",
   "id": "ea5d6769",
   "metadata": {},
   "source": [
    "---"
   ]
  },
  {
   "cell_type": "markdown",
   "id": "3ef4dc42",
   "metadata": {},
   "source": [
    "# outlier"
   ]
  },
  {
   "cell_type": "markdown",
   "id": "707d98db",
   "metadata": {},
   "source": [
    "#### child_num > 5 이상인 값 제거"
   ]
  },
  {
   "cell_type": "code",
   "execution_count": 17,
   "id": "aa5e0f01",
   "metadata": {},
   "outputs": [
    {
     "data": {
      "text/plain": [
       "0     18340\n",
       "1      5386\n",
       "2      2362\n",
       "3       306\n",
       "4        47\n",
       "5        10\n",
       "7         2\n",
       "14        3\n",
       "19        1\n",
       "Name: child_num, dtype: int64"
      ]
     },
     "execution_count": 17,
     "metadata": {},
     "output_type": "execute_result"
    }
   ],
   "source": [
    "# train : child_num 빈도수\n",
    "train.child_num.value_counts().sort_index()"
   ]
  },
  {
   "cell_type": "code",
   "execution_count": 18,
   "id": "ea8f7b5b",
   "metadata": {},
   "outputs": [
    {
     "data": {
      "text/plain": [
       "0    6861\n",
       "1    2106\n",
       "2     894\n",
       "3     113\n",
       "4      16\n",
       "5      10\n",
       "Name: child_num, dtype: int64"
      ]
     },
     "execution_count": 18,
     "metadata": {},
     "output_type": "execute_result"
    }
   ],
   "source": [
    "# test : child_num 빈도수\n",
    "test.child_num.value_counts().sort_index()"
   ]
  },
  {
   "cell_type": "code",
   "execution_count": 19,
   "id": "f2d1adef",
   "metadata": {},
   "outputs": [],
   "source": [
    "# 5 이상인 값이 train에만 있음\n",
    "train = train[train[\"child_num\"] <= 5]"
   ]
  },
  {
   "cell_type": "markdown",
   "id": "512ed407",
   "metadata": {},
   "source": [
    "# Feature Engineering"
   ]
  },
  {
   "cell_type": "markdown",
   "id": "e73a363d",
   "metadata": {},
   "source": [
    "#### DAYS_EMPLOYED가 양수인 경우, 무직자로 판단 => 구분하기 쉽게 0으로 변환"
   ]
  },
  {
   "cell_type": "code",
   "execution_count": 20,
   "id": "84dc2c9b",
   "metadata": {},
   "outputs": [
    {
     "data": {
      "text/plain": [
       "-15713        1\n",
       "-15661        2\n",
       "-15072        3\n",
       "-15038       14\n",
       "-14887        5\n",
       "           ... \n",
       "-70           4\n",
       "-65           1\n",
       "-43           1\n",
       "-17           2\n",
       " 365243    4438\n",
       "Name: DAYS_EMPLOYED, Length: 3469, dtype: int64"
      ]
     },
     "execution_count": 20,
     "metadata": {},
     "output_type": "execute_result"
    }
   ],
   "source": [
    "train.DAYS_EMPLOYED.value_counts().sort_index()"
   ]
  },
  {
   "cell_type": "code",
   "execution_count": 21,
   "id": "2cc2b934",
   "metadata": {},
   "outputs": [
    {
     "data": {
      "text/plain": [
       "-15661        2\n",
       "-15227        1\n",
       "-15038        2\n",
       "-14887        1\n",
       "-14810        2\n",
       "           ... \n",
       "-73           2\n",
       "-66           1\n",
       "-65           1\n",
       "-17           1\n",
       " 365243    1697\n",
       "Name: DAYS_EMPLOYED, Length: 2665, dtype: int64"
      ]
     },
     "execution_count": 21,
     "metadata": {},
     "output_type": "execute_result"
    }
   ],
   "source": [
    "test.DAYS_EMPLOYED.value_counts().sort_index()"
   ]
  },
  {
   "cell_type": "code",
   "execution_count": 22,
   "id": "8196a1ce",
   "metadata": {},
   "outputs": [],
   "source": [
    "train.loc[train[\"DAYS_EMPLOYED\"] >= 0, \"DAYS_EMPLOYED\"] = 0\n",
    "test.loc[test[\"DAYS_EMPLOYED\"] >= 0, \"DAYS_EMPLOYED\"] = 0"
   ]
  },
  {
   "cell_type": "markdown",
   "id": "fe73f51c",
   "metadata": {},
   "source": [
    "#### DAYS_BIRTH, DAYS_EMPLOYED, begin_month 양수 변환"
   ]
  },
  {
   "cell_type": "code",
   "execution_count": 23,
   "id": "a649ffe6",
   "metadata": {},
   "outputs": [],
   "source": [
    "train[\"DAYS_BIRTH\"] = abs(train[\"DAYS_BIRTH\"])\n",
    "test[\"DAYS_BIRTH\"] = abs(test[\"DAYS_BIRTH\"])\n",
    "\n",
    "train[\"DAYS_EMPLOYED\"] = abs(train[\"DAYS_EMPLOYED\"])\n",
    "test[\"DAYS_EMPLOYED\"] = abs(test[\"DAYS_EMPLOYED\"])\n",
    "\n",
    "train[\"begin_month\"] = abs(train[\"begin_month\"])\n",
    "test[\"begin_month\"] = abs(test[\"begin_month\"])"
   ]
  },
  {
   "cell_type": "markdown",
   "id": "c5eb8938",
   "metadata": {},
   "source": [
    "#### FLAG_MOBIL 값이 모두 1이므로 제거"
   ]
  },
  {
   "cell_type": "code",
   "execution_count": 24,
   "id": "eeaa85a1",
   "metadata": {},
   "outputs": [
    {
     "data": {
      "text/plain": [
       "1    26451\n",
       "Name: FLAG_MOBIL, dtype: int64"
      ]
     },
     "execution_count": 24,
     "metadata": {},
     "output_type": "execute_result"
    }
   ],
   "source": [
    "train.FLAG_MOBIL.value_counts()"
   ]
  },
  {
   "cell_type": "code",
   "execution_count": 25,
   "id": "4d698013",
   "metadata": {},
   "outputs": [
    {
     "data": {
      "text/plain": [
       "1    10000\n",
       "Name: FLAG_MOBIL, dtype: int64"
      ]
     },
     "execution_count": 25,
     "metadata": {},
     "output_type": "execute_result"
    }
   ],
   "source": [
    "test.FLAG_MOBIL.value_counts()"
   ]
  },
  {
   "cell_type": "code",
   "execution_count": 26,
   "id": "d84d46f5",
   "metadata": {},
   "outputs": [],
   "source": [
    "train = train.drop(columns=\"FLAG_MOBIL\")\n",
    "test = test.drop(columns=\"FLAG_MOBIL\")"
   ]
  },
  {
   "cell_type": "markdown",
   "id": "33efd375",
   "metadata": {},
   "source": [
    "## 파생변수"
   ]
  },
  {
   "cell_type": "markdown",
   "id": "b1b1829e",
   "metadata": {},
   "source": [
    "#### DAYS_BIRTH 출생일로 나이 컬럼 만들기"
   ]
  },
  {
   "cell_type": "code",
   "execution_count": 27,
   "id": "420c659a",
   "metadata": {},
   "outputs": [],
   "source": [
    "train[\"age\"] = train[\"DAYS_BIRTH\"] // 365\n",
    "test[\"age\"] = test[\"DAYS_BIRTH\"] // 365"
   ]
  },
  {
   "cell_type": "markdown",
   "id": "ee1e8927",
   "metadata": {},
   "source": [
    "#### DAYS_EMPLOYED 업무 시작일로 근속연수 컬럼 만들기"
   ]
  },
  {
   "cell_type": "code",
   "execution_count": 28,
   "id": "bd8c3c8b",
   "metadata": {},
   "outputs": [],
   "source": [
    "train[\"employed\"] = train[\"DAYS_EMPLOYED\"] // 365\n",
    "test[\"employed\"] = test[\"DAYS_EMPLOYED\"] // 365"
   ]
  },
  {
   "cell_type": "markdown",
   "id": "072ddead",
   "metadata": {},
   "source": [
    "#### 다중공선을 보이는 컬럼 삭제\n",
    "- 다중공선성 (multicollinearity) : 독립 변수의 일부가 다른 독립 변수의 조합으로 표현될 수 있는 경우\n",
    "    - DAYS_BIRTH => age\n",
    "    - DAYS_EMPLOYED => employed\n",
    "    - 기존 컬럼 삭제 !"
   ]
  },
  {
   "cell_type": "code",
   "execution_count": 29,
   "id": "47b7ebd4",
   "metadata": {},
   "outputs": [],
   "source": [
    "train = train.drop(columns=[\"DAYS_BIRTH\", \"DAYS_EMPLOYED\"])\n",
    "test = test.drop(columns=[\"DAYS_BIRTH\", \"DAYS_EMPLOYED\"])"
   ]
  },
  {
   "cell_type": "markdown",
   "id": "5a47f0e0",
   "metadata": {},
   "source": [
    "# Encoding"
   ]
  },
  {
   "cell_type": "markdown",
   "id": "415cada8",
   "metadata": {},
   "source": [
    "#### Binary Encoding\n",
    "- gender, car, reality"
   ]
  },
  {
   "cell_type": "code",
   "execution_count": 30,
   "id": "b198e99a",
   "metadata": {},
   "outputs": [
    {
     "data": {
      "text/html": [
       "<div>\n",
       "<style scoped>\n",
       "    .dataframe tbody tr th:only-of-type {\n",
       "        vertical-align: middle;\n",
       "    }\n",
       "\n",
       "    .dataframe tbody tr th {\n",
       "        vertical-align: top;\n",
       "    }\n",
       "\n",
       "    .dataframe thead th {\n",
       "        text-align: right;\n",
       "    }\n",
       "</style>\n",
       "<table border=\"1\" class=\"dataframe\">\n",
       "  <thead>\n",
       "    <tr style=\"text-align: right;\">\n",
       "      <th></th>\n",
       "      <th>gender</th>\n",
       "      <th>car</th>\n",
       "      <th>reality</th>\n",
       "      <th>child_num</th>\n",
       "      <th>income_total</th>\n",
       "      <th>income_type</th>\n",
       "      <th>edu_type</th>\n",
       "      <th>family_type</th>\n",
       "      <th>house_type</th>\n",
       "      <th>work_phone</th>\n",
       "      <th>phone</th>\n",
       "      <th>email</th>\n",
       "      <th>family_size</th>\n",
       "      <th>begin_month</th>\n",
       "      <th>credit</th>\n",
       "      <th>age</th>\n",
       "      <th>employed</th>\n",
       "    </tr>\n",
       "    <tr>\n",
       "      <th>index</th>\n",
       "      <th></th>\n",
       "      <th></th>\n",
       "      <th></th>\n",
       "      <th></th>\n",
       "      <th></th>\n",
       "      <th></th>\n",
       "      <th></th>\n",
       "      <th></th>\n",
       "      <th></th>\n",
       "      <th></th>\n",
       "      <th></th>\n",
       "      <th></th>\n",
       "      <th></th>\n",
       "      <th></th>\n",
       "      <th></th>\n",
       "      <th></th>\n",
       "      <th></th>\n",
       "    </tr>\n",
       "  </thead>\n",
       "  <tbody>\n",
       "    <tr>\n",
       "      <th>0</th>\n",
       "      <td>F</td>\n",
       "      <td>N</td>\n",
       "      <td>N</td>\n",
       "      <td>0</td>\n",
       "      <td>202500.0</td>\n",
       "      <td>Commercial associate</td>\n",
       "      <td>Higher education</td>\n",
       "      <td>Married</td>\n",
       "      <td>Municipal apartment</td>\n",
       "      <td>0</td>\n",
       "      <td>0</td>\n",
       "      <td>0</td>\n",
       "      <td>2.0</td>\n",
       "      <td>6.0</td>\n",
       "      <td>1.0</td>\n",
       "      <td>38</td>\n",
       "      <td>12</td>\n",
       "    </tr>\n",
       "    <tr>\n",
       "      <th>1</th>\n",
       "      <td>F</td>\n",
       "      <td>N</td>\n",
       "      <td>Y</td>\n",
       "      <td>1</td>\n",
       "      <td>247500.0</td>\n",
       "      <td>Commercial associate</td>\n",
       "      <td>Secondary / secondary special</td>\n",
       "      <td>Civil marriage</td>\n",
       "      <td>House / apartment</td>\n",
       "      <td>0</td>\n",
       "      <td>0</td>\n",
       "      <td>1</td>\n",
       "      <td>3.0</td>\n",
       "      <td>5.0</td>\n",
       "      <td>1.0</td>\n",
       "      <td>31</td>\n",
       "      <td>4</td>\n",
       "    </tr>\n",
       "  </tbody>\n",
       "</table>\n",
       "</div>"
      ],
      "text/plain": [
       "      gender car reality  child_num  income_total           income_type  \\\n",
       "index                                                                     \n",
       "0          F   N       N          0      202500.0  Commercial associate   \n",
       "1          F   N       Y          1      247500.0  Commercial associate   \n",
       "\n",
       "                            edu_type     family_type           house_type  \\\n",
       "index                                                                       \n",
       "0                   Higher education         Married  Municipal apartment   \n",
       "1      Secondary / secondary special  Civil marriage    House / apartment   \n",
       "\n",
       "       work_phone  phone  email  family_size  begin_month  credit  age  \\\n",
       "index                                                                    \n",
       "0               0      0      0          2.0          6.0     1.0   38   \n",
       "1               0      0      1          3.0          5.0     1.0   31   \n",
       "\n",
       "       employed  \n",
       "index            \n",
       "0            12  \n",
       "1             4  "
      ]
     },
     "execution_count": 30,
     "metadata": {},
     "output_type": "execute_result"
    }
   ],
   "source": [
    "train.head(2)"
   ]
  },
  {
   "cell_type": "code",
   "execution_count": 31,
   "id": "78a1e6fc",
   "metadata": {},
   "outputs": [],
   "source": [
    "train[\"gender\"] = train[\"gender\"].replace([\"M\", \"F\"], [0, 1])\n",
    "test[\"gender\"] = test[\"gender\"].replace([\"M\", \"F\"], [0, 1])\n",
    "\n",
    "train[\"car\"] = train[\"car\"].replace([\"N\", \"Y\"], [0, 1])\n",
    "test[\"car\"] = test[\"car\"].replace([\"N\", \"Y\"], [0, 1])\n",
    "\n",
    "train[\"reality\"] = train[\"reality\"].replace([\"N\", \"Y\"], [0, 1])\n",
    "test[\"reality\"] = test[\"reality\"].replace([\"N\", \"Y\"], [0, 1])"
   ]
  },
  {
   "cell_type": "code",
   "execution_count": 32,
   "id": "8a3c4137",
   "metadata": {},
   "outputs": [
    {
     "data": {
      "text/html": [
       "<div>\n",
       "<style scoped>\n",
       "    .dataframe tbody tr th:only-of-type {\n",
       "        vertical-align: middle;\n",
       "    }\n",
       "\n",
       "    .dataframe tbody tr th {\n",
       "        vertical-align: top;\n",
       "    }\n",
       "\n",
       "    .dataframe thead th {\n",
       "        text-align: right;\n",
       "    }\n",
       "</style>\n",
       "<table border=\"1\" class=\"dataframe\">\n",
       "  <thead>\n",
       "    <tr style=\"text-align: right;\">\n",
       "      <th></th>\n",
       "      <th>gender</th>\n",
       "      <th>car</th>\n",
       "      <th>reality</th>\n",
       "      <th>child_num</th>\n",
       "      <th>income_total</th>\n",
       "      <th>income_type</th>\n",
       "      <th>edu_type</th>\n",
       "      <th>family_type</th>\n",
       "      <th>house_type</th>\n",
       "      <th>work_phone</th>\n",
       "      <th>phone</th>\n",
       "      <th>email</th>\n",
       "      <th>family_size</th>\n",
       "      <th>begin_month</th>\n",
       "      <th>credit</th>\n",
       "      <th>age</th>\n",
       "      <th>employed</th>\n",
       "    </tr>\n",
       "    <tr>\n",
       "      <th>index</th>\n",
       "      <th></th>\n",
       "      <th></th>\n",
       "      <th></th>\n",
       "      <th></th>\n",
       "      <th></th>\n",
       "      <th></th>\n",
       "      <th></th>\n",
       "      <th></th>\n",
       "      <th></th>\n",
       "      <th></th>\n",
       "      <th></th>\n",
       "      <th></th>\n",
       "      <th></th>\n",
       "      <th></th>\n",
       "      <th></th>\n",
       "      <th></th>\n",
       "      <th></th>\n",
       "    </tr>\n",
       "  </thead>\n",
       "  <tbody>\n",
       "    <tr>\n",
       "      <th>0</th>\n",
       "      <td>1</td>\n",
       "      <td>0</td>\n",
       "      <td>0</td>\n",
       "      <td>0</td>\n",
       "      <td>202500.0</td>\n",
       "      <td>Commercial associate</td>\n",
       "      <td>Higher education</td>\n",
       "      <td>Married</td>\n",
       "      <td>Municipal apartment</td>\n",
       "      <td>0</td>\n",
       "      <td>0</td>\n",
       "      <td>0</td>\n",
       "      <td>2.0</td>\n",
       "      <td>6.0</td>\n",
       "      <td>1.0</td>\n",
       "      <td>38</td>\n",
       "      <td>12</td>\n",
       "    </tr>\n",
       "    <tr>\n",
       "      <th>1</th>\n",
       "      <td>1</td>\n",
       "      <td>0</td>\n",
       "      <td>1</td>\n",
       "      <td>1</td>\n",
       "      <td>247500.0</td>\n",
       "      <td>Commercial associate</td>\n",
       "      <td>Secondary / secondary special</td>\n",
       "      <td>Civil marriage</td>\n",
       "      <td>House / apartment</td>\n",
       "      <td>0</td>\n",
       "      <td>0</td>\n",
       "      <td>1</td>\n",
       "      <td>3.0</td>\n",
       "      <td>5.0</td>\n",
       "      <td>1.0</td>\n",
       "      <td>31</td>\n",
       "      <td>4</td>\n",
       "    </tr>\n",
       "  </tbody>\n",
       "</table>\n",
       "</div>"
      ],
      "text/plain": [
       "      gender car reality  child_num  income_total           income_type  \\\n",
       "index                                                                     \n",
       "0          1   0       0          0      202500.0  Commercial associate   \n",
       "1          1   0       1          1      247500.0  Commercial associate   \n",
       "\n",
       "                            edu_type     family_type           house_type  \\\n",
       "index                                                                       \n",
       "0                   Higher education         Married  Municipal apartment   \n",
       "1      Secondary / secondary special  Civil marriage    House / apartment   \n",
       "\n",
       "       work_phone  phone  email  family_size  begin_month  credit  age  \\\n",
       "index                                                                    \n",
       "0               0      0      0          2.0          6.0     1.0   38   \n",
       "1               0      0      1          3.0          5.0     1.0   31   \n",
       "\n",
       "       employed  \n",
       "index            \n",
       "0            12  \n",
       "1             4  "
      ]
     },
     "execution_count": 32,
     "metadata": {},
     "output_type": "execute_result"
    }
   ],
   "source": [
    "train.head(2)"
   ]
  },
  {
   "cell_type": "markdown",
   "id": "c2806796",
   "metadata": {},
   "source": [
    "---"
   ]
  },
  {
   "cell_type": "markdown",
   "id": "208c5804",
   "metadata": {},
   "source": [
    "#### Ordinal Encoding\n",
    "- income_type, edu_type, family_type, house_type"
   ]
  },
  {
   "cell_type": "code",
   "execution_count": 33,
   "id": "850c53ec",
   "metadata": {},
   "outputs": [
    {
     "data": {
      "text/html": [
       "<div>\n",
       "<style scoped>\n",
       "    .dataframe tbody tr th:only-of-type {\n",
       "        vertical-align: middle;\n",
       "    }\n",
       "\n",
       "    .dataframe tbody tr th {\n",
       "        vertical-align: top;\n",
       "    }\n",
       "\n",
       "    .dataframe thead th {\n",
       "        text-align: right;\n",
       "    }\n",
       "</style>\n",
       "<table border=\"1\" class=\"dataframe\">\n",
       "  <thead>\n",
       "    <tr style=\"text-align: right;\">\n",
       "      <th></th>\n",
       "      <th>gender</th>\n",
       "      <th>car</th>\n",
       "      <th>reality</th>\n",
       "      <th>child_num</th>\n",
       "      <th>income_total</th>\n",
       "      <th>income_type</th>\n",
       "      <th>edu_type</th>\n",
       "      <th>family_type</th>\n",
       "      <th>house_type</th>\n",
       "      <th>work_phone</th>\n",
       "      <th>phone</th>\n",
       "      <th>email</th>\n",
       "      <th>family_size</th>\n",
       "      <th>begin_month</th>\n",
       "      <th>credit</th>\n",
       "      <th>age</th>\n",
       "      <th>employed</th>\n",
       "    </tr>\n",
       "    <tr>\n",
       "      <th>index</th>\n",
       "      <th></th>\n",
       "      <th></th>\n",
       "      <th></th>\n",
       "      <th></th>\n",
       "      <th></th>\n",
       "      <th></th>\n",
       "      <th></th>\n",
       "      <th></th>\n",
       "      <th></th>\n",
       "      <th></th>\n",
       "      <th></th>\n",
       "      <th></th>\n",
       "      <th></th>\n",
       "      <th></th>\n",
       "      <th></th>\n",
       "      <th></th>\n",
       "      <th></th>\n",
       "    </tr>\n",
       "  </thead>\n",
       "  <tbody>\n",
       "    <tr>\n",
       "      <th>0</th>\n",
       "      <td>1</td>\n",
       "      <td>0</td>\n",
       "      <td>0</td>\n",
       "      <td>0</td>\n",
       "      <td>202500.0</td>\n",
       "      <td>Commercial associate</td>\n",
       "      <td>Higher education</td>\n",
       "      <td>Married</td>\n",
       "      <td>Municipal apartment</td>\n",
       "      <td>0</td>\n",
       "      <td>0</td>\n",
       "      <td>0</td>\n",
       "      <td>2.0</td>\n",
       "      <td>6.0</td>\n",
       "      <td>1.0</td>\n",
       "      <td>38</td>\n",
       "      <td>12</td>\n",
       "    </tr>\n",
       "    <tr>\n",
       "      <th>1</th>\n",
       "      <td>1</td>\n",
       "      <td>0</td>\n",
       "      <td>1</td>\n",
       "      <td>1</td>\n",
       "      <td>247500.0</td>\n",
       "      <td>Commercial associate</td>\n",
       "      <td>Secondary / secondary special</td>\n",
       "      <td>Civil marriage</td>\n",
       "      <td>House / apartment</td>\n",
       "      <td>0</td>\n",
       "      <td>0</td>\n",
       "      <td>1</td>\n",
       "      <td>3.0</td>\n",
       "      <td>5.0</td>\n",
       "      <td>1.0</td>\n",
       "      <td>31</td>\n",
       "      <td>4</td>\n",
       "    </tr>\n",
       "  </tbody>\n",
       "</table>\n",
       "</div>"
      ],
      "text/plain": [
       "      gender car reality  child_num  income_total           income_type  \\\n",
       "index                                                                     \n",
       "0          1   0       0          0      202500.0  Commercial associate   \n",
       "1          1   0       1          1      247500.0  Commercial associate   \n",
       "\n",
       "                            edu_type     family_type           house_type  \\\n",
       "index                                                                       \n",
       "0                   Higher education         Married  Municipal apartment   \n",
       "1      Secondary / secondary special  Civil marriage    House / apartment   \n",
       "\n",
       "       work_phone  phone  email  family_size  begin_month  credit  age  \\\n",
       "index                                                                    \n",
       "0               0      0      0          2.0          6.0     1.0   38   \n",
       "1               0      0      1          3.0          5.0     1.0   31   \n",
       "\n",
       "       employed  \n",
       "index            \n",
       "0            12  \n",
       "1             4  "
      ]
     },
     "execution_count": 33,
     "metadata": {},
     "output_type": "execute_result"
    }
   ],
   "source": [
    "train.head(2)"
   ]
  },
  {
   "cell_type": "code",
   "execution_count": 34,
   "id": "41484088",
   "metadata": {},
   "outputs": [],
   "source": [
    "from category_encoders import OrdinalEncoder\n",
    "\n",
    "cat_features = [\"income_type\", \"edu_type\", \"family_type\", \"house_type\"]\n",
    "\n",
    "encoder = OrdinalEncoder(cat_features)\n",
    "\n",
    "train[cat_features] = encoder.fit_transform(train[cat_features])\n",
    "test[cat_features] = encoder.fit_transform(test[cat_features])"
   ]
  },
  {
   "cell_type": "code",
   "execution_count": 35,
   "id": "d073378c",
   "metadata": {},
   "outputs": [
    {
     "data": {
      "text/html": [
       "<div>\n",
       "<style scoped>\n",
       "    .dataframe tbody tr th:only-of-type {\n",
       "        vertical-align: middle;\n",
       "    }\n",
       "\n",
       "    .dataframe tbody tr th {\n",
       "        vertical-align: top;\n",
       "    }\n",
       "\n",
       "    .dataframe thead th {\n",
       "        text-align: right;\n",
       "    }\n",
       "</style>\n",
       "<table border=\"1\" class=\"dataframe\">\n",
       "  <thead>\n",
       "    <tr style=\"text-align: right;\">\n",
       "      <th></th>\n",
       "      <th>gender</th>\n",
       "      <th>car</th>\n",
       "      <th>reality</th>\n",
       "      <th>child_num</th>\n",
       "      <th>income_total</th>\n",
       "      <th>income_type</th>\n",
       "      <th>edu_type</th>\n",
       "      <th>family_type</th>\n",
       "      <th>house_type</th>\n",
       "      <th>work_phone</th>\n",
       "      <th>phone</th>\n",
       "      <th>email</th>\n",
       "      <th>family_size</th>\n",
       "      <th>begin_month</th>\n",
       "      <th>credit</th>\n",
       "      <th>age</th>\n",
       "      <th>employed</th>\n",
       "    </tr>\n",
       "    <tr>\n",
       "      <th>index</th>\n",
       "      <th></th>\n",
       "      <th></th>\n",
       "      <th></th>\n",
       "      <th></th>\n",
       "      <th></th>\n",
       "      <th></th>\n",
       "      <th></th>\n",
       "      <th></th>\n",
       "      <th></th>\n",
       "      <th></th>\n",
       "      <th></th>\n",
       "      <th></th>\n",
       "      <th></th>\n",
       "      <th></th>\n",
       "      <th></th>\n",
       "      <th></th>\n",
       "      <th></th>\n",
       "    </tr>\n",
       "  </thead>\n",
       "  <tbody>\n",
       "    <tr>\n",
       "      <th>0</th>\n",
       "      <td>1</td>\n",
       "      <td>0</td>\n",
       "      <td>0</td>\n",
       "      <td>0</td>\n",
       "      <td>202500.0</td>\n",
       "      <td>1</td>\n",
       "      <td>1</td>\n",
       "      <td>1</td>\n",
       "      <td>1</td>\n",
       "      <td>0</td>\n",
       "      <td>0</td>\n",
       "      <td>0</td>\n",
       "      <td>2.0</td>\n",
       "      <td>6.0</td>\n",
       "      <td>1.0</td>\n",
       "      <td>38</td>\n",
       "      <td>12</td>\n",
       "    </tr>\n",
       "    <tr>\n",
       "      <th>1</th>\n",
       "      <td>1</td>\n",
       "      <td>0</td>\n",
       "      <td>1</td>\n",
       "      <td>1</td>\n",
       "      <td>247500.0</td>\n",
       "      <td>1</td>\n",
       "      <td>2</td>\n",
       "      <td>2</td>\n",
       "      <td>2</td>\n",
       "      <td>0</td>\n",
       "      <td>0</td>\n",
       "      <td>1</td>\n",
       "      <td>3.0</td>\n",
       "      <td>5.0</td>\n",
       "      <td>1.0</td>\n",
       "      <td>31</td>\n",
       "      <td>4</td>\n",
       "    </tr>\n",
       "  </tbody>\n",
       "</table>\n",
       "</div>"
      ],
      "text/plain": [
       "      gender car reality  child_num  income_total  income_type  edu_type  \\\n",
       "index                                                                      \n",
       "0          1   0       0          0      202500.0            1         1   \n",
       "1          1   0       1          1      247500.0            1         2   \n",
       "\n",
       "       family_type  house_type  work_phone  phone  email  family_size  \\\n",
       "index                                                                   \n",
       "0                1           1           0      0      0          2.0   \n",
       "1                2           2           0      0      1          3.0   \n",
       "\n",
       "       begin_month  credit  age  employed  \n",
       "index                                      \n",
       "0              6.0     1.0   38        12  \n",
       "1              5.0     1.0   31         4  "
      ]
     },
     "execution_count": 35,
     "metadata": {},
     "output_type": "execute_result"
    }
   ],
   "source": [
    "train.head(2)"
   ]
  },
  {
   "cell_type": "markdown",
   "id": "12b3dd26",
   "metadata": {},
   "source": [
    "# Scaling"
   ]
  },
  {
   "cell_type": "markdown",
   "id": "07b460ba",
   "metadata": {},
   "source": [
    "- income_total"
   ]
  },
  {
   "cell_type": "code",
   "execution_count": 36,
   "id": "42689074",
   "metadata": {},
   "outputs": [
    {
     "data": {
      "image/png": "[encoded data removed]",
      "text/plain": [
       "<Figure size 864x576 with 2 Axes>"
      ]
     },
     "metadata": {
      "needs_background": "light"
     },
     "output_type": "display_data"
    }
   ],
   "source": [
    "fig, axes = plt.subplots(nrows=1, ncols=2, figsize=(12, 8))\n",
    "axes[0].set_title(\"train_income_total\")\n",
    "axes[1].set_title(\"test_income_total\")\n",
    "sns.boxplot(data=train, y=\"income_total\", ax=axes[0]);\n",
    "sns.boxplot(data=test, y=\"income_total\", ax=axes[1]);"
   ]
  },
  {
   "cell_type": "markdown",
   "id": "4b43894c",
   "metadata": {},
   "source": [
    "- 튀는 값들로 인해 표준화를 진행하려 했으나, 음수값의 경우 CatBoost에서 작동하지 않음 => MinMaxScaler"
   ]
  },
  {
   "cell_type": "code",
   "execution_count": 37,
   "id": "2fc4ecf8",
   "metadata": {},
   "outputs": [
    {
     "data": {
      "text/plain": [
       "index\n",
       "0    202500.0\n",
       "1    247500.0\n",
       "2    450000.0\n",
       "3    202500.0\n",
       "4    157500.0\n",
       "Name: income_total, dtype: float32"
      ]
     },
     "execution_count": 37,
     "metadata": {},
     "output_type": "execute_result"
    }
   ],
   "source": [
    "train.income_total.head()"
   ]
  },
  {
   "cell_type": "code",
   "execution_count": 38,
   "id": "8377717e",
   "metadata": {},
   "outputs": [],
   "source": [
    "from sklearn.preprocessing import MinMaxScaler\n",
    "\n",
    "scaler = MinMaxScaler()\n",
    "\n",
    "train[\"income_total\"] = scaler.fit_transform(train[[\"income_total\"]])\n",
    "test[\"income_total\"] = scaler.fit_transform(test[[\"income_total\"]])"
   ]
  },
  {
   "cell_type": "code",
   "execution_count": 39,
   "id": "1cf21d7f",
   "metadata": {},
   "outputs": [
    {
     "data": {
      "text/plain": [
       "index\n",
       "0    0.113372\n",
       "1    0.142442\n",
       "2    0.273256\n",
       "3    0.113372\n",
       "4    0.084302\n",
       "Name: income_total, dtype: float32"
      ]
     },
     "execution_count": 39,
     "metadata": {},
     "output_type": "execute_result"
    }
   ],
   "source": [
    "train.income_total.head()"
   ]
  },
  {
   "cell_type": "markdown",
   "id": "7b169c4c",
   "metadata": {},
   "source": [
    "# dtype 변경"
   ]
  },
  {
   "cell_type": "code",
   "execution_count": 40,
   "id": "0bc7c6b9",
   "metadata": {},
   "outputs": [
    {
     "name": "stdout",
     "output_type": "stream",
     "text": [
      "<class 'pandas.core.frame.DataFrame'>\n",
      "Int64Index: 26451 entries, 0 to 26456\n",
      "Data columns (total 17 columns):\n",
      " #   Column        Non-Null Count  Dtype   \n",
      "---  ------        --------------  -----   \n",
      " 0   gender        26451 non-null  category\n",
      " 1   car           26451 non-null  category\n",
      " 2   reality       26451 non-null  category\n",
      " 3   child_num     26451 non-null  uint8   \n",
      " 4   income_total  26451 non-null  float32 \n",
      " 5   income_type   26451 non-null  int32   \n",
      " 6   edu_type      26451 non-null  int32   \n",
      " 7   family_type   26451 non-null  int32   \n",
      " 8   house_type    26451 non-null  int32   \n",
      " 9   work_phone    26451 non-null  uint8   \n",
      " 10  phone         26451 non-null  uint8   \n",
      " 11  email         26451 non-null  uint8   \n",
      " 12  family_size   26451 non-null  float32 \n",
      " 13  begin_month   26451 non-null  float32 \n",
      " 14  credit        26451 non-null  float32 \n",
      " 15  age           26451 non-null  int64   \n",
      " 16  employed      26451 non-null  int64   \n",
      "dtypes: category(3), float32(4), int32(4), int64(2), uint8(4)\n",
      "memory usage: 1.6 MB\n"
     ]
    }
   ],
   "source": [
    "train.info()"
   ]
  },
  {
   "cell_type": "markdown",
   "id": "b13d443b",
   "metadata": {},
   "source": [
    "- gender, car, reality => binary encoding 으로 정수형 변환 가능\n",
    "- family_size, begin_month, credit => 가족 규모, 신용카드 발급 월, 신용도이므로 정수형 변환 가능\n",
    "\n",
    "\n",
    "- income_type은 정규화 처리 => float"
   ]
  },
  {
   "cell_type": "code",
   "execution_count": 41,
   "id": "dab31c95",
   "metadata": {},
   "outputs": [],
   "source": [
    "col = [\"gender\", \"car\", \"reality\", \"family_size\", \"begin_month\", \"credit\"]"
   ]
  },
  {
   "cell_type": "code",
   "execution_count": 42,
   "id": "12193dc9",
   "metadata": {},
   "outputs": [],
   "source": [
    "def downcast2(df):\n",
    "    if \"credit\" in df.columns:\n",
    "        for i in col:\n",
    "            df[i] = pd.to_numeric(df[i], downcast=\"unsigned\")\n",
    "    else:\n",
    "        for i in col[:-1]:\n",
    "            df[i] = pd.to_numeric(df[i], downcast=\"unsigned\")"
   ]
  },
  {
   "cell_type": "code",
   "execution_count": 43,
   "id": "e89a71cc",
   "metadata": {},
   "outputs": [],
   "source": [
    "downcast2(train)\n",
    "downcast2(test)"
   ]
  },
  {
   "cell_type": "code",
   "execution_count": 44,
   "id": "0c66ca0f",
   "metadata": {},
   "outputs": [
    {
     "name": "stdout",
     "output_type": "stream",
     "text": [
      "<class 'pandas.core.frame.DataFrame'>\n",
      "Int64Index: 26451 entries, 0 to 26456\n",
      "Data columns (total 17 columns):\n",
      " #   Column        Non-Null Count  Dtype  \n",
      "---  ------        --------------  -----  \n",
      " 0   gender        26451 non-null  uint8  \n",
      " 1   car           26451 non-null  uint8  \n",
      " 2   reality       26451 non-null  uint8  \n",
      " 3   child_num     26451 non-null  uint8  \n",
      " 4   income_total  26451 non-null  float32\n",
      " 5   income_type   26451 non-null  int32  \n",
      " 6   edu_type      26451 non-null  int32  \n",
      " 7   family_type   26451 non-null  int32  \n",
      " 8   house_type    26451 non-null  int32  \n",
      " 9   work_phone    26451 non-null  uint8  \n",
      " 10  phone         26451 non-null  uint8  \n",
      " 11  email         26451 non-null  uint8  \n",
      " 12  family_size   26451 non-null  uint8  \n",
      " 13  begin_month   26451 non-null  uint8  \n",
      " 14  credit        26451 non-null  uint8  \n",
      " 15  age           26451 non-null  int64  \n",
      " 16  employed      26451 non-null  int64  \n",
      "dtypes: float32(1), int32(4), int64(2), uint8(10)\n",
      "memory usage: 1.4 MB\n"
     ]
    }
   ],
   "source": [
    "train.info()"
   ]
  },
  {
   "cell_type": "code",
   "execution_count": 45,
   "id": "719e6095",
   "metadata": {},
   "outputs": [
    {
     "name": "stdout",
     "output_type": "stream",
     "text": [
      "<class 'pandas.core.frame.DataFrame'>\n",
      "Int64Index: 10000 entries, 26457 to 36456\n",
      "Data columns (total 16 columns):\n",
      " #   Column        Non-Null Count  Dtype  \n",
      "---  ------        --------------  -----  \n",
      " 0   gender        10000 non-null  uint8  \n",
      " 1   car           10000 non-null  uint8  \n",
      " 2   reality       10000 non-null  uint8  \n",
      " 3   child_num     10000 non-null  uint8  \n",
      " 4   income_total  10000 non-null  float32\n",
      " 5   income_type   10000 non-null  int32  \n",
      " 6   edu_type      10000 non-null  int32  \n",
      " 7   family_type   10000 non-null  int32  \n",
      " 8   house_type    10000 non-null  int32  \n",
      " 9   work_phone    10000 non-null  uint8  \n",
      " 10  phone         10000 non-null  uint8  \n",
      " 11  email         10000 non-null  uint8  \n",
      " 12  family_size   10000 non-null  uint8  \n",
      " 13  begin_month   10000 non-null  uint8  \n",
      " 14  age           10000 non-null  int64  \n",
      " 15  employed      10000 non-null  int64  \n",
      "dtypes: float32(1), int32(4), int64(2), uint8(9)\n",
      "memory usage: 517.6 KB\n"
     ]
    }
   ],
   "source": [
    "test.info()"
   ]
  },
  {
   "cell_type": "markdown",
   "id": "cd68c419",
   "metadata": {},
   "source": [
    "# 데이터셋 만들기"
   ]
  },
  {
   "cell_type": "code",
   "execution_count": 46,
   "id": "b3f11c92",
   "metadata": {},
   "outputs": [
    {
     "data": {
      "text/plain": [
       "('credit',\n",
       " ['gender',\n",
       "  'car',\n",
       "  'reality',\n",
       "  'child_num',\n",
       "  'income_total',\n",
       "  'income_type',\n",
       "  'edu_type',\n",
       "  'family_type',\n",
       "  'house_type',\n",
       "  'work_phone',\n",
       "  'phone',\n",
       "  'email',\n",
       "  'family_size',\n",
       "  'begin_month',\n",
       "  'age',\n",
       "  'employed'])"
      ]
     },
     "execution_count": 46,
     "metadata": {},
     "output_type": "execute_result"
    }
   ],
   "source": [
    "# 사용할 컬럼\n",
    "label_name = \"credit\"\n",
    "\n",
    "feature_names = train.columns.to_list()\n",
    "feature_names.remove(label_name)\n",
    "label_name, feature_names"
   ]
  },
  {
   "cell_type": "code",
   "execution_count": 47,
   "id": "b5a92aa4",
   "metadata": {},
   "outputs": [],
   "source": [
    "X_train = train[feature_names]\n",
    "y_train = train[label_name]\n",
    "X_test = test[feature_names]"
   ]
  },
  {
   "cell_type": "markdown",
   "id": "17403505",
   "metadata": {},
   "source": [
    "# CatBoost"
   ]
  },
  {
   "cell_type": "code",
   "execution_count": 48,
   "id": "bf2c0ee7",
   "metadata": {},
   "outputs": [],
   "source": [
    "from catboost import CatBoostClassifier\n",
    "\n",
    "# iterations : 반복 횟수\n",
    "clf = CatBoostClassifier(\n",
    "    iterations=1000\n",
    ")"
   ]
  },
  {
   "cell_type": "code",
   "execution_count": 49,
   "id": "68503770",
   "metadata": {},
   "outputs": [
    {
     "name": "stdout",
     "output_type": "stream",
     "text": [
      "Learning rate set to 0.093512\n",
      "0:\tlearn: 1.0460916\ttotal: 152ms\tremaining: 2m 31s\n",
      "100:\tlearn: 0.7810109\ttotal: 761ms\tremaining: 6.77s\n",
      "200:\tlearn: 0.7516982\ttotal: 1.44s\tremaining: 5.74s\n",
      "300:\tlearn: 0.7293084\ttotal: 2.11s\tremaining: 4.89s\n",
      "400:\tlearn: 0.7088802\ttotal: 2.76s\tremaining: 4.12s\n",
      "500:\tlearn: 0.6916148\ttotal: 3.44s\tremaining: 3.43s\n",
      "600:\tlearn: 0.6747612\ttotal: 4.12s\tremaining: 2.73s\n",
      "700:\tlearn: 0.6595479\ttotal: 4.77s\tremaining: 2.03s\n",
      "800:\tlearn: 0.6462224\ttotal: 5.44s\tremaining: 1.35s\n",
      "900:\tlearn: 0.6337436\ttotal: 6.12s\tremaining: 673ms\n",
      "999:\tlearn: 0.6222533\ttotal: 6.78s\tremaining: 0us\n"
     ]
    },
    {
     "data": {
      "text/plain": [
       "<catboost.core.CatBoostClassifier at 0x1cf9bd53220>"
      ]
     },
     "execution_count": 49,
     "metadata": {},
     "output_type": "execute_result"
    }
   ],
   "source": [
    "# verbose : *회마다 출력\n",
    "clf.fit(\n",
    "    X_train, y_train,\n",
    "    verbose=100\n",
    ")"
   ]
  },
  {
   "cell_type": "code",
   "execution_count": 50,
   "id": "6c88b050",
   "metadata": {
    "scrolled": false
   },
   "outputs": [
    {
     "data": {
      "text/plain": [
       "array([[0.23598046, 0.18921985, 0.57479968],\n",
       "       [0.02948548, 0.08605714, 0.88445738],\n",
       "       [0.03744059, 0.17723284, 0.78532657],\n",
       "       ...,\n",
       "       [0.07095642, 0.03374391, 0.89529966],\n",
       "       [0.05614461, 0.35052965, 0.59332573],\n",
       "       [0.16557658, 0.0484385 , 0.78598492]])"
      ]
     },
     "execution_count": 50,
     "metadata": {},
     "output_type": "execute_result"
    }
   ],
   "source": [
    "cat_pred = clf.predict_proba(X_test)\n",
    "cat_pred"
   ]
  },
  {
   "cell_type": "code",
   "execution_count": 51,
   "id": "f9e67a2b",
   "metadata": {},
   "outputs": [
    {
     "data": {
      "text/plain": [
       "10000"
      ]
     },
     "execution_count": 51,
     "metadata": {},
     "output_type": "execute_result"
    }
   ],
   "source": [
    "len(cat_pred)"
   ]
  },
  {
   "cell_type": "markdown",
   "id": "85ff149f",
   "metadata": {},
   "source": [
    "## feature_importances"
   ]
  },
  {
   "cell_type": "markdown",
   "id": "b76c7a07",
   "metadata": {},
   "source": [
    "- 1. begin_month : 신용카드 발급 월\n",
    "- 2. age : 나이\n",
    "- 3. income_total : 연간 소득\n",
    "- 4. employed : 직장 근속 연수"
   ]
  },
  {
   "cell_type": "code",
   "execution_count": 52,
   "id": "86ffb6e8",
   "metadata": {},
   "outputs": [
    {
     "data": {
      "image/png": "[encoded data removed]",
      "text/plain": [
       "<Figure size 432x288 with 1 Axes>"
      ]
     },
     "metadata": {
      "needs_background": "light"
     },
     "output_type": "display_data"
    }
   ],
   "source": [
    "sns.barplot(x=clf.feature_importances_, y=clf.feature_names_, ci=None);"
   ]
  },
  {
   "cell_type": "markdown",
   "id": "f213c36f",
   "metadata": {},
   "source": [
    "---"
   ]
  },
  {
   "cell_type": "markdown",
   "id": "14f30b8c",
   "metadata": {},
   "source": [
    "# 데이콘 제출하기"
   ]
  },
  {
   "cell_type": "code",
   "execution_count": 53,
   "id": "caf7938e",
   "metadata": {},
   "outputs": [
    {
     "data": {
      "text/html": [
       "<div>\n",
       "<style scoped>\n",
       "    .dataframe tbody tr th:only-of-type {\n",
       "        vertical-align: middle;\n",
       "    }\n",
       "\n",
       "    .dataframe tbody tr th {\n",
       "        vertical-align: top;\n",
       "    }\n",
       "\n",
       "    .dataframe thead th {\n",
       "        text-align: right;\n",
       "    }\n",
       "</style>\n",
       "<table border=\"1\" class=\"dataframe\">\n",
       "  <thead>\n",
       "    <tr style=\"text-align: right;\">\n",
       "      <th></th>\n",
       "      <th>index</th>\n",
       "      <th>0</th>\n",
       "      <th>1</th>\n",
       "      <th>2</th>\n",
       "    </tr>\n",
       "  </thead>\n",
       "  <tbody>\n",
       "    <tr>\n",
       "      <th>0</th>\n",
       "      <td>26457</td>\n",
       "      <td>0</td>\n",
       "      <td>0</td>\n",
       "      <td>0</td>\n",
       "    </tr>\n",
       "    <tr>\n",
       "      <th>1</th>\n",
       "      <td>26458</td>\n",
       "      <td>0</td>\n",
       "      <td>0</td>\n",
       "      <td>0</td>\n",
       "    </tr>\n",
       "  </tbody>\n",
       "</table>\n",
       "</div>"
      ],
      "text/plain": [
       "   index  0  1  2\n",
       "0  26457  0  0  0\n",
       "1  26458  0  0  0"
      ]
     },
     "execution_count": 53,
     "metadata": {},
     "output_type": "execute_result"
    }
   ],
   "source": [
    "# 파일 불러오기\n",
    "submit = pd.read_csv(\"data/sample_submission.csv\")\n",
    "submit.head(2)"
   ]
  },
  {
   "cell_type": "code",
   "execution_count": 54,
   "id": "b9e532ad",
   "metadata": {},
   "outputs": [],
   "source": [
    "submit[[\"0\", \"1\", \"2\"]] = cat_pred"
   ]
  },
  {
   "cell_type": "code",
   "execution_count": 55,
   "id": "ebe7f96f",
   "metadata": {},
   "outputs": [
    {
     "data": {
      "text/html": [
       "<div>\n",
       "<style scoped>\n",
       "    .dataframe tbody tr th:only-of-type {\n",
       "        vertical-align: middle;\n",
       "    }\n",
       "\n",
       "    .dataframe tbody tr th {\n",
       "        vertical-align: top;\n",
       "    }\n",
       "\n",
       "    .dataframe thead th {\n",
       "        text-align: right;\n",
       "    }\n",
       "</style>\n",
       "<table border=\"1\" class=\"dataframe\">\n",
       "  <thead>\n",
       "    <tr style=\"text-align: right;\">\n",
       "      <th></th>\n",
       "      <th>index</th>\n",
       "      <th>0</th>\n",
       "      <th>1</th>\n",
       "      <th>2</th>\n",
       "    </tr>\n",
       "  </thead>\n",
       "  <tbody>\n",
       "    <tr>\n",
       "      <th>0</th>\n",
       "      <td>26457</td>\n",
       "      <td>0.235980</td>\n",
       "      <td>0.189220</td>\n",
       "      <td>0.574800</td>\n",
       "    </tr>\n",
       "    <tr>\n",
       "      <th>1</th>\n",
       "      <td>26458</td>\n",
       "      <td>0.029485</td>\n",
       "      <td>0.086057</td>\n",
       "      <td>0.884457</td>\n",
       "    </tr>\n",
       "    <tr>\n",
       "      <th>2</th>\n",
       "      <td>26459</td>\n",
       "      <td>0.037441</td>\n",
       "      <td>0.177233</td>\n",
       "      <td>0.785327</td>\n",
       "    </tr>\n",
       "    <tr>\n",
       "      <th>3</th>\n",
       "      <td>26460</td>\n",
       "      <td>0.103581</td>\n",
       "      <td>0.142969</td>\n",
       "      <td>0.753450</td>\n",
       "    </tr>\n",
       "    <tr>\n",
       "      <th>4</th>\n",
       "      <td>26461</td>\n",
       "      <td>0.136911</td>\n",
       "      <td>0.252968</td>\n",
       "      <td>0.610121</td>\n",
       "    </tr>\n",
       "    <tr>\n",
       "      <th>...</th>\n",
       "      <td>...</td>\n",
       "      <td>...</td>\n",
       "      <td>...</td>\n",
       "      <td>...</td>\n",
       "    </tr>\n",
       "    <tr>\n",
       "      <th>9995</th>\n",
       "      <td>36452</td>\n",
       "      <td>0.074912</td>\n",
       "      <td>0.090003</td>\n",
       "      <td>0.835084</td>\n",
       "    </tr>\n",
       "    <tr>\n",
       "      <th>9996</th>\n",
       "      <td>36453</td>\n",
       "      <td>0.061090</td>\n",
       "      <td>0.385695</td>\n",
       "      <td>0.553215</td>\n",
       "    </tr>\n",
       "    <tr>\n",
       "      <th>9997</th>\n",
       "      <td>36454</td>\n",
       "      <td>0.070956</td>\n",
       "      <td>0.033744</td>\n",
       "      <td>0.895300</td>\n",
       "    </tr>\n",
       "    <tr>\n",
       "      <th>9998</th>\n",
       "      <td>36455</td>\n",
       "      <td>0.056145</td>\n",
       "      <td>0.350530</td>\n",
       "      <td>0.593326</td>\n",
       "    </tr>\n",
       "    <tr>\n",
       "      <th>9999</th>\n",
       "      <td>36456</td>\n",
       "      <td>0.165577</td>\n",
       "      <td>0.048439</td>\n",
       "      <td>0.785985</td>\n",
       "    </tr>\n",
       "  </tbody>\n",
       "</table>\n",
       "<p>10000 rows × 4 columns</p>\n",
       "</div>"
      ],
      "text/plain": [
       "      index         0         1         2\n",
       "0     26457  0.235980  0.189220  0.574800\n",
       "1     26458  0.029485  0.086057  0.884457\n",
       "2     26459  0.037441  0.177233  0.785327\n",
       "3     26460  0.103581  0.142969  0.753450\n",
       "4     26461  0.136911  0.252968  0.610121\n",
       "...     ...       ...       ...       ...\n",
       "9995  36452  0.074912  0.090003  0.835084\n",
       "9996  36453  0.061090  0.385695  0.553215\n",
       "9997  36454  0.070956  0.033744  0.895300\n",
       "9998  36455  0.056145  0.350530  0.593326\n",
       "9999  36456  0.165577  0.048439  0.785985\n",
       "\n",
       "[10000 rows x 4 columns]"
      ]
     },
     "execution_count": 55,
     "metadata": {},
     "output_type": "execute_result"
    }
   ],
   "source": [
    "submit"
   ]
  },
  {
   "cell_type": "code",
   "execution_count": 56,
   "id": "f975176d",
   "metadata": {},
   "outputs": [],
   "source": [
    "# 파일 저장하기\n",
    "submit.to_csv(\"data/submit_catboost_1.csv\", index=False)"
   ]
  },
  {
   "cell_type": "code",
   "execution_count": 57,
   "id": "7d6c18b4",
   "metadata": {},
   "outputs": [
    {
     "data": {
      "text/html": [
       "<div>\n",
       "<style scoped>\n",
       "    .dataframe tbody tr th:only-of-type {\n",
       "        vertical-align: middle;\n",
       "    }\n",
       "\n",
       "    .dataframe tbody tr th {\n",
       "        vertical-align: top;\n",
       "    }\n",
       "\n",
       "    .dataframe thead th {\n",
       "        text-align: right;\n",
       "    }\n",
       "</style>\n",
       "<table border=\"1\" class=\"dataframe\">\n",
       "  <thead>\n",
       "    <tr style=\"text-align: right;\">\n",
       "      <th></th>\n",
       "      <th>index</th>\n",
       "      <th>0</th>\n",
       "      <th>1</th>\n",
       "      <th>2</th>\n",
       "    </tr>\n",
       "  </thead>\n",
       "  <tbody>\n",
       "    <tr>\n",
       "      <th>0</th>\n",
       "      <td>26457</td>\n",
       "      <td>0.235980</td>\n",
       "      <td>0.189220</td>\n",
       "      <td>0.574800</td>\n",
       "    </tr>\n",
       "    <tr>\n",
       "      <th>1</th>\n",
       "      <td>26458</td>\n",
       "      <td>0.029485</td>\n",
       "      <td>0.086057</td>\n",
       "      <td>0.884457</td>\n",
       "    </tr>\n",
       "    <tr>\n",
       "      <th>2</th>\n",
       "      <td>26459</td>\n",
       "      <td>0.037441</td>\n",
       "      <td>0.177233</td>\n",
       "      <td>0.785327</td>\n",
       "    </tr>\n",
       "    <tr>\n",
       "      <th>3</th>\n",
       "      <td>26460</td>\n",
       "      <td>0.103581</td>\n",
       "      <td>0.142969</td>\n",
       "      <td>0.753450</td>\n",
       "    </tr>\n",
       "    <tr>\n",
       "      <th>4</th>\n",
       "      <td>26461</td>\n",
       "      <td>0.136911</td>\n",
       "      <td>0.252968</td>\n",
       "      <td>0.610121</td>\n",
       "    </tr>\n",
       "    <tr>\n",
       "      <th>...</th>\n",
       "      <td>...</td>\n",
       "      <td>...</td>\n",
       "      <td>...</td>\n",
       "      <td>...</td>\n",
       "    </tr>\n",
       "    <tr>\n",
       "      <th>9995</th>\n",
       "      <td>36452</td>\n",
       "      <td>0.074912</td>\n",
       "      <td>0.090003</td>\n",
       "      <td>0.835084</td>\n",
       "    </tr>\n",
       "    <tr>\n",
       "      <th>9996</th>\n",
       "      <td>36453</td>\n",
       "      <td>0.061090</td>\n",
       "      <td>0.385695</td>\n",
       "      <td>0.553215</td>\n",
       "    </tr>\n",
       "    <tr>\n",
       "      <th>9997</th>\n",
       "      <td>36454</td>\n",
       "      <td>0.070956</td>\n",
       "      <td>0.033744</td>\n",
       "      <td>0.895300</td>\n",
       "    </tr>\n",
       "    <tr>\n",
       "      <th>9998</th>\n",
       "      <td>36455</td>\n",
       "      <td>0.056145</td>\n",
       "      <td>0.350530</td>\n",
       "      <td>0.593326</td>\n",
       "    </tr>\n",
       "    <tr>\n",
       "      <th>9999</th>\n",
       "      <td>36456</td>\n",
       "      <td>0.165577</td>\n",
       "      <td>0.048439</td>\n",
       "      <td>0.785985</td>\n",
       "    </tr>\n",
       "  </tbody>\n",
       "</table>\n",
       "<p>10000 rows × 4 columns</p>\n",
       "</div>"
      ],
      "text/plain": [
       "      index         0         1         2\n",
       "0     26457  0.235980  0.189220  0.574800\n",
       "1     26458  0.029485  0.086057  0.884457\n",
       "2     26459  0.037441  0.177233  0.785327\n",
       "3     26460  0.103581  0.142969  0.753450\n",
       "4     26461  0.136911  0.252968  0.610121\n",
       "...     ...       ...       ...       ...\n",
       "9995  36452  0.074912  0.090003  0.835084\n",
       "9996  36453  0.061090  0.385695  0.553215\n",
       "9997  36454  0.070956  0.033744  0.895300\n",
       "9998  36455  0.056145  0.350530  0.593326\n",
       "9999  36456  0.165577  0.048439  0.785985\n",
       "\n",
       "[10000 rows x 4 columns]"
      ]
     },
     "execution_count": 57,
     "metadata": {},
     "output_type": "execute_result"
    }
   ],
   "source": [
    "# 확인하기\n",
    "pd.read_csv(\"data/submit_catboost_1.csv\")"
   ]
  }
 ],
 "metadata": {
  "kernelspec": {
   "display_name": "Python 3 (ipykernel)",
   "language": "python",
   "name": "python3"
  },
  "language_info": {
   "codemirror_mode": {
    "name": "ipython",
    "version": 3
   },
   "file_extension": ".py",
   "mimetype": "text/x-python",
   "name": "python",
   "nbconvert_exporter": "python",
   "pygments_lexer": "ipython3",
   "version": "3.9.12"
  }
 },
 "nbformat": 4,
 "nbformat_minor": 5
}
